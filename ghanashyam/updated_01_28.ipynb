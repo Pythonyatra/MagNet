{
 "cells": [
  {
   "cell_type": "code",
   "execution_count": 2,
   "metadata": {},
   "outputs": [],
   "source": [
    "from pathlib import Path\n",
    "\n",
    "import matplotlib.pyplot as plt\n",
    "import numpy as np\n",
    "import pandas as pd\n",
    "import os\n",
    "#%matplotlib inline"
   ]
  },
  {
   "cell_type": "code",
   "execution_count": 3,
   "metadata": {},
   "outputs": [],
   "source": [
    "DATA_PATH = '../noaa-runtime/data/'"
   ]
  },
  {
   "cell_type": "code",
   "execution_count": 4,
   "metadata": {},
   "outputs": [],
   "source": [
    "dst = pd.read_csv(DATA_PATH +\"/dst_labels.csv\")\n",
    "dst.timedelta = pd.to_timedelta(dst.timedelta)\n",
    "dst.set_index([\"period\", \"timedelta\"], inplace=True)\n",
    "\n",
    "sunspots = pd.read_csv(DATA_PATH + \"/sunspots.csv\")\n",
    "sunspots.timedelta = pd.to_timedelta(sunspots.timedelta)\n",
    "sunspots.set_index([\"period\", \"timedelta\"], inplace=True)\n",
    "\n",
    "solar_wind = pd.read_csv(DATA_PATH + \"/solar_wind.csv\")\n",
    "solar_wind.timedelta = pd.to_timedelta(solar_wind.timedelta)\n",
    "solar_wind.set_index([\"period\", \"timedelta\"], inplace=True)"
   ]
  },
  {
   "cell_type": "code",
   "execution_count": 5,
   "metadata": {},
   "outputs": [],
   "source": [
    "from numpy.random import seed\n",
    "from tensorflow.random import set_seed"
   ]
  },
  {
   "cell_type": "code",
   "execution_count": 6,
   "metadata": {},
   "outputs": [],
   "source": [
    "seed(2020)\n",
    "set_seed(2021)"
   ]
  },
  {
   "cell_type": "code",
   "execution_count": 7,
   "metadata": {},
   "outputs": [],
   "source": [
    "from sklearn.preprocessing import StandardScaler\n",
    "from tensorflow.keras.models import Sequential\n",
    "from tensorflow.keras.layers import LSTM, Dense, Dropout, BatchNormalization, Activation\n",
    "from tensorflow.keras import preprocessing\n",
    "from tensorflow.keras.callbacks import EarlyStopping\n",
    "from tensorflow.keras.optimizers import Adam"
   ]
  },
  {
   "cell_type": "code",
   "execution_count": 8,
   "metadata": {},
   "outputs": [],
   "source": [
    "# subset of solar wind features to use for modeling\n",
    "SOLAR_WIND_FEATURES = [ \"bx_gse\",\n",
    "                        \"by_gse\",\n",
    "                        \"bz_gse\",\n",
    "                        \"speed\",\n",
    "                        \"density\",\n",
    "                        \"temperature\",\n",
    "                        \"theta_gse\" ]\n",
    "\n",
    "# all of the features we'll use, including sunspot numbers\n",
    "#XCOLS = (\n",
    "#    [col + \"_mean\" for col in SOLAR_WIND_FEATURES]\n",
    "#    + [col + \"_std\" for col in SOLAR_WIND_FEATURES]\n",
    "#    + [\"smoothed_ssn\"]\n",
    "#)\n",
    "\n",
    "XCOLS = (['bx_gse_mean', 'by_gse_mean', 'bz_gse_mean', 'bz_gse_std',\n",
    "          'speed_mean', 'speed_std', 'density_mean', 'smoothed_ssn'])\n",
    "\n",
    "def impute_features(feature_df):\n",
    "    \"\"\"Imputes data using the following methods:\n",
    "    - `smoothed_ssn`: forward fill\n",
    "    - `solar_wind`: interpolation\n",
    "    \"\"\"\n",
    "    # forward fill sunspot data for the rest of the month\n",
    "    feature_df.smoothed_ssn = feature_df.smoothed_ssn.fillna(method=\"ffill\")\n",
    "    # interpolate between missing solar wind values\n",
    "    feature_df = feature_df.interpolate()\n",
    "    return feature_df\n",
    "\n",
    "\n",
    "def aggregate_hourly(feature_df, aggs=[\"mean\", \"std\"]):\n",
    "    \"\"\"Aggregates features to the floor of each hour using mean and standard deviation.\n",
    "    e.g. All values from \"11:00:00\" to \"11:59:00\" will be aggregated to \"11:00:00\".\n",
    "    \"\"\"\n",
    "    # group by the floor of each hour use timedelta index\n",
    "    agged = feature_df.groupby(\n",
    "        [\"period\", feature_df.index.get_level_values(1).floor(\"H\")]\n",
    "    ).agg(aggs)\n",
    "    # flatten hierachical column index\n",
    "    agged.columns = [\"_\".join(x) for x in agged.columns]\n",
    "    return agged\n",
    "\n",
    "\n",
    "def preprocess_features(solar_wind, sunspots, scaler=None, subset=None):\n",
    "    \"\"\"\n",
    "    Preprocessing steps:\n",
    "        - Subset the data\n",
    "        - Aggregate hourly\n",
    "        - Join solar wind and sunspot data\n",
    "        - Scale using standard scaler\n",
    "        - Impute missing values\n",
    "    \"\"\"\n",
    "    # select features we want to use\n",
    "    if subset:\n",
    "        solar_wind = solar_wind[subset]\n",
    "\n",
    "    # aggregate solar wind data and join with sunspots\n",
    "    hourly_features = aggregate_hourly(solar_wind).join(sunspots)\n",
    "    hourly_xcols = hourly_features[XCOLS]\n",
    "    # subtract mean and divide by standard deviation\n",
    "    if scaler is None:\n",
    "        scaler = StandardScaler()\n",
    "        scaler.fit(hourly_xcols)\n",
    "\n",
    "    normalized = pd.DataFrame(\n",
    "        scaler.transform(hourly_xcols),\n",
    "        index=hourly_xcols.index,\n",
    "        columns=hourly_xcols.columns,\n",
    "    )\n",
    "\n",
    "    # impute missing values\n",
    "    imputed = impute_features(normalized)\n",
    "\n",
    "    # we want to return the scaler object as well to use later during prediction\n",
    "    return imputed, scaler"
   ]
  },
  {
   "cell_type": "code",
   "execution_count": 9,
   "metadata": {},
   "outputs": [
    {
     "name": "stdout",
     "output_type": "stream",
     "text": [
      "(139872, 8)\n"
     ]
    },
    {
     "data": {
      "text/html": [
       "<div>\n",
       "<style scoped>\n",
       "    .dataframe tbody tr th:only-of-type {\n",
       "        vertical-align: middle;\n",
       "    }\n",
       "\n",
       "    .dataframe tbody tr th {\n",
       "        vertical-align: top;\n",
       "    }\n",
       "\n",
       "    .dataframe thead th {\n",
       "        text-align: right;\n",
       "    }\n",
       "</style>\n",
       "<table border=\"1\" class=\"dataframe\">\n",
       "  <thead>\n",
       "    <tr style=\"text-align: right;\">\n",
       "      <th></th>\n",
       "      <th></th>\n",
       "      <th>bx_gse_mean</th>\n",
       "      <th>by_gse_mean</th>\n",
       "      <th>bz_gse_mean</th>\n",
       "      <th>bz_gse_std</th>\n",
       "      <th>speed_mean</th>\n",
       "      <th>speed_std</th>\n",
       "      <th>density_mean</th>\n",
       "      <th>smoothed_ssn</th>\n",
       "    </tr>\n",
       "    <tr>\n",
       "      <th>period</th>\n",
       "      <th>timedelta</th>\n",
       "      <th></th>\n",
       "      <th></th>\n",
       "      <th></th>\n",
       "      <th></th>\n",
       "      <th></th>\n",
       "      <th></th>\n",
       "      <th></th>\n",
       "      <th></th>\n",
       "    </tr>\n",
       "  </thead>\n",
       "  <tbody>\n",
       "    <tr>\n",
       "      <th rowspan=\"5\" valign=\"top\">train_a</th>\n",
       "      <th>0 days 00:00:00</th>\n",
       "      <td>-1.599207</td>\n",
       "      <td>0.419516</td>\n",
       "      <td>0.300358</td>\n",
       "      <td>-0.651645</td>\n",
       "      <td>-0.738546</td>\n",
       "      <td>0.862524</td>\n",
       "      <td>-0.775827</td>\n",
       "      <td>0.139444</td>\n",
       "    </tr>\n",
       "    <tr>\n",
       "      <th>0 days 01:00:00</th>\n",
       "      <td>-1.757995</td>\n",
       "      <td>0.179257</td>\n",
       "      <td>0.446103</td>\n",
       "      <td>-0.517913</td>\n",
       "      <td>-0.986904</td>\n",
       "      <td>0.995063</td>\n",
       "      <td>-0.861692</td>\n",
       "      <td>0.139444</td>\n",
       "    </tr>\n",
       "    <tr>\n",
       "      <th>0 days 02:00:00</th>\n",
       "      <td>-1.912116</td>\n",
       "      <td>0.183266</td>\n",
       "      <td>0.770174</td>\n",
       "      <td>-0.876490</td>\n",
       "      <td>-1.013548</td>\n",
       "      <td>0.554085</td>\n",
       "      <td>-0.846222</td>\n",
       "      <td>0.139444</td>\n",
       "    </tr>\n",
       "    <tr>\n",
       "      <th>0 days 03:00:00</th>\n",
       "      <td>-1.809045</td>\n",
       "      <td>-0.378111</td>\n",
       "      <td>0.621194</td>\n",
       "      <td>-0.290211</td>\n",
       "      <td>-0.826469</td>\n",
       "      <td>-0.211185</td>\n",
       "      <td>-0.404306</td>\n",
       "      <td>0.139444</td>\n",
       "    </tr>\n",
       "    <tr>\n",
       "      <th>0 days 04:00:00</th>\n",
       "      <td>-1.338802</td>\n",
       "      <td>0.072745</td>\n",
       "      <td>0.467629</td>\n",
       "      <td>-0.478080</td>\n",
       "      <td>-0.601238</td>\n",
       "      <td>1.016033</td>\n",
       "      <td>-0.371487</td>\n",
       "      <td>0.139444</td>\n",
       "    </tr>\n",
       "  </tbody>\n",
       "</table>\n",
       "</div>"
      ],
      "text/plain": [
       "                         bx_gse_mean  by_gse_mean  bz_gse_mean  bz_gse_std  \\\n",
       "period  timedelta                                                            \n",
       "train_a 0 days 00:00:00    -1.599207     0.419516     0.300358   -0.651645   \n",
       "        0 days 01:00:00    -1.757995     0.179257     0.446103   -0.517913   \n",
       "        0 days 02:00:00    -1.912116     0.183266     0.770174   -0.876490   \n",
       "        0 days 03:00:00    -1.809045    -0.378111     0.621194   -0.290211   \n",
       "        0 days 04:00:00    -1.338802     0.072745     0.467629   -0.478080   \n",
       "\n",
       "                         speed_mean  speed_std  density_mean  smoothed_ssn  \n",
       "period  timedelta                                                           \n",
       "train_a 0 days 00:00:00   -0.738546   0.862524     -0.775827      0.139444  \n",
       "        0 days 01:00:00   -0.986904   0.995063     -0.861692      0.139444  \n",
       "        0 days 02:00:00   -1.013548   0.554085     -0.846222      0.139444  \n",
       "        0 days 03:00:00   -0.826469  -0.211185     -0.404306      0.139444  \n",
       "        0 days 04:00:00   -0.601238   1.016033     -0.371487      0.139444  "
      ]
     },
     "execution_count": 9,
     "metadata": {},
     "output_type": "execute_result"
    }
   ],
   "source": [
    "features, scaler = preprocess_features(solar_wind, sunspots, subset=SOLAR_WIND_FEATURES)\n",
    "print(features.shape)\n",
    "features.head()"
   ]
  },
  {
   "cell_type": "code",
   "execution_count": 10,
   "metadata": {},
   "outputs": [
    {
     "data": {
      "text/plain": [
       "<AxesSubplot:>"
      ]
     },
     "execution_count": 10,
     "metadata": {},
     "output_type": "execute_result"
    },
    {
     "data": {
      "image/png": "[encoded data removed]",
      "text/plain": [
       "<Figure size 1080x576 with 2 Axes>"
      ]
     },
     "metadata": {
      "needs_background": "light"
     },
     "output_type": "display_data"
    }
   ],
   "source": [
    "import seaborn as sns\n",
    "a=features.corr()\n",
    "plt.figure(figsize=[15,8])\n",
    "sns.heatmap(a,annot=True)"
   ]
  },
  {
   "cell_type": "code",
   "execution_count": 11,
   "metadata": {},
   "outputs": [],
   "source": [
    "# check to make sure missing values are filled\n",
    "assert (features.isna().sum() == 0).all()"
   ]
  },
  {
   "cell_type": "code",
   "execution_count": 12,
   "metadata": {},
   "outputs": [
    {
     "data": {
      "text/html": [
       "<div>\n",
       "<style scoped>\n",
       "    .dataframe tbody tr th:only-of-type {\n",
       "        vertical-align: middle;\n",
       "    }\n",
       "\n",
       "    .dataframe tbody tr th {\n",
       "        vertical-align: top;\n",
       "    }\n",
       "\n",
       "    .dataframe thead th {\n",
       "        text-align: right;\n",
       "    }\n",
       "</style>\n",
       "<table border=\"1\" class=\"dataframe\">\n",
       "  <thead>\n",
       "    <tr style=\"text-align: right;\">\n",
       "      <th></th>\n",
       "      <th></th>\n",
       "      <th>t0</th>\n",
       "      <th>t1</th>\n",
       "    </tr>\n",
       "    <tr>\n",
       "      <th>period</th>\n",
       "      <th>timedelta</th>\n",
       "      <th></th>\n",
       "      <th></th>\n",
       "    </tr>\n",
       "  </thead>\n",
       "  <tbody>\n",
       "    <tr>\n",
       "      <th rowspan=\"5\" valign=\"top\">train_a</th>\n",
       "      <th>0 days 00:00:00</th>\n",
       "      <td>-7</td>\n",
       "      <td>-10.0</td>\n",
       "    </tr>\n",
       "    <tr>\n",
       "      <th>0 days 01:00:00</th>\n",
       "      <td>-10</td>\n",
       "      <td>-10.0</td>\n",
       "    </tr>\n",
       "    <tr>\n",
       "      <th>0 days 02:00:00</th>\n",
       "      <td>-10</td>\n",
       "      <td>-6.0</td>\n",
       "    </tr>\n",
       "    <tr>\n",
       "      <th>0 days 03:00:00</th>\n",
       "      <td>-6</td>\n",
       "      <td>-2.0</td>\n",
       "    </tr>\n",
       "    <tr>\n",
       "      <th>0 days 04:00:00</th>\n",
       "      <td>-2</td>\n",
       "      <td>3.0</td>\n",
       "    </tr>\n",
       "  </tbody>\n",
       "</table>\n",
       "</div>"
      ],
      "text/plain": [
       "                         t0    t1\n",
       "period  timedelta                \n",
       "train_a 0 days 00:00:00  -7 -10.0\n",
       "        0 days 01:00:00 -10 -10.0\n",
       "        0 days 02:00:00 -10  -6.0\n",
       "        0 days 03:00:00  -6  -2.0\n",
       "        0 days 04:00:00  -2   3.0"
      ]
     },
     "execution_count": 12,
     "metadata": {},
     "output_type": "execute_result"
    }
   ],
   "source": [
    "YCOLS = [\"t0\", \"t1\"]\n",
    "\n",
    "def process_labels(dst):\n",
    "    y = dst.copy()\n",
    "    y[\"t1\"] = y.groupby(\"period\").dst.shift(-1)\n",
    "    y.columns = YCOLS\n",
    "    return y\n",
    "\n",
    "labels = process_labels(dst)\n",
    "labels.head()"
   ]
  },
  {
   "cell_type": "code",
   "execution_count": 13,
   "metadata": {},
   "outputs": [
    {
     "data": {
      "text/html": [
       "<div>\n",
       "<style scoped>\n",
       "    .dataframe tbody tr th:only-of-type {\n",
       "        vertical-align: middle;\n",
       "    }\n",
       "\n",
       "    .dataframe tbody tr th {\n",
       "        vertical-align: top;\n",
       "    }\n",
       "\n",
       "    .dataframe thead th {\n",
       "        text-align: right;\n",
       "    }\n",
       "</style>\n",
       "<table border=\"1\" class=\"dataframe\">\n",
       "  <thead>\n",
       "    <tr style=\"text-align: right;\">\n",
       "      <th></th>\n",
       "      <th></th>\n",
       "      <th>t0</th>\n",
       "      <th>t1</th>\n",
       "      <th>bx_gse_mean</th>\n",
       "      <th>by_gse_mean</th>\n",
       "      <th>bz_gse_mean</th>\n",
       "      <th>bz_gse_std</th>\n",
       "      <th>speed_mean</th>\n",
       "      <th>speed_std</th>\n",
       "      <th>density_mean</th>\n",
       "      <th>smoothed_ssn</th>\n",
       "    </tr>\n",
       "    <tr>\n",
       "      <th>period</th>\n",
       "      <th>timedelta</th>\n",
       "      <th></th>\n",
       "      <th></th>\n",
       "      <th></th>\n",
       "      <th></th>\n",
       "      <th></th>\n",
       "      <th></th>\n",
       "      <th></th>\n",
       "      <th></th>\n",
       "      <th></th>\n",
       "      <th></th>\n",
       "    </tr>\n",
       "  </thead>\n",
       "  <tbody>\n",
       "    <tr>\n",
       "      <th rowspan=\"5\" valign=\"top\">train_a</th>\n",
       "      <th>0 days 00:00:00</th>\n",
       "      <td>-7</td>\n",
       "      <td>-10.0</td>\n",
       "      <td>-1.599207</td>\n",
       "      <td>0.419516</td>\n",
       "      <td>0.300358</td>\n",
       "      <td>-0.651645</td>\n",
       "      <td>-0.738546</td>\n",
       "      <td>0.862524</td>\n",
       "      <td>-0.775827</td>\n",
       "      <td>0.139444</td>\n",
       "    </tr>\n",
       "    <tr>\n",
       "      <th>0 days 01:00:00</th>\n",
       "      <td>-10</td>\n",
       "      <td>-10.0</td>\n",
       "      <td>-1.757995</td>\n",
       "      <td>0.179257</td>\n",
       "      <td>0.446103</td>\n",
       "      <td>-0.517913</td>\n",
       "      <td>-0.986904</td>\n",
       "      <td>0.995063</td>\n",
       "      <td>-0.861692</td>\n",
       "      <td>0.139444</td>\n",
       "    </tr>\n",
       "    <tr>\n",
       "      <th>0 days 02:00:00</th>\n",
       "      <td>-10</td>\n",
       "      <td>-6.0</td>\n",
       "      <td>-1.912116</td>\n",
       "      <td>0.183266</td>\n",
       "      <td>0.770174</td>\n",
       "      <td>-0.876490</td>\n",
       "      <td>-1.013548</td>\n",
       "      <td>0.554085</td>\n",
       "      <td>-0.846222</td>\n",
       "      <td>0.139444</td>\n",
       "    </tr>\n",
       "    <tr>\n",
       "      <th>0 days 03:00:00</th>\n",
       "      <td>-6</td>\n",
       "      <td>-2.0</td>\n",
       "      <td>-1.809045</td>\n",
       "      <td>-0.378111</td>\n",
       "      <td>0.621194</td>\n",
       "      <td>-0.290211</td>\n",
       "      <td>-0.826469</td>\n",
       "      <td>-0.211185</td>\n",
       "      <td>-0.404306</td>\n",
       "      <td>0.139444</td>\n",
       "    </tr>\n",
       "    <tr>\n",
       "      <th>0 days 04:00:00</th>\n",
       "      <td>-2</td>\n",
       "      <td>3.0</td>\n",
       "      <td>-1.338802</td>\n",
       "      <td>0.072745</td>\n",
       "      <td>0.467629</td>\n",
       "      <td>-0.478080</td>\n",
       "      <td>-0.601238</td>\n",
       "      <td>1.016033</td>\n",
       "      <td>-0.371487</td>\n",
       "      <td>0.139444</td>\n",
       "    </tr>\n",
       "  </tbody>\n",
       "</table>\n",
       "</div>"
      ],
      "text/plain": [
       "                         t0    t1  bx_gse_mean  by_gse_mean  bz_gse_mean  \\\n",
       "period  timedelta                                                          \n",
       "train_a 0 days 00:00:00  -7 -10.0    -1.599207     0.419516     0.300358   \n",
       "        0 days 01:00:00 -10 -10.0    -1.757995     0.179257     0.446103   \n",
       "        0 days 02:00:00 -10  -6.0    -1.912116     0.183266     0.770174   \n",
       "        0 days 03:00:00  -6  -2.0    -1.809045    -0.378111     0.621194   \n",
       "        0 days 04:00:00  -2   3.0    -1.338802     0.072745     0.467629   \n",
       "\n",
       "                         bz_gse_std  speed_mean  speed_std  density_mean  \\\n",
       "period  timedelta                                                          \n",
       "train_a 0 days 00:00:00   -0.651645   -0.738546   0.862524     -0.775827   \n",
       "        0 days 01:00:00   -0.517913   -0.986904   0.995063     -0.861692   \n",
       "        0 days 02:00:00   -0.876490   -1.013548   0.554085     -0.846222   \n",
       "        0 days 03:00:00   -0.290211   -0.826469  -0.211185     -0.404306   \n",
       "        0 days 04:00:00   -0.478080   -0.601238   1.016033     -0.371487   \n",
       "\n",
       "                         smoothed_ssn  \n",
       "period  timedelta                      \n",
       "train_a 0 days 00:00:00      0.139444  \n",
       "        0 days 01:00:00      0.139444  \n",
       "        0 days 02:00:00      0.139444  \n",
       "        0 days 03:00:00      0.139444  \n",
       "        0 days 04:00:00      0.139444  "
      ]
     },
     "execution_count": 13,
     "metadata": {},
     "output_type": "execute_result"
    }
   ],
   "source": [
    "data = labels.join(features)\n",
    "data.head()"
   ]
  },
  {
   "cell_type": "code",
   "execution_count": 14,
   "metadata": {},
   "outputs": [
    {
     "data": {
      "text/plain": [
       "<AxesSubplot:>"
      ]
     },
     "execution_count": 14,
     "metadata": {},
     "output_type": "execute_result"
    },
    {
     "data": {
      "image/png": "[encoded data removed]",
      "text/plain": [
       "<Figure size 1080x576 with 2 Axes>"
      ]
     },
     "metadata": {
      "needs_background": "light"
     },
     "output_type": "display_data"
    }
   ],
   "source": [
    "import seaborn as sns\n",
    "ab=data.corr()\n",
    "plt.figure(figsize=[15,8])\n",
    "sns.heatmap(ab,annot=True)"
   ]
  },
  {
   "cell_type": "code",
   "execution_count": null,
   "metadata": {},
   "outputs": [],
   "source": [
    "cols_to_drop = [\"\"]"
   ]
  },
  {
   "cell_type": "code",
   "execution_count": 15,
   "metadata": {},
   "outputs": [
    {
     "data": {
      "text/plain": [
       "Index(['t0', 't1', 'bx_gse_mean', 'by_gse_mean', 'bz_gse_mean', 'bz_gse_std',\n",
       "       'speed_mean', 'speed_std', 'density_mean', 'smoothed_ssn'],\n",
       "      dtype='object')"
      ]
     },
     "execution_count": 15,
     "metadata": {},
     "output_type": "execute_result"
    }
   ],
   "source": [
    "data.columns"
   ]
  },
  {
   "cell_type": "code",
   "execution_count": 16,
   "metadata": {},
   "outputs": [],
   "source": [
    "#data=data[['t0', 't1','bx_gse_mean', 'by_gse_mean',\n",
    "#       'bz_gse_mean', 'bz_gse_std', 'speed_mean', 'speed_std', 'density_mean',\n",
    "#        'smoothed_ssn']]"
   ]
  },
  {
   "cell_type": "code",
   "execution_count": 17,
   "metadata": {},
   "outputs": [],
   "source": [
    "def get_train_test_val(data, test_per_period, val_per_period):\n",
    "    \"\"\"Splits data across periods into train, test, and validation\"\"\"\n",
    "    # assign the last `test_per_period` rows from each period to test\n",
    "    test = data.groupby(\"period\").tail(test_per_period)\n",
    "    interim = data[~data.index.isin(test.index)]\n",
    "    # assign the last `val_per_period` from the remaining rows to validation\n",
    "    val = interim.groupby(\"period\").tail(val_per_period)\n",
    "    # the remaining rows are assigned to train\n",
    "    train = interim[~interim.index.isin(val.index)]\n",
    "    return train, test, val\n",
    "\n",
    "\n",
    "train, test, val = get_train_test_val(data, test_per_period=6_000, val_per_period=6_000)\n"
   ]
  },
  {
   "cell_type": "code",
   "execution_count": 18,
   "metadata": {},
   "outputs": [
    {
     "data": {
      "text/plain": [
       "<matplotlib.legend.Legend at 0x12a08f3d0>"
      ]
     },
     "execution_count": 18,
     "metadata": {},
     "output_type": "execute_result"
    },
    {
     "data": {
      "image/png": "[encoded data removed]",
      "text/plain": [
       "<Figure size 432x288 with 1 Axes>"
      ]
     },
     "metadata": {
      "needs_background": "light"
     },
     "output_type": "display_data"
    }
   ],
   "source": [
    "ind = [0, 1, 2]\n",
    "names = [\"train_a\", \"train_b\", \"train_c\"]\n",
    "width = 0.75\n",
    "train_cnts = [len(df) for _, df in train.groupby(\"period\")]\n",
    "val_cnts = [len(df) for _, df in val.groupby(\"period\")]\n",
    "test_cnts = [len(df) for _, df in test.groupby(\"period\")]\n",
    "\n",
    "p1 = plt.barh(ind, train_cnts, width)\n",
    "p2 = plt.barh(ind, val_cnts, width, left=train_cnts)\n",
    "p3 = plt.barh(ind, test_cnts, width, left=np.add(val_cnts, train_cnts).tolist())\n",
    "\n",
    "plt.yticks(ind, names)\n",
    "plt.ylabel(\"Period\")\n",
    "plt.xlabel(\"Hourly Timesteps\")\n",
    "plt.title(\"Train/Validation/Test Splits over Periods\", fontsize=16)\n",
    "plt.legend([\"Train\", \"Validation\", \"Test\"])"
   ]
  },
  {
   "cell_type": "code",
   "execution_count": 19,
   "metadata": {},
   "outputs": [
    {
     "data": {
      "text/plain": [
       "Index(['t0', 't1', 'bx_gse_mean', 'by_gse_mean', 'bz_gse_mean', 'bz_gse_std',\n",
       "       'speed_mean', 'speed_std', 'density_mean', 'smoothed_ssn'],\n",
       "      dtype='object')"
      ]
     },
     "execution_count": 19,
     "metadata": {},
     "output_type": "execute_result"
    }
   ],
   "source": [
    "#Keeping only the columns I want to input\n",
    "data.columns"
   ]
  },
  {
   "cell_type": "code",
   "execution_count": 20,
   "metadata": {},
   "outputs": [
    {
     "name": "stdout",
     "output_type": "stream",
     "text": [
      "Number of train batches: 3245\n",
      "Number of val batches: 561\n"
     ]
    }
   ],
   "source": [
    "data_config = {\n",
    "    \"timesteps\": 16,\n",
    "    \"batch_size\":32,\n",
    "}\n",
    "\n",
    "def timeseries_dataset_from_df(df, batch_size):\n",
    "    dataset = None\n",
    "    timesteps = data_config[\"timesteps\"]\n",
    "\n",
    "    # iterate through periods\n",
    "    for _, period_df in df.groupby(\"period\"):\n",
    "        # realign features and labels so that first sequence of 32 is aligned with the 33rd target\n",
    "        inputs = period_df[XCOLS][:-timesteps]\n",
    "        outputs = period_df[YCOLS][timesteps:]\n",
    "\n",
    "        period_ds = preprocessing.timeseries_dataset_from_array(\n",
    "            inputs,\n",
    "            outputs,\n",
    "            timesteps,\n",
    "            batch_size=batch_size,\n",
    "        )\n",
    "\n",
    "        if dataset is None:\n",
    "            dataset = period_ds\n",
    "        else:\n",
    "            dataset = dataset.concatenate(period_ds)\n",
    "\n",
    "    return dataset\n",
    "\n",
    "\n",
    "train_ds = timeseries_dataset_from_df(train, data_config[\"batch_size\"])\n",
    "val_ds = timeseries_dataset_from_df(val, data_config[\"batch_size\"])\n",
    "\n",
    "print(f\"Number of train batches: {len(train_ds)}\")\n",
    "print(f\"Number of val batches: {len(val_ds)}\")"
   ]
  },
  {
   "cell_type": "code",
   "execution_count": 21,
   "metadata": {},
   "outputs": [],
   "source": [
    "# define our model\n",
    "from tensorflow.keras.layers import Dropout\n",
    "model_config = {\"n_epochs\": 50, \"n_neurons\": 32,\n",
    "                  \"dropout\": 0.4, \"stateful\": False}\n",
    "\n",
    "def models():\n",
    "    model = Sequential()\n",
    "    model.add(\n",
    "      LSTM(\n",
    "          model_config[\"n_neurons\"],\n",
    "          batch_input_shape=(None, data_config[\"timesteps\"], len(XCOLS)),\n",
    "          stateful=model_config[\"stateful\"],\n",
    "          kernel_regularizer='l2',\n",
    "      )\n",
    "    )\n",
    "\n",
    "    model.add(Dense(32,kernel_regularizer='l2'))\n",
    "    model.add(Dropout(0.4))\n",
    "    model.add(Dense(32,kernel_regularizer='l2'))\n",
    "    model.add(Dropout(0.4))\n",
    "    #model.add(Dense())\n",
    "    model.add(Dense(len(YCOLS)))\n",
    "    opt=Adam(learning_rate=0.00001)\n",
    "    model.compile(\n",
    "      loss=\"mean_squared_error\",\n",
    "      optimizer=opt,\n",
    "    )\n",
    "    return model"
   ]
  },
  {
   "cell_type": "code",
   "execution_count": 22,
   "metadata": {},
   "outputs": [
    {
     "name": "stdout",
     "output_type": "stream",
     "text": [
      "Model: \"sequential\"\n",
      "_________________________________________________________________\n",
      "Layer (type)                 Output Shape              Param #   \n",
      "=================================================================\n",
      "lstm (LSTM)                  (None, 32)                5248      \n",
      "_________________________________________________________________\n",
      "dense (Dense)                (None, 32)                1056      \n",
      "_________________________________________________________________\n",
      "dropout (Dropout)            (None, 32)                0         \n",
      "_________________________________________________________________\n",
      "dense_1 (Dense)              (None, 32)                1056      \n",
      "_________________________________________________________________\n",
      "dropout_1 (Dropout)          (None, 32)                0         \n",
      "_________________________________________________________________\n",
      "dense_2 (Dense)              (None, 2)                 66        \n",
      "=================================================================\n",
      "Total params: 7,426\n",
      "Trainable params: 7,426\n",
      "Non-trainable params: 0\n",
      "_________________________________________________________________\n"
     ]
    }
   ],
   "source": [
    "model1=models()\n",
    "model1.summary()"
   ]
  },
  {
   "cell_type": "code",
   "execution_count": 24,
   "metadata": {},
   "outputs": [
    {
     "name": "stdout",
     "output_type": "stream",
     "text": [
      "Epoch 1/50\n",
      "3245/3245 [==============================] - 29s 9ms/step - loss: 465.2510 - val_loss: 500.0975\n",
      "Epoch 2/50\n",
      "3245/3245 [==============================] - 31s 9ms/step - loss: 447.6724 - val_loss: 482.1081\n",
      "Epoch 3/50\n",
      "3245/3245 [==============================] - 31s 9ms/step - loss: 405.7303 - val_loss: 439.9033\n",
      "Epoch 4/50\n",
      "3245/3245 [==============================] - 33s 10ms/step - loss: 339.5671 - val_loss: 387.4275\n",
      "Epoch 5/50\n",
      "3245/3245 [==============================] - 30s 9ms/step - loss: 296.3724 - val_loss: 359.0118\n",
      "Epoch 6/50\n",
      "3245/3245 [==============================] - 31s 9ms/step - loss: 280.9159 - val_loss: 346.3846\n",
      "Epoch 7/50\n",
      "3245/3245 [==============================] - 32s 10ms/step - loss: 273.9365 - val_loss: 339.1988\n",
      "Epoch 8/50\n",
      "3245/3245 [==============================] - 31s 9ms/step - loss: 267.3470 - val_loss: 333.6790\n",
      "Epoch 9/50\n",
      "3245/3245 [==============================] - 31s 9ms/step - loss: 262.1885 - val_loss: 329.2551\n",
      "Epoch 10/50\n",
      "3245/3245 [==============================] - 44s 14ms/step - loss: 256.3072 - val_loss: 325.2760\n",
      "Epoch 11/50\n",
      "3245/3245 [==============================] - 36s 11ms/step - loss: 251.2875 - val_loss: 321.8723\n",
      "Epoch 12/50\n",
      "3245/3245 [==============================] - 44s 14ms/step - loss: 246.1403 - val_loss: 318.6564\n",
      "Epoch 13/50\n",
      "3245/3245 [==============================] - 37s 11ms/step - loss: 241.5534 - val_loss: 315.6908\n",
      "Epoch 14/50\n",
      "3245/3245 [==============================] - 36s 11ms/step - loss: 236.4622 - val_loss: 312.9578\n",
      "Epoch 15/50\n",
      "3245/3245 [==============================] - 34s 10ms/step - loss: 231.5993 - val_loss: 310.4057\n",
      "Epoch 16/50\n",
      "3245/3245 [==============================] - 34s 10ms/step - loss: 227.6758 - val_loss: 308.0889\n",
      "Epoch 17/50\n",
      "3245/3245 [==============================] - 29s 9ms/step - loss: 224.6108 - val_loss: 305.7850\n",
      "Epoch 18/50\n",
      "3245/3245 [==============================] - 33s 10ms/step - loss: 221.3143 - val_loss: 303.3767\n",
      "Epoch 19/50\n",
      "3245/3245 [==============================] - 26s 8ms/step - loss: 217.5746 - val_loss: 300.9458\n",
      "Epoch 20/50\n",
      "3245/3245 [==============================] - 27s 8ms/step - loss: 214.7857 - val_loss: 298.3679\n",
      "Epoch 21/50\n",
      "3245/3245 [==============================] - 33s 10ms/step - loss: 211.7862 - val_loss: 295.7467\n",
      "Epoch 22/50\n",
      "3245/3245 [==============================] - 37s 11ms/step - loss: 209.2509 - val_loss: 293.3041\n",
      "Epoch 23/50\n",
      "3245/3245 [==============================] - 30s 9ms/step - loss: 206.5966 - val_loss: 290.6668\n",
      "Epoch 24/50\n",
      "3245/3245 [==============================] - 28s 9ms/step - loss: 203.2828 - val_loss: 288.1487\n",
      "Epoch 25/50\n",
      "3245/3245 [==============================] - 31s 10ms/step - loss: 201.1095 - val_loss: 285.4190\n",
      "Epoch 26/50\n",
      "3245/3245 [==============================] - 30s 9ms/step - loss: 199.2027 - val_loss: 282.7104\n",
      "Epoch 27/50\n",
      "3245/3245 [==============================] - 30s 9ms/step - loss: 196.9366 - val_loss: 279.8319\n",
      "Epoch 28/50\n",
      "3245/3245 [==============================] - 29s 9ms/step - loss: 195.7335 - val_loss: 277.3852\n",
      "Epoch 29/50\n",
      "3245/3245 [==============================] - 29s 9ms/step - loss: 192.8534 - val_loss: 274.7750\n",
      "Epoch 30/50\n",
      "3245/3245 [==============================] - 32s 10ms/step - loss: 191.0275 - val_loss: 272.0873\n",
      "Epoch 31/50\n",
      "3245/3245 [==============================] - 30s 9ms/step - loss: 189.4004 - val_loss: 269.4765\n",
      "Epoch 32/50\n",
      "3245/3245 [==============================] - 28s 9ms/step - loss: 188.1266 - val_loss: 267.1147\n",
      "Epoch 33/50\n",
      "3245/3245 [==============================] - 39s 12ms/step - loss: 186.7444 - val_loss: 264.9594\n",
      "Epoch 34/50\n",
      "3245/3245 [==============================] - 30s 9ms/step - loss: 184.7550 - val_loss: 262.7599\n",
      "Epoch 35/50\n",
      "3245/3245 [==============================] - 34s 11ms/step - loss: 183.5826 - val_loss: 260.4589\n",
      "Epoch 36/50\n",
      "3245/3245 [==============================] - 31s 10ms/step - loss: 183.2988 - val_loss: 258.5769\n",
      "Epoch 37/50\n",
      "3245/3245 [==============================] - 29s 9ms/step - loss: 181.9636 - val_loss: 256.6817\n",
      "Epoch 38/50\n",
      "3245/3245 [==============================] - 32s 10ms/step - loss: 180.2858 - val_loss: 254.9293\n",
      "Epoch 39/50\n",
      "3245/3245 [==============================] - 29s 9ms/step - loss: 179.0071 - val_loss: 253.2088\n",
      "Epoch 40/50\n",
      "3245/3245 [==============================] - 30s 9ms/step - loss: 178.3307 - val_loss: 251.4958\n",
      "Epoch 41/50\n",
      "3245/3245 [==============================] - 31s 10ms/step - loss: 176.0106 - val_loss: 250.0666\n",
      "Epoch 42/50\n",
      "3245/3245 [==============================] - 29s 9ms/step - loss: 176.0073 - val_loss: 248.6633\n",
      "Epoch 43/50\n",
      "3245/3245 [==============================] - 29s 9ms/step - loss: 175.4167 - val_loss: 247.2854\n",
      "Epoch 44/50\n",
      "3245/3245 [==============================] - 29s 9ms/step - loss: 174.7704 - val_loss: 246.0839\n",
      "Epoch 45/50\n",
      "3245/3245 [==============================] - 33s 10ms/step - loss: 174.5220 - val_loss: 244.7588\n",
      "Epoch 46/50\n",
      "3245/3245 [==============================] - 30s 9ms/step - loss: 172.1158 - val_loss: 243.3764\n",
      "Epoch 47/50\n",
      "3245/3245 [==============================] - 37s 11ms/step - loss: 171.9725 - val_loss: 242.3428\n",
      "Epoch 48/50\n",
      "3245/3245 [==============================] - 38s 12ms/step - loss: 170.3111 - val_loss: 241.2554\n",
      "Epoch 49/50\n",
      "3245/3245 [==============================] - 30s 9ms/step - loss: 170.6448 - val_loss: 240.1610\n",
      "Epoch 50/50\n",
      "3245/3245 [==============================] - 37s 11ms/step - loss: 170.1049 - val_loss: 239.4166\n"
     ]
    }
   ],
   "source": [
    "es = EarlyStopping(monitor='val_loss', mode='min', verbose=1, patience=15)\n",
    "history1 = model1.fit(\n",
    "    train_ds,\n",
    "    batch_size=data_config[\"batch_size\"],\n",
    "    epochs=model_config[\"n_epochs\"],\n",
    "    verbose=1,\n",
    "    shuffle=False,\n",
    "    validation_data=val_ds,\n",
    "    callbacks=[es]\n",
    ")"
   ]
  },
  {
   "cell_type": "code",
   "execution_count": 23,
   "metadata": {},
   "outputs": [
    {
     "data": {
      "image/png": "[encoded data removed]",
      "text/plain": [
       "<Figure size 432x288 with 1 Axes>"
      ]
     },
     "metadata": {
      "needs_background": "light"
     },
     "output_type": "display_data"
    }
   ],
   "source": [
    "for name, values in history1.history.items():\n",
    "    plt.plot(values)\n",
    "    plt.grid(\"True\")"
   ]
  },
  {
   "cell_type": "code",
   "execution_count": 24,
   "metadata": {},
   "outputs": [
    {
     "name": "stdout",
     "output_type": "stream",
     "text": [
      "561/561 [==============================] - 3s 5ms/step - loss: 237.9824\n",
      "Test RMSE: 15.4267\n"
     ]
    }
   ],
   "source": [
    "test_ds = timeseries_dataset_from_df(test, data_config[\"batch_size\"])\n",
    "mse = model1.evaluate(test_ds)\n",
    "print(f\"Test RMSE: {mse**.5:.4f}\")"
   ]
  },
  {
   "cell_type": "code",
   "execution_count": 25,
   "metadata": {},
   "outputs": [
    {
     "name": "stdout",
     "output_type": "stream",
     "text": [
      "WARNING:tensorflow:From /usr/local/lib/python3.8/site-packages/tensorflow/python/training/tracking/tracking.py:111: Model.state_updates (from tensorflow.python.keras.engine.training) is deprecated and will be removed in a future version.\n",
      "Instructions for updating:\n",
      "This property should not be used in TensorFlow 2.0, as updates are applied automatically.\n",
      "WARNING:tensorflow:From /usr/local/lib/python3.8/site-packages/tensorflow/python/training/tracking/tracking.py:111: Layer.updates (from tensorflow.python.keras.engine.base_layer) is deprecated and will be removed in a future version.\n",
      "Instructions for updating:\n",
      "This property should not be used in TensorFlow 2.0, as updates are applied automatically.\n",
      "INFO:tensorflow:Assets written to: model/assets\n",
      "{'timesteps': 16, 'batch_size': 32, 'solar_wind_subset': ['bx_gse', 'by_gse', 'bz_gse', 'speed', 'density', 'temperature', 'theta_gse', 'phi_gse']}\n"
     ]
    }
   ],
   "source": [
    "import json\n",
    "import pickle\n",
    "\n",
    "model_final5.save(\"model\")\n",
    "\n",
    "with open(\"scaler.pck\", \"wb\") as f:\n",
    "    pickle.dump(scaler, f)\n",
    "\n",
    "data_config[\"solar_wind_subset\"] = SOLAR_WIND_FEATURES\n",
    "print(data_config)\n",
    "with open(\"config.json\", \"w\") as f:\n",
    "    json.dump(data_config, f)"
   ]
  },
  {
   "cell_type": "code",
   "execution_count": null,
   "metadata": {},
   "outputs": [],
   "source": []
  }
 ],
 "metadata": {
  "kernelspec": {
   "display_name": "Python 3",
   "language": "python",
   "name": "python3"
  },
  "language_info": {
   "codemirror_mode": {
    "name": "ipython",
    "version": 3
   },
   "file_extension": ".py",
   "mimetype": "text/x-python",
   "name": "python",
   "nbconvert_exporter": "python",
   "pygments_lexer": "ipython3",
   "version": "3.8.5"
  }
 },
 "nbformat": 4,
 "nbformat_minor": 4
}
