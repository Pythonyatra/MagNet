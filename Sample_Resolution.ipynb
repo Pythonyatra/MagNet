{
  "nbformat": 4,
  "nbformat_minor": 0,
  "metadata": {
    "colab": {
      "name": "Sample Resolution.ipynb",
      "provenance": [],
      "collapsed_sections": [],
      "authorship_tag": "ABX9TyMMA5d/zsOpMBA+pU643tgB",
      "include_colab_link": true
    },
    "kernelspec": {
      "name": "python3",
      "display_name": "Python 3"
    }
  },
  "cells": [
    {
      "cell_type": "markdown",
      "metadata": {
        "id": "view-in-github",
        "colab_type": "text"
      },
      "source": [
        "<a href=\"https://colab.research.google.com/github/Pythonyatra/MagNet/blob/main/Sample_Resolution.ipynb\" target=\"_parent\"><img src=\"https://colab.research.google.com/assets/colab-badge.svg\" alt=\"Open In Colab\"/></a>"
      ]
    },
    {
      "cell_type": "code",
      "metadata": {
        "colab": {
          "base_uri": "https://localhost:8080/"
        },
        "id": "srYtwU74y-Qs",
        "outputId": "c2f6c7aa-9c4d-4400-8b79-4adaec93b5e8"
      },
      "source": [
        "from google.colab import drive\r\n",
        "drive.mount('/content/drive')"
      ],
      "execution_count": 125,
      "outputs": [
        {
          "output_type": "stream",
          "text": [
            "Drive already mounted at /content/drive; to attempt to forcibly remount, call drive.mount(\"/content/drive\", force_remount=True).\n"
          ],
          "name": "stdout"
        }
      ]
    },
    {
      "cell_type": "code",
      "metadata": {
        "id": "vzxPepEXzD5C"
      },
      "source": [
        "folder = '/content/drive/MyDrive/Colab Notebooks/MagNet'"
      ],
      "execution_count": 126,
      "outputs": []
    },
    {
      "cell_type": "markdown",
      "metadata": {
        "id": "MCwHqd8qzVcW"
      },
      "source": [
        "### Calling Libraries"
      ]
    },
    {
      "cell_type": "code",
      "metadata": {
        "id": "qqXFSCGXzRto"
      },
      "source": [
        "import numpy as np\r\n",
        "import pandas as pd\r\n",
        "import matplotlib.pyplot as plt\r\n",
        "import sys, os"
      ],
      "execution_count": 127,
      "outputs": []
    },
    {
      "cell_type": "markdown",
      "metadata": {
        "id": "T1iOgSVgzcY0"
      },
      "source": [
        "### Loading Data"
      ]
    },
    {
      "cell_type": "code",
      "metadata": {
        "id": "Gqh5_TBEzewW"
      },
      "source": [
        "sunspots=pd.read_csv(os.path.join(folder, \"sunspots.csv\"), index_col=[\"period\", \"timedelta\"],)\r\n",
        "sat_pos = pd.read_csv(os.path.join(folder, \"satellite_positions.csv\"), index_col=[\"period\", \"timedelta\"],)\r\n",
        "dst = pd.read_csv(os.path.join(folder, \"dst_labels.csv\"), index_col=[\"period\", \"timedelta\"],)\r\n",
        "solar_wind = pd.read_csv(os.path.join(folder, \"solar_wind.csv\"),index_col=[\"period\", \"timedelta\"],)"
      ],
      "execution_count": 128,
      "outputs": []
    },
    {
      "cell_type": "markdown",
      "metadata": {
        "id": "F1TzI0VJzj-t"
      },
      "source": [
        "### Function to summarize info"
      ]
    },
    {
      "cell_type": "code",
      "metadata": {
        "id": "OlAd8lcKzl8-"
      },
      "source": [
        "def data_info(df):\r\n",
        "  print (\"shape of the data dst_labs:\", df.shape)\r\n",
        "  print (\"Null values:\", df.isnull().sum())\r\n",
        "  print (\"Total null values sanity check:\", df.isnull().sum().sum())\r\n",
        "  display(df.head())"
      ],
      "execution_count": 129,
      "outputs": []
    },
    {
      "cell_type": "markdown",
      "metadata": {
        "id": "ie9J4oOtz3eK"
      },
      "source": [
        "#### Function to resample all dataframes\r\n",
        "[Resample Help](https://www.w3resource.com/pandas/series/series-resample.php)  \r\n",
        "Have to reset index"
      ]
    },
    {
      "cell_type": "code",
      "metadata": {
        "id": "8kO9pfjxz0BA"
      },
      "source": [
        "def uri(df, sample_res):\r\n",
        "    df = df.reset_index(level='period')\r\n",
        "    df.index=pd.to_timedelta(df.index)\r\n",
        "    return df.groupby('period').resample(sample_res).mean()"
      ],
      "execution_count": 130,
      "outputs": []
    },
    {
      "cell_type": "markdown",
      "metadata": {
        "id": "KJvsrHtQz_Hh"
      },
      "source": [
        "### Solar Wind interpolation and aggregation"
      ]
    },
    {
      "cell_type": "code",
      "metadata": {
        "colab": {
          "base_uri": "https://localhost:8080/",
          "height": 541
        },
        "id": "GPO9FDrAz9fn",
        "outputId": "b1e7020b-ea22-4edb-b223-1b69b030b825"
      },
      "source": [
        "data_info(solar_wind)"
      ],
      "execution_count": 131,
      "outputs": [
        {
          "output_type": "stream",
          "text": [
            "shape of the data dst_labs: (8392320, 15)\n",
            "Null values: bx_gse         325888\n",
            "by_gse         325888\n",
            "bz_gse         325888\n",
            "theta_gse      325888\n",
            "phi_gse        326388\n",
            "bx_gsm         325888\n",
            "by_gsm         325888\n",
            "bz_gsm         325888\n",
            "theta_gsm      325888\n",
            "phi_gsm        326388\n",
            "bt             325888\n",
            "density        684890\n",
            "speed          689555\n",
            "temperature    811768\n",
            "source         316816\n",
            "dtype: int64\n",
            "Total null values sanity check: 6088797\n"
          ],
          "name": "stdout"
        },
        {
          "output_type": "display_data",
          "data": {
            "text/html": [
              "<div>\n",
              "<style scoped>\n",
              "    .dataframe tbody tr th:only-of-type {\n",
              "        vertical-align: middle;\n",
              "    }\n",
              "\n",
              "    .dataframe tbody tr th {\n",
              "        vertical-align: top;\n",
              "    }\n",
              "\n",
              "    .dataframe thead th {\n",
              "        text-align: right;\n",
              "    }\n",
              "</style>\n",
              "<table border=\"1\" class=\"dataframe\">\n",
              "  <thead>\n",
              "    <tr style=\"text-align: right;\">\n",
              "      <th></th>\n",
              "      <th></th>\n",
              "      <th>bx_gse</th>\n",
              "      <th>by_gse</th>\n",
              "      <th>bz_gse</th>\n",
              "      <th>theta_gse</th>\n",
              "      <th>phi_gse</th>\n",
              "      <th>bx_gsm</th>\n",
              "      <th>by_gsm</th>\n",
              "      <th>bz_gsm</th>\n",
              "      <th>theta_gsm</th>\n",
              "      <th>phi_gsm</th>\n",
              "      <th>bt</th>\n",
              "      <th>density</th>\n",
              "      <th>speed</th>\n",
              "      <th>temperature</th>\n",
              "      <th>source</th>\n",
              "    </tr>\n",
              "    <tr>\n",
              "      <th>period</th>\n",
              "      <th>timedelta</th>\n",
              "      <th></th>\n",
              "      <th></th>\n",
              "      <th></th>\n",
              "      <th></th>\n",
              "      <th></th>\n",
              "      <th></th>\n",
              "      <th></th>\n",
              "      <th></th>\n",
              "      <th></th>\n",
              "      <th></th>\n",
              "      <th></th>\n",
              "      <th></th>\n",
              "      <th></th>\n",
              "      <th></th>\n",
              "      <th></th>\n",
              "    </tr>\n",
              "  </thead>\n",
              "  <tbody>\n",
              "    <tr>\n",
              "      <th rowspan=\"5\" valign=\"top\">train_a</th>\n",
              "      <th>0 days 00:00:00</th>\n",
              "      <td>-5.55</td>\n",
              "      <td>3.00</td>\n",
              "      <td>1.25</td>\n",
              "      <td>11.09</td>\n",
              "      <td>153.37</td>\n",
              "      <td>-5.55</td>\n",
              "      <td>3.00</td>\n",
              "      <td>1.25</td>\n",
              "      <td>11.09</td>\n",
              "      <td>153.37</td>\n",
              "      <td>6.80</td>\n",
              "      <td>1.53</td>\n",
              "      <td>383.92</td>\n",
              "      <td>110237.0</td>\n",
              "      <td>ac</td>\n",
              "    </tr>\n",
              "    <tr>\n",
              "      <th>0 days 00:01:00</th>\n",
              "      <td>-5.58</td>\n",
              "      <td>3.16</td>\n",
              "      <td>1.17</td>\n",
              "      <td>10.10</td>\n",
              "      <td>151.91</td>\n",
              "      <td>-5.58</td>\n",
              "      <td>3.16</td>\n",
              "      <td>1.17</td>\n",
              "      <td>10.10</td>\n",
              "      <td>151.91</td>\n",
              "      <td>6.83</td>\n",
              "      <td>1.69</td>\n",
              "      <td>381.79</td>\n",
              "      <td>123825.0</td>\n",
              "      <td>ac</td>\n",
              "    </tr>\n",
              "    <tr>\n",
              "      <th>0 days 00:02:00</th>\n",
              "      <td>-5.15</td>\n",
              "      <td>3.66</td>\n",
              "      <td>0.85</td>\n",
              "      <td>7.87</td>\n",
              "      <td>146.04</td>\n",
              "      <td>-5.15</td>\n",
              "      <td>3.66</td>\n",
              "      <td>0.85</td>\n",
              "      <td>7.87</td>\n",
              "      <td>146.04</td>\n",
              "      <td>6.77</td>\n",
              "      <td>1.97</td>\n",
              "      <td>389.11</td>\n",
              "      <td>82548.0</td>\n",
              "      <td>ac</td>\n",
              "    </tr>\n",
              "    <tr>\n",
              "      <th>0 days 00:03:00</th>\n",
              "      <td>-5.20</td>\n",
              "      <td>3.68</td>\n",
              "      <td>0.68</td>\n",
              "      <td>6.17</td>\n",
              "      <td>146.17</td>\n",
              "      <td>-5.20</td>\n",
              "      <td>3.68</td>\n",
              "      <td>0.68</td>\n",
              "      <td>6.17</td>\n",
              "      <td>146.17</td>\n",
              "      <td>6.74</td>\n",
              "      <td>1.97</td>\n",
              "      <td>389.11</td>\n",
              "      <td>82548.0</td>\n",
              "      <td>ac</td>\n",
              "    </tr>\n",
              "    <tr>\n",
              "      <th>0 days 00:04:00</th>\n",
              "      <td>-5.12</td>\n",
              "      <td>3.68</td>\n",
              "      <td>0.49</td>\n",
              "      <td>4.62</td>\n",
              "      <td>145.72</td>\n",
              "      <td>-5.12</td>\n",
              "      <td>3.68</td>\n",
              "      <td>0.49</td>\n",
              "      <td>4.62</td>\n",
              "      <td>145.72</td>\n",
              "      <td>6.65</td>\n",
              "      <td>1.77</td>\n",
              "      <td>384.26</td>\n",
              "      <td>94269.0</td>\n",
              "      <td>ac</td>\n",
              "    </tr>\n",
              "  </tbody>\n",
              "</table>\n",
              "</div>"
            ],
            "text/plain": [
              "                         bx_gse  by_gse  bz_gse  ...   speed  temperature  source\n",
              "period  timedelta                                ...                             \n",
              "train_a 0 days 00:00:00   -5.55    3.00    1.25  ...  383.92     110237.0      ac\n",
              "        0 days 00:01:00   -5.58    3.16    1.17  ...  381.79     123825.0      ac\n",
              "        0 days 00:02:00   -5.15    3.66    0.85  ...  389.11      82548.0      ac\n",
              "        0 days 00:03:00   -5.20    3.68    0.68  ...  389.11      82548.0      ac\n",
              "        0 days 00:04:00   -5.12    3.68    0.49  ...  384.26      94269.0      ac\n",
              "\n",
              "[5 rows x 15 columns]"
            ]
          },
          "metadata": {
            "tags": []
          }
        }
      ]
    },
    {
      "cell_type": "markdown",
      "metadata": {
        "id": "VjG2sJ7l0LWv"
      },
      "source": [
        "#### Drop unnecessary columns from the solar wind data"
      ]
    },
    {
      "cell_type": "code",
      "metadata": {
        "id": "diKiaQc-0F64"
      },
      "source": [
        "cols_to_drop= ['bx_gsm','by_gsm', 'bz_gsm', 'theta_gsm', 'phi_gsm', 'source']\r\n",
        "solar_wind.drop(cols_to_drop, axis=1, inplace=True)\r\n"
      ],
      "execution_count": 132,
      "outputs": []
    },
    {
      "cell_type": "code",
      "metadata": {
        "colab": {
          "base_uri": "https://localhost:8080/"
        },
        "id": "safU_ssh0Wyd",
        "outputId": "af2203d8-3fc1-49d2-b4ba-701905a81882"
      },
      "source": [
        "print (\"The Null values in the data:\\n\", solar_wind.isnull().sum())"
      ],
      "execution_count": 133,
      "outputs": [
        {
          "output_type": "stream",
          "text": [
            "The Null values in the data:\n",
            " bx_gse         325888\n",
            "by_gse         325888\n",
            "bz_gse         325888\n",
            "theta_gse      325888\n",
            "phi_gse        326388\n",
            "bt             325888\n",
            "density        684890\n",
            "speed          689555\n",
            "temperature    811768\n",
            "dtype: int64\n"
          ],
          "name": "stdout"
        }
      ]
    },
    {
      "cell_type": "code",
      "metadata": {
        "id": "-Z_3bgph0Z8q"
      },
      "source": [
        "solar_wind.interpolate(method='linear', limit_direction='forward', axis=0, inplace=True)"
      ],
      "execution_count": 134,
      "outputs": []
    },
    {
      "cell_type": "code",
      "metadata": {
        "colab": {
          "base_uri": "https://localhost:8080/",
          "height": 439
        },
        "id": "jOiNHb3Q0c04",
        "outputId": "5f2a162b-352b-4f9b-df67-536b4820bb11"
      },
      "source": [
        "data_info(solar_wind)"
      ],
      "execution_count": 135,
      "outputs": [
        {
          "output_type": "stream",
          "text": [
            "shape of the data dst_labs: (8392320, 9)\n",
            "Null values: bx_gse         0\n",
            "by_gse         0\n",
            "bz_gse         0\n",
            "theta_gse      0\n",
            "phi_gse        0\n",
            "bt             0\n",
            "density        0\n",
            "speed          0\n",
            "temperature    0\n",
            "dtype: int64\n",
            "Total null values sanity check: 0\n"
          ],
          "name": "stdout"
        },
        {
          "output_type": "display_data",
          "data": {
            "text/html": [
              "<div>\n",
              "<style scoped>\n",
              "    .dataframe tbody tr th:only-of-type {\n",
              "        vertical-align: middle;\n",
              "    }\n",
              "\n",
              "    .dataframe tbody tr th {\n",
              "        vertical-align: top;\n",
              "    }\n",
              "\n",
              "    .dataframe thead th {\n",
              "        text-align: right;\n",
              "    }\n",
              "</style>\n",
              "<table border=\"1\" class=\"dataframe\">\n",
              "  <thead>\n",
              "    <tr style=\"text-align: right;\">\n",
              "      <th></th>\n",
              "      <th></th>\n",
              "      <th>bx_gse</th>\n",
              "      <th>by_gse</th>\n",
              "      <th>bz_gse</th>\n",
              "      <th>theta_gse</th>\n",
              "      <th>phi_gse</th>\n",
              "      <th>bt</th>\n",
              "      <th>density</th>\n",
              "      <th>speed</th>\n",
              "      <th>temperature</th>\n",
              "    </tr>\n",
              "    <tr>\n",
              "      <th>period</th>\n",
              "      <th>timedelta</th>\n",
              "      <th></th>\n",
              "      <th></th>\n",
              "      <th></th>\n",
              "      <th></th>\n",
              "      <th></th>\n",
              "      <th></th>\n",
              "      <th></th>\n",
              "      <th></th>\n",
              "      <th></th>\n",
              "    </tr>\n",
              "  </thead>\n",
              "  <tbody>\n",
              "    <tr>\n",
              "      <th rowspan=\"5\" valign=\"top\">train_a</th>\n",
              "      <th>0 days 00:00:00</th>\n",
              "      <td>-5.55</td>\n",
              "      <td>3.00</td>\n",
              "      <td>1.25</td>\n",
              "      <td>11.09</td>\n",
              "      <td>153.37</td>\n",
              "      <td>6.80</td>\n",
              "      <td>1.53</td>\n",
              "      <td>383.92</td>\n",
              "      <td>110237.0</td>\n",
              "    </tr>\n",
              "    <tr>\n",
              "      <th>0 days 00:01:00</th>\n",
              "      <td>-5.58</td>\n",
              "      <td>3.16</td>\n",
              "      <td>1.17</td>\n",
              "      <td>10.10</td>\n",
              "      <td>151.91</td>\n",
              "      <td>6.83</td>\n",
              "      <td>1.69</td>\n",
              "      <td>381.79</td>\n",
              "      <td>123825.0</td>\n",
              "    </tr>\n",
              "    <tr>\n",
              "      <th>0 days 00:02:00</th>\n",
              "      <td>-5.15</td>\n",
              "      <td>3.66</td>\n",
              "      <td>0.85</td>\n",
              "      <td>7.87</td>\n",
              "      <td>146.04</td>\n",
              "      <td>6.77</td>\n",
              "      <td>1.97</td>\n",
              "      <td>389.11</td>\n",
              "      <td>82548.0</td>\n",
              "    </tr>\n",
              "    <tr>\n",
              "      <th>0 days 00:03:00</th>\n",
              "      <td>-5.20</td>\n",
              "      <td>3.68</td>\n",
              "      <td>0.68</td>\n",
              "      <td>6.17</td>\n",
              "      <td>146.17</td>\n",
              "      <td>6.74</td>\n",
              "      <td>1.97</td>\n",
              "      <td>389.11</td>\n",
              "      <td>82548.0</td>\n",
              "    </tr>\n",
              "    <tr>\n",
              "      <th>0 days 00:04:00</th>\n",
              "      <td>-5.12</td>\n",
              "      <td>3.68</td>\n",
              "      <td>0.49</td>\n",
              "      <td>4.62</td>\n",
              "      <td>145.72</td>\n",
              "      <td>6.65</td>\n",
              "      <td>1.77</td>\n",
              "      <td>384.26</td>\n",
              "      <td>94269.0</td>\n",
              "    </tr>\n",
              "  </tbody>\n",
              "</table>\n",
              "</div>"
            ],
            "text/plain": [
              "                         bx_gse  by_gse  bz_gse  ...  density   speed  temperature\n",
              "period  timedelta                                ...                              \n",
              "train_a 0 days 00:00:00   -5.55    3.00    1.25  ...     1.53  383.92     110237.0\n",
              "        0 days 00:01:00   -5.58    3.16    1.17  ...     1.69  381.79     123825.0\n",
              "        0 days 00:02:00   -5.15    3.66    0.85  ...     1.97  389.11      82548.0\n",
              "        0 days 00:03:00   -5.20    3.68    0.68  ...     1.97  389.11      82548.0\n",
              "        0 days 00:04:00   -5.12    3.68    0.49  ...     1.77  384.26      94269.0\n",
              "\n",
              "[5 rows x 9 columns]"
            ]
          },
          "metadata": {
            "tags": []
          }
        }
      ]
    },
    {
      "cell_type": "code",
      "metadata": {
        "id": "aUi5OW450h2M"
      },
      "source": [
        "sw_agg=uri(solar_wind, '30T')"
      ],
      "execution_count": 136,
      "outputs": []
    },
    {
      "cell_type": "code",
      "metadata": {
        "colab": {
          "base_uri": "https://localhost:8080/",
          "height": 439
        },
        "id": "1k4o33bk0lya",
        "outputId": "0694fd6f-2bd2-420b-9eeb-687515ccf76d"
      },
      "source": [
        "data_info(sw_agg)"
      ],
      "execution_count": 137,
      "outputs": [
        {
          "output_type": "stream",
          "text": [
            "shape of the data dst_labs: (279744, 9)\n",
            "Null values: bx_gse         0\n",
            "by_gse         0\n",
            "bz_gse         0\n",
            "theta_gse      0\n",
            "phi_gse        0\n",
            "bt             0\n",
            "density        0\n",
            "speed          0\n",
            "temperature    0\n",
            "dtype: int64\n",
            "Total null values sanity check: 0\n"
          ],
          "name": "stdout"
        },
        {
          "output_type": "display_data",
          "data": {
            "text/html": [
              "<div>\n",
              "<style scoped>\n",
              "    .dataframe tbody tr th:only-of-type {\n",
              "        vertical-align: middle;\n",
              "    }\n",
              "\n",
              "    .dataframe tbody tr th {\n",
              "        vertical-align: top;\n",
              "    }\n",
              "\n",
              "    .dataframe thead th {\n",
              "        text-align: right;\n",
              "    }\n",
              "</style>\n",
              "<table border=\"1\" class=\"dataframe\">\n",
              "  <thead>\n",
              "    <tr style=\"text-align: right;\">\n",
              "      <th></th>\n",
              "      <th></th>\n",
              "      <th>bx_gse</th>\n",
              "      <th>by_gse</th>\n",
              "      <th>bz_gse</th>\n",
              "      <th>theta_gse</th>\n",
              "      <th>phi_gse</th>\n",
              "      <th>bt</th>\n",
              "      <th>density</th>\n",
              "      <th>speed</th>\n",
              "      <th>temperature</th>\n",
              "    </tr>\n",
              "    <tr>\n",
              "      <th>period</th>\n",
              "      <th>timedelta</th>\n",
              "      <th></th>\n",
              "      <th></th>\n",
              "      <th></th>\n",
              "      <th></th>\n",
              "      <th></th>\n",
              "      <th></th>\n",
              "      <th></th>\n",
              "      <th></th>\n",
              "      <th></th>\n",
              "    </tr>\n",
              "  </thead>\n",
              "  <tbody>\n",
              "    <tr>\n",
              "      <th rowspan=\"5\" valign=\"top\">train_a</th>\n",
              "      <th>0 days 00:00:00</th>\n",
              "      <td>-5.924667</td>\n",
              "      <td>2.342667</td>\n",
              "      <td>0.910333</td>\n",
              "      <td>7.925000</td>\n",
              "      <td>159.567333</td>\n",
              "      <td>6.859667</td>\n",
              "      <td>1.367000</td>\n",
              "      <td>364.503167</td>\n",
              "      <td>79025.966667</td>\n",
              "    </tr>\n",
              "    <tr>\n",
              "      <th>0 days 00:30:00</th>\n",
              "      <td>-6.374333</td>\n",
              "      <td>0.948333</td>\n",
              "      <td>0.779000</td>\n",
              "      <td>6.282333</td>\n",
              "      <td>171.273333</td>\n",
              "      <td>7.420333</td>\n",
              "      <td>0.981333</td>\n",
              "      <td>346.053333</td>\n",
              "      <td>58734.716667</td>\n",
              "    </tr>\n",
              "    <tr>\n",
              "      <th>0 days 01:00:00</th>\n",
              "      <td>-6.470333</td>\n",
              "      <td>0.367333</td>\n",
              "      <td>1.320333</td>\n",
              "      <td>10.937333</td>\n",
              "      <td>177.403333</td>\n",
              "      <td>7.033000</td>\n",
              "      <td>1.002333</td>\n",
              "      <td>337.884667</td>\n",
              "      <td>78864.695238</td>\n",
              "    </tr>\n",
              "    <tr>\n",
              "      <th>0 days 01:30:00</th>\n",
              "      <td>-6.917333</td>\n",
              "      <td>1.165667</td>\n",
              "      <td>1.210000</td>\n",
              "      <td>9.429333</td>\n",
              "      <td>171.132333</td>\n",
              "      <td>7.536667</td>\n",
              "      <td>0.629500</td>\n",
              "      <td>322.276500</td>\n",
              "      <td>25541.754762</td>\n",
              "    </tr>\n",
              "    <tr>\n",
              "      <th>0 days 02:00:00</th>\n",
              "      <td>-7.215000</td>\n",
              "      <td>0.885333</td>\n",
              "      <td>2.135667</td>\n",
              "      <td>15.792667</td>\n",
              "      <td>173.602333</td>\n",
              "      <td>7.857333</td>\n",
              "      <td>1.021833</td>\n",
              "      <td>331.417833</td>\n",
              "      <td>55013.433333</td>\n",
              "    </tr>\n",
              "  </tbody>\n",
              "</table>\n",
              "</div>"
            ],
            "text/plain": [
              "                           bx_gse    by_gse  ...       speed   temperature\n",
              "period  timedelta                            ...                          \n",
              "train_a 0 days 00:00:00 -5.924667  2.342667  ...  364.503167  79025.966667\n",
              "        0 days 00:30:00 -6.374333  0.948333  ...  346.053333  58734.716667\n",
              "        0 days 01:00:00 -6.470333  0.367333  ...  337.884667  78864.695238\n",
              "        0 days 01:30:00 -6.917333  1.165667  ...  322.276500  25541.754762\n",
              "        0 days 02:00:00 -7.215000  0.885333  ...  331.417833  55013.433333\n",
              "\n",
              "[5 rows x 9 columns]"
            ]
          },
          "metadata": {
            "tags": []
          }
        }
      ]
    },
    {
      "cell_type": "markdown",
      "metadata": {
        "id": "zt4UdXwP0vXE"
      },
      "source": [
        "### Dst interpolation and join with the Solar Wind data"
      ]
    },
    {
      "cell_type": "code",
      "metadata": {
        "colab": {
          "base_uri": "https://localhost:8080/",
          "height": 303
        },
        "id": "_bMk5Eik03L_",
        "outputId": "6726e77d-f8ca-4c3a-a067-1268accf50e9"
      },
      "source": [
        "data_info(dst)"
      ],
      "execution_count": 138,
      "outputs": [
        {
          "output_type": "stream",
          "text": [
            "shape of the data dst_labs: (139872, 1)\n",
            "Null values: dst    0\n",
            "dtype: int64\n",
            "Total null values sanity check: 0\n"
          ],
          "name": "stdout"
        },
        {
          "output_type": "display_data",
          "data": {
            "text/html": [
              "<div>\n",
              "<style scoped>\n",
              "    .dataframe tbody tr th:only-of-type {\n",
              "        vertical-align: middle;\n",
              "    }\n",
              "\n",
              "    .dataframe tbody tr th {\n",
              "        vertical-align: top;\n",
              "    }\n",
              "\n",
              "    .dataframe thead th {\n",
              "        text-align: right;\n",
              "    }\n",
              "</style>\n",
              "<table border=\"1\" class=\"dataframe\">\n",
              "  <thead>\n",
              "    <tr style=\"text-align: right;\">\n",
              "      <th></th>\n",
              "      <th></th>\n",
              "      <th>dst</th>\n",
              "    </tr>\n",
              "    <tr>\n",
              "      <th>period</th>\n",
              "      <th>timedelta</th>\n",
              "      <th></th>\n",
              "    </tr>\n",
              "  </thead>\n",
              "  <tbody>\n",
              "    <tr>\n",
              "      <th rowspan=\"5\" valign=\"top\">train_a</th>\n",
              "      <th>0 days 00:00:00</th>\n",
              "      <td>-7</td>\n",
              "    </tr>\n",
              "    <tr>\n",
              "      <th>0 days 01:00:00</th>\n",
              "      <td>-10</td>\n",
              "    </tr>\n",
              "    <tr>\n",
              "      <th>0 days 02:00:00</th>\n",
              "      <td>-10</td>\n",
              "    </tr>\n",
              "    <tr>\n",
              "      <th>0 days 03:00:00</th>\n",
              "      <td>-6</td>\n",
              "    </tr>\n",
              "    <tr>\n",
              "      <th>0 days 04:00:00</th>\n",
              "      <td>-2</td>\n",
              "    </tr>\n",
              "  </tbody>\n",
              "</table>\n",
              "</div>"
            ],
            "text/plain": [
              "                         dst\n",
              "period  timedelta           \n",
              "train_a 0 days 00:00:00   -7\n",
              "        0 days 01:00:00  -10\n",
              "        0 days 02:00:00  -10\n",
              "        0 days 03:00:00   -6\n",
              "        0 days 04:00:00   -2"
            ]
          },
          "metadata": {
            "tags": []
          }
        }
      ]
    },
    {
      "cell_type": "code",
      "metadata": {
        "id": "i3EVxqvW05Dc"
      },
      "source": [
        "dst = uri(dst, '30T')"
      ],
      "execution_count": 139,
      "outputs": []
    },
    {
      "cell_type": "code",
      "metadata": {
        "colab": {
          "base_uri": "https://localhost:8080/",
          "height": 303
        },
        "id": "sI4oJ1Q-0_CW",
        "outputId": "a2738b42-0dab-437a-a753-78743777ec3d"
      },
      "source": [
        "data_info(dst)"
      ],
      "execution_count": 140,
      "outputs": [
        {
          "output_type": "stream",
          "text": [
            "shape of the data dst_labs: (279741, 1)\n",
            "Null values: dst    139869\n",
            "dtype: int64\n",
            "Total null values sanity check: 139869\n"
          ],
          "name": "stdout"
        },
        {
          "output_type": "display_data",
          "data": {
            "text/html": [
              "<div>\n",
              "<style scoped>\n",
              "    .dataframe tbody tr th:only-of-type {\n",
              "        vertical-align: middle;\n",
              "    }\n",
              "\n",
              "    .dataframe tbody tr th {\n",
              "        vertical-align: top;\n",
              "    }\n",
              "\n",
              "    .dataframe thead th {\n",
              "        text-align: right;\n",
              "    }\n",
              "</style>\n",
              "<table border=\"1\" class=\"dataframe\">\n",
              "  <thead>\n",
              "    <tr style=\"text-align: right;\">\n",
              "      <th></th>\n",
              "      <th></th>\n",
              "      <th>dst</th>\n",
              "    </tr>\n",
              "    <tr>\n",
              "      <th>period</th>\n",
              "      <th>timedelta</th>\n",
              "      <th></th>\n",
              "    </tr>\n",
              "  </thead>\n",
              "  <tbody>\n",
              "    <tr>\n",
              "      <th rowspan=\"5\" valign=\"top\">train_a</th>\n",
              "      <th>0 days 00:00:00</th>\n",
              "      <td>-7.0</td>\n",
              "    </tr>\n",
              "    <tr>\n",
              "      <th>0 days 00:30:00</th>\n",
              "      <td>NaN</td>\n",
              "    </tr>\n",
              "    <tr>\n",
              "      <th>0 days 01:00:00</th>\n",
              "      <td>-10.0</td>\n",
              "    </tr>\n",
              "    <tr>\n",
              "      <th>0 days 01:30:00</th>\n",
              "      <td>NaN</td>\n",
              "    </tr>\n",
              "    <tr>\n",
              "      <th>0 days 02:00:00</th>\n",
              "      <td>-10.0</td>\n",
              "    </tr>\n",
              "  </tbody>\n",
              "</table>\n",
              "</div>"
            ],
            "text/plain": [
              "                          dst\n",
              "period  timedelta            \n",
              "train_a 0 days 00:00:00  -7.0\n",
              "        0 days 00:30:00   NaN\n",
              "        0 days 01:00:00 -10.0\n",
              "        0 days 01:30:00   NaN\n",
              "        0 days 02:00:00 -10.0"
            ]
          },
          "metadata": {
            "tags": []
          }
        }
      ]
    },
    {
      "cell_type": "code",
      "metadata": {
        "colab": {
          "base_uri": "https://localhost:8080/",
          "height": 235
        },
        "id": "djAzjYe-1Awu",
        "outputId": "36e2b61d-16d4-4ce1-bc6e-cd896a6aaf18"
      },
      "source": [
        "#join sw with dst\r\n",
        "sw_dst=sw_agg.join(dst)\r\n",
        "sw_dst.head()"
      ],
      "execution_count": 141,
      "outputs": [
        {
          "output_type": "execute_result",
          "data": {
            "text/html": [
              "<div>\n",
              "<style scoped>\n",
              "    .dataframe tbody tr th:only-of-type {\n",
              "        vertical-align: middle;\n",
              "    }\n",
              "\n",
              "    .dataframe tbody tr th {\n",
              "        vertical-align: top;\n",
              "    }\n",
              "\n",
              "    .dataframe thead th {\n",
              "        text-align: right;\n",
              "    }\n",
              "</style>\n",
              "<table border=\"1\" class=\"dataframe\">\n",
              "  <thead>\n",
              "    <tr style=\"text-align: right;\">\n",
              "      <th></th>\n",
              "      <th></th>\n",
              "      <th>bx_gse</th>\n",
              "      <th>by_gse</th>\n",
              "      <th>bz_gse</th>\n",
              "      <th>theta_gse</th>\n",
              "      <th>phi_gse</th>\n",
              "      <th>bt</th>\n",
              "      <th>density</th>\n",
              "      <th>speed</th>\n",
              "      <th>temperature</th>\n",
              "      <th>dst</th>\n",
              "    </tr>\n",
              "    <tr>\n",
              "      <th>period</th>\n",
              "      <th>timedelta</th>\n",
              "      <th></th>\n",
              "      <th></th>\n",
              "      <th></th>\n",
              "      <th></th>\n",
              "      <th></th>\n",
              "      <th></th>\n",
              "      <th></th>\n",
              "      <th></th>\n",
              "      <th></th>\n",
              "      <th></th>\n",
              "    </tr>\n",
              "  </thead>\n",
              "  <tbody>\n",
              "    <tr>\n",
              "      <th rowspan=\"5\" valign=\"top\">train_a</th>\n",
              "      <th>0 days 00:00:00</th>\n",
              "      <td>-5.924667</td>\n",
              "      <td>2.342667</td>\n",
              "      <td>0.910333</td>\n",
              "      <td>7.925000</td>\n",
              "      <td>159.567333</td>\n",
              "      <td>6.859667</td>\n",
              "      <td>1.367000</td>\n",
              "      <td>364.503167</td>\n",
              "      <td>79025.966667</td>\n",
              "      <td>-7.0</td>\n",
              "    </tr>\n",
              "    <tr>\n",
              "      <th>0 days 00:30:00</th>\n",
              "      <td>-6.374333</td>\n",
              "      <td>0.948333</td>\n",
              "      <td>0.779000</td>\n",
              "      <td>6.282333</td>\n",
              "      <td>171.273333</td>\n",
              "      <td>7.420333</td>\n",
              "      <td>0.981333</td>\n",
              "      <td>346.053333</td>\n",
              "      <td>58734.716667</td>\n",
              "      <td>NaN</td>\n",
              "    </tr>\n",
              "    <tr>\n",
              "      <th>0 days 01:00:00</th>\n",
              "      <td>-6.470333</td>\n",
              "      <td>0.367333</td>\n",
              "      <td>1.320333</td>\n",
              "      <td>10.937333</td>\n",
              "      <td>177.403333</td>\n",
              "      <td>7.033000</td>\n",
              "      <td>1.002333</td>\n",
              "      <td>337.884667</td>\n",
              "      <td>78864.695238</td>\n",
              "      <td>-10.0</td>\n",
              "    </tr>\n",
              "    <tr>\n",
              "      <th>0 days 01:30:00</th>\n",
              "      <td>-6.917333</td>\n",
              "      <td>1.165667</td>\n",
              "      <td>1.210000</td>\n",
              "      <td>9.429333</td>\n",
              "      <td>171.132333</td>\n",
              "      <td>7.536667</td>\n",
              "      <td>0.629500</td>\n",
              "      <td>322.276500</td>\n",
              "      <td>25541.754762</td>\n",
              "      <td>NaN</td>\n",
              "    </tr>\n",
              "    <tr>\n",
              "      <th>0 days 02:00:00</th>\n",
              "      <td>-7.215000</td>\n",
              "      <td>0.885333</td>\n",
              "      <td>2.135667</td>\n",
              "      <td>15.792667</td>\n",
              "      <td>173.602333</td>\n",
              "      <td>7.857333</td>\n",
              "      <td>1.021833</td>\n",
              "      <td>331.417833</td>\n",
              "      <td>55013.433333</td>\n",
              "      <td>-10.0</td>\n",
              "    </tr>\n",
              "  </tbody>\n",
              "</table>\n",
              "</div>"
            ],
            "text/plain": [
              "                           bx_gse    by_gse  ...   temperature   dst\n",
              "period  timedelta                            ...                    \n",
              "train_a 0 days 00:00:00 -5.924667  2.342667  ...  79025.966667  -7.0\n",
              "        0 days 00:30:00 -6.374333  0.948333  ...  58734.716667   NaN\n",
              "        0 days 01:00:00 -6.470333  0.367333  ...  78864.695238 -10.0\n",
              "        0 days 01:30:00 -6.917333  1.165667  ...  25541.754762   NaN\n",
              "        0 days 02:00:00 -7.215000  0.885333  ...  55013.433333 -10.0\n",
              "\n",
              "[5 rows x 10 columns]"
            ]
          },
          "metadata": {
            "tags": []
          },
          "execution_count": 141
        }
      ]
    },
    {
      "cell_type": "code",
      "metadata": {
        "id": "9PU83DGp1Hag"
      },
      "source": [
        "sw_dst['dst']=sw_dst[['dst']].interpolate(method='linear', limit_direction='forward', axis=0)"
      ],
      "execution_count": 142,
      "outputs": []
    },
    {
      "cell_type": "code",
      "metadata": {
        "colab": {
          "base_uri": "https://localhost:8080/",
          "height": 456
        },
        "id": "QQu_iDlt1K3p",
        "outputId": "5d55cdaf-e250-4c9d-8858-12bd662c5ef1"
      },
      "source": [
        "data_info(sw_dst)"
      ],
      "execution_count": 143,
      "outputs": [
        {
          "output_type": "stream",
          "text": [
            "shape of the data dst_labs: (279744, 10)\n",
            "Null values: bx_gse         0\n",
            "by_gse         0\n",
            "bz_gse         0\n",
            "theta_gse      0\n",
            "phi_gse        0\n",
            "bt             0\n",
            "density        0\n",
            "speed          0\n",
            "temperature    0\n",
            "dst            0\n",
            "dtype: int64\n",
            "Total null values sanity check: 0\n"
          ],
          "name": "stdout"
        },
        {
          "output_type": "display_data",
          "data": {
            "text/html": [
              "<div>\n",
              "<style scoped>\n",
              "    .dataframe tbody tr th:only-of-type {\n",
              "        vertical-align: middle;\n",
              "    }\n",
              "\n",
              "    .dataframe tbody tr th {\n",
              "        vertical-align: top;\n",
              "    }\n",
              "\n",
              "    .dataframe thead th {\n",
              "        text-align: right;\n",
              "    }\n",
              "</style>\n",
              "<table border=\"1\" class=\"dataframe\">\n",
              "  <thead>\n",
              "    <tr style=\"text-align: right;\">\n",
              "      <th></th>\n",
              "      <th></th>\n",
              "      <th>bx_gse</th>\n",
              "      <th>by_gse</th>\n",
              "      <th>bz_gse</th>\n",
              "      <th>theta_gse</th>\n",
              "      <th>phi_gse</th>\n",
              "      <th>bt</th>\n",
              "      <th>density</th>\n",
              "      <th>speed</th>\n",
              "      <th>temperature</th>\n",
              "      <th>dst</th>\n",
              "    </tr>\n",
              "    <tr>\n",
              "      <th>period</th>\n",
              "      <th>timedelta</th>\n",
              "      <th></th>\n",
              "      <th></th>\n",
              "      <th></th>\n",
              "      <th></th>\n",
              "      <th></th>\n",
              "      <th></th>\n",
              "      <th></th>\n",
              "      <th></th>\n",
              "      <th></th>\n",
              "      <th></th>\n",
              "    </tr>\n",
              "  </thead>\n",
              "  <tbody>\n",
              "    <tr>\n",
              "      <th rowspan=\"5\" valign=\"top\">train_a</th>\n",
              "      <th>0 days 00:00:00</th>\n",
              "      <td>-5.924667</td>\n",
              "      <td>2.342667</td>\n",
              "      <td>0.910333</td>\n",
              "      <td>7.925000</td>\n",
              "      <td>159.567333</td>\n",
              "      <td>6.859667</td>\n",
              "      <td>1.367000</td>\n",
              "      <td>364.503167</td>\n",
              "      <td>79025.966667</td>\n",
              "      <td>-7.0</td>\n",
              "    </tr>\n",
              "    <tr>\n",
              "      <th>0 days 00:30:00</th>\n",
              "      <td>-6.374333</td>\n",
              "      <td>0.948333</td>\n",
              "      <td>0.779000</td>\n",
              "      <td>6.282333</td>\n",
              "      <td>171.273333</td>\n",
              "      <td>7.420333</td>\n",
              "      <td>0.981333</td>\n",
              "      <td>346.053333</td>\n",
              "      <td>58734.716667</td>\n",
              "      <td>-8.5</td>\n",
              "    </tr>\n",
              "    <tr>\n",
              "      <th>0 days 01:00:00</th>\n",
              "      <td>-6.470333</td>\n",
              "      <td>0.367333</td>\n",
              "      <td>1.320333</td>\n",
              "      <td>10.937333</td>\n",
              "      <td>177.403333</td>\n",
              "      <td>7.033000</td>\n",
              "      <td>1.002333</td>\n",
              "      <td>337.884667</td>\n",
              "      <td>78864.695238</td>\n",
              "      <td>-10.0</td>\n",
              "    </tr>\n",
              "    <tr>\n",
              "      <th>0 days 01:30:00</th>\n",
              "      <td>-6.917333</td>\n",
              "      <td>1.165667</td>\n",
              "      <td>1.210000</td>\n",
              "      <td>9.429333</td>\n",
              "      <td>171.132333</td>\n",
              "      <td>7.536667</td>\n",
              "      <td>0.629500</td>\n",
              "      <td>322.276500</td>\n",
              "      <td>25541.754762</td>\n",
              "      <td>-10.0</td>\n",
              "    </tr>\n",
              "    <tr>\n",
              "      <th>0 days 02:00:00</th>\n",
              "      <td>-7.215000</td>\n",
              "      <td>0.885333</td>\n",
              "      <td>2.135667</td>\n",
              "      <td>15.792667</td>\n",
              "      <td>173.602333</td>\n",
              "      <td>7.857333</td>\n",
              "      <td>1.021833</td>\n",
              "      <td>331.417833</td>\n",
              "      <td>55013.433333</td>\n",
              "      <td>-10.0</td>\n",
              "    </tr>\n",
              "  </tbody>\n",
              "</table>\n",
              "</div>"
            ],
            "text/plain": [
              "                           bx_gse    by_gse  ...   temperature   dst\n",
              "period  timedelta                            ...                    \n",
              "train_a 0 days 00:00:00 -5.924667  2.342667  ...  79025.966667  -7.0\n",
              "        0 days 00:30:00 -6.374333  0.948333  ...  58734.716667  -8.5\n",
              "        0 days 01:00:00 -6.470333  0.367333  ...  78864.695238 -10.0\n",
              "        0 days 01:30:00 -6.917333  1.165667  ...  25541.754762 -10.0\n",
              "        0 days 02:00:00 -7.215000  0.885333  ...  55013.433333 -10.0\n",
              "\n",
              "[5 rows x 10 columns]"
            ]
          },
          "metadata": {
            "tags": []
          }
        }
      ]
    },
    {
      "cell_type": "code",
      "metadata": {
        "colab": {
          "base_uri": "https://localhost:8080/"
        },
        "id": "uTE_PSUb1NSk",
        "outputId": "b9f6f33e-5527-4612-eecf-5d225095a5ed"
      },
      "source": [
        "print(sw_agg.shape , dst.shape, sw_dst.shape)"
      ],
      "execution_count": 144,
      "outputs": [
        {
          "output_type": "stream",
          "text": [
            "(279744, 9) (279741, 1) (279744, 10)\n"
          ],
          "name": "stdout"
        }
      ]
    },
    {
      "cell_type": "markdown",
      "metadata": {
        "id": "Ef6PdCfr1Sol"
      },
      "source": [
        ""
      ]
    },
    {
      "cell_type": "markdown",
      "metadata": {
        "id": "YKfs8LA91SrF"
      },
      "source": [
        "### Sunspots data interpolation and join with Solar Wind and Dst"
      ]
    },
    {
      "cell_type": "code",
      "metadata": {
        "colab": {
          "base_uri": "https://localhost:8080/",
          "height": 303
        },
        "id": "oOrlBPDT1Pjy",
        "outputId": "8bf3124a-6945-4826-9d43-5dfa9cc7facf"
      },
      "source": [
        "data_info(sunspots)"
      ],
      "execution_count": 145,
      "outputs": [
        {
          "output_type": "stream",
          "text": [
            "shape of the data dst_labs: (192, 1)\n",
            "Null values: smoothed_ssn    0\n",
            "dtype: int64\n",
            "Total null values sanity check: 0\n"
          ],
          "name": "stdout"
        },
        {
          "output_type": "display_data",
          "data": {
            "text/html": [
              "<div>\n",
              "<style scoped>\n",
              "    .dataframe tbody tr th:only-of-type {\n",
              "        vertical-align: middle;\n",
              "    }\n",
              "\n",
              "    .dataframe tbody tr th {\n",
              "        vertical-align: top;\n",
              "    }\n",
              "\n",
              "    .dataframe thead th {\n",
              "        text-align: right;\n",
              "    }\n",
              "</style>\n",
              "<table border=\"1\" class=\"dataframe\">\n",
              "  <thead>\n",
              "    <tr style=\"text-align: right;\">\n",
              "      <th></th>\n",
              "      <th></th>\n",
              "      <th>smoothed_ssn</th>\n",
              "    </tr>\n",
              "    <tr>\n",
              "      <th>period</th>\n",
              "      <th>timedelta</th>\n",
              "      <th></th>\n",
              "    </tr>\n",
              "  </thead>\n",
              "  <tbody>\n",
              "    <tr>\n",
              "      <th rowspan=\"5\" valign=\"top\">train_a</th>\n",
              "      <th>0 days 00:00:00</th>\n",
              "      <td>65.4</td>\n",
              "    </tr>\n",
              "    <tr>\n",
              "      <th>13 days 00:00:00</th>\n",
              "      <td>72.0</td>\n",
              "    </tr>\n",
              "    <tr>\n",
              "      <th>44 days 00:00:00</th>\n",
              "      <td>76.9</td>\n",
              "    </tr>\n",
              "    <tr>\n",
              "      <th>74 days 00:00:00</th>\n",
              "      <td>80.8</td>\n",
              "    </tr>\n",
              "    <tr>\n",
              "      <th>105 days 00:00:00</th>\n",
              "      <td>85.4</td>\n",
              "    </tr>\n",
              "  </tbody>\n",
              "</table>\n",
              "</div>"
            ],
            "text/plain": [
              "                           smoothed_ssn\n",
              "period  timedelta                      \n",
              "train_a 0 days 00:00:00            65.4\n",
              "        13 days 00:00:00           72.0\n",
              "        44 days 00:00:00           76.9\n",
              "        74 days 00:00:00           80.8\n",
              "        105 days 00:00:00          85.4"
            ]
          },
          "metadata": {
            "tags": []
          }
        }
      ]
    },
    {
      "cell_type": "code",
      "metadata": {
        "id": "yjL8ZZK91bQW"
      },
      "source": [
        "sunspots = uri(sunspots, '30T')"
      ],
      "execution_count": 146,
      "outputs": []
    },
    {
      "cell_type": "code",
      "metadata": {
        "colab": {
          "base_uri": "https://localhost:8080/",
          "height": 303
        },
        "id": "IpeEscQ01epf",
        "outputId": "b58c3d42-5181-4b13-91d2-6ac0f46ad4ba"
      },
      "source": [
        "data_info(sunspots)"
      ],
      "execution_count": 147,
      "outputs": [
        {
          "output_type": "stream",
          "text": [
            "shape of the data dst_labs: (275283, 1)\n",
            "Null values: smoothed_ssn    275091\n",
            "dtype: int64\n",
            "Total null values sanity check: 275091\n"
          ],
          "name": "stdout"
        },
        {
          "output_type": "display_data",
          "data": {
            "text/html": [
              "<div>\n",
              "<style scoped>\n",
              "    .dataframe tbody tr th:only-of-type {\n",
              "        vertical-align: middle;\n",
              "    }\n",
              "\n",
              "    .dataframe tbody tr th {\n",
              "        vertical-align: top;\n",
              "    }\n",
              "\n",
              "    .dataframe thead th {\n",
              "        text-align: right;\n",
              "    }\n",
              "</style>\n",
              "<table border=\"1\" class=\"dataframe\">\n",
              "  <thead>\n",
              "    <tr style=\"text-align: right;\">\n",
              "      <th></th>\n",
              "      <th></th>\n",
              "      <th>smoothed_ssn</th>\n",
              "    </tr>\n",
              "    <tr>\n",
              "      <th>period</th>\n",
              "      <th>timedelta</th>\n",
              "      <th></th>\n",
              "    </tr>\n",
              "  </thead>\n",
              "  <tbody>\n",
              "    <tr>\n",
              "      <th rowspan=\"5\" valign=\"top\">train_a</th>\n",
              "      <th>0 days 00:00:00</th>\n",
              "      <td>65.4</td>\n",
              "    </tr>\n",
              "    <tr>\n",
              "      <th>0 days 00:30:00</th>\n",
              "      <td>NaN</td>\n",
              "    </tr>\n",
              "    <tr>\n",
              "      <th>0 days 01:00:00</th>\n",
              "      <td>NaN</td>\n",
              "    </tr>\n",
              "    <tr>\n",
              "      <th>0 days 01:30:00</th>\n",
              "      <td>NaN</td>\n",
              "    </tr>\n",
              "    <tr>\n",
              "      <th>0 days 02:00:00</th>\n",
              "      <td>NaN</td>\n",
              "    </tr>\n",
              "  </tbody>\n",
              "</table>\n",
              "</div>"
            ],
            "text/plain": [
              "                         smoothed_ssn\n",
              "period  timedelta                    \n",
              "train_a 0 days 00:00:00          65.4\n",
              "        0 days 00:30:00           NaN\n",
              "        0 days 01:00:00           NaN\n",
              "        0 days 01:30:00           NaN\n",
              "        0 days 02:00:00           NaN"
            ]
          },
          "metadata": {
            "tags": []
          }
        }
      ]
    },
    {
      "cell_type": "code",
      "metadata": {
        "colab": {
          "base_uri": "https://localhost:8080/"
        },
        "id": "FxATtI6s1geb",
        "outputId": "db1181e1-2d4b-4103-ae7a-c9e1f6164a50"
      },
      "source": [
        "print(sw_agg.shape, dst.shape, sw_dst.shape, sunspots.shape)"
      ],
      "execution_count": 148,
      "outputs": [
        {
          "output_type": "stream",
          "text": [
            "(279744, 9) (279741, 1) (279744, 10) (275283, 1)\n"
          ],
          "name": "stdout"
        }
      ]
    },
    {
      "cell_type": "code",
      "metadata": {
        "id": "-uZodTIg1jeZ"
      },
      "source": [
        "sw_dst_ss= sw_dst.join(sunspots)\r\n",
        " # forward fill sunspot data for the rest of the month\r\n",
        "sw_dst_ss['smoothed_ssn'] = sw_dst_ss['smoothed_ssn'].fillna(method=\"ffill\")\r\n",
        "# interpolate between missing solar wind values\r\n",
        "sw_dst_ss['smoothed_ssn']=sw_dst_ss[['smoothed_ssn']].interpolate()"
      ],
      "execution_count": 149,
      "outputs": []
    },
    {
      "cell_type": "code",
      "metadata": {
        "colab": {
          "base_uri": "https://localhost:8080/",
          "height": 473
        },
        "id": "tNXkhO1Y1mbo",
        "outputId": "61e5c32f-acde-462c-9fb0-e9ad2d7a5bc6"
      },
      "source": [
        "data_info(sw_dst_ss)"
      ],
      "execution_count": 150,
      "outputs": [
        {
          "output_type": "stream",
          "text": [
            "shape of the data dst_labs: (279744, 11)\n",
            "Null values: bx_gse          0\n",
            "by_gse          0\n",
            "bz_gse          0\n",
            "theta_gse       0\n",
            "phi_gse         0\n",
            "bt              0\n",
            "density         0\n",
            "speed           0\n",
            "temperature     0\n",
            "dst             0\n",
            "smoothed_ssn    0\n",
            "dtype: int64\n",
            "Total null values sanity check: 0\n"
          ],
          "name": "stdout"
        },
        {
          "output_type": "display_data",
          "data": {
            "text/html": [
              "<div>\n",
              "<style scoped>\n",
              "    .dataframe tbody tr th:only-of-type {\n",
              "        vertical-align: middle;\n",
              "    }\n",
              "\n",
              "    .dataframe tbody tr th {\n",
              "        vertical-align: top;\n",
              "    }\n",
              "\n",
              "    .dataframe thead th {\n",
              "        text-align: right;\n",
              "    }\n",
              "</style>\n",
              "<table border=\"1\" class=\"dataframe\">\n",
              "  <thead>\n",
              "    <tr style=\"text-align: right;\">\n",
              "      <th></th>\n",
              "      <th></th>\n",
              "      <th>bx_gse</th>\n",
              "      <th>by_gse</th>\n",
              "      <th>bz_gse</th>\n",
              "      <th>theta_gse</th>\n",
              "      <th>phi_gse</th>\n",
              "      <th>bt</th>\n",
              "      <th>density</th>\n",
              "      <th>speed</th>\n",
              "      <th>temperature</th>\n",
              "      <th>dst</th>\n",
              "      <th>smoothed_ssn</th>\n",
              "    </tr>\n",
              "    <tr>\n",
              "      <th>period</th>\n",
              "      <th>timedelta</th>\n",
              "      <th></th>\n",
              "      <th></th>\n",
              "      <th></th>\n",
              "      <th></th>\n",
              "      <th></th>\n",
              "      <th></th>\n",
              "      <th></th>\n",
              "      <th></th>\n",
              "      <th></th>\n",
              "      <th></th>\n",
              "      <th></th>\n",
              "    </tr>\n",
              "  </thead>\n",
              "  <tbody>\n",
              "    <tr>\n",
              "      <th rowspan=\"5\" valign=\"top\">train_a</th>\n",
              "      <th>0 days 00:00:00</th>\n",
              "      <td>-5.924667</td>\n",
              "      <td>2.342667</td>\n",
              "      <td>0.910333</td>\n",
              "      <td>7.925000</td>\n",
              "      <td>159.567333</td>\n",
              "      <td>6.859667</td>\n",
              "      <td>1.367000</td>\n",
              "      <td>364.503167</td>\n",
              "      <td>79025.966667</td>\n",
              "      <td>-7.0</td>\n",
              "      <td>65.4</td>\n",
              "    </tr>\n",
              "    <tr>\n",
              "      <th>0 days 00:30:00</th>\n",
              "      <td>-6.374333</td>\n",
              "      <td>0.948333</td>\n",
              "      <td>0.779000</td>\n",
              "      <td>6.282333</td>\n",
              "      <td>171.273333</td>\n",
              "      <td>7.420333</td>\n",
              "      <td>0.981333</td>\n",
              "      <td>346.053333</td>\n",
              "      <td>58734.716667</td>\n",
              "      <td>-8.5</td>\n",
              "      <td>65.4</td>\n",
              "    </tr>\n",
              "    <tr>\n",
              "      <th>0 days 01:00:00</th>\n",
              "      <td>-6.470333</td>\n",
              "      <td>0.367333</td>\n",
              "      <td>1.320333</td>\n",
              "      <td>10.937333</td>\n",
              "      <td>177.403333</td>\n",
              "      <td>7.033000</td>\n",
              "      <td>1.002333</td>\n",
              "      <td>337.884667</td>\n",
              "      <td>78864.695238</td>\n",
              "      <td>-10.0</td>\n",
              "      <td>65.4</td>\n",
              "    </tr>\n",
              "    <tr>\n",
              "      <th>0 days 01:30:00</th>\n",
              "      <td>-6.917333</td>\n",
              "      <td>1.165667</td>\n",
              "      <td>1.210000</td>\n",
              "      <td>9.429333</td>\n",
              "      <td>171.132333</td>\n",
              "      <td>7.536667</td>\n",
              "      <td>0.629500</td>\n",
              "      <td>322.276500</td>\n",
              "      <td>25541.754762</td>\n",
              "      <td>-10.0</td>\n",
              "      <td>65.4</td>\n",
              "    </tr>\n",
              "    <tr>\n",
              "      <th>0 days 02:00:00</th>\n",
              "      <td>-7.215000</td>\n",
              "      <td>0.885333</td>\n",
              "      <td>2.135667</td>\n",
              "      <td>15.792667</td>\n",
              "      <td>173.602333</td>\n",
              "      <td>7.857333</td>\n",
              "      <td>1.021833</td>\n",
              "      <td>331.417833</td>\n",
              "      <td>55013.433333</td>\n",
              "      <td>-10.0</td>\n",
              "      <td>65.4</td>\n",
              "    </tr>\n",
              "  </tbody>\n",
              "</table>\n",
              "</div>"
            ],
            "text/plain": [
              "                           bx_gse    by_gse  ...   dst  smoothed_ssn\n",
              "period  timedelta                            ...                    \n",
              "train_a 0 days 00:00:00 -5.924667  2.342667  ...  -7.0          65.4\n",
              "        0 days 00:30:00 -6.374333  0.948333  ...  -8.5          65.4\n",
              "        0 days 01:00:00 -6.470333  0.367333  ... -10.0          65.4\n",
              "        0 days 01:30:00 -6.917333  1.165667  ... -10.0          65.4\n",
              "        0 days 02:00:00 -7.215000  0.885333  ... -10.0          65.4\n",
              "\n",
              "[5 rows x 11 columns]"
            ]
          },
          "metadata": {
            "tags": []
          }
        }
      ]
    },
    {
      "cell_type": "markdown",
      "metadata": {
        "id": "a5idfSH31uOD"
      },
      "source": [
        "### Satellite Position Drop Cols and Interpolation"
      ]
    },
    {
      "cell_type": "code",
      "metadata": {
        "colab": {
          "base_uri": "https://localhost:8080/",
          "height": 388
        },
        "id": "s5A_QHlc1r6l",
        "outputId": "341f87af-2b31-4471-ea4c-200a46508ffd"
      },
      "source": [
        "data_info(sat_pos)"
      ],
      "execution_count": 151,
      "outputs": [
        {
          "output_type": "stream",
          "text": [
            "shape of the data dst_labs: (5828, 6)\n",
            "Null values: gse_x_ace          0\n",
            "gse_y_ace          0\n",
            "gse_z_ace          0\n",
            "gse_x_dscovr    4794\n",
            "gse_y_dscovr    4794\n",
            "gse_z_dscovr    4794\n",
            "dtype: int64\n",
            "Total null values sanity check: 14382\n"
          ],
          "name": "stdout"
        },
        {
          "output_type": "display_data",
          "data": {
            "text/html": [
              "<div>\n",
              "<style scoped>\n",
              "    .dataframe tbody tr th:only-of-type {\n",
              "        vertical-align: middle;\n",
              "    }\n",
              "\n",
              "    .dataframe tbody tr th {\n",
              "        vertical-align: top;\n",
              "    }\n",
              "\n",
              "    .dataframe thead th {\n",
              "        text-align: right;\n",
              "    }\n",
              "</style>\n",
              "<table border=\"1\" class=\"dataframe\">\n",
              "  <thead>\n",
              "    <tr style=\"text-align: right;\">\n",
              "      <th></th>\n",
              "      <th></th>\n",
              "      <th>gse_x_ace</th>\n",
              "      <th>gse_y_ace</th>\n",
              "      <th>gse_z_ace</th>\n",
              "      <th>gse_x_dscovr</th>\n",
              "      <th>gse_y_dscovr</th>\n",
              "      <th>gse_z_dscovr</th>\n",
              "    </tr>\n",
              "    <tr>\n",
              "      <th>period</th>\n",
              "      <th>timedelta</th>\n",
              "      <th></th>\n",
              "      <th></th>\n",
              "      <th></th>\n",
              "      <th></th>\n",
              "      <th></th>\n",
              "      <th></th>\n",
              "    </tr>\n",
              "  </thead>\n",
              "  <tbody>\n",
              "    <tr>\n",
              "      <th rowspan=\"5\" valign=\"top\">train_a</th>\n",
              "      <th>0 days</th>\n",
              "      <td>1522376.9</td>\n",
              "      <td>143704.6</td>\n",
              "      <td>149496.7</td>\n",
              "      <td>NaN</td>\n",
              "      <td>NaN</td>\n",
              "      <td>NaN</td>\n",
              "    </tr>\n",
              "    <tr>\n",
              "      <th>1 days</th>\n",
              "      <td>1525410.9</td>\n",
              "      <td>136108.8</td>\n",
              "      <td>151034.1</td>\n",
              "      <td>NaN</td>\n",
              "      <td>NaN</td>\n",
              "      <td>NaN</td>\n",
              "    </tr>\n",
              "    <tr>\n",
              "      <th>2 days</th>\n",
              "      <td>1528484.9</td>\n",
              "      <td>128470.5</td>\n",
              "      <td>152387.7</td>\n",
              "      <td>NaN</td>\n",
              "      <td>NaN</td>\n",
              "      <td>NaN</td>\n",
              "    </tr>\n",
              "    <tr>\n",
              "      <th>3 days</th>\n",
              "      <td>1531570.3</td>\n",
              "      <td>120818.4</td>\n",
              "      <td>153561.4</td>\n",
              "      <td>NaN</td>\n",
              "      <td>NaN</td>\n",
              "      <td>NaN</td>\n",
              "    </tr>\n",
              "    <tr>\n",
              "      <th>4 days</th>\n",
              "      <td>1534633.1</td>\n",
              "      <td>113178.5</td>\n",
              "      <td>154534.6</td>\n",
              "      <td>NaN</td>\n",
              "      <td>NaN</td>\n",
              "      <td>NaN</td>\n",
              "    </tr>\n",
              "  </tbody>\n",
              "</table>\n",
              "</div>"
            ],
            "text/plain": [
              "                   gse_x_ace  gse_y_ace  ...  gse_y_dscovr  gse_z_dscovr\n",
              "period  timedelta                        ...                            \n",
              "train_a 0 days     1522376.9   143704.6  ...           NaN           NaN\n",
              "        1 days     1525410.9   136108.8  ...           NaN           NaN\n",
              "        2 days     1528484.9   128470.5  ...           NaN           NaN\n",
              "        3 days     1531570.3   120818.4  ...           NaN           NaN\n",
              "        4 days     1534633.1   113178.5  ...           NaN           NaN\n",
              "\n",
              "[5 rows x 6 columns]"
            ]
          },
          "metadata": {
            "tags": []
          }
        }
      ]
    },
    {
      "cell_type": "code",
      "metadata": {
        "colab": {
          "base_uri": "https://localhost:8080/",
          "height": 269
        },
        "id": "84hcuGxv10XM",
        "outputId": "1d967cdf-6d48-4f09-ec90-112b583c15a3"
      },
      "source": [
        "# drop the unnecessary columns\r\n",
        "cols_to_drop = ['gse_x_dscovr', 'gse_y_dscovr', 'gse_z_dscovr']\r\n",
        "sat_pos.drop(cols_to_drop, axis=1, inplace=True)\r\n",
        "\r\n",
        "print ('Droping the columns:', cols_to_drop)\r\n",
        "print ('remaining columns:', sat_pos.columns )\r\n",
        "sat_pos.head()"
      ],
      "execution_count": 152,
      "outputs": [
        {
          "output_type": "stream",
          "text": [
            "Droping the columns: ['gse_x_dscovr', 'gse_y_dscovr', 'gse_z_dscovr']\n",
            "remaining columns: Index(['gse_x_ace', 'gse_y_ace', 'gse_z_ace'], dtype='object')\n"
          ],
          "name": "stdout"
        },
        {
          "output_type": "execute_result",
          "data": {
            "text/html": [
              "<div>\n",
              "<style scoped>\n",
              "    .dataframe tbody tr th:only-of-type {\n",
              "        vertical-align: middle;\n",
              "    }\n",
              "\n",
              "    .dataframe tbody tr th {\n",
              "        vertical-align: top;\n",
              "    }\n",
              "\n",
              "    .dataframe thead th {\n",
              "        text-align: right;\n",
              "    }\n",
              "</style>\n",
              "<table border=\"1\" class=\"dataframe\">\n",
              "  <thead>\n",
              "    <tr style=\"text-align: right;\">\n",
              "      <th></th>\n",
              "      <th></th>\n",
              "      <th>gse_x_ace</th>\n",
              "      <th>gse_y_ace</th>\n",
              "      <th>gse_z_ace</th>\n",
              "    </tr>\n",
              "    <tr>\n",
              "      <th>period</th>\n",
              "      <th>timedelta</th>\n",
              "      <th></th>\n",
              "      <th></th>\n",
              "      <th></th>\n",
              "    </tr>\n",
              "  </thead>\n",
              "  <tbody>\n",
              "    <tr>\n",
              "      <th rowspan=\"5\" valign=\"top\">train_a</th>\n",
              "      <th>0 days</th>\n",
              "      <td>1522376.9</td>\n",
              "      <td>143704.6</td>\n",
              "      <td>149496.7</td>\n",
              "    </tr>\n",
              "    <tr>\n",
              "      <th>1 days</th>\n",
              "      <td>1525410.9</td>\n",
              "      <td>136108.8</td>\n",
              "      <td>151034.1</td>\n",
              "    </tr>\n",
              "    <tr>\n",
              "      <th>2 days</th>\n",
              "      <td>1528484.9</td>\n",
              "      <td>128470.5</td>\n",
              "      <td>152387.7</td>\n",
              "    </tr>\n",
              "    <tr>\n",
              "      <th>3 days</th>\n",
              "      <td>1531570.3</td>\n",
              "      <td>120818.4</td>\n",
              "      <td>153561.4</td>\n",
              "    </tr>\n",
              "    <tr>\n",
              "      <th>4 days</th>\n",
              "      <td>1534633.1</td>\n",
              "      <td>113178.5</td>\n",
              "      <td>154534.6</td>\n",
              "    </tr>\n",
              "  </tbody>\n",
              "</table>\n",
              "</div>"
            ],
            "text/plain": [
              "                   gse_x_ace  gse_y_ace  gse_z_ace\n",
              "period  timedelta                                 \n",
              "train_a 0 days     1522376.9   143704.6   149496.7\n",
              "        1 days     1525410.9   136108.8   151034.1\n",
              "        2 days     1528484.9   128470.5   152387.7\n",
              "        3 days     1531570.3   120818.4   153561.4\n",
              "        4 days     1534633.1   113178.5   154534.6"
            ]
          },
          "metadata": {
            "tags": []
          },
          "execution_count": 152
        }
      ]
    },
    {
      "cell_type": "code",
      "metadata": {
        "colab": {
          "base_uri": "https://localhost:8080/",
          "height": 235
        },
        "id": "o2ttKY_i2Fjw",
        "outputId": "449bdaef-56c5-4fa0-d70e-d056a3e51d59"
      },
      "source": [
        "df_final = sw_dst_ss.join(sat_pos)\r\n",
        "df_final.head()"
      ],
      "execution_count": 153,
      "outputs": [
        {
          "output_type": "execute_result",
          "data": {
            "text/html": [
              "<div>\n",
              "<style scoped>\n",
              "    .dataframe tbody tr th:only-of-type {\n",
              "        vertical-align: middle;\n",
              "    }\n",
              "\n",
              "    .dataframe tbody tr th {\n",
              "        vertical-align: top;\n",
              "    }\n",
              "\n",
              "    .dataframe thead th {\n",
              "        text-align: right;\n",
              "    }\n",
              "</style>\n",
              "<table border=\"1\" class=\"dataframe\">\n",
              "  <thead>\n",
              "    <tr style=\"text-align: right;\">\n",
              "      <th></th>\n",
              "      <th></th>\n",
              "      <th>bx_gse</th>\n",
              "      <th>by_gse</th>\n",
              "      <th>bz_gse</th>\n",
              "      <th>theta_gse</th>\n",
              "      <th>phi_gse</th>\n",
              "      <th>bt</th>\n",
              "      <th>density</th>\n",
              "      <th>speed</th>\n",
              "      <th>temperature</th>\n",
              "      <th>dst</th>\n",
              "      <th>smoothed_ssn</th>\n",
              "      <th>gse_x_ace</th>\n",
              "      <th>gse_y_ace</th>\n",
              "      <th>gse_z_ace</th>\n",
              "    </tr>\n",
              "    <tr>\n",
              "      <th>period</th>\n",
              "      <th>timedelta</th>\n",
              "      <th></th>\n",
              "      <th></th>\n",
              "      <th></th>\n",
              "      <th></th>\n",
              "      <th></th>\n",
              "      <th></th>\n",
              "      <th></th>\n",
              "      <th></th>\n",
              "      <th></th>\n",
              "      <th></th>\n",
              "      <th></th>\n",
              "      <th></th>\n",
              "      <th></th>\n",
              "      <th></th>\n",
              "    </tr>\n",
              "  </thead>\n",
              "  <tbody>\n",
              "    <tr>\n",
              "      <th rowspan=\"5\" valign=\"top\">train_a</th>\n",
              "      <th>0 days 00:00:00</th>\n",
              "      <td>-5.924667</td>\n",
              "      <td>2.342667</td>\n",
              "      <td>0.910333</td>\n",
              "      <td>7.925000</td>\n",
              "      <td>159.567333</td>\n",
              "      <td>6.859667</td>\n",
              "      <td>1.367000</td>\n",
              "      <td>364.503167</td>\n",
              "      <td>79025.966667</td>\n",
              "      <td>-7.0</td>\n",
              "      <td>65.4</td>\n",
              "      <td>NaN</td>\n",
              "      <td>NaN</td>\n",
              "      <td>NaN</td>\n",
              "    </tr>\n",
              "    <tr>\n",
              "      <th>0 days 00:30:00</th>\n",
              "      <td>-6.374333</td>\n",
              "      <td>0.948333</td>\n",
              "      <td>0.779000</td>\n",
              "      <td>6.282333</td>\n",
              "      <td>171.273333</td>\n",
              "      <td>7.420333</td>\n",
              "      <td>0.981333</td>\n",
              "      <td>346.053333</td>\n",
              "      <td>58734.716667</td>\n",
              "      <td>-8.5</td>\n",
              "      <td>65.4</td>\n",
              "      <td>NaN</td>\n",
              "      <td>NaN</td>\n",
              "      <td>NaN</td>\n",
              "    </tr>\n",
              "    <tr>\n",
              "      <th>0 days 01:00:00</th>\n",
              "      <td>-6.470333</td>\n",
              "      <td>0.367333</td>\n",
              "      <td>1.320333</td>\n",
              "      <td>10.937333</td>\n",
              "      <td>177.403333</td>\n",
              "      <td>7.033000</td>\n",
              "      <td>1.002333</td>\n",
              "      <td>337.884667</td>\n",
              "      <td>78864.695238</td>\n",
              "      <td>-10.0</td>\n",
              "      <td>65.4</td>\n",
              "      <td>NaN</td>\n",
              "      <td>NaN</td>\n",
              "      <td>NaN</td>\n",
              "    </tr>\n",
              "    <tr>\n",
              "      <th>0 days 01:30:00</th>\n",
              "      <td>-6.917333</td>\n",
              "      <td>1.165667</td>\n",
              "      <td>1.210000</td>\n",
              "      <td>9.429333</td>\n",
              "      <td>171.132333</td>\n",
              "      <td>7.536667</td>\n",
              "      <td>0.629500</td>\n",
              "      <td>322.276500</td>\n",
              "      <td>25541.754762</td>\n",
              "      <td>-10.0</td>\n",
              "      <td>65.4</td>\n",
              "      <td>NaN</td>\n",
              "      <td>NaN</td>\n",
              "      <td>NaN</td>\n",
              "    </tr>\n",
              "    <tr>\n",
              "      <th>0 days 02:00:00</th>\n",
              "      <td>-7.215000</td>\n",
              "      <td>0.885333</td>\n",
              "      <td>2.135667</td>\n",
              "      <td>15.792667</td>\n",
              "      <td>173.602333</td>\n",
              "      <td>7.857333</td>\n",
              "      <td>1.021833</td>\n",
              "      <td>331.417833</td>\n",
              "      <td>55013.433333</td>\n",
              "      <td>-10.0</td>\n",
              "      <td>65.4</td>\n",
              "      <td>NaN</td>\n",
              "      <td>NaN</td>\n",
              "      <td>NaN</td>\n",
              "    </tr>\n",
              "  </tbody>\n",
              "</table>\n",
              "</div>"
            ],
            "text/plain": [
              "                           bx_gse    by_gse  ...  gse_y_ace  gse_z_ace\n",
              "period  timedelta                            ...                      \n",
              "train_a 0 days 00:00:00 -5.924667  2.342667  ...        NaN        NaN\n",
              "        0 days 00:30:00 -6.374333  0.948333  ...        NaN        NaN\n",
              "        0 days 01:00:00 -6.470333  0.367333  ...        NaN        NaN\n",
              "        0 days 01:30:00 -6.917333  1.165667  ...        NaN        NaN\n",
              "        0 days 02:00:00 -7.215000  0.885333  ...        NaN        NaN\n",
              "\n",
              "[5 rows x 14 columns]"
            ]
          },
          "metadata": {
            "tags": []
          },
          "execution_count": 153
        }
      ]
    },
    {
      "cell_type": "code",
      "metadata": {
        "colab": {
          "base_uri": "https://localhost:8080/",
          "height": 269
        },
        "id": "eF75lM3z2Oeo",
        "outputId": "c80da3d8-503e-46c0-e9eb-a8e91ed8c285"
      },
      "source": [
        "cols_to_interp=['gse_x_ace', 'gse_y_ace', 'gse_z_ace']\r\n",
        "df_final[cols_to_interp]=df_final[cols_to_interp].interpolate(method='linear', limit_direction='forward', axis=0)\r\n",
        "print ('final_shape:', df_final.shape)\r\n",
        "print ('Number of nulls:', sw_dst_ss.isnull().sum().sum() )\r\n",
        "df_final.head()"
      ],
      "execution_count": 162,
      "outputs": [
        {
          "output_type": "stream",
          "text": [
            "final_shape: (279744, 19)\n",
            "Number of nulls: 0\n"
          ],
          "name": "stdout"
        },
        {
          "output_type": "execute_result",
          "data": {
            "text/html": [
              "<div>\n",
              "<style scoped>\n",
              "    .dataframe tbody tr th:only-of-type {\n",
              "        vertical-align: middle;\n",
              "    }\n",
              "\n",
              "    .dataframe tbody tr th {\n",
              "        vertical-align: top;\n",
              "    }\n",
              "\n",
              "    .dataframe thead th {\n",
              "        text-align: right;\n",
              "    }\n",
              "</style>\n",
              "<table border=\"1\" class=\"dataframe\">\n",
              "  <thead>\n",
              "    <tr style=\"text-align: right;\">\n",
              "      <th></th>\n",
              "      <th></th>\n",
              "      <th>bx_gse</th>\n",
              "      <th>by_gse</th>\n",
              "      <th>bz_gse</th>\n",
              "      <th>theta_gse</th>\n",
              "      <th>phi_gse</th>\n",
              "      <th>bt</th>\n",
              "      <th>density</th>\n",
              "      <th>speed</th>\n",
              "      <th>temperature</th>\n",
              "      <th>dst</th>\n",
              "      <th>smoothed_ssn</th>\n",
              "      <th>gse_x_ace</th>\n",
              "      <th>gse_y_ace</th>\n",
              "      <th>gse_z_ace</th>\n",
              "      <th>by_gse_std</th>\n",
              "      <th>bz_gse_std</th>\n",
              "      <th>bt_std</th>\n",
              "      <th>density_std</th>\n",
              "      <th>speed_std</th>\n",
              "    </tr>\n",
              "    <tr>\n",
              "      <th>period</th>\n",
              "      <th>timedelta</th>\n",
              "      <th></th>\n",
              "      <th></th>\n",
              "      <th></th>\n",
              "      <th></th>\n",
              "      <th></th>\n",
              "      <th></th>\n",
              "      <th></th>\n",
              "      <th></th>\n",
              "      <th></th>\n",
              "      <th></th>\n",
              "      <th></th>\n",
              "      <th></th>\n",
              "      <th></th>\n",
              "      <th></th>\n",
              "      <th></th>\n",
              "      <th></th>\n",
              "      <th></th>\n",
              "      <th></th>\n",
              "      <th></th>\n",
              "    </tr>\n",
              "  </thead>\n",
              "  <tbody>\n",
              "    <tr>\n",
              "      <th rowspan=\"5\" valign=\"top\">train_a</th>\n",
              "      <th>0 days 00:00:00</th>\n",
              "      <td>-5.924667</td>\n",
              "      <td>2.342667</td>\n",
              "      <td>0.910333</td>\n",
              "      <td>7.925000</td>\n",
              "      <td>159.567333</td>\n",
              "      <td>6.859667</td>\n",
              "      <td>1.367000</td>\n",
              "      <td>364.503167</td>\n",
              "      <td>79025.966667</td>\n",
              "      <td>-7.0</td>\n",
              "      <td>65.4</td>\n",
              "      <td>NaN</td>\n",
              "      <td>NaN</td>\n",
              "      <td>NaN</td>\n",
              "      <td>0.840020</td>\n",
              "      <td>0.572162</td>\n",
              "      <td>0.130740</td>\n",
              "      <td>0.547849</td>\n",
              "      <td>15.541244</td>\n",
              "    </tr>\n",
              "    <tr>\n",
              "      <th>0 days 00:30:00</th>\n",
              "      <td>-6.374333</td>\n",
              "      <td>0.948333</td>\n",
              "      <td>0.779000</td>\n",
              "      <td>6.282333</td>\n",
              "      <td>171.273333</td>\n",
              "      <td>7.420333</td>\n",
              "      <td>0.981333</td>\n",
              "      <td>346.053333</td>\n",
              "      <td>58734.716667</td>\n",
              "      <td>-8.5</td>\n",
              "      <td>65.4</td>\n",
              "      <td>NaN</td>\n",
              "      <td>NaN</td>\n",
              "      <td>NaN</td>\n",
              "      <td>1.157813</td>\n",
              "      <td>0.590063</td>\n",
              "      <td>2.252674</td>\n",
              "      <td>0.301635</td>\n",
              "      <td>6.458380</td>\n",
              "    </tr>\n",
              "    <tr>\n",
              "      <th>0 days 01:00:00</th>\n",
              "      <td>-6.470333</td>\n",
              "      <td>0.367333</td>\n",
              "      <td>1.320333</td>\n",
              "      <td>10.937333</td>\n",
              "      <td>177.403333</td>\n",
              "      <td>7.033000</td>\n",
              "      <td>1.002333</td>\n",
              "      <td>337.884667</td>\n",
              "      <td>78864.695238</td>\n",
              "      <td>-10.0</td>\n",
              "      <td>65.4</td>\n",
              "      <td>NaN</td>\n",
              "      <td>NaN</td>\n",
              "      <td>NaN</td>\n",
              "      <td>1.016647</td>\n",
              "      <td>0.726130</td>\n",
              "      <td>0.057304</td>\n",
              "      <td>0.776280</td>\n",
              "      <td>18.121221</td>\n",
              "    </tr>\n",
              "    <tr>\n",
              "      <th>0 days 01:30:00</th>\n",
              "      <td>-6.917333</td>\n",
              "      <td>1.165667</td>\n",
              "      <td>1.210000</td>\n",
              "      <td>9.429333</td>\n",
              "      <td>171.132333</td>\n",
              "      <td>7.536667</td>\n",
              "      <td>0.629500</td>\n",
              "      <td>322.276500</td>\n",
              "      <td>25541.754762</td>\n",
              "      <td>-10.0</td>\n",
              "      <td>65.4</td>\n",
              "      <td>NaN</td>\n",
              "      <td>NaN</td>\n",
              "      <td>NaN</td>\n",
              "      <td>0.557492</td>\n",
              "      <td>0.744590</td>\n",
              "      <td>0.284221</td>\n",
              "      <td>0.563681</td>\n",
              "      <td>12.154256</td>\n",
              "    </tr>\n",
              "    <tr>\n",
              "      <th>0 days 02:00:00</th>\n",
              "      <td>-7.215000</td>\n",
              "      <td>0.885333</td>\n",
              "      <td>2.135667</td>\n",
              "      <td>15.792667</td>\n",
              "      <td>173.602333</td>\n",
              "      <td>7.857333</td>\n",
              "      <td>1.021833</td>\n",
              "      <td>331.417833</td>\n",
              "      <td>55013.433333</td>\n",
              "      <td>-10.0</td>\n",
              "      <td>65.4</td>\n",
              "      <td>NaN</td>\n",
              "      <td>NaN</td>\n",
              "      <td>NaN</td>\n",
              "      <td>0.234605</td>\n",
              "      <td>0.209428</td>\n",
              "      <td>0.035905</td>\n",
              "      <td>0.499259</td>\n",
              "      <td>10.972320</td>\n",
              "    </tr>\n",
              "  </tbody>\n",
              "</table>\n",
              "</div>"
            ],
            "text/plain": [
              "                           bx_gse    by_gse  ...  density_std  speed_std\n",
              "period  timedelta                            ...                        \n",
              "train_a 0 days 00:00:00 -5.924667  2.342667  ...     0.547849  15.541244\n",
              "        0 days 00:30:00 -6.374333  0.948333  ...     0.301635   6.458380\n",
              "        0 days 01:00:00 -6.470333  0.367333  ...     0.776280  18.121221\n",
              "        0 days 01:30:00 -6.917333  1.165667  ...     0.563681  12.154256\n",
              "        0 days 02:00:00 -7.215000  0.885333  ...     0.499259  10.972320\n",
              "\n",
              "[5 rows x 19 columns]"
            ]
          },
          "metadata": {
            "tags": []
          },
          "execution_count": 162
        }
      ]
    },
    {
      "cell_type": "code",
      "metadata": {
        "colab": {
          "base_uri": "https://localhost:8080/",
          "height": 524
        },
        "id": "aMYA2-vA2Tud",
        "outputId": "596ffb89-b7ff-4435-a18a-0e95453454b7"
      },
      "source": [
        "data_info(df_final)"
      ],
      "execution_count": 155,
      "outputs": [
        {
          "output_type": "stream",
          "text": [
            "shape of the data dst_labs: (279744, 14)\n",
            "Null values: bx_gse               0\n",
            "by_gse               0\n",
            "bz_gse               0\n",
            "theta_gse            0\n",
            "phi_gse              0\n",
            "bt                   0\n",
            "density              0\n",
            "speed                0\n",
            "temperature          0\n",
            "dst                  0\n",
            "smoothed_ssn         0\n",
            "gse_x_ace       279744\n",
            "gse_y_ace       279744\n",
            "gse_z_ace       279744\n",
            "dtype: int64\n",
            "Total null values sanity check: 839232\n"
          ],
          "name": "stdout"
        },
        {
          "output_type": "display_data",
          "data": {
            "text/html": [
              "<div>\n",
              "<style scoped>\n",
              "    .dataframe tbody tr th:only-of-type {\n",
              "        vertical-align: middle;\n",
              "    }\n",
              "\n",
              "    .dataframe tbody tr th {\n",
              "        vertical-align: top;\n",
              "    }\n",
              "\n",
              "    .dataframe thead th {\n",
              "        text-align: right;\n",
              "    }\n",
              "</style>\n",
              "<table border=\"1\" class=\"dataframe\">\n",
              "  <thead>\n",
              "    <tr style=\"text-align: right;\">\n",
              "      <th></th>\n",
              "      <th></th>\n",
              "      <th>bx_gse</th>\n",
              "      <th>by_gse</th>\n",
              "      <th>bz_gse</th>\n",
              "      <th>theta_gse</th>\n",
              "      <th>phi_gse</th>\n",
              "      <th>bt</th>\n",
              "      <th>density</th>\n",
              "      <th>speed</th>\n",
              "      <th>temperature</th>\n",
              "      <th>dst</th>\n",
              "      <th>smoothed_ssn</th>\n",
              "      <th>gse_x_ace</th>\n",
              "      <th>gse_y_ace</th>\n",
              "      <th>gse_z_ace</th>\n",
              "    </tr>\n",
              "    <tr>\n",
              "      <th>period</th>\n",
              "      <th>timedelta</th>\n",
              "      <th></th>\n",
              "      <th></th>\n",
              "      <th></th>\n",
              "      <th></th>\n",
              "      <th></th>\n",
              "      <th></th>\n",
              "      <th></th>\n",
              "      <th></th>\n",
              "      <th></th>\n",
              "      <th></th>\n",
              "      <th></th>\n",
              "      <th></th>\n",
              "      <th></th>\n",
              "      <th></th>\n",
              "    </tr>\n",
              "  </thead>\n",
              "  <tbody>\n",
              "    <tr>\n",
              "      <th rowspan=\"5\" valign=\"top\">train_a</th>\n",
              "      <th>0 days 00:00:00</th>\n",
              "      <td>-5.924667</td>\n",
              "      <td>2.342667</td>\n",
              "      <td>0.910333</td>\n",
              "      <td>7.925000</td>\n",
              "      <td>159.567333</td>\n",
              "      <td>6.859667</td>\n",
              "      <td>1.367000</td>\n",
              "      <td>364.503167</td>\n",
              "      <td>79025.966667</td>\n",
              "      <td>-7.0</td>\n",
              "      <td>65.4</td>\n",
              "      <td>NaN</td>\n",
              "      <td>NaN</td>\n",
              "      <td>NaN</td>\n",
              "    </tr>\n",
              "    <tr>\n",
              "      <th>0 days 00:30:00</th>\n",
              "      <td>-6.374333</td>\n",
              "      <td>0.948333</td>\n",
              "      <td>0.779000</td>\n",
              "      <td>6.282333</td>\n",
              "      <td>171.273333</td>\n",
              "      <td>7.420333</td>\n",
              "      <td>0.981333</td>\n",
              "      <td>346.053333</td>\n",
              "      <td>58734.716667</td>\n",
              "      <td>-8.5</td>\n",
              "      <td>65.4</td>\n",
              "      <td>NaN</td>\n",
              "      <td>NaN</td>\n",
              "      <td>NaN</td>\n",
              "    </tr>\n",
              "    <tr>\n",
              "      <th>0 days 01:00:00</th>\n",
              "      <td>-6.470333</td>\n",
              "      <td>0.367333</td>\n",
              "      <td>1.320333</td>\n",
              "      <td>10.937333</td>\n",
              "      <td>177.403333</td>\n",
              "      <td>7.033000</td>\n",
              "      <td>1.002333</td>\n",
              "      <td>337.884667</td>\n",
              "      <td>78864.695238</td>\n",
              "      <td>-10.0</td>\n",
              "      <td>65.4</td>\n",
              "      <td>NaN</td>\n",
              "      <td>NaN</td>\n",
              "      <td>NaN</td>\n",
              "    </tr>\n",
              "    <tr>\n",
              "      <th>0 days 01:30:00</th>\n",
              "      <td>-6.917333</td>\n",
              "      <td>1.165667</td>\n",
              "      <td>1.210000</td>\n",
              "      <td>9.429333</td>\n",
              "      <td>171.132333</td>\n",
              "      <td>7.536667</td>\n",
              "      <td>0.629500</td>\n",
              "      <td>322.276500</td>\n",
              "      <td>25541.754762</td>\n",
              "      <td>-10.0</td>\n",
              "      <td>65.4</td>\n",
              "      <td>NaN</td>\n",
              "      <td>NaN</td>\n",
              "      <td>NaN</td>\n",
              "    </tr>\n",
              "    <tr>\n",
              "      <th>0 days 02:00:00</th>\n",
              "      <td>-7.215000</td>\n",
              "      <td>0.885333</td>\n",
              "      <td>2.135667</td>\n",
              "      <td>15.792667</td>\n",
              "      <td>173.602333</td>\n",
              "      <td>7.857333</td>\n",
              "      <td>1.021833</td>\n",
              "      <td>331.417833</td>\n",
              "      <td>55013.433333</td>\n",
              "      <td>-10.0</td>\n",
              "      <td>65.4</td>\n",
              "      <td>NaN</td>\n",
              "      <td>NaN</td>\n",
              "      <td>NaN</td>\n",
              "    </tr>\n",
              "  </tbody>\n",
              "</table>\n",
              "</div>"
            ],
            "text/plain": [
              "                           bx_gse    by_gse  ...  gse_y_ace  gse_z_ace\n",
              "period  timedelta                            ...                      \n",
              "train_a 0 days 00:00:00 -5.924667  2.342667  ...        NaN        NaN\n",
              "        0 days 00:30:00 -6.374333  0.948333  ...        NaN        NaN\n",
              "        0 days 01:00:00 -6.470333  0.367333  ...        NaN        NaN\n",
              "        0 days 01:30:00 -6.917333  1.165667  ...        NaN        NaN\n",
              "        0 days 02:00:00 -7.215000  0.885333  ...        NaN        NaN\n",
              "\n",
              "[5 rows x 14 columns]"
            ]
          },
          "metadata": {
            "tags": []
          }
        }
      ]
    },
    {
      "cell_type": "code",
      "metadata": {
        "colab": {
          "base_uri": "https://localhost:8080/"
        },
        "id": "jaeIXevH2Wja",
        "outputId": "cbd23b8e-7407-484f-93ce-31dd4f48c163"
      },
      "source": [
        "print (\"shape of all:\", sw_agg.shape, dst.shape,sw_dst.shape, sat_pos.shape, df_final.shape)"
      ],
      "execution_count": 156,
      "outputs": [
        {
          "output_type": "stream",
          "text": [
            "shape of all: (279744, 9) (279741, 1) (279744, 10) (5828, 3) (279744, 14)\n"
          ],
          "name": "stdout"
        }
      ]
    },
    {
      "cell_type": "code",
      "metadata": {
        "id": "3R1OHbMt2a7P"
      },
      "source": [
        "def agg_std(final, sw, sample_res):\r\n",
        "    cols_to_keep = ['by_gse', 'bz_gse', 'bt', 'density', 'speed']\r\n",
        "    sw = sw[cols_to_keep]\r\n",
        "    \r\n",
        "    sw = sw.reset_index(level='period')\r\n",
        "    sw.index=pd.to_timedelta(sw.index)\r\n",
        "    sw = sw.groupby('period').resample(sample_res).std()\r\n",
        "    \r\n",
        "    # rename the columns for the std\r\n",
        "    columns = [c+'_std' for c in sw.columns]\r\n",
        "    sw.columns = columns\r\n",
        "\r\n",
        "    df = final.join(sw)\r\n",
        "    return df"
      ],
      "execution_count": 157,
      "outputs": []
    },
    {
      "cell_type": "code",
      "metadata": {
        "id": "d-N0XmO42jX1"
      },
      "source": [
        "df_final = agg_std(df_final, solar_wind, '30T')\r\n"
      ],
      "execution_count": 158,
      "outputs": []
    },
    {
      "cell_type": "code",
      "metadata": {
        "id": "seDPqbc226Sn"
      },
      "source": [
        "df_to_save = df_final.reset_index(level='period')"
      ],
      "execution_count": 159,
      "outputs": []
    },
    {
      "cell_type": "code",
      "metadata": {
        "colab": {
          "base_uri": "https://localhost:8080/",
          "height": 626
        },
        "id": "zZEcddg43j0-",
        "outputId": "4ced8fe4-32d7-49dc-aa43-ca424dd06f7b"
      },
      "source": [
        "data_info(df_to_save)"
      ],
      "execution_count": 160,
      "outputs": [
        {
          "output_type": "stream",
          "text": [
            "shape of the data dst_labs: (279744, 20)\n",
            "Null values: period               0\n",
            "bx_gse               0\n",
            "by_gse               0\n",
            "bz_gse               0\n",
            "theta_gse            0\n",
            "phi_gse              0\n",
            "bt                   0\n",
            "density              0\n",
            "speed                0\n",
            "temperature          0\n",
            "dst                  0\n",
            "smoothed_ssn         0\n",
            "gse_x_ace       279744\n",
            "gse_y_ace       279744\n",
            "gse_z_ace       279744\n",
            "by_gse_std           0\n",
            "bz_gse_std           0\n",
            "bt_std               0\n",
            "density_std          0\n",
            "speed_std            0\n",
            "dtype: int64\n",
            "Total null values sanity check: 839232\n"
          ],
          "name": "stdout"
        },
        {
          "output_type": "display_data",
          "data": {
            "text/html": [
              "<div>\n",
              "<style scoped>\n",
              "    .dataframe tbody tr th:only-of-type {\n",
              "        vertical-align: middle;\n",
              "    }\n",
              "\n",
              "    .dataframe tbody tr th {\n",
              "        vertical-align: top;\n",
              "    }\n",
              "\n",
              "    .dataframe thead th {\n",
              "        text-align: right;\n",
              "    }\n",
              "</style>\n",
              "<table border=\"1\" class=\"dataframe\">\n",
              "  <thead>\n",
              "    <tr style=\"text-align: right;\">\n",
              "      <th></th>\n",
              "      <th>period</th>\n",
              "      <th>bx_gse</th>\n",
              "      <th>by_gse</th>\n",
              "      <th>bz_gse</th>\n",
              "      <th>theta_gse</th>\n",
              "      <th>phi_gse</th>\n",
              "      <th>bt</th>\n",
              "      <th>density</th>\n",
              "      <th>speed</th>\n",
              "      <th>temperature</th>\n",
              "      <th>dst</th>\n",
              "      <th>smoothed_ssn</th>\n",
              "      <th>gse_x_ace</th>\n",
              "      <th>gse_y_ace</th>\n",
              "      <th>gse_z_ace</th>\n",
              "      <th>by_gse_std</th>\n",
              "      <th>bz_gse_std</th>\n",
              "      <th>bt_std</th>\n",
              "      <th>density_std</th>\n",
              "      <th>speed_std</th>\n",
              "    </tr>\n",
              "    <tr>\n",
              "      <th>timedelta</th>\n",
              "      <th></th>\n",
              "      <th></th>\n",
              "      <th></th>\n",
              "      <th></th>\n",
              "      <th></th>\n",
              "      <th></th>\n",
              "      <th></th>\n",
              "      <th></th>\n",
              "      <th></th>\n",
              "      <th></th>\n",
              "      <th></th>\n",
              "      <th></th>\n",
              "      <th></th>\n",
              "      <th></th>\n",
              "      <th></th>\n",
              "      <th></th>\n",
              "      <th></th>\n",
              "      <th></th>\n",
              "      <th></th>\n",
              "      <th></th>\n",
              "    </tr>\n",
              "  </thead>\n",
              "  <tbody>\n",
              "    <tr>\n",
              "      <th>0 days 00:00:00</th>\n",
              "      <td>train_a</td>\n",
              "      <td>-5.924667</td>\n",
              "      <td>2.342667</td>\n",
              "      <td>0.910333</td>\n",
              "      <td>7.925000</td>\n",
              "      <td>159.567333</td>\n",
              "      <td>6.859667</td>\n",
              "      <td>1.367000</td>\n",
              "      <td>364.503167</td>\n",
              "      <td>79025.966667</td>\n",
              "      <td>-7.0</td>\n",
              "      <td>65.4</td>\n",
              "      <td>NaN</td>\n",
              "      <td>NaN</td>\n",
              "      <td>NaN</td>\n",
              "      <td>0.840020</td>\n",
              "      <td>0.572162</td>\n",
              "      <td>0.130740</td>\n",
              "      <td>0.547849</td>\n",
              "      <td>15.541244</td>\n",
              "    </tr>\n",
              "    <tr>\n",
              "      <th>0 days 00:30:00</th>\n",
              "      <td>train_a</td>\n",
              "      <td>-6.374333</td>\n",
              "      <td>0.948333</td>\n",
              "      <td>0.779000</td>\n",
              "      <td>6.282333</td>\n",
              "      <td>171.273333</td>\n",
              "      <td>7.420333</td>\n",
              "      <td>0.981333</td>\n",
              "      <td>346.053333</td>\n",
              "      <td>58734.716667</td>\n",
              "      <td>-8.5</td>\n",
              "      <td>65.4</td>\n",
              "      <td>NaN</td>\n",
              "      <td>NaN</td>\n",
              "      <td>NaN</td>\n",
              "      <td>1.157813</td>\n",
              "      <td>0.590063</td>\n",
              "      <td>2.252674</td>\n",
              "      <td>0.301635</td>\n",
              "      <td>6.458380</td>\n",
              "    </tr>\n",
              "    <tr>\n",
              "      <th>0 days 01:00:00</th>\n",
              "      <td>train_a</td>\n",
              "      <td>-6.470333</td>\n",
              "      <td>0.367333</td>\n",
              "      <td>1.320333</td>\n",
              "      <td>10.937333</td>\n",
              "      <td>177.403333</td>\n",
              "      <td>7.033000</td>\n",
              "      <td>1.002333</td>\n",
              "      <td>337.884667</td>\n",
              "      <td>78864.695238</td>\n",
              "      <td>-10.0</td>\n",
              "      <td>65.4</td>\n",
              "      <td>NaN</td>\n",
              "      <td>NaN</td>\n",
              "      <td>NaN</td>\n",
              "      <td>1.016647</td>\n",
              "      <td>0.726130</td>\n",
              "      <td>0.057304</td>\n",
              "      <td>0.776280</td>\n",
              "      <td>18.121221</td>\n",
              "    </tr>\n",
              "    <tr>\n",
              "      <th>0 days 01:30:00</th>\n",
              "      <td>train_a</td>\n",
              "      <td>-6.917333</td>\n",
              "      <td>1.165667</td>\n",
              "      <td>1.210000</td>\n",
              "      <td>9.429333</td>\n",
              "      <td>171.132333</td>\n",
              "      <td>7.536667</td>\n",
              "      <td>0.629500</td>\n",
              "      <td>322.276500</td>\n",
              "      <td>25541.754762</td>\n",
              "      <td>-10.0</td>\n",
              "      <td>65.4</td>\n",
              "      <td>NaN</td>\n",
              "      <td>NaN</td>\n",
              "      <td>NaN</td>\n",
              "      <td>0.557492</td>\n",
              "      <td>0.744590</td>\n",
              "      <td>0.284221</td>\n",
              "      <td>0.563681</td>\n",
              "      <td>12.154256</td>\n",
              "    </tr>\n",
              "    <tr>\n",
              "      <th>0 days 02:00:00</th>\n",
              "      <td>train_a</td>\n",
              "      <td>-7.215000</td>\n",
              "      <td>0.885333</td>\n",
              "      <td>2.135667</td>\n",
              "      <td>15.792667</td>\n",
              "      <td>173.602333</td>\n",
              "      <td>7.857333</td>\n",
              "      <td>1.021833</td>\n",
              "      <td>331.417833</td>\n",
              "      <td>55013.433333</td>\n",
              "      <td>-10.0</td>\n",
              "      <td>65.4</td>\n",
              "      <td>NaN</td>\n",
              "      <td>NaN</td>\n",
              "      <td>NaN</td>\n",
              "      <td>0.234605</td>\n",
              "      <td>0.209428</td>\n",
              "      <td>0.035905</td>\n",
              "      <td>0.499259</td>\n",
              "      <td>10.972320</td>\n",
              "    </tr>\n",
              "  </tbody>\n",
              "</table>\n",
              "</div>"
            ],
            "text/plain": [
              "                  period    bx_gse    by_gse  ...    bt_std  density_std  speed_std\n",
              "timedelta                                     ...                                  \n",
              "0 days 00:00:00  train_a -5.924667  2.342667  ...  0.130740     0.547849  15.541244\n",
              "0 days 00:30:00  train_a -6.374333  0.948333  ...  2.252674     0.301635   6.458380\n",
              "0 days 01:00:00  train_a -6.470333  0.367333  ...  0.057304     0.776280  18.121221\n",
              "0 days 01:30:00  train_a -6.917333  1.165667  ...  0.284221     0.563681  12.154256\n",
              "0 days 02:00:00  train_a -7.215000  0.885333  ...  0.035905     0.499259  10.972320\n",
              "\n",
              "[5 rows x 20 columns]"
            ]
          },
          "metadata": {
            "tags": []
          }
        }
      ]
    },
    {
      "cell_type": "code",
      "metadata": {
        "id": "yb4l_KPe3pTK"
      },
      "source": [
        "df_to_save.to_csv('/content/drive/MyDrive/Colab Notebooks/MagNet/30min.csv')"
      ],
      "execution_count": 161,
      "outputs": []
    },
    {
      "cell_type": "code",
      "metadata": {
        "id": "ES-c94RG3uh1"
      },
      "source": [
        ""
      ],
      "execution_count": 161,
      "outputs": []
    }
  ]
}