{
 "cells": [
  {
   "cell_type": "markdown",
   "metadata": {
    "colab_type": "text",
    "id": "view-in-github"
   },
   "source": [
    "<a href=\"https://colab.research.google.com/github/Pythonyatra/MagNet/blob/main/Sample_Resolution.ipynb\" target=\"_parent\"><img src=\"https://colab.research.google.com/assets/colab-badge.svg\" alt=\"Open In Colab\"/></a>"
   ]
  },
  {
   "cell_type": "code",
   "execution_count": 1,
   "metadata": {
    "colab": {
     "base_uri": "https://localhost:8080/"
    },
    "id": "srYtwU74y-Qs",
    "outputId": "c2f6c7aa-9c4d-4400-8b79-4adaec93b5e8"
   },
   "outputs": [],
   "source": [
    "# from google.colab import drive\n",
    "# drive.mount('/content/drive')"
   ]
  },
  {
   "cell_type": "code",
   "execution_count": 2,
   "metadata": {
    "id": "vzxPepEXzD5C"
   },
   "outputs": [],
   "source": [
    "folder = '/Users/shovitraj/Github/Python/MagNet_data'"
   ]
  },
  {
   "cell_type": "markdown",
   "metadata": {
    "id": "MCwHqd8qzVcW"
   },
   "source": [
    "### Calling Libraries"
   ]
  },
  {
   "cell_type": "code",
   "execution_count": 3,
   "metadata": {
    "id": "qqXFSCGXzRto"
   },
   "outputs": [],
   "source": [
    "import numpy as np\n",
    "import pandas as pd\n",
    "import matplotlib.pyplot as plt\n",
    "import sys, os"
   ]
  },
  {
   "cell_type": "markdown",
   "metadata": {
    "id": "T1iOgSVgzcY0"
   },
   "source": [
    "### Loading Data"
   ]
  },
  {
   "cell_type": "code",
   "execution_count": 4,
   "metadata": {
    "id": "Gqh5_TBEzewW"
   },
   "outputs": [],
   "source": [
    "sunspots=pd.read_csv(os.path.join(folder, \"sunspots.csv\"), index_col=[\"period\", \"timedelta\"],)\n",
    "sat_pos = pd.read_csv(os.path.join(folder, \"satellite_positions.csv\"), index_col=[\"period\", \"timedelta\"],)\n",
    "dst = pd.read_csv(os.path.join(folder, \"dst_labels.csv\"), index_col=[\"period\", \"timedelta\"],)\n",
    "solar_wind = pd.read_csv(os.path.join(folder, \"solar_wind.csv\"),index_col=[\"period\", \"timedelta\"],)"
   ]
  },
  {
   "cell_type": "markdown",
   "metadata": {
    "id": "F1TzI0VJzj-t"
   },
   "source": [
    "### Function to summarize info"
   ]
  },
  {
   "cell_type": "code",
   "execution_count": 5,
   "metadata": {
    "id": "OlAd8lcKzl8-"
   },
   "outputs": [],
   "source": [
    "def data_info(df):\n",
    "  print (\"shape of the data dst_labs:\", df.shape)\n",
    "  print (\"Null values:\", df.isnull().sum())\n",
    "  print (\"Total null values sanity check:\", df.isnull().sum().sum())\n",
    "  display(df.head())"
   ]
  },
  {
   "cell_type": "markdown",
   "metadata": {
    "id": "ie9J4oOtz3eK"
   },
   "source": [
    "#### Function to resample all dataframes\n",
    "[Resample Help](https://www.w3resource.com/pandas/series/series-resample.php)  \n",
    "Have to reset index"
   ]
  },
  {
   "cell_type": "code",
   "execution_count": 6,
   "metadata": {
    "id": "8kO9pfjxz0BA"
   },
   "outputs": [],
   "source": [
    "def uri(df, sample_res):\n",
    "    df = df.reset_index(level='period')\n",
    "    df.index=pd.to_timedelta(df.index)\n",
    "    return df.groupby('period').resample(sample_res).mean()"
   ]
  },
  {
   "cell_type": "markdown",
   "metadata": {
    "id": "KJvsrHtQz_Hh"
   },
   "source": [
    "### Solar Wind interpolation and aggregation"
   ]
  },
  {
   "cell_type": "code",
   "execution_count": 7,
   "metadata": {
    "colab": {
     "base_uri": "https://localhost:8080/",
     "height": 541
    },
    "id": "GPO9FDrAz9fn",
    "outputId": "b1e7020b-ea22-4edb-b223-1b69b030b825"
   },
   "outputs": [
    {
     "name": "stdout",
     "output_type": "stream",
     "text": [
      "shape of the data dst_labs: (8392320, 15)\n",
      "Null values: bx_gse         325888\n",
      "by_gse         325888\n",
      "bz_gse         325888\n",
      "theta_gse      325888\n",
      "phi_gse        326388\n",
      "bx_gsm         325888\n",
      "by_gsm         325888\n",
      "bz_gsm         325888\n",
      "theta_gsm      325888\n",
      "phi_gsm        326388\n",
      "bt             325888\n",
      "density        684890\n",
      "speed          689555\n",
      "temperature    811768\n",
      "source         316816\n",
      "dtype: int64\n",
      "Total null values sanity check: 6088797\n"
     ]
    },
    {
     "data": {
      "text/html": [
       "<div>\n",
       "<style scoped>\n",
       "    .dataframe tbody tr th:only-of-type {\n",
       "        vertical-align: middle;\n",
       "    }\n",
       "\n",
       "    .dataframe tbody tr th {\n",
       "        vertical-align: top;\n",
       "    }\n",
       "\n",
       "    .dataframe thead th {\n",
       "        text-align: right;\n",
       "    }\n",
       "</style>\n",
       "<table border=\"1\" class=\"dataframe\">\n",
       "  <thead>\n",
       "    <tr style=\"text-align: right;\">\n",
       "      <th></th>\n",
       "      <th></th>\n",
       "      <th>bx_gse</th>\n",
       "      <th>by_gse</th>\n",
       "      <th>bz_gse</th>\n",
       "      <th>theta_gse</th>\n",
       "      <th>phi_gse</th>\n",
       "      <th>bx_gsm</th>\n",
       "      <th>by_gsm</th>\n",
       "      <th>bz_gsm</th>\n",
       "      <th>theta_gsm</th>\n",
       "      <th>phi_gsm</th>\n",
       "      <th>bt</th>\n",
       "      <th>density</th>\n",
       "      <th>speed</th>\n",
       "      <th>temperature</th>\n",
       "      <th>source</th>\n",
       "    </tr>\n",
       "    <tr>\n",
       "      <th>period</th>\n",
       "      <th>timedelta</th>\n",
       "      <th></th>\n",
       "      <th></th>\n",
       "      <th></th>\n",
       "      <th></th>\n",
       "      <th></th>\n",
       "      <th></th>\n",
       "      <th></th>\n",
       "      <th></th>\n",
       "      <th></th>\n",
       "      <th></th>\n",
       "      <th></th>\n",
       "      <th></th>\n",
       "      <th></th>\n",
       "      <th></th>\n",
       "      <th></th>\n",
       "    </tr>\n",
       "  </thead>\n",
       "  <tbody>\n",
       "    <tr>\n",
       "      <th rowspan=\"5\" valign=\"top\">train_a</th>\n",
       "      <th>0 days 00:00:00</th>\n",
       "      <td>-5.55</td>\n",
       "      <td>3.00</td>\n",
       "      <td>1.25</td>\n",
       "      <td>11.09</td>\n",
       "      <td>153.37</td>\n",
       "      <td>-5.55</td>\n",
       "      <td>3.00</td>\n",
       "      <td>1.25</td>\n",
       "      <td>11.09</td>\n",
       "      <td>153.37</td>\n",
       "      <td>6.80</td>\n",
       "      <td>1.53</td>\n",
       "      <td>383.92</td>\n",
       "      <td>110237.0</td>\n",
       "      <td>ac</td>\n",
       "    </tr>\n",
       "    <tr>\n",
       "      <th>0 days 00:01:00</th>\n",
       "      <td>-5.58</td>\n",
       "      <td>3.16</td>\n",
       "      <td>1.17</td>\n",
       "      <td>10.10</td>\n",
       "      <td>151.91</td>\n",
       "      <td>-5.58</td>\n",
       "      <td>3.16</td>\n",
       "      <td>1.17</td>\n",
       "      <td>10.10</td>\n",
       "      <td>151.91</td>\n",
       "      <td>6.83</td>\n",
       "      <td>1.69</td>\n",
       "      <td>381.79</td>\n",
       "      <td>123825.0</td>\n",
       "      <td>ac</td>\n",
       "    </tr>\n",
       "    <tr>\n",
       "      <th>0 days 00:02:00</th>\n",
       "      <td>-5.15</td>\n",
       "      <td>3.66</td>\n",
       "      <td>0.85</td>\n",
       "      <td>7.87</td>\n",
       "      <td>146.04</td>\n",
       "      <td>-5.15</td>\n",
       "      <td>3.66</td>\n",
       "      <td>0.85</td>\n",
       "      <td>7.87</td>\n",
       "      <td>146.04</td>\n",
       "      <td>6.77</td>\n",
       "      <td>1.97</td>\n",
       "      <td>389.11</td>\n",
       "      <td>82548.0</td>\n",
       "      <td>ac</td>\n",
       "    </tr>\n",
       "    <tr>\n",
       "      <th>0 days 00:03:00</th>\n",
       "      <td>-5.20</td>\n",
       "      <td>3.68</td>\n",
       "      <td>0.68</td>\n",
       "      <td>6.17</td>\n",
       "      <td>146.17</td>\n",
       "      <td>-5.20</td>\n",
       "      <td>3.68</td>\n",
       "      <td>0.68</td>\n",
       "      <td>6.17</td>\n",
       "      <td>146.17</td>\n",
       "      <td>6.74</td>\n",
       "      <td>1.97</td>\n",
       "      <td>389.11</td>\n",
       "      <td>82548.0</td>\n",
       "      <td>ac</td>\n",
       "    </tr>\n",
       "    <tr>\n",
       "      <th>0 days 00:04:00</th>\n",
       "      <td>-5.12</td>\n",
       "      <td>3.68</td>\n",
       "      <td>0.49</td>\n",
       "      <td>4.62</td>\n",
       "      <td>145.72</td>\n",
       "      <td>-5.12</td>\n",
       "      <td>3.68</td>\n",
       "      <td>0.49</td>\n",
       "      <td>4.62</td>\n",
       "      <td>145.72</td>\n",
       "      <td>6.65</td>\n",
       "      <td>1.77</td>\n",
       "      <td>384.26</td>\n",
       "      <td>94269.0</td>\n",
       "      <td>ac</td>\n",
       "    </tr>\n",
       "  </tbody>\n",
       "</table>\n",
       "</div>"
      ],
      "text/plain": [
       "                         bx_gse  by_gse  bz_gse  theta_gse  phi_gse  bx_gsm  \\\n",
       "period  timedelta                                                             \n",
       "train_a 0 days 00:00:00   -5.55    3.00    1.25      11.09   153.37   -5.55   \n",
       "        0 days 00:01:00   -5.58    3.16    1.17      10.10   151.91   -5.58   \n",
       "        0 days 00:02:00   -5.15    3.66    0.85       7.87   146.04   -5.15   \n",
       "        0 days 00:03:00   -5.20    3.68    0.68       6.17   146.17   -5.20   \n",
       "        0 days 00:04:00   -5.12    3.68    0.49       4.62   145.72   -5.12   \n",
       "\n",
       "                         by_gsm  bz_gsm  theta_gsm  phi_gsm    bt  density  \\\n",
       "period  timedelta                                                            \n",
       "train_a 0 days 00:00:00    3.00    1.25      11.09   153.37  6.80     1.53   \n",
       "        0 days 00:01:00    3.16    1.17      10.10   151.91  6.83     1.69   \n",
       "        0 days 00:02:00    3.66    0.85       7.87   146.04  6.77     1.97   \n",
       "        0 days 00:03:00    3.68    0.68       6.17   146.17  6.74     1.97   \n",
       "        0 days 00:04:00    3.68    0.49       4.62   145.72  6.65     1.77   \n",
       "\n",
       "                          speed  temperature source  \n",
       "period  timedelta                                    \n",
       "train_a 0 days 00:00:00  383.92     110237.0     ac  \n",
       "        0 days 00:01:00  381.79     123825.0     ac  \n",
       "        0 days 00:02:00  389.11      82548.0     ac  \n",
       "        0 days 00:03:00  389.11      82548.0     ac  \n",
       "        0 days 00:04:00  384.26      94269.0     ac  "
      ]
     },
     "metadata": {},
     "output_type": "display_data"
    }
   ],
   "source": [
    "data_info(solar_wind)"
   ]
  },
  {
   "cell_type": "markdown",
   "metadata": {
    "id": "VjG2sJ7l0LWv"
   },
   "source": [
    "#### Drop unnecessary columns from the solar wind data"
   ]
  },
  {
   "cell_type": "code",
   "execution_count": 8,
   "metadata": {
    "id": "diKiaQc-0F64"
   },
   "outputs": [],
   "source": [
    "cols_to_drop= ['bx_gsm','by_gsm', 'bz_gsm', 'theta_gsm', 'phi_gsm', 'source']\n",
    "solar_wind.drop(cols_to_drop, axis=1, inplace=True)\n"
   ]
  },
  {
   "cell_type": "code",
   "execution_count": 9,
   "metadata": {
    "colab": {
     "base_uri": "https://localhost:8080/"
    },
    "id": "safU_ssh0Wyd",
    "outputId": "af2203d8-3fc1-49d2-b4ba-701905a81882"
   },
   "outputs": [
    {
     "name": "stdout",
     "output_type": "stream",
     "text": [
      "The Null values in the data:\n",
      " bx_gse         325888\n",
      "by_gse         325888\n",
      "bz_gse         325888\n",
      "theta_gse      325888\n",
      "phi_gse        326388\n",
      "bt             325888\n",
      "density        684890\n",
      "speed          689555\n",
      "temperature    811768\n",
      "dtype: int64\n"
     ]
    }
   ],
   "source": [
    "print (\"The Null values in the data:\\n\", solar_wind.isnull().sum())"
   ]
  },
  {
   "cell_type": "code",
   "execution_count": 10,
   "metadata": {
    "id": "-Z_3bgph0Z8q"
   },
   "outputs": [],
   "source": [
    "solar_wind.interpolate(method='linear', limit_direction='forward', axis=0, inplace=True)"
   ]
  },
  {
   "cell_type": "code",
   "execution_count": 11,
   "metadata": {
    "colab": {
     "base_uri": "https://localhost:8080/",
     "height": 439
    },
    "id": "jOiNHb3Q0c04",
    "outputId": "5f2a162b-352b-4f9b-df67-536b4820bb11"
   },
   "outputs": [
    {
     "name": "stdout",
     "output_type": "stream",
     "text": [
      "shape of the data dst_labs: (8392320, 9)\n",
      "Null values: bx_gse         0\n",
      "by_gse         0\n",
      "bz_gse         0\n",
      "theta_gse      0\n",
      "phi_gse        0\n",
      "bt             0\n",
      "density        0\n",
      "speed          0\n",
      "temperature    0\n",
      "dtype: int64\n",
      "Total null values sanity check: 0\n"
     ]
    },
    {
     "data": {
      "text/html": [
       "<div>\n",
       "<style scoped>\n",
       "    .dataframe tbody tr th:only-of-type {\n",
       "        vertical-align: middle;\n",
       "    }\n",
       "\n",
       "    .dataframe tbody tr th {\n",
       "        vertical-align: top;\n",
       "    }\n",
       "\n",
       "    .dataframe thead th {\n",
       "        text-align: right;\n",
       "    }\n",
       "</style>\n",
       "<table border=\"1\" class=\"dataframe\">\n",
       "  <thead>\n",
       "    <tr style=\"text-align: right;\">\n",
       "      <th></th>\n",
       "      <th></th>\n",
       "      <th>bx_gse</th>\n",
       "      <th>by_gse</th>\n",
       "      <th>bz_gse</th>\n",
       "      <th>theta_gse</th>\n",
       "      <th>phi_gse</th>\n",
       "      <th>bt</th>\n",
       "      <th>density</th>\n",
       "      <th>speed</th>\n",
       "      <th>temperature</th>\n",
       "    </tr>\n",
       "    <tr>\n",
       "      <th>period</th>\n",
       "      <th>timedelta</th>\n",
       "      <th></th>\n",
       "      <th></th>\n",
       "      <th></th>\n",
       "      <th></th>\n",
       "      <th></th>\n",
       "      <th></th>\n",
       "      <th></th>\n",
       "      <th></th>\n",
       "      <th></th>\n",
       "    </tr>\n",
       "  </thead>\n",
       "  <tbody>\n",
       "    <tr>\n",
       "      <th rowspan=\"5\" valign=\"top\">train_a</th>\n",
       "      <th>0 days 00:00:00</th>\n",
       "      <td>-5.55</td>\n",
       "      <td>3.00</td>\n",
       "      <td>1.25</td>\n",
       "      <td>11.09</td>\n",
       "      <td>153.37</td>\n",
       "      <td>6.80</td>\n",
       "      <td>1.53</td>\n",
       "      <td>383.92</td>\n",
       "      <td>110237.0</td>\n",
       "    </tr>\n",
       "    <tr>\n",
       "      <th>0 days 00:01:00</th>\n",
       "      <td>-5.58</td>\n",
       "      <td>3.16</td>\n",
       "      <td>1.17</td>\n",
       "      <td>10.10</td>\n",
       "      <td>151.91</td>\n",
       "      <td>6.83</td>\n",
       "      <td>1.69</td>\n",
       "      <td>381.79</td>\n",
       "      <td>123825.0</td>\n",
       "    </tr>\n",
       "    <tr>\n",
       "      <th>0 days 00:02:00</th>\n",
       "      <td>-5.15</td>\n",
       "      <td>3.66</td>\n",
       "      <td>0.85</td>\n",
       "      <td>7.87</td>\n",
       "      <td>146.04</td>\n",
       "      <td>6.77</td>\n",
       "      <td>1.97</td>\n",
       "      <td>389.11</td>\n",
       "      <td>82548.0</td>\n",
       "    </tr>\n",
       "    <tr>\n",
       "      <th>0 days 00:03:00</th>\n",
       "      <td>-5.20</td>\n",
       "      <td>3.68</td>\n",
       "      <td>0.68</td>\n",
       "      <td>6.17</td>\n",
       "      <td>146.17</td>\n",
       "      <td>6.74</td>\n",
       "      <td>1.97</td>\n",
       "      <td>389.11</td>\n",
       "      <td>82548.0</td>\n",
       "    </tr>\n",
       "    <tr>\n",
       "      <th>0 days 00:04:00</th>\n",
       "      <td>-5.12</td>\n",
       "      <td>3.68</td>\n",
       "      <td>0.49</td>\n",
       "      <td>4.62</td>\n",
       "      <td>145.72</td>\n",
       "      <td>6.65</td>\n",
       "      <td>1.77</td>\n",
       "      <td>384.26</td>\n",
       "      <td>94269.0</td>\n",
       "    </tr>\n",
       "  </tbody>\n",
       "</table>\n",
       "</div>"
      ],
      "text/plain": [
       "                         bx_gse  by_gse  bz_gse  theta_gse  phi_gse    bt  \\\n",
       "period  timedelta                                                           \n",
       "train_a 0 days 00:00:00   -5.55    3.00    1.25      11.09   153.37  6.80   \n",
       "        0 days 00:01:00   -5.58    3.16    1.17      10.10   151.91  6.83   \n",
       "        0 days 00:02:00   -5.15    3.66    0.85       7.87   146.04  6.77   \n",
       "        0 days 00:03:00   -5.20    3.68    0.68       6.17   146.17  6.74   \n",
       "        0 days 00:04:00   -5.12    3.68    0.49       4.62   145.72  6.65   \n",
       "\n",
       "                         density   speed  temperature  \n",
       "period  timedelta                                      \n",
       "train_a 0 days 00:00:00     1.53  383.92     110237.0  \n",
       "        0 days 00:01:00     1.69  381.79     123825.0  \n",
       "        0 days 00:02:00     1.97  389.11      82548.0  \n",
       "        0 days 00:03:00     1.97  389.11      82548.0  \n",
       "        0 days 00:04:00     1.77  384.26      94269.0  "
      ]
     },
     "metadata": {},
     "output_type": "display_data"
    }
   ],
   "source": [
    "data_info(solar_wind)"
   ]
  },
  {
   "cell_type": "code",
   "execution_count": 12,
   "metadata": {
    "id": "aUi5OW450h2M"
   },
   "outputs": [],
   "source": [
    "sw_agg=uri(solar_wind, '30T')"
   ]
  },
  {
   "cell_type": "code",
   "execution_count": 13,
   "metadata": {
    "colab": {
     "base_uri": "https://localhost:8080/",
     "height": 439
    },
    "id": "1k4o33bk0lya",
    "outputId": "0694fd6f-2bd2-420b-9eeb-687515ccf76d"
   },
   "outputs": [
    {
     "name": "stdout",
     "output_type": "stream",
     "text": [
      "shape of the data dst_labs: (279744, 9)\n",
      "Null values: bx_gse         0\n",
      "by_gse         0\n",
      "bz_gse         0\n",
      "theta_gse      0\n",
      "phi_gse        0\n",
      "bt             0\n",
      "density        0\n",
      "speed          0\n",
      "temperature    0\n",
      "dtype: int64\n",
      "Total null values sanity check: 0\n"
     ]
    },
    {
     "data": {
      "text/html": [
       "<div>\n",
       "<style scoped>\n",
       "    .dataframe tbody tr th:only-of-type {\n",
       "        vertical-align: middle;\n",
       "    }\n",
       "\n",
       "    .dataframe tbody tr th {\n",
       "        vertical-align: top;\n",
       "    }\n",
       "\n",
       "    .dataframe thead th {\n",
       "        text-align: right;\n",
       "    }\n",
       "</style>\n",
       "<table border=\"1\" class=\"dataframe\">\n",
       "  <thead>\n",
       "    <tr style=\"text-align: right;\">\n",
       "      <th></th>\n",
       "      <th></th>\n",
       "      <th>bx_gse</th>\n",
       "      <th>by_gse</th>\n",
       "      <th>bz_gse</th>\n",
       "      <th>theta_gse</th>\n",
       "      <th>phi_gse</th>\n",
       "      <th>bt</th>\n",
       "      <th>density</th>\n",
       "      <th>speed</th>\n",
       "      <th>temperature</th>\n",
       "    </tr>\n",
       "    <tr>\n",
       "      <th>period</th>\n",
       "      <th>timedelta</th>\n",
       "      <th></th>\n",
       "      <th></th>\n",
       "      <th></th>\n",
       "      <th></th>\n",
       "      <th></th>\n",
       "      <th></th>\n",
       "      <th></th>\n",
       "      <th></th>\n",
       "      <th></th>\n",
       "    </tr>\n",
       "  </thead>\n",
       "  <tbody>\n",
       "    <tr>\n",
       "      <th rowspan=\"5\" valign=\"top\">train_a</th>\n",
       "      <th>0 days 00:00:00</th>\n",
       "      <td>-5.924667</td>\n",
       "      <td>2.342667</td>\n",
       "      <td>0.910333</td>\n",
       "      <td>7.925000</td>\n",
       "      <td>159.567333</td>\n",
       "      <td>6.859667</td>\n",
       "      <td>1.367000</td>\n",
       "      <td>364.503167</td>\n",
       "      <td>79025.966667</td>\n",
       "    </tr>\n",
       "    <tr>\n",
       "      <th>0 days 00:30:00</th>\n",
       "      <td>-6.374333</td>\n",
       "      <td>0.948333</td>\n",
       "      <td>0.779000</td>\n",
       "      <td>6.282333</td>\n",
       "      <td>171.273333</td>\n",
       "      <td>7.420333</td>\n",
       "      <td>0.981333</td>\n",
       "      <td>346.053333</td>\n",
       "      <td>58734.716667</td>\n",
       "    </tr>\n",
       "    <tr>\n",
       "      <th>0 days 01:00:00</th>\n",
       "      <td>-6.470333</td>\n",
       "      <td>0.367333</td>\n",
       "      <td>1.320333</td>\n",
       "      <td>10.937333</td>\n",
       "      <td>177.403333</td>\n",
       "      <td>7.033000</td>\n",
       "      <td>1.002333</td>\n",
       "      <td>337.884667</td>\n",
       "      <td>78864.695238</td>\n",
       "    </tr>\n",
       "    <tr>\n",
       "      <th>0 days 01:30:00</th>\n",
       "      <td>-6.917333</td>\n",
       "      <td>1.165667</td>\n",
       "      <td>1.210000</td>\n",
       "      <td>9.429333</td>\n",
       "      <td>171.132333</td>\n",
       "      <td>7.536667</td>\n",
       "      <td>0.629500</td>\n",
       "      <td>322.276500</td>\n",
       "      <td>25541.754762</td>\n",
       "    </tr>\n",
       "    <tr>\n",
       "      <th>0 days 02:00:00</th>\n",
       "      <td>-7.215000</td>\n",
       "      <td>0.885333</td>\n",
       "      <td>2.135667</td>\n",
       "      <td>15.792667</td>\n",
       "      <td>173.602333</td>\n",
       "      <td>7.857333</td>\n",
       "      <td>1.021833</td>\n",
       "      <td>331.417833</td>\n",
       "      <td>55013.433333</td>\n",
       "    </tr>\n",
       "  </tbody>\n",
       "</table>\n",
       "</div>"
      ],
      "text/plain": [
       "                           bx_gse    by_gse    bz_gse  theta_gse     phi_gse  \\\n",
       "period  timedelta                                                              \n",
       "train_a 0 days 00:00:00 -5.924667  2.342667  0.910333   7.925000  159.567333   \n",
       "        0 days 00:30:00 -6.374333  0.948333  0.779000   6.282333  171.273333   \n",
       "        0 days 01:00:00 -6.470333  0.367333  1.320333  10.937333  177.403333   \n",
       "        0 days 01:30:00 -6.917333  1.165667  1.210000   9.429333  171.132333   \n",
       "        0 days 02:00:00 -7.215000  0.885333  2.135667  15.792667  173.602333   \n",
       "\n",
       "                               bt   density       speed   temperature  \n",
       "period  timedelta                                                      \n",
       "train_a 0 days 00:00:00  6.859667  1.367000  364.503167  79025.966667  \n",
       "        0 days 00:30:00  7.420333  0.981333  346.053333  58734.716667  \n",
       "        0 days 01:00:00  7.033000  1.002333  337.884667  78864.695238  \n",
       "        0 days 01:30:00  7.536667  0.629500  322.276500  25541.754762  \n",
       "        0 days 02:00:00  7.857333  1.021833  331.417833  55013.433333  "
      ]
     },
     "metadata": {},
     "output_type": "display_data"
    }
   ],
   "source": [
    "data_info(sw_agg)"
   ]
  },
  {
   "cell_type": "markdown",
   "metadata": {
    "id": "zt4UdXwP0vXE"
   },
   "source": [
    "### Dst interpolation and join with the Solar Wind data"
   ]
  },
  {
   "cell_type": "code",
   "execution_count": 14,
   "metadata": {
    "colab": {
     "base_uri": "https://localhost:8080/",
     "height": 303
    },
    "id": "_bMk5Eik03L_",
    "outputId": "6726e77d-f8ca-4c3a-a067-1268accf50e9"
   },
   "outputs": [
    {
     "name": "stdout",
     "output_type": "stream",
     "text": [
      "shape of the data dst_labs: (139872, 1)\n",
      "Null values: dst    0\n",
      "dtype: int64\n",
      "Total null values sanity check: 0\n"
     ]
    },
    {
     "data": {
      "text/html": [
       "<div>\n",
       "<style scoped>\n",
       "    .dataframe tbody tr th:only-of-type {\n",
       "        vertical-align: middle;\n",
       "    }\n",
       "\n",
       "    .dataframe tbody tr th {\n",
       "        vertical-align: top;\n",
       "    }\n",
       "\n",
       "    .dataframe thead th {\n",
       "        text-align: right;\n",
       "    }\n",
       "</style>\n",
       "<table border=\"1\" class=\"dataframe\">\n",
       "  <thead>\n",
       "    <tr style=\"text-align: right;\">\n",
       "      <th></th>\n",
       "      <th></th>\n",
       "      <th>dst</th>\n",
       "    </tr>\n",
       "    <tr>\n",
       "      <th>period</th>\n",
       "      <th>timedelta</th>\n",
       "      <th></th>\n",
       "    </tr>\n",
       "  </thead>\n",
       "  <tbody>\n",
       "    <tr>\n",
       "      <th rowspan=\"5\" valign=\"top\">train_a</th>\n",
       "      <th>0 days 00:00:00</th>\n",
       "      <td>-7</td>\n",
       "    </tr>\n",
       "    <tr>\n",
       "      <th>0 days 01:00:00</th>\n",
       "      <td>-10</td>\n",
       "    </tr>\n",
       "    <tr>\n",
       "      <th>0 days 02:00:00</th>\n",
       "      <td>-10</td>\n",
       "    </tr>\n",
       "    <tr>\n",
       "      <th>0 days 03:00:00</th>\n",
       "      <td>-6</td>\n",
       "    </tr>\n",
       "    <tr>\n",
       "      <th>0 days 04:00:00</th>\n",
       "      <td>-2</td>\n",
       "    </tr>\n",
       "  </tbody>\n",
       "</table>\n",
       "</div>"
      ],
      "text/plain": [
       "                         dst\n",
       "period  timedelta           \n",
       "train_a 0 days 00:00:00   -7\n",
       "        0 days 01:00:00  -10\n",
       "        0 days 02:00:00  -10\n",
       "        0 days 03:00:00   -6\n",
       "        0 days 04:00:00   -2"
      ]
     },
     "metadata": {},
     "output_type": "display_data"
    }
   ],
   "source": [
    "data_info(dst)"
   ]
  },
  {
   "cell_type": "code",
   "execution_count": 15,
   "metadata": {
    "id": "i3EVxqvW05Dc"
   },
   "outputs": [],
   "source": [
    "dst = uri(dst, '30T')"
   ]
  },
  {
   "cell_type": "code",
   "execution_count": 16,
   "metadata": {
    "colab": {
     "base_uri": "https://localhost:8080/",
     "height": 303
    },
    "id": "sI4oJ1Q-0_CW",
    "outputId": "a2738b42-0dab-437a-a753-78743777ec3d"
   },
   "outputs": [
    {
     "name": "stdout",
     "output_type": "stream",
     "text": [
      "shape of the data dst_labs: (279741, 1)\n",
      "Null values: dst    139869\n",
      "dtype: int64\n",
      "Total null values sanity check: 139869\n"
     ]
    },
    {
     "data": {
      "text/html": [
       "<div>\n",
       "<style scoped>\n",
       "    .dataframe tbody tr th:only-of-type {\n",
       "        vertical-align: middle;\n",
       "    }\n",
       "\n",
       "    .dataframe tbody tr th {\n",
       "        vertical-align: top;\n",
       "    }\n",
       "\n",
       "    .dataframe thead th {\n",
       "        text-align: right;\n",
       "    }\n",
       "</style>\n",
       "<table border=\"1\" class=\"dataframe\">\n",
       "  <thead>\n",
       "    <tr style=\"text-align: right;\">\n",
       "      <th></th>\n",
       "      <th></th>\n",
       "      <th>dst</th>\n",
       "    </tr>\n",
       "    <tr>\n",
       "      <th>period</th>\n",
       "      <th>timedelta</th>\n",
       "      <th></th>\n",
       "    </tr>\n",
       "  </thead>\n",
       "  <tbody>\n",
       "    <tr>\n",
       "      <th rowspan=\"5\" valign=\"top\">train_a</th>\n",
       "      <th>0 days 00:00:00</th>\n",
       "      <td>-7.0</td>\n",
       "    </tr>\n",
       "    <tr>\n",
       "      <th>0 days 00:30:00</th>\n",
       "      <td>NaN</td>\n",
       "    </tr>\n",
       "    <tr>\n",
       "      <th>0 days 01:00:00</th>\n",
       "      <td>-10.0</td>\n",
       "    </tr>\n",
       "    <tr>\n",
       "      <th>0 days 01:30:00</th>\n",
       "      <td>NaN</td>\n",
       "    </tr>\n",
       "    <tr>\n",
       "      <th>0 days 02:00:00</th>\n",
       "      <td>-10.0</td>\n",
       "    </tr>\n",
       "  </tbody>\n",
       "</table>\n",
       "</div>"
      ],
      "text/plain": [
       "                          dst\n",
       "period  timedelta            \n",
       "train_a 0 days 00:00:00  -7.0\n",
       "        0 days 00:30:00   NaN\n",
       "        0 days 01:00:00 -10.0\n",
       "        0 days 01:30:00   NaN\n",
       "        0 days 02:00:00 -10.0"
      ]
     },
     "metadata": {},
     "output_type": "display_data"
    }
   ],
   "source": [
    "data_info(dst)"
   ]
  },
  {
   "cell_type": "code",
   "execution_count": 17,
   "metadata": {
    "colab": {
     "base_uri": "https://localhost:8080/",
     "height": 235
    },
    "id": "djAzjYe-1Awu",
    "outputId": "36e2b61d-16d4-4ce1-bc6e-cd896a6aaf18"
   },
   "outputs": [
    {
     "data": {
      "text/html": [
       "<div>\n",
       "<style scoped>\n",
       "    .dataframe tbody tr th:only-of-type {\n",
       "        vertical-align: middle;\n",
       "    }\n",
       "\n",
       "    .dataframe tbody tr th {\n",
       "        vertical-align: top;\n",
       "    }\n",
       "\n",
       "    .dataframe thead th {\n",
       "        text-align: right;\n",
       "    }\n",
       "</style>\n",
       "<table border=\"1\" class=\"dataframe\">\n",
       "  <thead>\n",
       "    <tr style=\"text-align: right;\">\n",
       "      <th></th>\n",
       "      <th></th>\n",
       "      <th>bx_gse</th>\n",
       "      <th>by_gse</th>\n",
       "      <th>bz_gse</th>\n",
       "      <th>theta_gse</th>\n",
       "      <th>phi_gse</th>\n",
       "      <th>bt</th>\n",
       "      <th>density</th>\n",
       "      <th>speed</th>\n",
       "      <th>temperature</th>\n",
       "      <th>dst</th>\n",
       "    </tr>\n",
       "    <tr>\n",
       "      <th>period</th>\n",
       "      <th>timedelta</th>\n",
       "      <th></th>\n",
       "      <th></th>\n",
       "      <th></th>\n",
       "      <th></th>\n",
       "      <th></th>\n",
       "      <th></th>\n",
       "      <th></th>\n",
       "      <th></th>\n",
       "      <th></th>\n",
       "      <th></th>\n",
       "    </tr>\n",
       "  </thead>\n",
       "  <tbody>\n",
       "    <tr>\n",
       "      <th rowspan=\"5\" valign=\"top\">train_a</th>\n",
       "      <th>0 days 00:00:00</th>\n",
       "      <td>-5.924667</td>\n",
       "      <td>2.342667</td>\n",
       "      <td>0.910333</td>\n",
       "      <td>7.925000</td>\n",
       "      <td>159.567333</td>\n",
       "      <td>6.859667</td>\n",
       "      <td>1.367000</td>\n",
       "      <td>364.503167</td>\n",
       "      <td>79025.966667</td>\n",
       "      <td>-7.0</td>\n",
       "    </tr>\n",
       "    <tr>\n",
       "      <th>0 days 00:30:00</th>\n",
       "      <td>-6.374333</td>\n",
       "      <td>0.948333</td>\n",
       "      <td>0.779000</td>\n",
       "      <td>6.282333</td>\n",
       "      <td>171.273333</td>\n",
       "      <td>7.420333</td>\n",
       "      <td>0.981333</td>\n",
       "      <td>346.053333</td>\n",
       "      <td>58734.716667</td>\n",
       "      <td>NaN</td>\n",
       "    </tr>\n",
       "    <tr>\n",
       "      <th>0 days 01:00:00</th>\n",
       "      <td>-6.470333</td>\n",
       "      <td>0.367333</td>\n",
       "      <td>1.320333</td>\n",
       "      <td>10.937333</td>\n",
       "      <td>177.403333</td>\n",
       "      <td>7.033000</td>\n",
       "      <td>1.002333</td>\n",
       "      <td>337.884667</td>\n",
       "      <td>78864.695238</td>\n",
       "      <td>-10.0</td>\n",
       "    </tr>\n",
       "    <tr>\n",
       "      <th>0 days 01:30:00</th>\n",
       "      <td>-6.917333</td>\n",
       "      <td>1.165667</td>\n",
       "      <td>1.210000</td>\n",
       "      <td>9.429333</td>\n",
       "      <td>171.132333</td>\n",
       "      <td>7.536667</td>\n",
       "      <td>0.629500</td>\n",
       "      <td>322.276500</td>\n",
       "      <td>25541.754762</td>\n",
       "      <td>NaN</td>\n",
       "    </tr>\n",
       "    <tr>\n",
       "      <th>0 days 02:00:00</th>\n",
       "      <td>-7.215000</td>\n",
       "      <td>0.885333</td>\n",
       "      <td>2.135667</td>\n",
       "      <td>15.792667</td>\n",
       "      <td>173.602333</td>\n",
       "      <td>7.857333</td>\n",
       "      <td>1.021833</td>\n",
       "      <td>331.417833</td>\n",
       "      <td>55013.433333</td>\n",
       "      <td>-10.0</td>\n",
       "    </tr>\n",
       "  </tbody>\n",
       "</table>\n",
       "</div>"
      ],
      "text/plain": [
       "                           bx_gse    by_gse    bz_gse  theta_gse     phi_gse  \\\n",
       "period  timedelta                                                              \n",
       "train_a 0 days 00:00:00 -5.924667  2.342667  0.910333   7.925000  159.567333   \n",
       "        0 days 00:30:00 -6.374333  0.948333  0.779000   6.282333  171.273333   \n",
       "        0 days 01:00:00 -6.470333  0.367333  1.320333  10.937333  177.403333   \n",
       "        0 days 01:30:00 -6.917333  1.165667  1.210000   9.429333  171.132333   \n",
       "        0 days 02:00:00 -7.215000  0.885333  2.135667  15.792667  173.602333   \n",
       "\n",
       "                               bt   density       speed   temperature   dst  \n",
       "period  timedelta                                                            \n",
       "train_a 0 days 00:00:00  6.859667  1.367000  364.503167  79025.966667  -7.0  \n",
       "        0 days 00:30:00  7.420333  0.981333  346.053333  58734.716667   NaN  \n",
       "        0 days 01:00:00  7.033000  1.002333  337.884667  78864.695238 -10.0  \n",
       "        0 days 01:30:00  7.536667  0.629500  322.276500  25541.754762   NaN  \n",
       "        0 days 02:00:00  7.857333  1.021833  331.417833  55013.433333 -10.0  "
      ]
     },
     "execution_count": 17,
     "metadata": {},
     "output_type": "execute_result"
    }
   ],
   "source": [
    "#join sw with dst\n",
    "sw_dst=sw_agg.join(dst)\n",
    "sw_dst.head()"
   ]
  },
  {
   "cell_type": "code",
   "execution_count": 18,
   "metadata": {
    "id": "9PU83DGp1Hag"
   },
   "outputs": [],
   "source": [
    "sw_dst['dst']=sw_dst[['dst']].interpolate(method='linear', limit_direction='forward', axis=0)"
   ]
  },
  {
   "cell_type": "code",
   "execution_count": 19,
   "metadata": {
    "colab": {
     "base_uri": "https://localhost:8080/",
     "height": 456
    },
    "id": "QQu_iDlt1K3p",
    "outputId": "5d55cdaf-e250-4c9d-8858-12bd662c5ef1"
   },
   "outputs": [
    {
     "name": "stdout",
     "output_type": "stream",
     "text": [
      "shape of the data dst_labs: (279744, 10)\n",
      "Null values: bx_gse         0\n",
      "by_gse         0\n",
      "bz_gse         0\n",
      "theta_gse      0\n",
      "phi_gse        0\n",
      "bt             0\n",
      "density        0\n",
      "speed          0\n",
      "temperature    0\n",
      "dst            0\n",
      "dtype: int64\n",
      "Total null values sanity check: 0\n"
     ]
    },
    {
     "data": {
      "text/html": [
       "<div>\n",
       "<style scoped>\n",
       "    .dataframe tbody tr th:only-of-type {\n",
       "        vertical-align: middle;\n",
       "    }\n",
       "\n",
       "    .dataframe tbody tr th {\n",
       "        vertical-align: top;\n",
       "    }\n",
       "\n",
       "    .dataframe thead th {\n",
       "        text-align: right;\n",
       "    }\n",
       "</style>\n",
       "<table border=\"1\" class=\"dataframe\">\n",
       "  <thead>\n",
       "    <tr style=\"text-align: right;\">\n",
       "      <th></th>\n",
       "      <th></th>\n",
       "      <th>bx_gse</th>\n",
       "      <th>by_gse</th>\n",
       "      <th>bz_gse</th>\n",
       "      <th>theta_gse</th>\n",
       "      <th>phi_gse</th>\n",
       "      <th>bt</th>\n",
       "      <th>density</th>\n",
       "      <th>speed</th>\n",
       "      <th>temperature</th>\n",
       "      <th>dst</th>\n",
       "    </tr>\n",
       "    <tr>\n",
       "      <th>period</th>\n",
       "      <th>timedelta</th>\n",
       "      <th></th>\n",
       "      <th></th>\n",
       "      <th></th>\n",
       "      <th></th>\n",
       "      <th></th>\n",
       "      <th></th>\n",
       "      <th></th>\n",
       "      <th></th>\n",
       "      <th></th>\n",
       "      <th></th>\n",
       "    </tr>\n",
       "  </thead>\n",
       "  <tbody>\n",
       "    <tr>\n",
       "      <th rowspan=\"5\" valign=\"top\">train_a</th>\n",
       "      <th>0 days 00:00:00</th>\n",
       "      <td>-5.924667</td>\n",
       "      <td>2.342667</td>\n",
       "      <td>0.910333</td>\n",
       "      <td>7.925000</td>\n",
       "      <td>159.567333</td>\n",
       "      <td>6.859667</td>\n",
       "      <td>1.367000</td>\n",
       "      <td>364.503167</td>\n",
       "      <td>79025.966667</td>\n",
       "      <td>-7.0</td>\n",
       "    </tr>\n",
       "    <tr>\n",
       "      <th>0 days 00:30:00</th>\n",
       "      <td>-6.374333</td>\n",
       "      <td>0.948333</td>\n",
       "      <td>0.779000</td>\n",
       "      <td>6.282333</td>\n",
       "      <td>171.273333</td>\n",
       "      <td>7.420333</td>\n",
       "      <td>0.981333</td>\n",
       "      <td>346.053333</td>\n",
       "      <td>58734.716667</td>\n",
       "      <td>-8.5</td>\n",
       "    </tr>\n",
       "    <tr>\n",
       "      <th>0 days 01:00:00</th>\n",
       "      <td>-6.470333</td>\n",
       "      <td>0.367333</td>\n",
       "      <td>1.320333</td>\n",
       "      <td>10.937333</td>\n",
       "      <td>177.403333</td>\n",
       "      <td>7.033000</td>\n",
       "      <td>1.002333</td>\n",
       "      <td>337.884667</td>\n",
       "      <td>78864.695238</td>\n",
       "      <td>-10.0</td>\n",
       "    </tr>\n",
       "    <tr>\n",
       "      <th>0 days 01:30:00</th>\n",
       "      <td>-6.917333</td>\n",
       "      <td>1.165667</td>\n",
       "      <td>1.210000</td>\n",
       "      <td>9.429333</td>\n",
       "      <td>171.132333</td>\n",
       "      <td>7.536667</td>\n",
       "      <td>0.629500</td>\n",
       "      <td>322.276500</td>\n",
       "      <td>25541.754762</td>\n",
       "      <td>-10.0</td>\n",
       "    </tr>\n",
       "    <tr>\n",
       "      <th>0 days 02:00:00</th>\n",
       "      <td>-7.215000</td>\n",
       "      <td>0.885333</td>\n",
       "      <td>2.135667</td>\n",
       "      <td>15.792667</td>\n",
       "      <td>173.602333</td>\n",
       "      <td>7.857333</td>\n",
       "      <td>1.021833</td>\n",
       "      <td>331.417833</td>\n",
       "      <td>55013.433333</td>\n",
       "      <td>-10.0</td>\n",
       "    </tr>\n",
       "  </tbody>\n",
       "</table>\n",
       "</div>"
      ],
      "text/plain": [
       "                           bx_gse    by_gse    bz_gse  theta_gse     phi_gse  \\\n",
       "period  timedelta                                                              \n",
       "train_a 0 days 00:00:00 -5.924667  2.342667  0.910333   7.925000  159.567333   \n",
       "        0 days 00:30:00 -6.374333  0.948333  0.779000   6.282333  171.273333   \n",
       "        0 days 01:00:00 -6.470333  0.367333  1.320333  10.937333  177.403333   \n",
       "        0 days 01:30:00 -6.917333  1.165667  1.210000   9.429333  171.132333   \n",
       "        0 days 02:00:00 -7.215000  0.885333  2.135667  15.792667  173.602333   \n",
       "\n",
       "                               bt   density       speed   temperature   dst  \n",
       "period  timedelta                                                            \n",
       "train_a 0 days 00:00:00  6.859667  1.367000  364.503167  79025.966667  -7.0  \n",
       "        0 days 00:30:00  7.420333  0.981333  346.053333  58734.716667  -8.5  \n",
       "        0 days 01:00:00  7.033000  1.002333  337.884667  78864.695238 -10.0  \n",
       "        0 days 01:30:00  7.536667  0.629500  322.276500  25541.754762 -10.0  \n",
       "        0 days 02:00:00  7.857333  1.021833  331.417833  55013.433333 -10.0  "
      ]
     },
     "metadata": {},
     "output_type": "display_data"
    }
   ],
   "source": [
    "data_info(sw_dst)"
   ]
  },
  {
   "cell_type": "code",
   "execution_count": 20,
   "metadata": {
    "colab": {
     "base_uri": "https://localhost:8080/"
    },
    "id": "uTE_PSUb1NSk",
    "outputId": "b9f6f33e-5527-4612-eecf-5d225095a5ed"
   },
   "outputs": [
    {
     "name": "stdout",
     "output_type": "stream",
     "text": [
      "(279744, 9) (279741, 1) (279744, 10)\n"
     ]
    }
   ],
   "source": [
    "print(sw_agg.shape , dst.shape, sw_dst.shape)"
   ]
  },
  {
   "cell_type": "markdown",
   "metadata": {
    "id": "Ef6PdCfr1Sol"
   },
   "source": []
  },
  {
   "cell_type": "markdown",
   "metadata": {
    "id": "YKfs8LA91SrF"
   },
   "source": [
    "### Sunspots data interpolation and join with Solar Wind and Dst"
   ]
  },
  {
   "cell_type": "code",
   "execution_count": 21,
   "metadata": {
    "colab": {
     "base_uri": "https://localhost:8080/",
     "height": 303
    },
    "id": "oOrlBPDT1Pjy",
    "outputId": "8bf3124a-6945-4826-9d43-5dfa9cc7facf"
   },
   "outputs": [
    {
     "name": "stdout",
     "output_type": "stream",
     "text": [
      "shape of the data dst_labs: (192, 1)\n",
      "Null values: smoothed_ssn    0\n",
      "dtype: int64\n",
      "Total null values sanity check: 0\n"
     ]
    },
    {
     "data": {
      "text/html": [
       "<div>\n",
       "<style scoped>\n",
       "    .dataframe tbody tr th:only-of-type {\n",
       "        vertical-align: middle;\n",
       "    }\n",
       "\n",
       "    .dataframe tbody tr th {\n",
       "        vertical-align: top;\n",
       "    }\n",
       "\n",
       "    .dataframe thead th {\n",
       "        text-align: right;\n",
       "    }\n",
       "</style>\n",
       "<table border=\"1\" class=\"dataframe\">\n",
       "  <thead>\n",
       "    <tr style=\"text-align: right;\">\n",
       "      <th></th>\n",
       "      <th></th>\n",
       "      <th>smoothed_ssn</th>\n",
       "    </tr>\n",
       "    <tr>\n",
       "      <th>period</th>\n",
       "      <th>timedelta</th>\n",
       "      <th></th>\n",
       "    </tr>\n",
       "  </thead>\n",
       "  <tbody>\n",
       "    <tr>\n",
       "      <th rowspan=\"5\" valign=\"top\">train_a</th>\n",
       "      <th>0 days 00:00:00</th>\n",
       "      <td>65.4</td>\n",
       "    </tr>\n",
       "    <tr>\n",
       "      <th>13 days 00:00:00</th>\n",
       "      <td>72.0</td>\n",
       "    </tr>\n",
       "    <tr>\n",
       "      <th>44 days 00:00:00</th>\n",
       "      <td>76.9</td>\n",
       "    </tr>\n",
       "    <tr>\n",
       "      <th>74 days 00:00:00</th>\n",
       "      <td>80.8</td>\n",
       "    </tr>\n",
       "    <tr>\n",
       "      <th>105 days 00:00:00</th>\n",
       "      <td>85.4</td>\n",
       "    </tr>\n",
       "  </tbody>\n",
       "</table>\n",
       "</div>"
      ],
      "text/plain": [
       "                           smoothed_ssn\n",
       "period  timedelta                      \n",
       "train_a 0 days 00:00:00            65.4\n",
       "        13 days 00:00:00           72.0\n",
       "        44 days 00:00:00           76.9\n",
       "        74 days 00:00:00           80.8\n",
       "        105 days 00:00:00          85.4"
      ]
     },
     "metadata": {},
     "output_type": "display_data"
    }
   ],
   "source": [
    "data_info(sunspots)"
   ]
  },
  {
   "cell_type": "code",
   "execution_count": 22,
   "metadata": {
    "id": "yjL8ZZK91bQW"
   },
   "outputs": [],
   "source": [
    "sunspots = uri(sunspots, '30T')"
   ]
  },
  {
   "cell_type": "code",
   "execution_count": 23,
   "metadata": {
    "colab": {
     "base_uri": "https://localhost:8080/",
     "height": 303
    },
    "id": "IpeEscQ01epf",
    "outputId": "b58c3d42-5181-4b13-91d2-6ac0f46ad4ba"
   },
   "outputs": [
    {
     "name": "stdout",
     "output_type": "stream",
     "text": [
      "shape of the data dst_labs: (275283, 1)\n",
      "Null values: smoothed_ssn    275091\n",
      "dtype: int64\n",
      "Total null values sanity check: 275091\n"
     ]
    },
    {
     "data": {
      "text/html": [
       "<div>\n",
       "<style scoped>\n",
       "    .dataframe tbody tr th:only-of-type {\n",
       "        vertical-align: middle;\n",
       "    }\n",
       "\n",
       "    .dataframe tbody tr th {\n",
       "        vertical-align: top;\n",
       "    }\n",
       "\n",
       "    .dataframe thead th {\n",
       "        text-align: right;\n",
       "    }\n",
       "</style>\n",
       "<table border=\"1\" class=\"dataframe\">\n",
       "  <thead>\n",
       "    <tr style=\"text-align: right;\">\n",
       "      <th></th>\n",
       "      <th></th>\n",
       "      <th>smoothed_ssn</th>\n",
       "    </tr>\n",
       "    <tr>\n",
       "      <th>period</th>\n",
       "      <th>timedelta</th>\n",
       "      <th></th>\n",
       "    </tr>\n",
       "  </thead>\n",
       "  <tbody>\n",
       "    <tr>\n",
       "      <th rowspan=\"5\" valign=\"top\">train_a</th>\n",
       "      <th>0 days 00:00:00</th>\n",
       "      <td>65.4</td>\n",
       "    </tr>\n",
       "    <tr>\n",
       "      <th>0 days 00:30:00</th>\n",
       "      <td>NaN</td>\n",
       "    </tr>\n",
       "    <tr>\n",
       "      <th>0 days 01:00:00</th>\n",
       "      <td>NaN</td>\n",
       "    </tr>\n",
       "    <tr>\n",
       "      <th>0 days 01:30:00</th>\n",
       "      <td>NaN</td>\n",
       "    </tr>\n",
       "    <tr>\n",
       "      <th>0 days 02:00:00</th>\n",
       "      <td>NaN</td>\n",
       "    </tr>\n",
       "  </tbody>\n",
       "</table>\n",
       "</div>"
      ],
      "text/plain": [
       "                         smoothed_ssn\n",
       "period  timedelta                    \n",
       "train_a 0 days 00:00:00          65.4\n",
       "        0 days 00:30:00           NaN\n",
       "        0 days 01:00:00           NaN\n",
       "        0 days 01:30:00           NaN\n",
       "        0 days 02:00:00           NaN"
      ]
     },
     "metadata": {},
     "output_type": "display_data"
    }
   ],
   "source": [
    "data_info(sunspots)"
   ]
  },
  {
   "cell_type": "code",
   "execution_count": 24,
   "metadata": {
    "colab": {
     "base_uri": "https://localhost:8080/"
    },
    "id": "FxATtI6s1geb",
    "outputId": "db1181e1-2d4b-4103-ae7a-c9e1f6164a50"
   },
   "outputs": [
    {
     "name": "stdout",
     "output_type": "stream",
     "text": [
      "(279744, 9) (279741, 1) (279744, 10) (275283, 1)\n"
     ]
    }
   ],
   "source": [
    "print(sw_agg.shape, dst.shape, sw_dst.shape, sunspots.shape)"
   ]
  },
  {
   "cell_type": "code",
   "execution_count": 25,
   "metadata": {
    "id": "-uZodTIg1jeZ"
   },
   "outputs": [],
   "source": [
    "sw_dst_ss= sw_dst.join(sunspots)\n",
    " # forward fill sunspot data for the rest of the month\n",
    "sw_dst_ss['smoothed_ssn'] = sw_dst_ss['smoothed_ssn'].fillna(method=\"ffill\")\n",
    "# interpolate between missing solar wind values\n",
    "sw_dst_ss['smoothed_ssn']=sw_dst_ss[['smoothed_ssn']].interpolate()"
   ]
  },
  {
   "cell_type": "code",
   "execution_count": 26,
   "metadata": {
    "colab": {
     "base_uri": "https://localhost:8080/",
     "height": 473
    },
    "id": "tNXkhO1Y1mbo",
    "outputId": "61e5c32f-acde-462c-9fb0-e9ad2d7a5bc6"
   },
   "outputs": [
    {
     "name": "stdout",
     "output_type": "stream",
     "text": [
      "shape of the data dst_labs: (279744, 11)\n",
      "Null values: bx_gse          0\n",
      "by_gse          0\n",
      "bz_gse          0\n",
      "theta_gse       0\n",
      "phi_gse         0\n",
      "bt              0\n",
      "density         0\n",
      "speed           0\n",
      "temperature     0\n",
      "dst             0\n",
      "smoothed_ssn    0\n",
      "dtype: int64\n",
      "Total null values sanity check: 0\n"
     ]
    },
    {
     "data": {
      "text/html": [
       "<div>\n",
       "<style scoped>\n",
       "    .dataframe tbody tr th:only-of-type {\n",
       "        vertical-align: middle;\n",
       "    }\n",
       "\n",
       "    .dataframe tbody tr th {\n",
       "        vertical-align: top;\n",
       "    }\n",
       "\n",
       "    .dataframe thead th {\n",
       "        text-align: right;\n",
       "    }\n",
       "</style>\n",
       "<table border=\"1\" class=\"dataframe\">\n",
       "  <thead>\n",
       "    <tr style=\"text-align: right;\">\n",
       "      <th></th>\n",
       "      <th></th>\n",
       "      <th>bx_gse</th>\n",
       "      <th>by_gse</th>\n",
       "      <th>bz_gse</th>\n",
       "      <th>theta_gse</th>\n",
       "      <th>phi_gse</th>\n",
       "      <th>bt</th>\n",
       "      <th>density</th>\n",
       "      <th>speed</th>\n",
       "      <th>temperature</th>\n",
       "      <th>dst</th>\n",
       "      <th>smoothed_ssn</th>\n",
       "    </tr>\n",
       "    <tr>\n",
       "      <th>period</th>\n",
       "      <th>timedelta</th>\n",
       "      <th></th>\n",
       "      <th></th>\n",
       "      <th></th>\n",
       "      <th></th>\n",
       "      <th></th>\n",
       "      <th></th>\n",
       "      <th></th>\n",
       "      <th></th>\n",
       "      <th></th>\n",
       "      <th></th>\n",
       "      <th></th>\n",
       "    </tr>\n",
       "  </thead>\n",
       "  <tbody>\n",
       "    <tr>\n",
       "      <th rowspan=\"5\" valign=\"top\">train_a</th>\n",
       "      <th>0 days 00:00:00</th>\n",
       "      <td>-5.924667</td>\n",
       "      <td>2.342667</td>\n",
       "      <td>0.910333</td>\n",
       "      <td>7.925000</td>\n",
       "      <td>159.567333</td>\n",
       "      <td>6.859667</td>\n",
       "      <td>1.367000</td>\n",
       "      <td>364.503167</td>\n",
       "      <td>79025.966667</td>\n",
       "      <td>-7.0</td>\n",
       "      <td>65.4</td>\n",
       "    </tr>\n",
       "    <tr>\n",
       "      <th>0 days 00:30:00</th>\n",
       "      <td>-6.374333</td>\n",
       "      <td>0.948333</td>\n",
       "      <td>0.779000</td>\n",
       "      <td>6.282333</td>\n",
       "      <td>171.273333</td>\n",
       "      <td>7.420333</td>\n",
       "      <td>0.981333</td>\n",
       "      <td>346.053333</td>\n",
       "      <td>58734.716667</td>\n",
       "      <td>-8.5</td>\n",
       "      <td>65.4</td>\n",
       "    </tr>\n",
       "    <tr>\n",
       "      <th>0 days 01:00:00</th>\n",
       "      <td>-6.470333</td>\n",
       "      <td>0.367333</td>\n",
       "      <td>1.320333</td>\n",
       "      <td>10.937333</td>\n",
       "      <td>177.403333</td>\n",
       "      <td>7.033000</td>\n",
       "      <td>1.002333</td>\n",
       "      <td>337.884667</td>\n",
       "      <td>78864.695238</td>\n",
       "      <td>-10.0</td>\n",
       "      <td>65.4</td>\n",
       "    </tr>\n",
       "    <tr>\n",
       "      <th>0 days 01:30:00</th>\n",
       "      <td>-6.917333</td>\n",
       "      <td>1.165667</td>\n",
       "      <td>1.210000</td>\n",
       "      <td>9.429333</td>\n",
       "      <td>171.132333</td>\n",
       "      <td>7.536667</td>\n",
       "      <td>0.629500</td>\n",
       "      <td>322.276500</td>\n",
       "      <td>25541.754762</td>\n",
       "      <td>-10.0</td>\n",
       "      <td>65.4</td>\n",
       "    </tr>\n",
       "    <tr>\n",
       "      <th>0 days 02:00:00</th>\n",
       "      <td>-7.215000</td>\n",
       "      <td>0.885333</td>\n",
       "      <td>2.135667</td>\n",
       "      <td>15.792667</td>\n",
       "      <td>173.602333</td>\n",
       "      <td>7.857333</td>\n",
       "      <td>1.021833</td>\n",
       "      <td>331.417833</td>\n",
       "      <td>55013.433333</td>\n",
       "      <td>-10.0</td>\n",
       "      <td>65.4</td>\n",
       "    </tr>\n",
       "  </tbody>\n",
       "</table>\n",
       "</div>"
      ],
      "text/plain": [
       "                           bx_gse    by_gse    bz_gse  theta_gse     phi_gse  \\\n",
       "period  timedelta                                                              \n",
       "train_a 0 days 00:00:00 -5.924667  2.342667  0.910333   7.925000  159.567333   \n",
       "        0 days 00:30:00 -6.374333  0.948333  0.779000   6.282333  171.273333   \n",
       "        0 days 01:00:00 -6.470333  0.367333  1.320333  10.937333  177.403333   \n",
       "        0 days 01:30:00 -6.917333  1.165667  1.210000   9.429333  171.132333   \n",
       "        0 days 02:00:00 -7.215000  0.885333  2.135667  15.792667  173.602333   \n",
       "\n",
       "                               bt   density       speed   temperature   dst  \\\n",
       "period  timedelta                                                             \n",
       "train_a 0 days 00:00:00  6.859667  1.367000  364.503167  79025.966667  -7.0   \n",
       "        0 days 00:30:00  7.420333  0.981333  346.053333  58734.716667  -8.5   \n",
       "        0 days 01:00:00  7.033000  1.002333  337.884667  78864.695238 -10.0   \n",
       "        0 days 01:30:00  7.536667  0.629500  322.276500  25541.754762 -10.0   \n",
       "        0 days 02:00:00  7.857333  1.021833  331.417833  55013.433333 -10.0   \n",
       "\n",
       "                         smoothed_ssn  \n",
       "period  timedelta                      \n",
       "train_a 0 days 00:00:00          65.4  \n",
       "        0 days 00:30:00          65.4  \n",
       "        0 days 01:00:00          65.4  \n",
       "        0 days 01:30:00          65.4  \n",
       "        0 days 02:00:00          65.4  "
      ]
     },
     "metadata": {},
     "output_type": "display_data"
    }
   ],
   "source": [
    "data_info(sw_dst_ss)"
   ]
  },
  {
   "cell_type": "markdown",
   "metadata": {
    "id": "a5idfSH31uOD"
   },
   "source": [
    "### Satellite Position Drop Cols and Interpolation"
   ]
  },
  {
   "cell_type": "code",
   "execution_count": 27,
   "metadata": {
    "colab": {
     "base_uri": "https://localhost:8080/",
     "height": 388
    },
    "id": "s5A_QHlc1r6l",
    "outputId": "341f87af-2b31-4471-ea4c-200a46508ffd"
   },
   "outputs": [
    {
     "name": "stdout",
     "output_type": "stream",
     "text": [
      "shape of the data dst_labs: (5828, 6)\n",
      "Null values: gse_x_ace          0\n",
      "gse_y_ace          0\n",
      "gse_z_ace          0\n",
      "gse_x_dscovr    4794\n",
      "gse_y_dscovr    4794\n",
      "gse_z_dscovr    4794\n",
      "dtype: int64\n",
      "Total null values sanity check: 14382\n"
     ]
    },
    {
     "data": {
      "text/html": [
       "<div>\n",
       "<style scoped>\n",
       "    .dataframe tbody tr th:only-of-type {\n",
       "        vertical-align: middle;\n",
       "    }\n",
       "\n",
       "    .dataframe tbody tr th {\n",
       "        vertical-align: top;\n",
       "    }\n",
       "\n",
       "    .dataframe thead th {\n",
       "        text-align: right;\n",
       "    }\n",
       "</style>\n",
       "<table border=\"1\" class=\"dataframe\">\n",
       "  <thead>\n",
       "    <tr style=\"text-align: right;\">\n",
       "      <th></th>\n",
       "      <th></th>\n",
       "      <th>gse_x_ace</th>\n",
       "      <th>gse_y_ace</th>\n",
       "      <th>gse_z_ace</th>\n",
       "      <th>gse_x_dscovr</th>\n",
       "      <th>gse_y_dscovr</th>\n",
       "      <th>gse_z_dscovr</th>\n",
       "    </tr>\n",
       "    <tr>\n",
       "      <th>period</th>\n",
       "      <th>timedelta</th>\n",
       "      <th></th>\n",
       "      <th></th>\n",
       "      <th></th>\n",
       "      <th></th>\n",
       "      <th></th>\n",
       "      <th></th>\n",
       "    </tr>\n",
       "  </thead>\n",
       "  <tbody>\n",
       "    <tr>\n",
       "      <th rowspan=\"5\" valign=\"top\">train_a</th>\n",
       "      <th>0 days</th>\n",
       "      <td>1522376.9</td>\n",
       "      <td>143704.6</td>\n",
       "      <td>149496.7</td>\n",
       "      <td>NaN</td>\n",
       "      <td>NaN</td>\n",
       "      <td>NaN</td>\n",
       "    </tr>\n",
       "    <tr>\n",
       "      <th>1 days</th>\n",
       "      <td>1525410.9</td>\n",
       "      <td>136108.8</td>\n",
       "      <td>151034.1</td>\n",
       "      <td>NaN</td>\n",
       "      <td>NaN</td>\n",
       "      <td>NaN</td>\n",
       "    </tr>\n",
       "    <tr>\n",
       "      <th>2 days</th>\n",
       "      <td>1528484.9</td>\n",
       "      <td>128470.5</td>\n",
       "      <td>152387.7</td>\n",
       "      <td>NaN</td>\n",
       "      <td>NaN</td>\n",
       "      <td>NaN</td>\n",
       "    </tr>\n",
       "    <tr>\n",
       "      <th>3 days</th>\n",
       "      <td>1531570.3</td>\n",
       "      <td>120818.4</td>\n",
       "      <td>153561.4</td>\n",
       "      <td>NaN</td>\n",
       "      <td>NaN</td>\n",
       "      <td>NaN</td>\n",
       "    </tr>\n",
       "    <tr>\n",
       "      <th>4 days</th>\n",
       "      <td>1534633.1</td>\n",
       "      <td>113178.5</td>\n",
       "      <td>154534.6</td>\n",
       "      <td>NaN</td>\n",
       "      <td>NaN</td>\n",
       "      <td>NaN</td>\n",
       "    </tr>\n",
       "  </tbody>\n",
       "</table>\n",
       "</div>"
      ],
      "text/plain": [
       "                   gse_x_ace  gse_y_ace  gse_z_ace  gse_x_dscovr  \\\n",
       "period  timedelta                                                  \n",
       "train_a 0 days     1522376.9   143704.6   149496.7           NaN   \n",
       "        1 days     1525410.9   136108.8   151034.1           NaN   \n",
       "        2 days     1528484.9   128470.5   152387.7           NaN   \n",
       "        3 days     1531570.3   120818.4   153561.4           NaN   \n",
       "        4 days     1534633.1   113178.5   154534.6           NaN   \n",
       "\n",
       "                   gse_y_dscovr  gse_z_dscovr  \n",
       "period  timedelta                              \n",
       "train_a 0 days              NaN           NaN  \n",
       "        1 days              NaN           NaN  \n",
       "        2 days              NaN           NaN  \n",
       "        3 days              NaN           NaN  \n",
       "        4 days              NaN           NaN  "
      ]
     },
     "metadata": {},
     "output_type": "display_data"
    }
   ],
   "source": [
    "data_info(sat_pos)"
   ]
  },
  {
   "cell_type": "code",
   "execution_count": 28,
   "metadata": {
    "colab": {
     "base_uri": "https://localhost:8080/",
     "height": 269
    },
    "id": "84hcuGxv10XM",
    "outputId": "1d967cdf-6d48-4f09-ec90-112b583c15a3"
   },
   "outputs": [
    {
     "name": "stdout",
     "output_type": "stream",
     "text": [
      "Droping the columns: ['gse_x_dscovr', 'gse_y_dscovr', 'gse_z_dscovr']\n",
      "remaining columns: Index(['gse_x_ace', 'gse_y_ace', 'gse_z_ace'], dtype='object')\n"
     ]
    },
    {
     "data": {
      "text/html": [
       "<div>\n",
       "<style scoped>\n",
       "    .dataframe tbody tr th:only-of-type {\n",
       "        vertical-align: middle;\n",
       "    }\n",
       "\n",
       "    .dataframe tbody tr th {\n",
       "        vertical-align: top;\n",
       "    }\n",
       "\n",
       "    .dataframe thead th {\n",
       "        text-align: right;\n",
       "    }\n",
       "</style>\n",
       "<table border=\"1\" class=\"dataframe\">\n",
       "  <thead>\n",
       "    <tr style=\"text-align: right;\">\n",
       "      <th></th>\n",
       "      <th></th>\n",
       "      <th>gse_x_ace</th>\n",
       "      <th>gse_y_ace</th>\n",
       "      <th>gse_z_ace</th>\n",
       "    </tr>\n",
       "    <tr>\n",
       "      <th>period</th>\n",
       "      <th>timedelta</th>\n",
       "      <th></th>\n",
       "      <th></th>\n",
       "      <th></th>\n",
       "    </tr>\n",
       "  </thead>\n",
       "  <tbody>\n",
       "    <tr>\n",
       "      <th rowspan=\"5\" valign=\"top\">train_a</th>\n",
       "      <th>0 days</th>\n",
       "      <td>1522376.9</td>\n",
       "      <td>143704.6</td>\n",
       "      <td>149496.7</td>\n",
       "    </tr>\n",
       "    <tr>\n",
       "      <th>1 days</th>\n",
       "      <td>1525410.9</td>\n",
       "      <td>136108.8</td>\n",
       "      <td>151034.1</td>\n",
       "    </tr>\n",
       "    <tr>\n",
       "      <th>2 days</th>\n",
       "      <td>1528484.9</td>\n",
       "      <td>128470.5</td>\n",
       "      <td>152387.7</td>\n",
       "    </tr>\n",
       "    <tr>\n",
       "      <th>3 days</th>\n",
       "      <td>1531570.3</td>\n",
       "      <td>120818.4</td>\n",
       "      <td>153561.4</td>\n",
       "    </tr>\n",
       "    <tr>\n",
       "      <th>4 days</th>\n",
       "      <td>1534633.1</td>\n",
       "      <td>113178.5</td>\n",
       "      <td>154534.6</td>\n",
       "    </tr>\n",
       "  </tbody>\n",
       "</table>\n",
       "</div>"
      ],
      "text/plain": [
       "                   gse_x_ace  gse_y_ace  gse_z_ace\n",
       "period  timedelta                                 \n",
       "train_a 0 days     1522376.9   143704.6   149496.7\n",
       "        1 days     1525410.9   136108.8   151034.1\n",
       "        2 days     1528484.9   128470.5   152387.7\n",
       "        3 days     1531570.3   120818.4   153561.4\n",
       "        4 days     1534633.1   113178.5   154534.6"
      ]
     },
     "execution_count": 28,
     "metadata": {},
     "output_type": "execute_result"
    }
   ],
   "source": [
    "# drop the unnecessary columns\n",
    "cols_to_drop = ['gse_x_dscovr', 'gse_y_dscovr', 'gse_z_dscovr']\n",
    "sat_pos.drop(cols_to_drop, axis=1, inplace=True)\n",
    "\n",
    "print ('Droping the columns:', cols_to_drop)\n",
    "print ('remaining columns:', sat_pos.columns )\n",
    "sat_pos.head()"
   ]
  },
  {
   "cell_type": "code",
   "execution_count": 29,
   "metadata": {
    "colab": {
     "base_uri": "https://localhost:8080/",
     "height": 235
    },
    "id": "o2ttKY_i2Fjw",
    "outputId": "449bdaef-56c5-4fa0-d70e-d056a3e51d59"
   },
   "outputs": [
    {
     "data": {
      "text/html": [
       "<div>\n",
       "<style scoped>\n",
       "    .dataframe tbody tr th:only-of-type {\n",
       "        vertical-align: middle;\n",
       "    }\n",
       "\n",
       "    .dataframe tbody tr th {\n",
       "        vertical-align: top;\n",
       "    }\n",
       "\n",
       "    .dataframe thead th {\n",
       "        text-align: right;\n",
       "    }\n",
       "</style>\n",
       "<table border=\"1\" class=\"dataframe\">\n",
       "  <thead>\n",
       "    <tr style=\"text-align: right;\">\n",
       "      <th></th>\n",
       "      <th></th>\n",
       "      <th>bx_gse</th>\n",
       "      <th>by_gse</th>\n",
       "      <th>bz_gse</th>\n",
       "      <th>theta_gse</th>\n",
       "      <th>phi_gse</th>\n",
       "      <th>bt</th>\n",
       "      <th>density</th>\n",
       "      <th>speed</th>\n",
       "      <th>temperature</th>\n",
       "      <th>dst</th>\n",
       "      <th>smoothed_ssn</th>\n",
       "      <th>gse_x_ace</th>\n",
       "      <th>gse_y_ace</th>\n",
       "      <th>gse_z_ace</th>\n",
       "    </tr>\n",
       "    <tr>\n",
       "      <th>period</th>\n",
       "      <th>timedelta</th>\n",
       "      <th></th>\n",
       "      <th></th>\n",
       "      <th></th>\n",
       "      <th></th>\n",
       "      <th></th>\n",
       "      <th></th>\n",
       "      <th></th>\n",
       "      <th></th>\n",
       "      <th></th>\n",
       "      <th></th>\n",
       "      <th></th>\n",
       "      <th></th>\n",
       "      <th></th>\n",
       "      <th></th>\n",
       "    </tr>\n",
       "  </thead>\n",
       "  <tbody>\n",
       "    <tr>\n",
       "      <th rowspan=\"5\" valign=\"top\">train_a</th>\n",
       "      <th>0 days 00:00:00</th>\n",
       "      <td>-5.924667</td>\n",
       "      <td>2.342667</td>\n",
       "      <td>0.910333</td>\n",
       "      <td>7.925000</td>\n",
       "      <td>159.567333</td>\n",
       "      <td>6.859667</td>\n",
       "      <td>1.367000</td>\n",
       "      <td>364.503167</td>\n",
       "      <td>79025.966667</td>\n",
       "      <td>-7.0</td>\n",
       "      <td>65.4</td>\n",
       "      <td>NaN</td>\n",
       "      <td>NaN</td>\n",
       "      <td>NaN</td>\n",
       "    </tr>\n",
       "    <tr>\n",
       "      <th>0 days 00:30:00</th>\n",
       "      <td>-6.374333</td>\n",
       "      <td>0.948333</td>\n",
       "      <td>0.779000</td>\n",
       "      <td>6.282333</td>\n",
       "      <td>171.273333</td>\n",
       "      <td>7.420333</td>\n",
       "      <td>0.981333</td>\n",
       "      <td>346.053333</td>\n",
       "      <td>58734.716667</td>\n",
       "      <td>-8.5</td>\n",
       "      <td>65.4</td>\n",
       "      <td>NaN</td>\n",
       "      <td>NaN</td>\n",
       "      <td>NaN</td>\n",
       "    </tr>\n",
       "    <tr>\n",
       "      <th>0 days 01:00:00</th>\n",
       "      <td>-6.470333</td>\n",
       "      <td>0.367333</td>\n",
       "      <td>1.320333</td>\n",
       "      <td>10.937333</td>\n",
       "      <td>177.403333</td>\n",
       "      <td>7.033000</td>\n",
       "      <td>1.002333</td>\n",
       "      <td>337.884667</td>\n",
       "      <td>78864.695238</td>\n",
       "      <td>-10.0</td>\n",
       "      <td>65.4</td>\n",
       "      <td>NaN</td>\n",
       "      <td>NaN</td>\n",
       "      <td>NaN</td>\n",
       "    </tr>\n",
       "    <tr>\n",
       "      <th>0 days 01:30:00</th>\n",
       "      <td>-6.917333</td>\n",
       "      <td>1.165667</td>\n",
       "      <td>1.210000</td>\n",
       "      <td>9.429333</td>\n",
       "      <td>171.132333</td>\n",
       "      <td>7.536667</td>\n",
       "      <td>0.629500</td>\n",
       "      <td>322.276500</td>\n",
       "      <td>25541.754762</td>\n",
       "      <td>-10.0</td>\n",
       "      <td>65.4</td>\n",
       "      <td>NaN</td>\n",
       "      <td>NaN</td>\n",
       "      <td>NaN</td>\n",
       "    </tr>\n",
       "    <tr>\n",
       "      <th>0 days 02:00:00</th>\n",
       "      <td>-7.215000</td>\n",
       "      <td>0.885333</td>\n",
       "      <td>2.135667</td>\n",
       "      <td>15.792667</td>\n",
       "      <td>173.602333</td>\n",
       "      <td>7.857333</td>\n",
       "      <td>1.021833</td>\n",
       "      <td>331.417833</td>\n",
       "      <td>55013.433333</td>\n",
       "      <td>-10.0</td>\n",
       "      <td>65.4</td>\n",
       "      <td>NaN</td>\n",
       "      <td>NaN</td>\n",
       "      <td>NaN</td>\n",
       "    </tr>\n",
       "  </tbody>\n",
       "</table>\n",
       "</div>"
      ],
      "text/plain": [
       "                           bx_gse    by_gse    bz_gse  theta_gse     phi_gse  \\\n",
       "period  timedelta                                                              \n",
       "train_a 0 days 00:00:00 -5.924667  2.342667  0.910333   7.925000  159.567333   \n",
       "        0 days 00:30:00 -6.374333  0.948333  0.779000   6.282333  171.273333   \n",
       "        0 days 01:00:00 -6.470333  0.367333  1.320333  10.937333  177.403333   \n",
       "        0 days 01:30:00 -6.917333  1.165667  1.210000   9.429333  171.132333   \n",
       "        0 days 02:00:00 -7.215000  0.885333  2.135667  15.792667  173.602333   \n",
       "\n",
       "                               bt   density       speed   temperature   dst  \\\n",
       "period  timedelta                                                             \n",
       "train_a 0 days 00:00:00  6.859667  1.367000  364.503167  79025.966667  -7.0   \n",
       "        0 days 00:30:00  7.420333  0.981333  346.053333  58734.716667  -8.5   \n",
       "        0 days 01:00:00  7.033000  1.002333  337.884667  78864.695238 -10.0   \n",
       "        0 days 01:30:00  7.536667  0.629500  322.276500  25541.754762 -10.0   \n",
       "        0 days 02:00:00  7.857333  1.021833  331.417833  55013.433333 -10.0   \n",
       "\n",
       "                         smoothed_ssn  gse_x_ace  gse_y_ace  gse_z_ace  \n",
       "period  timedelta                                                       \n",
       "train_a 0 days 00:00:00          65.4        NaN        NaN        NaN  \n",
       "        0 days 00:30:00          65.4        NaN        NaN        NaN  \n",
       "        0 days 01:00:00          65.4        NaN        NaN        NaN  \n",
       "        0 days 01:30:00          65.4        NaN        NaN        NaN  \n",
       "        0 days 02:00:00          65.4        NaN        NaN        NaN  "
      ]
     },
     "execution_count": 29,
     "metadata": {},
     "output_type": "execute_result"
    }
   ],
   "source": [
    "alldata = sw_dst_ss.join(sat_pos)\n",
    "alldata.head()"
   ]
  },
  {
   "cell_type": "code",
   "execution_count": 31,
   "metadata": {
    "colab": {
     "base_uri": "https://localhost:8080/",
     "height": 269
    },
    "id": "eF75lM3z2Oeo",
    "outputId": "c80da3d8-503e-46c0-e9eb-a8e91ed8c285"
   },
   "outputs": [
    {
     "data": {
      "text/html": [
       "<div>\n",
       "<style scoped>\n",
       "    .dataframe tbody tr th:only-of-type {\n",
       "        vertical-align: middle;\n",
       "    }\n",
       "\n",
       "    .dataframe tbody tr th {\n",
       "        vertical-align: top;\n",
       "    }\n",
       "\n",
       "    .dataframe thead th {\n",
       "        text-align: right;\n",
       "    }\n",
       "</style>\n",
       "<table border=\"1\" class=\"dataframe\">\n",
       "  <thead>\n",
       "    <tr style=\"text-align: right;\">\n",
       "      <th></th>\n",
       "      <th></th>\n",
       "      <th>bx_gse</th>\n",
       "      <th>by_gse</th>\n",
       "      <th>bz_gse</th>\n",
       "      <th>theta_gse</th>\n",
       "      <th>phi_gse</th>\n",
       "      <th>bt</th>\n",
       "      <th>density</th>\n",
       "      <th>speed</th>\n",
       "      <th>temperature</th>\n",
       "      <th>dst</th>\n",
       "      <th>smoothed_ssn</th>\n",
       "      <th>gse_x_ace</th>\n",
       "      <th>gse_y_ace</th>\n",
       "      <th>gse_z_ace</th>\n",
       "    </tr>\n",
       "    <tr>\n",
       "      <th>period</th>\n",
       "      <th>timedelta</th>\n",
       "      <th></th>\n",
       "      <th></th>\n",
       "      <th></th>\n",
       "      <th></th>\n",
       "      <th></th>\n",
       "      <th></th>\n",
       "      <th></th>\n",
       "      <th></th>\n",
       "      <th></th>\n",
       "      <th></th>\n",
       "      <th></th>\n",
       "      <th></th>\n",
       "      <th></th>\n",
       "      <th></th>\n",
       "    </tr>\n",
       "  </thead>\n",
       "  <tbody>\n",
       "    <tr>\n",
       "      <th rowspan=\"5\" valign=\"top\">train_a</th>\n",
       "      <th>0 days 00:00:00</th>\n",
       "      <td>-5.924667</td>\n",
       "      <td>2.342667</td>\n",
       "      <td>0.910333</td>\n",
       "      <td>7.925000</td>\n",
       "      <td>159.567333</td>\n",
       "      <td>6.859667</td>\n",
       "      <td>1.367000</td>\n",
       "      <td>364.503167</td>\n",
       "      <td>79025.966667</td>\n",
       "      <td>-7.0</td>\n",
       "      <td>65.4</td>\n",
       "      <td>NaN</td>\n",
       "      <td>NaN</td>\n",
       "      <td>NaN</td>\n",
       "    </tr>\n",
       "    <tr>\n",
       "      <th>0 days 00:30:00</th>\n",
       "      <td>-6.374333</td>\n",
       "      <td>0.948333</td>\n",
       "      <td>0.779000</td>\n",
       "      <td>6.282333</td>\n",
       "      <td>171.273333</td>\n",
       "      <td>7.420333</td>\n",
       "      <td>0.981333</td>\n",
       "      <td>346.053333</td>\n",
       "      <td>58734.716667</td>\n",
       "      <td>-8.5</td>\n",
       "      <td>65.4</td>\n",
       "      <td>NaN</td>\n",
       "      <td>NaN</td>\n",
       "      <td>NaN</td>\n",
       "    </tr>\n",
       "    <tr>\n",
       "      <th>0 days 01:00:00</th>\n",
       "      <td>-6.470333</td>\n",
       "      <td>0.367333</td>\n",
       "      <td>1.320333</td>\n",
       "      <td>10.937333</td>\n",
       "      <td>177.403333</td>\n",
       "      <td>7.033000</td>\n",
       "      <td>1.002333</td>\n",
       "      <td>337.884667</td>\n",
       "      <td>78864.695238</td>\n",
       "      <td>-10.0</td>\n",
       "      <td>65.4</td>\n",
       "      <td>NaN</td>\n",
       "      <td>NaN</td>\n",
       "      <td>NaN</td>\n",
       "    </tr>\n",
       "    <tr>\n",
       "      <th>0 days 01:30:00</th>\n",
       "      <td>-6.917333</td>\n",
       "      <td>1.165667</td>\n",
       "      <td>1.210000</td>\n",
       "      <td>9.429333</td>\n",
       "      <td>171.132333</td>\n",
       "      <td>7.536667</td>\n",
       "      <td>0.629500</td>\n",
       "      <td>322.276500</td>\n",
       "      <td>25541.754762</td>\n",
       "      <td>-10.0</td>\n",
       "      <td>65.4</td>\n",
       "      <td>NaN</td>\n",
       "      <td>NaN</td>\n",
       "      <td>NaN</td>\n",
       "    </tr>\n",
       "    <tr>\n",
       "      <th>0 days 02:00:00</th>\n",
       "      <td>-7.215000</td>\n",
       "      <td>0.885333</td>\n",
       "      <td>2.135667</td>\n",
       "      <td>15.792667</td>\n",
       "      <td>173.602333</td>\n",
       "      <td>7.857333</td>\n",
       "      <td>1.021833</td>\n",
       "      <td>331.417833</td>\n",
       "      <td>55013.433333</td>\n",
       "      <td>-10.0</td>\n",
       "      <td>65.4</td>\n",
       "      <td>NaN</td>\n",
       "      <td>NaN</td>\n",
       "      <td>NaN</td>\n",
       "    </tr>\n",
       "  </tbody>\n",
       "</table>\n",
       "</div>"
      ],
      "text/plain": [
       "                           bx_gse    by_gse    bz_gse  theta_gse     phi_gse  \\\n",
       "period  timedelta                                                              \n",
       "train_a 0 days 00:00:00 -5.924667  2.342667  0.910333   7.925000  159.567333   \n",
       "        0 days 00:30:00 -6.374333  0.948333  0.779000   6.282333  171.273333   \n",
       "        0 days 01:00:00 -6.470333  0.367333  1.320333  10.937333  177.403333   \n",
       "        0 days 01:30:00 -6.917333  1.165667  1.210000   9.429333  171.132333   \n",
       "        0 days 02:00:00 -7.215000  0.885333  2.135667  15.792667  173.602333   \n",
       "\n",
       "                               bt   density       speed   temperature   dst  \\\n",
       "period  timedelta                                                             \n",
       "train_a 0 days 00:00:00  6.859667  1.367000  364.503167  79025.966667  -7.0   \n",
       "        0 days 00:30:00  7.420333  0.981333  346.053333  58734.716667  -8.5   \n",
       "        0 days 01:00:00  7.033000  1.002333  337.884667  78864.695238 -10.0   \n",
       "        0 days 01:30:00  7.536667  0.629500  322.276500  25541.754762 -10.0   \n",
       "        0 days 02:00:00  7.857333  1.021833  331.417833  55013.433333 -10.0   \n",
       "\n",
       "                         smoothed_ssn  gse_x_ace  gse_y_ace  gse_z_ace  \n",
       "period  timedelta                                                       \n",
       "train_a 0 days 00:00:00          65.4        NaN        NaN        NaN  \n",
       "        0 days 00:30:00          65.4        NaN        NaN        NaN  \n",
       "        0 days 01:00:00          65.4        NaN        NaN        NaN  \n",
       "        0 days 01:30:00          65.4        NaN        NaN        NaN  \n",
       "        0 days 02:00:00          65.4        NaN        NaN        NaN  "
      ]
     },
     "execution_count": 31,
     "metadata": {},
     "output_type": "execute_result"
    }
   ],
   "source": [
    "cols_to_interp=['gse_x_ace', 'gse_y_ace', 'gse_z_ace']\n",
    "alldata[cols_to_interp]=alldata[cols_to_interp].interpolate(method='linear', limit_direction='forward', axis=0)\n",
    "alldata.head()"
   ]
  },
  {
   "cell_type": "code",
   "execution_count": null,
   "metadata": {
    "colab": {
     "base_uri": "https://localhost:8080/",
     "height": 524
    },
    "id": "aMYA2-vA2Tud",
    "outputId": "596ffb89-b7ff-4435-a18a-0e95453454b7"
   },
   "outputs": [],
   "source": [
    "data_info(alldata)"
   ]
  },
  {
   "cell_type": "code",
   "execution_count": null,
   "metadata": {
    "colab": {
     "base_uri": "https://localhost:8080/"
    },
    "id": "jaeIXevH2Wja",
    "outputId": "cbd23b8e-7407-484f-93ce-31dd4f48c163"
   },
   "outputs": [],
   "source": [
    "print (\"shape of all:\", sw_agg.shape, dst.shape,sw_dst.shape, sat_pos.shape, alldata.shape)"
   ]
  },
  {
   "cell_type": "code",
   "execution_count": null,
   "metadata": {
    "id": "3R1OHbMt2a7P"
   },
   "outputs": [],
   "source": [
    "def agg_std(final, sw, sample_res):\n",
    "    cols_to_keep = ['by_gse', 'bz_gse', 'bt', 'density', 'speed']\n",
    "    sw = sw[cols_to_keep]\n",
    "    \n",
    "    sw = sw.reset_index(level='period')\n",
    "    sw.index=pd.to_timedelta(sw.index)\n",
    "    sw = sw.groupby('period').resample(sample_res).std()\n",
    "    \n",
    "    # rename the columns for the std\n",
    "    columns = [c+'_std' for c in sw.columns]\n",
    "    sw.columns = columns\n",
    "\n",
    "    df = final.join(sw)\n",
    "    return df"
   ]
  },
  {
   "cell_type": "code",
   "execution_count": null,
   "metadata": {
    "id": "d-N0XmO42jX1"
   },
   "outputs": [],
   "source": [
    "df_final = agg_std(alldata, solar_wind, '30T')\n"
   ]
  },
  {
   "cell_type": "code",
   "execution_count": null,
   "metadata": {
    "id": "seDPqbc226Sn"
   },
   "outputs": [],
   "source": [
    "df_to_save = df_final.reset_index(level='period')"
   ]
  },
  {
   "cell_type": "code",
   "execution_count": null,
   "metadata": {
    "colab": {
     "base_uri": "https://localhost:8080/",
     "height": 626
    },
    "id": "zZEcddg43j0-",
    "outputId": "4ced8fe4-32d7-49dc-aa43-ca424dd06f7b"
   },
   "outputs": [],
   "source": [
    "data_info(df_to_save)"
   ]
  },
  {
   "cell_type": "code",
   "execution_count": null,
   "metadata": {
    "id": "yb4l_KPe3pTK"
   },
   "outputs": [],
   "source": [
    "df_to_save.to_csv('/Users/shovitraj/Github/Python/MagNet/exported_data/30min.csv')"
   ]
  },
  {
   "cell_type": "code",
   "execution_count": null,
   "metadata": {
    "id": "ES-c94RG3uh1"
   },
   "outputs": [],
   "source": []
  }
 ],
 "metadata": {
  "colab": {
   "authorship_tag": "ABX9TyMMA5d/zsOpMBA+pU643tgB",
   "collapsed_sections": [],
   "include_colab_link": true,
   "name": "Sample Resolution.ipynb",
   "provenance": []
  },
  "kernelspec": {
   "display_name": "Python 3",
   "language": "python",
   "name": "python3"
  },
  "language_info": {
   "codemirror_mode": {
    "name": "ipython",
    "version": 3
   },
   "file_extension": ".py",
   "mimetype": "text/x-python",
   "name": "python",
   "nbconvert_exporter": "python",
   "pygments_lexer": "ipython3",
   "version": "3.8.5"
  }
 },
 "nbformat": 4,
 "nbformat_minor": 1
}
