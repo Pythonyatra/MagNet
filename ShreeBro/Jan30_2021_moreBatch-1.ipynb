{
 "cells": [
  {
   "cell_type": "code",
   "execution_count": null,
   "metadata": {
    "id": "Fjf8_gP6Whhk"
   },
   "outputs": [],
   "source": []
  },
  {
   "cell_type": "code",
   "execution_count": 3,
   "metadata": {
    "colab": {
     "base_uri": "https://localhost:8080/"
    },
    "id": "OzoDj0MUDDGv",
    "outputId": "da016d07-e6f0-4a15-a8fe-ce871c61b646"
   },
   "outputs": [],
   "source": [
    "from pathlib import Path\n",
    "\n",
    "import matplotlib.pyplot as plt\n",
    "import numpy as np\n",
    "import pandas as pd\n",
    "import os\n",
    "%matplotlib inline"
   ]
  },
  {
   "cell_type": "code",
   "execution_count": 4,
   "metadata": {
    "colab": {
     "base_uri": "https://localhost:8080/"
    },
    "id": "o_jIxtPcDesa",
    "outputId": "7d94a148-6b3c-414f-ef32-63f6cf92c9ae"
   },
   "outputs": [],
   "source": [
    "DATA_PATH = '/Users/shovitraj/Github/Python/MagNet_data/'"
   ]
  },
  {
   "cell_type": "code",
   "execution_count": 5,
   "metadata": {
    "id": "OEpID3GJDDGx"
   },
   "outputs": [],
   "source": [
    "dst = pd.read_csv(DATA_PATH +\"dst_labels.csv\")\n",
    "dst.timedelta = pd.to_timedelta(dst.timedelta)\n",
    "dst.set_index([\"period\", \"timedelta\"], inplace=True)\n",
    "\n",
    "sunspots = pd.read_csv(DATA_PATH + \"sunspots.csv\")\n",
    "sunspots.timedelta = pd.to_timedelta(sunspots.timedelta)\n",
    "sunspots.set_index([\"period\", \"timedelta\"], inplace=True)\n",
    "\n",
    "solar_wind = pd.read_csv(DATA_PATH + \"solar_wind.csv\")\n",
    "solar_wind.timedelta = pd.to_timedelta(solar_wind.timedelta)\n",
    "solar_wind.set_index([\"period\", \"timedelta\"], inplace=True)"
   ]
  },
  {
   "cell_type": "code",
   "execution_count": 6,
   "metadata": {
    "id": "UPq1cKgADDGx"
   },
   "outputs": [],
   "source": [
    "from numpy.random import seed\n",
    "from tensorflow.random import set_seed"
   ]
  },
  {
   "cell_type": "code",
   "execution_count": 7,
   "metadata": {
    "id": "G34dgNLZDDGy"
   },
   "outputs": [],
   "source": [
    "seed(2020)\n",
    "set_seed(2021)"
   ]
  },
  {
   "cell_type": "code",
   "execution_count": 8,
   "metadata": {
    "id": "6DQ_qBZRDDGy"
   },
   "outputs": [],
   "source": [
    "from sklearn.preprocessing import StandardScaler\n",
    "from tensorflow.keras.models import Sequential\n",
    "from tensorflow.keras.layers import LSTM, Dense, Dropout, BatchNormalization, Activation\n",
    "from tensorflow.keras import preprocessing\n",
    "from tensorflow.keras.callbacks import EarlyStopping\n",
    "from tensorflow.keras.optimizers import Adam"
   ]
  },
  {
   "cell_type": "code",
   "execution_count": 9,
   "metadata": {},
   "outputs": [],
   "source": [
    "# # subset of solar wind features to use for modeling\n",
    "# SOLAR_WIND_FEATURES = [ \"bx_gse\",\n",
    "#                         \"by_gse\",\n",
    "#                         \"bz_gse\",\n",
    "#                         \"speed\",\n",
    "#                         \"density\",\n",
    "#                         \"temperature\",\n",
    "#                         \"theta_gse\" ]\n",
    "\n",
    "# # all of the features we'll use, including sunspot numbers\n",
    "# #XCOLS = (\n",
    "# #    [col + \"_mean\" for col in SOLAR_WIND_FEATURES]\n",
    "# #    + [col + \"_std\" for col in SOLAR_WIND_FEATURES]\n",
    "# #    + [\"smoothed_ssn\"]\n",
    "# #)\n",
    "\n",
    "# XCOLS = (['bx_gse_mean', 'by_gse_mean', 'bz_gse_mean', 'bz_gse_std',\n",
    "#           'speed_mean', 'speed_std', 'density_mean', 'smoothed_ssn'])\n",
    "\n",
    "# def impute_features(feature_df):\n",
    "#     \"\"\"Imputes data using the following methods:\n",
    "#     - `smoothed_ssn`: forward fill\n",
    "#     - `solar_wind`: interpolation\n",
    "#     \"\"\"\n",
    "#     # forward fill sunspot data for the rest of the month\n",
    "#     feature_df.smoothed_ssn = feature_df.smoothed_ssn.fillna(method=\"ffill\")\n",
    "#     # interpolate between missing solar wind values\n",
    "#     feature_df = feature_df.interpolate()\n",
    "#     return feature_df\n",
    "\n",
    "\n",
    "# def aggregate_hourly(feature_df, aggs=[\"mean\", \"std\"]):\n",
    "#     \"\"\"Aggregates features to the floor of each hour using mean and standard deviation.\n",
    "#     e.g. All values from \"11:00:00\" to \"11:59:00\" will be aggregated to \"11:00:00\".\n",
    "#     \"\"\"\n",
    "#     # group by the floor of each hour use timedelta index\n",
    "#     agged = feature_df.groupby(\n",
    "#         [\"period\", feature_df.index.get_level_values(1).floor(\"H\")]\n",
    "#     ).agg(aggs)\n",
    "#     # flatten hierachical column index\n",
    "#     agged.columns = [\"_\".join(x) for x in agged.columns]\n",
    "#     return agged\n",
    "\n",
    "\n",
    "# def preprocess_features(solar_wind, sunspots, scaler=None, subset=None):\n",
    "#     \"\"\"\n",
    "#     Preprocessing steps:\n",
    "#         - Subset the data\n",
    "#         - Aggregate hourly\n",
    "#         - Join solar wind and sunspot data\n",
    "#         - Scale using standard scaler\n",
    "#         - Impute missing values\n",
    "#     \"\"\"\n",
    "#     # select features we want to use\n",
    "#     if subset:\n",
    "#         solar_wind = solar_wind[subset]\n",
    "\n",
    "#     # aggregate solar wind data and join with sunspots\n",
    "#     hourly_features = aggregate_hourly(solar_wind).join(sunspots)\n",
    "#     hourly_xcols = hourly_features[XCOLS]\n",
    "#     # subtract mean and divide by standard deviation\n",
    "#     if scaler is None:\n",
    "#         scaler = StandardScaler()\n",
    "#         scaler.fit(hourly_xcols)\n",
    "\n",
    "#     normalized = pd.DataFrame(\n",
    "#         scaler.transform(hourly_xcols),\n",
    "#         index=hourly_xcols.index,\n",
    "#         columns=hourly_xcols.columns,\n",
    "#     )\n",
    "\n",
    "#     # impute missing values\n",
    "#     imputed = impute_features(normalized)\n",
    "\n",
    "#     # we want to return the scaler object as well to use later during prediction\n",
    "#     return imputed, scaler"
   ]
  },
  {
   "cell_type": "code",
   "execution_count": 10,
   "metadata": {
    "id": "AQM3C8kHDDGy"
   },
   "outputs": [],
   "source": [
    "# subset of solar wind features to use for modeling\n",
    "SOLAR_WIND_FEATURES = [\n",
    "    \"bx_gse\",\n",
    "    \"by_gse\",\n",
    "    \"bz_gse\",\n",
    "    \"speed\",\n",
    "    \"density\",\n",
    "    \"temperature\",\n",
    "    'theta_gse',\n",
    "    'phi_gse'\n",
    "]\n",
    "\n",
    "# all of the features we'll use, including sunspot numbers\n",
    "XCOLS = (\n",
    "    [col + \"_mean\" for col in SOLAR_WIND_FEATURES]\n",
    "    + [col + \"_std\" for col in SOLAR_WIND_FEATURES]\n",
    "    + [\"smoothed_ssn\"]\n",
    ")\n",
    "\n",
    "\n",
    "XCOLS_NEW = (['bx_gse_mean', 'by_gse_mean', 'bz_gse_mean', 'bz_gse_std',\n",
    "          'speed_mean', 'speed_std', 'density_mean', 'smoothed_ssn'])\n",
    "\n",
    "def impute_features(feature_df):\n",
    "    \"\"\"Imputes data using the following methods:\n",
    "    - `smoothed_ssn`: forward fill\n",
    "    - `solar_wind`: interpolation\n",
    "    \"\"\"\n",
    "    # forward fill sunspot data for the rest of the month\n",
    "    feature_df.smoothed_ssn = feature_df.smoothed_ssn.fillna(method=\"ffill\")\n",
    "    # interpolate between missing solar wind values\n",
    "    feature_df = feature_df.interpolate()\n",
    "    return feature_df\n",
    "\n",
    "\n",
    "def aggregate_hourly(feature_df, aggs=[\"mean\", \"std\"]):\n",
    "    \"\"\"Aggregates features to the floor of each hour using mean and standard deviation.\n",
    "    e.g. All values from \"11:00:00\" to \"11:59:00\" will be aggregated to \"11:00:00\".\n",
    "    \"\"\"\n",
    "    # group by the floor of each hour use timedelta index\n",
    "    agged = feature_df.groupby(\n",
    "        [\"period\", feature_df.index.get_level_values(1).floor(\"H\")]\n",
    "    ).agg(aggs)\n",
    "    # flatten hierachical column index\n",
    "    agged.columns = [\"_\".join(x) for x in agged.columns]\n",
    "    return agged\n",
    "\n",
    "\n",
    "def preprocess_features(solar_wind, sunspots, scaler=None, subset=None):\n",
    "    \"\"\"\n",
    "    Preprocessing steps:\n",
    "        - Subset the data\n",
    "        - Aggregate hourly\n",
    "        - Join solar wind and sunspot data\n",
    "        - Scale using standard scaler\n",
    "        - Impute missing values\n",
    "    \"\"\"\n",
    "    # select features we want to use\n",
    "    if subset:\n",
    "        solar_wind = solar_wind[subset]\n",
    "\n",
    "    # aggregate solar wind data and join with sunspots\n",
    "    hourly_features = aggregate_hourly(solar_wind).join(sunspots)\n",
    "    hourly_xcols = hourly_features[XCOLS_NEW]\n",
    "\n",
    "    # subtract mean and divide by standard deviation\n",
    "    if scaler is None:\n",
    "        scaler = StandardScaler()\n",
    "        scaler.fit(hourly_xcols)\n",
    "\n",
    "    normalized = pd.DataFrame(\n",
    "        scaler.transform(hourly_xcols),\n",
    "        index=hourly_xcols.index,\n",
    "        columns=hourly_xcols.columns,\n",
    "    )\n",
    "\n",
    "    # impute missing values\n",
    "    imputed = impute_features(normalized)\n",
    "\n",
    "    # we want to return the scaler object as well to use later during prediction\n",
    "    return imputed, scaler\n",
    "   "
   ]
  },
  {
   "cell_type": "code",
   "execution_count": 11,
   "metadata": {
    "colab": {
     "base_uri": "https://localhost:8080/",
     "height": 357
    },
    "id": "QlJa99MeW6rE",
    "outputId": "8a89adbe-4dcb-47cb-c0cc-862ef1a18a6d"
   },
   "outputs": [
    {
     "name": "stdout",
     "output_type": "stream",
     "text": [
      "(139872, 8)\n"
     ]
    },
    {
     "data": {
      "text/html": [
       "<div>\n",
       "<style scoped>\n",
       "    .dataframe tbody tr th:only-of-type {\n",
       "        vertical-align: middle;\n",
       "    }\n",
       "\n",
       "    .dataframe tbody tr th {\n",
       "        vertical-align: top;\n",
       "    }\n",
       "\n",
       "    .dataframe thead th {\n",
       "        text-align: right;\n",
       "    }\n",
       "</style>\n",
       "<table border=\"1\" class=\"dataframe\">\n",
       "  <thead>\n",
       "    <tr style=\"text-align: right;\">\n",
       "      <th></th>\n",
       "      <th></th>\n",
       "      <th>bx_gse_mean</th>\n",
       "      <th>by_gse_mean</th>\n",
       "      <th>bz_gse_mean</th>\n",
       "      <th>bz_gse_std</th>\n",
       "      <th>speed_mean</th>\n",
       "      <th>speed_std</th>\n",
       "      <th>density_mean</th>\n",
       "      <th>smoothed_ssn</th>\n",
       "    </tr>\n",
       "    <tr>\n",
       "      <th>period</th>\n",
       "      <th>timedelta</th>\n",
       "      <th></th>\n",
       "      <th></th>\n",
       "      <th></th>\n",
       "      <th></th>\n",
       "      <th></th>\n",
       "      <th></th>\n",
       "      <th></th>\n",
       "      <th></th>\n",
       "    </tr>\n",
       "  </thead>\n",
       "  <tbody>\n",
       "    <tr>\n",
       "      <th rowspan=\"5\" valign=\"top\">train_a</th>\n",
       "      <th>0 days 00:00:00</th>\n",
       "      <td>-1.599207</td>\n",
       "      <td>0.419516</td>\n",
       "      <td>0.300358</td>\n",
       "      <td>-0.651645</td>\n",
       "      <td>-0.738546</td>\n",
       "      <td>0.862524</td>\n",
       "      <td>-0.775827</td>\n",
       "      <td>0.139444</td>\n",
       "    </tr>\n",
       "    <tr>\n",
       "      <th>0 days 01:00:00</th>\n",
       "      <td>-1.757995</td>\n",
       "      <td>0.179257</td>\n",
       "      <td>0.446103</td>\n",
       "      <td>-0.517913</td>\n",
       "      <td>-0.986904</td>\n",
       "      <td>0.995063</td>\n",
       "      <td>-0.861692</td>\n",
       "      <td>0.139444</td>\n",
       "    </tr>\n",
       "    <tr>\n",
       "      <th>0 days 02:00:00</th>\n",
       "      <td>-1.912116</td>\n",
       "      <td>0.183266</td>\n",
       "      <td>0.770174</td>\n",
       "      <td>-0.876490</td>\n",
       "      <td>-1.013548</td>\n",
       "      <td>0.554085</td>\n",
       "      <td>-0.846222</td>\n",
       "      <td>0.139444</td>\n",
       "    </tr>\n",
       "    <tr>\n",
       "      <th>0 days 03:00:00</th>\n",
       "      <td>-1.809045</td>\n",
       "      <td>-0.378111</td>\n",
       "      <td>0.621194</td>\n",
       "      <td>-0.290211</td>\n",
       "      <td>-0.826469</td>\n",
       "      <td>-0.211185</td>\n",
       "      <td>-0.404306</td>\n",
       "      <td>0.139444</td>\n",
       "    </tr>\n",
       "    <tr>\n",
       "      <th>0 days 04:00:00</th>\n",
       "      <td>-1.338802</td>\n",
       "      <td>0.072745</td>\n",
       "      <td>0.467629</td>\n",
       "      <td>-0.478080</td>\n",
       "      <td>-0.601238</td>\n",
       "      <td>1.016033</td>\n",
       "      <td>-0.371487</td>\n",
       "      <td>0.139444</td>\n",
       "    </tr>\n",
       "  </tbody>\n",
       "</table>\n",
       "</div>"
      ],
      "text/plain": [
       "                         bx_gse_mean  by_gse_mean  bz_gse_mean  bz_gse_std  \\\n",
       "period  timedelta                                                            \n",
       "train_a 0 days 00:00:00    -1.599207     0.419516     0.300358   -0.651645   \n",
       "        0 days 01:00:00    -1.757995     0.179257     0.446103   -0.517913   \n",
       "        0 days 02:00:00    -1.912116     0.183266     0.770174   -0.876490   \n",
       "        0 days 03:00:00    -1.809045    -0.378111     0.621194   -0.290211   \n",
       "        0 days 04:00:00    -1.338802     0.072745     0.467629   -0.478080   \n",
       "\n",
       "                         speed_mean  speed_std  density_mean  smoothed_ssn  \n",
       "period  timedelta                                                           \n",
       "train_a 0 days 00:00:00   -0.738546   0.862524     -0.775827      0.139444  \n",
       "        0 days 01:00:00   -0.986904   0.995063     -0.861692      0.139444  \n",
       "        0 days 02:00:00   -1.013548   0.554085     -0.846222      0.139444  \n",
       "        0 days 03:00:00   -0.826469  -0.211185     -0.404306      0.139444  \n",
       "        0 days 04:00:00   -0.601238   1.016033     -0.371487      0.139444  "
      ]
     },
     "execution_count": 11,
     "metadata": {},
     "output_type": "execute_result"
    }
   ],
   "source": [
    "features, scaler = preprocess_features(solar_wind, sunspots, subset=SOLAR_WIND_FEATURES)\n",
    "print(features.shape)\n",
    "features.head()"
   ]
  },
  {
   "cell_type": "code",
   "execution_count": 12,
   "metadata": {
    "id": "RiezmkUvW_60"
   },
   "outputs": [],
   "source": [
    "# check to make sure missing values are filled\n",
    "assert (features.isna().sum() == 0).all()"
   ]
  },
  {
   "cell_type": "code",
   "execution_count": 13,
   "metadata": {
    "colab": {
     "base_uri": "https://localhost:8080/",
     "height": 235
    },
    "id": "fNF-BjxQXCOi",
    "outputId": "c9aaa55a-ae0d-4657-8bd3-f9654ab7640d"
   },
   "outputs": [
    {
     "data": {
      "text/html": [
       "<div>\n",
       "<style scoped>\n",
       "    .dataframe tbody tr th:only-of-type {\n",
       "        vertical-align: middle;\n",
       "    }\n",
       "\n",
       "    .dataframe tbody tr th {\n",
       "        vertical-align: top;\n",
       "    }\n",
       "\n",
       "    .dataframe thead th {\n",
       "        text-align: right;\n",
       "    }\n",
       "</style>\n",
       "<table border=\"1\" class=\"dataframe\">\n",
       "  <thead>\n",
       "    <tr style=\"text-align: right;\">\n",
       "      <th></th>\n",
       "      <th></th>\n",
       "      <th>t0</th>\n",
       "      <th>t1</th>\n",
       "    </tr>\n",
       "    <tr>\n",
       "      <th>period</th>\n",
       "      <th>timedelta</th>\n",
       "      <th></th>\n",
       "      <th></th>\n",
       "    </tr>\n",
       "  </thead>\n",
       "  <tbody>\n",
       "    <tr>\n",
       "      <th rowspan=\"5\" valign=\"top\">train_a</th>\n",
       "      <th>0 days 00:00:00</th>\n",
       "      <td>-7</td>\n",
       "      <td>-10.0</td>\n",
       "    </tr>\n",
       "    <tr>\n",
       "      <th>0 days 01:00:00</th>\n",
       "      <td>-10</td>\n",
       "      <td>-10.0</td>\n",
       "    </tr>\n",
       "    <tr>\n",
       "      <th>0 days 02:00:00</th>\n",
       "      <td>-10</td>\n",
       "      <td>-6.0</td>\n",
       "    </tr>\n",
       "    <tr>\n",
       "      <th>0 days 03:00:00</th>\n",
       "      <td>-6</td>\n",
       "      <td>-2.0</td>\n",
       "    </tr>\n",
       "    <tr>\n",
       "      <th>0 days 04:00:00</th>\n",
       "      <td>-2</td>\n",
       "      <td>3.0</td>\n",
       "    </tr>\n",
       "  </tbody>\n",
       "</table>\n",
       "</div>"
      ],
      "text/plain": [
       "                         t0    t1\n",
       "period  timedelta                \n",
       "train_a 0 days 00:00:00  -7 -10.0\n",
       "        0 days 01:00:00 -10 -10.0\n",
       "        0 days 02:00:00 -10  -6.0\n",
       "        0 days 03:00:00  -6  -2.0\n",
       "        0 days 04:00:00  -2   3.0"
      ]
     },
     "execution_count": 13,
     "metadata": {},
     "output_type": "execute_result"
    }
   ],
   "source": [
    "YCOLS = [\"t0\", \"t1\"]\n",
    "\n",
    "\n",
    "def process_labels(dst):\n",
    "    y = dst.copy()\n",
    "    y[\"t1\"] = y.groupby(\"period\").dst.shift(-1)\n",
    "    y.columns = YCOLS\n",
    "    return y\n",
    "\n",
    "\n",
    "labels = process_labels(dst)\n",
    "labels.head()"
   ]
  },
  {
   "cell_type": "code",
   "execution_count": 14,
   "metadata": {
    "colab": {
     "base_uri": "https://localhost:8080/",
     "height": 340
    },
    "id": "abqBOmG-XEHT",
    "outputId": "bd2ee012-f728-428e-b634-ab64d188627d"
   },
   "outputs": [
    {
     "data": {
      "text/html": [
       "<div>\n",
       "<style scoped>\n",
       "    .dataframe tbody tr th:only-of-type {\n",
       "        vertical-align: middle;\n",
       "    }\n",
       "\n",
       "    .dataframe tbody tr th {\n",
       "        vertical-align: top;\n",
       "    }\n",
       "\n",
       "    .dataframe thead th {\n",
       "        text-align: right;\n",
       "    }\n",
       "</style>\n",
       "<table border=\"1\" class=\"dataframe\">\n",
       "  <thead>\n",
       "    <tr style=\"text-align: right;\">\n",
       "      <th></th>\n",
       "      <th></th>\n",
       "      <th>t0</th>\n",
       "      <th>t1</th>\n",
       "      <th>bx_gse_mean</th>\n",
       "      <th>by_gse_mean</th>\n",
       "      <th>bz_gse_mean</th>\n",
       "      <th>bz_gse_std</th>\n",
       "      <th>speed_mean</th>\n",
       "      <th>speed_std</th>\n",
       "      <th>density_mean</th>\n",
       "      <th>smoothed_ssn</th>\n",
       "    </tr>\n",
       "    <tr>\n",
       "      <th>period</th>\n",
       "      <th>timedelta</th>\n",
       "      <th></th>\n",
       "      <th></th>\n",
       "      <th></th>\n",
       "      <th></th>\n",
       "      <th></th>\n",
       "      <th></th>\n",
       "      <th></th>\n",
       "      <th></th>\n",
       "      <th></th>\n",
       "      <th></th>\n",
       "    </tr>\n",
       "  </thead>\n",
       "  <tbody>\n",
       "    <tr>\n",
       "      <th rowspan=\"5\" valign=\"top\">train_a</th>\n",
       "      <th>0 days 00:00:00</th>\n",
       "      <td>-7</td>\n",
       "      <td>-10.0</td>\n",
       "      <td>-1.599207</td>\n",
       "      <td>0.419516</td>\n",
       "      <td>0.300358</td>\n",
       "      <td>-0.651645</td>\n",
       "      <td>-0.738546</td>\n",
       "      <td>0.862524</td>\n",
       "      <td>-0.775827</td>\n",
       "      <td>0.139444</td>\n",
       "    </tr>\n",
       "    <tr>\n",
       "      <th>0 days 01:00:00</th>\n",
       "      <td>-10</td>\n",
       "      <td>-10.0</td>\n",
       "      <td>-1.757995</td>\n",
       "      <td>0.179257</td>\n",
       "      <td>0.446103</td>\n",
       "      <td>-0.517913</td>\n",
       "      <td>-0.986904</td>\n",
       "      <td>0.995063</td>\n",
       "      <td>-0.861692</td>\n",
       "      <td>0.139444</td>\n",
       "    </tr>\n",
       "    <tr>\n",
       "      <th>0 days 02:00:00</th>\n",
       "      <td>-10</td>\n",
       "      <td>-6.0</td>\n",
       "      <td>-1.912116</td>\n",
       "      <td>0.183266</td>\n",
       "      <td>0.770174</td>\n",
       "      <td>-0.876490</td>\n",
       "      <td>-1.013548</td>\n",
       "      <td>0.554085</td>\n",
       "      <td>-0.846222</td>\n",
       "      <td>0.139444</td>\n",
       "    </tr>\n",
       "    <tr>\n",
       "      <th>0 days 03:00:00</th>\n",
       "      <td>-6</td>\n",
       "      <td>-2.0</td>\n",
       "      <td>-1.809045</td>\n",
       "      <td>-0.378111</td>\n",
       "      <td>0.621194</td>\n",
       "      <td>-0.290211</td>\n",
       "      <td>-0.826469</td>\n",
       "      <td>-0.211185</td>\n",
       "      <td>-0.404306</td>\n",
       "      <td>0.139444</td>\n",
       "    </tr>\n",
       "    <tr>\n",
       "      <th>0 days 04:00:00</th>\n",
       "      <td>-2</td>\n",
       "      <td>3.0</td>\n",
       "      <td>-1.338802</td>\n",
       "      <td>0.072745</td>\n",
       "      <td>0.467629</td>\n",
       "      <td>-0.478080</td>\n",
       "      <td>-0.601238</td>\n",
       "      <td>1.016033</td>\n",
       "      <td>-0.371487</td>\n",
       "      <td>0.139444</td>\n",
       "    </tr>\n",
       "  </tbody>\n",
       "</table>\n",
       "</div>"
      ],
      "text/plain": [
       "                         t0    t1  bx_gse_mean  by_gse_mean  bz_gse_mean  \\\n",
       "period  timedelta                                                          \n",
       "train_a 0 days 00:00:00  -7 -10.0    -1.599207     0.419516     0.300358   \n",
       "        0 days 01:00:00 -10 -10.0    -1.757995     0.179257     0.446103   \n",
       "        0 days 02:00:00 -10  -6.0    -1.912116     0.183266     0.770174   \n",
       "        0 days 03:00:00  -6  -2.0    -1.809045    -0.378111     0.621194   \n",
       "        0 days 04:00:00  -2   3.0    -1.338802     0.072745     0.467629   \n",
       "\n",
       "                         bz_gse_std  speed_mean  speed_std  density_mean  \\\n",
       "period  timedelta                                                          \n",
       "train_a 0 days 00:00:00   -0.651645   -0.738546   0.862524     -0.775827   \n",
       "        0 days 01:00:00   -0.517913   -0.986904   0.995063     -0.861692   \n",
       "        0 days 02:00:00   -0.876490   -1.013548   0.554085     -0.846222   \n",
       "        0 days 03:00:00   -0.290211   -0.826469  -0.211185     -0.404306   \n",
       "        0 days 04:00:00   -0.478080   -0.601238   1.016033     -0.371487   \n",
       "\n",
       "                         smoothed_ssn  \n",
       "period  timedelta                      \n",
       "train_a 0 days 00:00:00      0.139444  \n",
       "        0 days 01:00:00      0.139444  \n",
       "        0 days 02:00:00      0.139444  \n",
       "        0 days 03:00:00      0.139444  \n",
       "        0 days 04:00:00      0.139444  "
      ]
     },
     "execution_count": 14,
     "metadata": {},
     "output_type": "execute_result"
    }
   ],
   "source": [
    "data = labels.join(features)\n",
    "data.head()"
   ]
  },
  {
   "cell_type": "code",
   "execution_count": 15,
   "metadata": {
    "id": "IYJu4DPGXJW7"
   },
   "outputs": [],
   "source": [
    "data=data[['t0', 't1','bx_gse_mean', 'by_gse_mean',\n",
    "       'bz_gse_mean', 'bz_gse_std', 'speed_mean', 'speed_std', 'density_mean',\n",
    "        'smoothed_ssn']]"
   ]
  },
  {
   "cell_type": "code",
   "execution_count": 16,
   "metadata": {
    "id": "OM5W5ukOXMSC"
   },
   "outputs": [],
   "source": [
    "def get_train_test_val(data, test_per_period, val_per_period):\n",
    "    \"\"\"Splits data across periods into train, test, and validation\"\"\"\n",
    "    # assign the last `test_per_period` rows from each period to test\n",
    "    test = data.groupby(\"period\").tail(test_per_period)\n",
    "    interim = data[~data.index.isin(test.index)]\n",
    "    # assign the last `val_per_period` from the remaining rows to validation\n",
    "    val = interim.groupby(\"period\").tail(val_per_period)\n",
    "    # the remaining rows are assigned to train\n",
    "    train = interim[~interim.index.isin(val.index)]\n",
    "    return train, test, val\n",
    "\n",
    "\n",
    "train, test, val = get_train_test_val(data, test_per_period=6_000, val_per_period=6_000)\n"
   ]
  },
  {
   "cell_type": "code",
   "execution_count": 17,
   "metadata": {
    "colab": {
     "base_uri": "https://localhost:8080/"
    },
    "id": "QByjIL_aXRdK",
    "outputId": "e58f9a99-4d18-4cdb-8e90-04ce27e42276"
   },
   "outputs": [
    {
     "data": {
      "text/plain": [
       "Index(['t0', 't1', 'bx_gse_mean', 'by_gse_mean', 'bz_gse_mean', 'bz_gse_std',\n",
       "       'speed_mean', 'speed_std', 'density_mean', 'smoothed_ssn'],\n",
       "      dtype='object')"
      ]
     },
     "execution_count": 17,
     "metadata": {},
     "output_type": "execute_result"
    }
   ],
   "source": [
    "XCOLS=data.columns\n",
    "XCOLS"
   ]
  },
  {
   "cell_type": "code",
   "execution_count": 18,
   "metadata": {
    "colab": {
     "base_uri": "https://localhost:8080/"
    },
    "id": "lXZRKj6CXUTD",
    "outputId": "69928425-4531-48d1-f701-4c7dbcc3ae6d"
   },
   "outputs": [
    {
     "name": "stdout",
     "output_type": "stream",
     "text": [
      "Number of train batches: 748\n",
      "Number of val batches: 126\n"
     ]
    }
   ],
   "source": [
    "data_config = {\n",
    "    \"timesteps\": 138,\n",
    "    \"batch_size\":138,\n",
    "}\n",
    "\n",
    "\n",
    "def timeseries_dataset_from_df(df, batch_size):\n",
    "    dataset = None\n",
    "    timesteps = data_config[\"timesteps\"]\n",
    "\n",
    "    # iterate through periods\n",
    "    for _, period_df in df.groupby(\"period\"):\n",
    "        # realign features and labels so that first sequence of 32 is aligned with the 33rd target\n",
    "        inputs = period_df[XCOLS][:-timesteps]\n",
    "        outputs = period_df[YCOLS][timesteps:]\n",
    "\n",
    "        period_ds = preprocessing.timeseries_dataset_from_array(\n",
    "            inputs,\n",
    "            outputs,\n",
    "            timesteps,\n",
    "            batch_size=batch_size,\n",
    "        )\n",
    "\n",
    "        if dataset is None:\n",
    "            dataset = period_ds\n",
    "        else:\n",
    "            dataset = dataset.concatenate(period_ds)\n",
    "\n",
    "    return dataset\n",
    "\n",
    "\n",
    "train_ds = timeseries_dataset_from_df(train, data_config[\"batch_size\"])\n",
    "val_ds = timeseries_dataset_from_df(val, data_config[\"batch_size\"])\n",
    "\n",
    "print(f\"Number of train batches: {len(train_ds)}\")\n",
    "print(f\"Number of val batches: {len(val_ds)}\")"
   ]
  },
  {
   "cell_type": "code",
   "execution_count": 19,
   "metadata": {
    "colab": {
     "base_uri": "https://localhost:8080/"
    },
    "id": "HAyqRRGVXXZK",
    "outputId": "4817525a-d791-4227-b698-8f4c2e2f5fed"
   },
   "outputs": [
    {
     "name": "stdout",
     "output_type": "stream",
     "text": [
      "(139872, 10)\n"
     ]
    }
   ],
   "source": [
    "print(data.shape)"
   ]
  },
  {
   "cell_type": "code",
   "execution_count": 20,
   "metadata": {
    "colab": {
     "base_uri": "https://localhost:8080/"
    },
    "id": "oVcdUwsFXZlk",
    "outputId": "9113e032-3ef4-4edd-abc8-10614ceab42b"
   },
   "outputs": [
    {
     "name": "stdout",
     "output_type": "stream",
     "text": [
      "Model: \"sequential\"\n",
      "_________________________________________________________________\n",
      "Layer (type)                 Output Shape              Param #   \n",
      "=================================================================\n",
      "lstm (LSTM)                  (None, 32)                5504      \n",
      "_________________________________________________________________\n",
      "dense (Dense)                (None, 32)                1056      \n",
      "_________________________________________________________________\n",
      "dropout (Dropout)            (None, 32)                0         \n",
      "_________________________________________________________________\n",
      "dense_1 (Dense)              (None, 32)                1056      \n",
      "_________________________________________________________________\n",
      "dropout_1 (Dropout)          (None, 32)                0         \n",
      "_________________________________________________________________\n",
      "dense_2 (Dense)              (None, 2)                 66        \n",
      "=================================================================\n",
      "Total params: 7,682\n",
      "Trainable params: 7,682\n",
      "Non-trainable params: 0\n",
      "_________________________________________________________________\n"
     ]
    }
   ],
   "source": [
    "# define our model\n",
    "from tensorflow.keras.layers import Dropout\n",
    "model_config = {\"n_epochs\": 90, \"n_neurons\": 32,\n",
    "                  \"dropout\": 0.4, \"stateful\": False}\n",
    "\n",
    "def models():\n",
    "  \n",
    "    model = Sequential()\n",
    "    model.add(\n",
    "      LSTM(\n",
    "          model_config[\"n_neurons\"],\n",
    "          # usually set to (batch_size, sequence_length, n_features)\n",
    "          # setting the batch size to None allows for variable length batches\n",
    "          batch_input_shape=(None, data_config[\"timesteps\"], len(XCOLS)),\n",
    "          stateful=model_config[\"stateful\"],\n",
    "          kernel_regularizer='l2',\n",
    "      )\n",
    "  )\n",
    " \n",
    "    model.add(Dense(32,kernel_regularizer='l2'))\n",
    "    model.add(Dropout(0.4))\n",
    "    model.add(Dense(32,kernel_regularizer='l2'))\n",
    "    model.add(Dropout(0.4))\n",
    "  #model.add(Dense())\n",
    "    model.add(Dense(len(YCOLS)))\n",
    "    opt=Adam(learning_rate=0.00001)\n",
    "    model.compile(\n",
    "      loss=\"mean_squared_error\",\n",
    "      optimizer=opt,\n",
    "    )\n",
    "    return model\n",
    "\n",
    "model_final4=models()\n",
    "model_final4.summary()"
   ]
  },
  {
   "cell_type": "code",
   "execution_count": 21,
   "metadata": {
    "colab": {
     "base_uri": "https://localhost:8080/"
    },
    "id": "GYzIrsoqXb0j",
    "outputId": "6fd8c34f-15cb-41dd-f842-cec6e3159658"
   },
   "outputs": [
    {
     "name": "stdout",
     "output_type": "stream",
     "text": [
      "Epoch 1/90\n",
      "748/748 [==============================] - 42s 54ms/step - loss: 604.2795 - val_loss: 491.7629\n",
      "Epoch 2/90\n",
      "748/748 [==============================] - 36s 49ms/step - loss: 581.2033 - val_loss: 471.5912\n",
      "Epoch 3/90\n",
      "748/748 [==============================] - 38s 50ms/step - loss: 551.1778 - val_loss: 445.0203\n",
      "Epoch 4/90\n",
      "748/748 [==============================] - 47s 63ms/step - loss: 513.7193 - val_loss: 413.3471\n",
      "Epoch 5/90\n",
      "748/748 [==============================] - 45s 60ms/step - loss: 470.9299 - val_loss: 382.0183\n",
      "Epoch 6/90\n",
      "748/748 [==============================] - 48s 64ms/step - loss: 430.7098 - val_loss: 353.4606\n",
      "Epoch 7/90\n",
      "748/748 [==============================] - 51s 68ms/step - loss: 394.3636 - val_loss: 328.3347\n",
      "Epoch 8/90\n",
      "748/748 [==============================] - 50s 66ms/step - loss: 362.2748 - val_loss: 306.1612\n",
      "Epoch 9/90\n",
      "748/748 [==============================] - 49s 66ms/step - loss: 333.4778 - val_loss: 286.5801\n",
      "Epoch 10/90\n",
      "748/748 [==============================] - 48s 65ms/step - loss: 308.3393 - val_loss: 268.9710\n",
      "Epoch 11/90\n",
      "748/748 [==============================] - 42s 56ms/step - loss: 286.2218 - val_loss: 252.9957\n",
      "Epoch 12/90\n",
      "748/748 [==============================] - 45s 61ms/step - loss: 266.3352 - val_loss: 238.4813\n",
      "Epoch 13/90\n",
      "748/748 [==============================] - 47s 62ms/step - loss: 245.8888 - val_loss: 225.1951\n",
      "Epoch 14/90\n",
      "748/748 [==============================] - 40s 54ms/step - loss: 231.1822 - val_loss: 213.3354\n",
      "Epoch 15/90\n",
      "748/748 [==============================] - 40s 54ms/step - loss: 214.5758 - val_loss: 202.6730\n",
      "Epoch 16/90\n",
      "748/748 [==============================] - 40s 53ms/step - loss: 202.4330 - val_loss: 193.0865\n",
      "Epoch 17/90\n",
      "748/748 [==============================] - 39s 53ms/step - loss: 189.5167 - val_loss: 184.7915\n",
      "Epoch 18/90\n",
      "748/748 [==============================] - 39s 53ms/step - loss: 179.8256 - val_loss: 176.8955\n",
      "Epoch 19/90\n",
      "748/748 [==============================] - 40s 53ms/step - loss: 171.3116 - val_loss: 169.9122\n",
      "Epoch 20/90\n",
      "748/748 [==============================] - 40s 54ms/step - loss: 161.4174 - val_loss: 163.4672\n",
      "Epoch 21/90\n",
      "748/748 [==============================] - 40s 53ms/step - loss: 156.5773 - val_loss: 157.4048\n",
      "Epoch 22/90\n",
      "748/748 [==============================] - 40s 54ms/step - loss: 147.0693 - val_loss: 151.8334\n",
      "Epoch 23/90\n",
      "748/748 [==============================] - 40s 53ms/step - loss: 141.3059 - val_loss: 146.7141\n",
      "Epoch 24/90\n",
      "748/748 [==============================] - 42s 56ms/step - loss: 135.7623 - val_loss: 141.7757\n",
      "Epoch 25/90\n",
      "748/748 [==============================] - 41s 55ms/step - loss: 130.3786 - val_loss: 137.4125\n",
      "Epoch 26/90\n",
      "748/748 [==============================] - 39s 52ms/step - loss: 126.6621 - val_loss: 132.9545\n",
      "Epoch 27/90\n",
      "748/748 [==============================] - 40s 54ms/step - loss: 122.2409 - val_loss: 129.0086\n",
      "Epoch 28/90\n",
      "748/748 [==============================] - 41s 55ms/step - loss: 117.8557 - val_loss: 125.2390\n",
      "Epoch 29/90\n",
      "748/748 [==============================] - 41s 55ms/step - loss: 114.5873 - val_loss: 121.7981\n",
      "Epoch 30/90\n",
      "748/748 [==============================] - 40s 54ms/step - loss: 110.9291 - val_loss: 118.4536\n",
      "Epoch 31/90\n",
      "748/748 [==============================] - 40s 54ms/step - loss: 107.8559 - val_loss: 115.3263\n",
      "Epoch 32/90\n",
      "748/748 [==============================] - 40s 54ms/step - loss: 103.2497 - val_loss: 112.2504\n",
      "Epoch 33/90\n",
      "748/748 [==============================] - 40s 54ms/step - loss: 100.7864 - val_loss: 109.4357\n",
      "Epoch 34/90\n",
      "748/748 [==============================] - 40s 54ms/step - loss: 97.4597 - val_loss: 106.5489\n",
      "Epoch 35/90\n",
      "748/748 [==============================] - 40s 54ms/step - loss: 96.7325 - val_loss: 103.9541\n",
      "Epoch 36/90\n",
      "748/748 [==============================] - 43s 57ms/step - loss: 93.4556 - val_loss: 101.5401\n",
      "Epoch 37/90\n",
      "748/748 [==============================] - 47s 63ms/step - loss: 90.8758 - val_loss: 99.2698\n",
      "Epoch 38/90\n",
      "748/748 [==============================] - 46s 62ms/step - loss: 89.3142 - val_loss: 96.8733\n",
      "Epoch 39/90\n",
      "748/748 [==============================] - 49s 65ms/step - loss: 84.7880 - val_loss: 94.8247\n",
      "Epoch 40/90\n",
      "748/748 [==============================] - 40s 53ms/step - loss: 83.9595 - val_loss: 92.7458\n",
      "Epoch 41/90\n",
      "748/748 [==============================] - 39s 53ms/step - loss: 83.5527 - val_loss: 90.7276\n",
      "Epoch 42/90\n",
      "748/748 [==============================] - 40s 53ms/step - loss: 80.1239 - val_loss: 88.8829\n",
      "Epoch 43/90\n",
      "748/748 [==============================] - 41s 55ms/step - loss: 78.0651 - val_loss: 87.0387\n",
      "Epoch 44/90\n",
      "748/748 [==============================] - 44s 59ms/step - loss: 79.4166 - val_loss: 85.4277\n",
      "Epoch 45/90\n",
      "748/748 [==============================] - 43s 58ms/step - loss: 77.4810 - val_loss: 83.5316\n",
      "Epoch 46/90\n",
      "748/748 [==============================] - 48s 65ms/step - loss: 74.3086 - val_loss: 82.0132\n",
      "Epoch 47/90\n",
      "748/748 [==============================] - 48s 64ms/step - loss: 73.8426 - val_loss: 80.3120\n",
      "Epoch 48/90\n",
      "748/748 [==============================] - 42s 56ms/step - loss: 70.7155 - val_loss: 78.8407\n",
      "Epoch 49/90\n",
      "748/748 [==============================] - 45s 60ms/step - loss: 72.6266 - val_loss: 77.5331\n",
      "Epoch 50/90\n",
      "748/748 [==============================] - 45s 61ms/step - loss: 70.7990 - val_loss: 76.1576\n",
      "Epoch 51/90\n",
      "748/748 [==============================] - 44s 59ms/step - loss: 68.5419 - val_loss: 74.7023\n",
      "Epoch 52/90\n",
      "748/748 [==============================] - 45s 61ms/step - loss: 67.5323 - val_loss: 73.2661\n",
      "Epoch 53/90\n",
      "748/748 [==============================] - 45s 60ms/step - loss: 66.2678 - val_loss: 71.9605\n",
      "Epoch 54/90\n",
      "748/748 [==============================] - 46s 61ms/step - loss: 66.6632 - val_loss: 70.6896\n",
      "Epoch 55/90\n",
      "748/748 [==============================] - 43s 58ms/step - loss: 66.5200 - val_loss: 69.4517\n",
      "Epoch 56/90\n",
      "748/748 [==============================] - 47s 63ms/step - loss: 64.5026 - val_loss: 68.1053\n",
      "Epoch 57/90\n",
      "748/748 [==============================] - 50s 67ms/step - loss: 62.7853 - val_loss: 66.9889\n",
      "Epoch 58/90\n",
      "748/748 [==============================] - 45s 60ms/step - loss: 61.6354 - val_loss: 65.9367\n",
      "Epoch 59/90\n",
      "748/748 [==============================] - 46s 62ms/step - loss: 61.1842 - val_loss: 64.6284\n",
      "Epoch 60/90\n",
      "748/748 [==============================] - 46s 62ms/step - loss: 60.0498 - val_loss: 63.5301\n",
      "Epoch 61/90\n",
      "748/748 [==============================] - 44s 58ms/step - loss: 59.1935 - val_loss: 62.5979\n",
      "Epoch 62/90\n",
      "748/748 [==============================] - 44s 58ms/step - loss: 60.8984 - val_loss: 61.6983\n",
      "Epoch 63/90\n",
      "748/748 [==============================] - 47s 63ms/step - loss: 58.9633 - val_loss: 60.5411\n",
      "Epoch 64/90\n",
      "748/748 [==============================] - 44s 58ms/step - loss: 59.6959 - val_loss: 59.7133\n",
      "Epoch 65/90\n",
      "748/748 [==============================] - 45s 60ms/step - loss: 56.8360 - val_loss: 58.6990\n",
      "Epoch 66/90\n",
      "748/748 [==============================] - 40s 54ms/step - loss: 56.9482 - val_loss: 57.6761\n",
      "Epoch 67/90\n",
      "748/748 [==============================] - 42s 56ms/step - loss: 55.6422 - val_loss: 56.8837\n",
      "Epoch 68/90\n",
      "748/748 [==============================] - 47s 63ms/step - loss: 55.2288 - val_loss: 56.2985\n",
      "Epoch 69/90\n",
      "748/748 [==============================] - 42s 57ms/step - loss: 55.1973 - val_loss: 55.3712\n",
      "Epoch 70/90\n",
      "748/748 [==============================] - 39s 52ms/step - loss: 56.0475 - val_loss: 54.7243\n",
      "Epoch 71/90\n",
      "748/748 [==============================] - 42s 56ms/step - loss: 56.7340 - val_loss: 53.6272\n",
      "Epoch 72/90\n",
      "748/748 [==============================] - 43s 57ms/step - loss: 54.9510 - val_loss: 52.7941\n",
      "Epoch 73/90\n",
      "748/748 [==============================] - 42s 56ms/step - loss: 54.8306 - val_loss: 52.0379\n",
      "Epoch 74/90\n",
      "748/748 [==============================] - 37s 50ms/step - loss: 52.8590 - val_loss: 51.5762\n",
      "Epoch 75/90\n",
      "748/748 [==============================] - 37s 49ms/step - loss: 53.5687 - val_loss: 50.5510\n",
      "Epoch 76/90\n",
      "748/748 [==============================] - 36s 48ms/step - loss: 52.6187 - val_loss: 50.0740\n",
      "Epoch 77/90\n",
      "748/748 [==============================] - 38s 51ms/step - loss: 52.2339 - val_loss: 49.3125\n",
      "Epoch 78/90\n"
     ]
    },
    {
     "name": "stdout",
     "output_type": "stream",
     "text": [
      "748/748 [==============================] - 36s 48ms/step - loss: 52.4107 - val_loss: 48.5247\n",
      "Epoch 79/90\n",
      "748/748 [==============================] - 37s 49ms/step - loss: 51.2727 - val_loss: 47.8947\n",
      "Epoch 80/90\n",
      "748/748 [==============================] - 40s 53ms/step - loss: 50.5184 - val_loss: 47.1614\n",
      "Epoch 81/90\n",
      "748/748 [==============================] - 41s 55ms/step - loss: 50.2589 - val_loss: 46.7547\n",
      "Epoch 82/90\n",
      "748/748 [==============================] - 39s 52ms/step - loss: 51.5306 - val_loss: 46.1984\n",
      "Epoch 83/90\n",
      "748/748 [==============================] - 43s 58ms/step - loss: 49.5366 - val_loss: 45.4514\n",
      "Epoch 84/90\n",
      "748/748 [==============================] - 39s 53ms/step - loss: 48.2533 - val_loss: 45.0358\n",
      "Epoch 85/90\n",
      "748/748 [==============================] - 40s 53ms/step - loss: 49.7660 - val_loss: 44.1887\n",
      "Epoch 86/90\n",
      "748/748 [==============================] - 37s 49ms/step - loss: 47.7125 - val_loss: 43.4761\n",
      "Epoch 87/90\n",
      "748/748 [==============================] - 37s 49ms/step - loss: 48.3679 - val_loss: 43.0158\n",
      "Epoch 88/90\n",
      "748/748 [==============================] - 42s 56ms/step - loss: 48.0377 - val_loss: 42.5376\n",
      "Epoch 89/90\n",
      "748/748 [==============================] - 48s 64ms/step - loss: 47.3114 - val_loss: 42.0085\n",
      "Epoch 90/90\n",
      "748/748 [==============================] - 43s 57ms/step - loss: 48.6666 - val_loss: 41.7208\n"
     ]
    }
   ],
   "source": [
    "es = EarlyStopping(monitor='val_loss', mode='min', verbose=1, patience=15)\n",
    "history_final4 = model_final4.fit(\n",
    "    train_ds,\n",
    "    batch_size=data_config[\"batch_size\"],\n",
    "    epochs=model_config[\"n_epochs\"],\n",
    "    verbose=1,\n",
    "    shuffle=False,\n",
    "    validation_data=val_ds,\n",
    "    callbacks=[es]\n",
    ")"
   ]
  },
  {
   "cell_type": "code",
   "execution_count": 22,
   "metadata": {
    "colab": {
     "base_uri": "https://localhost:8080/",
     "height": 299
    },
    "id": "modIygY6Xgal",
    "outputId": "6de1b65c-0494-4d56-f10b-f9191929d47b"
   },
   "outputs": [
    {
     "name": "stdout",
     "output_type": "stream",
     "text": [
      "126/126 [==============================] - 3s 25ms/step - loss: 50.6590\n",
      "Test RMSE: 7.1175\n"
     ]
    },
    {
     "data": {
      "image/png": "[encoded data removed]",
      "text/plain": [
       "<Figure size 432x288 with 1 Axes>"
      ]
     },
     "metadata": {
      "needs_background": "light"
     },
     "output_type": "display_data"
    }
   ],
   "source": [
    "test_ds = timeseries_dataset_from_df(test, data_config[\"batch_size\"])\n",
    "mse = model_final4.evaluate(test_ds)\n",
    "print(f\"Test RMSE: {mse**.5:.4f}\")\n",
    "for name, values in history_final4.history.items():\n",
    "    plt.plot(values)\n",
    "    plt.grid(\"True\")\n"
   ]
  },
  {
   "cell_type": "code",
   "execution_count": 23,
   "metadata": {},
   "outputs": [
    {
     "name": "stdout",
     "output_type": "stream",
     "text": [
      "748/748 [==============================] - 19s 25ms/step - loss: 18.9397\n",
      "Train RMSE: 4.3520\n"
     ]
    }
   ],
   "source": [
    "train_ds = timeseries_dataset_from_df(train, data_config[\"batch_size\"])\n",
    "tmse = model_final4.evaluate(train_ds)\n",
    "print(f\"Train RMSE: {tmse**.5:.4f}\")"
   ]
  },
  {
   "cell_type": "code",
   "execution_count": 24,
   "metadata": {},
   "outputs": [
    {
     "name": "stderr",
     "output_type": "stream",
     "text": [
      "WARNING:absl:Found untraced functions such as lstm_cell_layer_call_and_return_conditional_losses, lstm_cell_layer_call_fn, lstm_cell_layer_call_fn, lstm_cell_layer_call_and_return_conditional_losses, lstm_cell_layer_call_and_return_conditional_losses while saving (showing 5 of 5). These functions will not be directly callable after loading.\n",
      "WARNING:absl:Found untraced functions such as lstm_cell_layer_call_and_return_conditional_losses, lstm_cell_layer_call_fn, lstm_cell_layer_call_fn, lstm_cell_layer_call_and_return_conditional_losses, lstm_cell_layer_call_and_return_conditional_losses while saving (showing 5 of 5). These functions will not be directly callable after loading.\n"
     ]
    },
    {
     "name": "stdout",
     "output_type": "stream",
     "text": [
      "INFO:tensorflow:Assets written to: model/assets\n"
     ]
    },
    {
     "name": "stderr",
     "output_type": "stream",
     "text": [
      "INFO:tensorflow:Assets written to: model/assets\n"
     ]
    },
    {
     "name": "stdout",
     "output_type": "stream",
     "text": [
      "{'timesteps': 138, 'batch_size': 138, 'solar_wind_subset': ['bx_gse', 'by_gse', 'bz_gse', 'speed', 'density', 'temperature', 'theta_gse', 'phi_gse']}\n"
     ]
    }
   ],
   "source": [
    "import json\n",
    "import pickle\n",
    "\n",
    "model_final4.save(\"model\")\n",
    "\n",
    "with open(\"scaler.pck\", \"wb\") as f:\n",
    "    pickle.dump(scaler, f)\n",
    "\n",
    "data_config[\"solar_wind_subset\"] = SOLAR_WIND_FEATURES\n",
    "print(data_config)\n",
    "with open(\"config.json\", \"w\") as f:\n",
    "    json.dump(data_config, f)"
   ]
  },
  {
   "cell_type": "code",
   "execution_count": null,
   "metadata": {},
   "outputs": [],
   "source": []
  },
  {
   "cell_type": "code",
   "execution_count": null,
   "metadata": {},
   "outputs": [],
   "source": []
  },
  {
   "cell_type": "code",
   "execution_count": null,
   "metadata": {},
   "outputs": [],
   "source": []
  }
 ],
 "metadata": {
  "colab": {
   "name": "Jan30-2021-moreBatch.ipynb",
   "provenance": []
  },
  "kernelspec": {
   "display_name": "Python 3",
   "language": "python",
   "name": "python3"
  },
  "language_info": {
   "codemirror_mode": {
    "name": "ipython",
    "version": 3
   },
   "file_extension": ".py",
   "mimetype": "text/x-python",
   "name": "python",
   "nbconvert_exporter": "python",
   "pygments_lexer": "ipython3",
   "version": "3.8.5"
  }
 },
 "nbformat": 4,
 "nbformat_minor": 1
}
