{
 "cells": [
  {
   "cell_type": "code",
   "execution_count": 3,
   "metadata": {},
   "outputs": [],
   "source": [
    "from pathlib import Path\n",
    "\n",
    "import matplotlib.pyplot as plt\n",
    "import numpy as np\n",
    "import pandas as pd\n",
    "import os\n",
    "%matplotlib inline"
   ]
  },
  {
   "cell_type": "code",
   "execution_count": 4,
   "metadata": {},
   "outputs": [],
   "source": [
    "DATA_PATH = '/Users/shovitraj/Github/Python/MagNet_data/'"
   ]
  },
  {
   "cell_type": "code",
   "execution_count": 5,
   "metadata": {},
   "outputs": [],
   "source": [
    "dst = pd.read_csv(DATA_PATH +\"dst_labels.csv\")\n",
    "dst.timedelta = pd.to_timedelta(dst.timedelta)\n",
    "dst.set_index([\"period\", \"timedelta\"], inplace=True)\n",
    "\n",
    "sunspots = pd.read_csv(DATA_PATH + \"sunspots.csv\")\n",
    "sunspots.timedelta = pd.to_timedelta(sunspots.timedelta)\n",
    "sunspots.set_index([\"period\", \"timedelta\"], inplace=True)\n",
    "\n",
    "solar_wind = pd.read_csv(DATA_PATH + \"solar_wind.csv\")\n",
    "solar_wind.timedelta = pd.to_timedelta(solar_wind.timedelta)\n",
    "solar_wind.set_index([\"period\", \"timedelta\"], inplace=True)"
   ]
  },
  {
   "cell_type": "code",
   "execution_count": 6,
   "metadata": {},
   "outputs": [],
   "source": [
    "from numpy.random import seed\n",
    "from tensorflow.random import set_seed"
   ]
  },
  {
   "cell_type": "code",
   "execution_count": 7,
   "metadata": {},
   "outputs": [],
   "source": [
    "seed(2020)\n",
    "set_seed(2021)"
   ]
  },
  {
   "cell_type": "code",
   "execution_count": 8,
   "metadata": {},
   "outputs": [],
   "source": [
    "from sklearn.preprocessing import StandardScaler\n",
    "from tensorflow.keras.models import Sequential\n",
    "from tensorflow.keras.layers import LSTM, Dense, Dropout, BatchNormalization, Activation\n",
    "from tensorflow.keras import preprocessing\n",
    "from tensorflow.keras.callbacks import EarlyStopping\n",
    "from tensorflow.keras.optimizers import Adam"
   ]
  },
  {
   "cell_type": "code",
   "execution_count": 28,
   "metadata": {},
   "outputs": [],
   "source": [
    "# subset of solar wind features to use for modeling\n",
    "SOLAR_WIND_FEATURES = [\n",
    "    \"bx_gse\",\n",
    "    \"by_gse\",\n",
    "    \"bz_gse\",\n",
    "    \"speed\",\n",
    "    \"density\",\n",
    "    \"temperature\",\n",
    "    'theta_gse',\n",
    "    'phi_gse'\n",
    "]\n",
    "\n",
    "# all of the features we'll use, including sunspot numbers\n",
    "XCOLS = (\n",
    "    [col + \"_mean\" for col in SOLAR_WIND_FEATURES]\n",
    "    + [col + \"_std\" for col in SOLAR_WIND_FEATURES]\n",
    "    + [\"smoothed_ssn\"]\n",
    ")\n",
    "\n",
    "XCOLS_NEW = (['bx_gse_mean', 'by_gse_mean', 'bz_gse_mean', 'bz_gse_std',\n",
    "       'speed_mean', 'speed_std', 'density_mean', 'smoothed_ssn'])\n",
    "\n",
    "def impute_features(feature_df):\n",
    "    \"\"\"Imputes data using the following methods:\n",
    "    - `smoothed_ssn`: forward fill\n",
    "    - `solar_wind`: interpolation\n",
    "    \"\"\"\n",
    "    # forward fill sunspot data for the rest of the month\n",
    "    feature_df.smoothed_ssn = feature_df.smoothed_ssn.fillna(method=\"ffill\")\n",
    "    # interpolate between missing solar wind values\n",
    "    feature_df = feature_df.interpolate()\n",
    "    return feature_df\n",
    "\n",
    "\n",
    "def aggregate_hourly(feature_df, aggs=[\"mean\", \"std\"]):\n",
    "    \"\"\"Aggregates features to the floor of each hour using mean and standard deviation.\n",
    "    e.g. All values from \"11:00:00\" to \"11:59:00\" will be aggregated to \"11:00:00\".\n",
    "    \"\"\"\n",
    "    # group by the floor of each hour use timedelta index\n",
    "    agged = feature_df.groupby(\n",
    "        [\"period\", feature_df.index.get_level_values(1).floor(\"H\")]\n",
    "    ).agg(aggs)\n",
    "    # flatten hierachical column index\n",
    "    agged.columns = [\"_\".join(x) for x in agged.columns]\n",
    "    return agged\n",
    "\n",
    "\n",
    "def preprocess_features(solar_wind, sunspots, scaler=None, subset=None):\n",
    "    \"\"\"\n",
    "    Preprocessing steps:\n",
    "        - Subset the data\n",
    "        - Aggregate hourly\n",
    "        - Join solar wind and sunspot data\n",
    "        - Scale using standard scaler\n",
    "        - Impute missing values\n",
    "    \"\"\"\n",
    "    # select features we want to use\n",
    "    if subset:\n",
    "        solar_wind = solar_wind[subset]\n",
    "\n",
    "    # aggregate solar wind data and join with sunspots\n",
    "    hourly_features = aggregate_hourly(solar_wind).join(sunspots)\n",
    "    hourly_xcols = hourly_features[XCOLS_NEW]\n",
    "    # subtract mean and divide by standard deviation\n",
    "    if scaler is None:\n",
    "        scaler = StandardScaler()\n",
    "        scaler.fit(hourly_xcols)\n",
    "\n",
    "    normalized = pd.DataFrame(\n",
    "        scaler.transform(hourly_xcols),\n",
    "        index=hourly_xcols.index,\n",
    "        columns=hourly_xcols.columns,\n",
    "    )\n",
    "\n",
    "    # impute missing values\n",
    "    imputed = impute_features(normalized)\n",
    "\n",
    "    # we want to return the scaler object as well to use later during prediction\n",
    "    return imputed, scaler"
   ]
  },
  {
   "cell_type": "code",
   "execution_count": 29,
   "metadata": {},
   "outputs": [
    {
     "name": "stdout",
     "output_type": "stream",
     "text": [
      "(139872, 8)\n"
     ]
    },
    {
     "data": {
      "text/html": [
       "<div>\n",
       "<style scoped>\n",
       "    .dataframe tbody tr th:only-of-type {\n",
       "        vertical-align: middle;\n",
       "    }\n",
       "\n",
       "    .dataframe tbody tr th {\n",
       "        vertical-align: top;\n",
       "    }\n",
       "\n",
       "    .dataframe thead th {\n",
       "        text-align: right;\n",
       "    }\n",
       "</style>\n",
       "<table border=\"1\" class=\"dataframe\">\n",
       "  <thead>\n",
       "    <tr style=\"text-align: right;\">\n",
       "      <th></th>\n",
       "      <th></th>\n",
       "      <th>bx_gse_mean</th>\n",
       "      <th>by_gse_mean</th>\n",
       "      <th>bz_gse_mean</th>\n",
       "      <th>bz_gse_std</th>\n",
       "      <th>speed_mean</th>\n",
       "      <th>speed_std</th>\n",
       "      <th>density_mean</th>\n",
       "      <th>smoothed_ssn</th>\n",
       "    </tr>\n",
       "    <tr>\n",
       "      <th>period</th>\n",
       "      <th>timedelta</th>\n",
       "      <th></th>\n",
       "      <th></th>\n",
       "      <th></th>\n",
       "      <th></th>\n",
       "      <th></th>\n",
       "      <th></th>\n",
       "      <th></th>\n",
       "      <th></th>\n",
       "    </tr>\n",
       "  </thead>\n",
       "  <tbody>\n",
       "    <tr>\n",
       "      <th rowspan=\"5\" valign=\"top\">train_a</th>\n",
       "      <th>0 days 00:00:00</th>\n",
       "      <td>-1.599207</td>\n",
       "      <td>0.419516</td>\n",
       "      <td>0.300358</td>\n",
       "      <td>-0.651645</td>\n",
       "      <td>-0.738546</td>\n",
       "      <td>0.862524</td>\n",
       "      <td>-0.775827</td>\n",
       "      <td>0.139444</td>\n",
       "    </tr>\n",
       "    <tr>\n",
       "      <th>0 days 01:00:00</th>\n",
       "      <td>-1.757995</td>\n",
       "      <td>0.179257</td>\n",
       "      <td>0.446103</td>\n",
       "      <td>-0.517913</td>\n",
       "      <td>-0.986904</td>\n",
       "      <td>0.995063</td>\n",
       "      <td>-0.861692</td>\n",
       "      <td>0.139444</td>\n",
       "    </tr>\n",
       "    <tr>\n",
       "      <th>0 days 02:00:00</th>\n",
       "      <td>-1.912116</td>\n",
       "      <td>0.183266</td>\n",
       "      <td>0.770174</td>\n",
       "      <td>-0.876490</td>\n",
       "      <td>-1.013548</td>\n",
       "      <td>0.554085</td>\n",
       "      <td>-0.846222</td>\n",
       "      <td>0.139444</td>\n",
       "    </tr>\n",
       "    <tr>\n",
       "      <th>0 days 03:00:00</th>\n",
       "      <td>-1.809045</td>\n",
       "      <td>-0.378111</td>\n",
       "      <td>0.621194</td>\n",
       "      <td>-0.290211</td>\n",
       "      <td>-0.826469</td>\n",
       "      <td>-0.211185</td>\n",
       "      <td>-0.404306</td>\n",
       "      <td>0.139444</td>\n",
       "    </tr>\n",
       "    <tr>\n",
       "      <th>0 days 04:00:00</th>\n",
       "      <td>-1.338802</td>\n",
       "      <td>0.072745</td>\n",
       "      <td>0.467629</td>\n",
       "      <td>-0.478080</td>\n",
       "      <td>-0.601238</td>\n",
       "      <td>1.016033</td>\n",
       "      <td>-0.371487</td>\n",
       "      <td>0.139444</td>\n",
       "    </tr>\n",
       "  </tbody>\n",
       "</table>\n",
       "</div>"
      ],
      "text/plain": [
       "                         bx_gse_mean  by_gse_mean  bz_gse_mean  bz_gse_std  \\\n",
       "period  timedelta                                                            \n",
       "train_a 0 days 00:00:00    -1.599207     0.419516     0.300358   -0.651645   \n",
       "        0 days 01:00:00    -1.757995     0.179257     0.446103   -0.517913   \n",
       "        0 days 02:00:00    -1.912116     0.183266     0.770174   -0.876490   \n",
       "        0 days 03:00:00    -1.809045    -0.378111     0.621194   -0.290211   \n",
       "        0 days 04:00:00    -1.338802     0.072745     0.467629   -0.478080   \n",
       "\n",
       "                         speed_mean  speed_std  density_mean  smoothed_ssn  \n",
       "period  timedelta                                                           \n",
       "train_a 0 days 00:00:00   -0.738546   0.862524     -0.775827      0.139444  \n",
       "        0 days 01:00:00   -0.986904   0.995063     -0.861692      0.139444  \n",
       "        0 days 02:00:00   -1.013548   0.554085     -0.846222      0.139444  \n",
       "        0 days 03:00:00   -0.826469  -0.211185     -0.404306      0.139444  \n",
       "        0 days 04:00:00   -0.601238   1.016033     -0.371487      0.139444  "
      ]
     },
     "execution_count": 29,
     "metadata": {},
     "output_type": "execute_result"
    }
   ],
   "source": [
    "features, scaler = preprocess_features(solar_wind, sunspots, subset=SOLAR_WIND_FEATURES)\n",
    "print(features.shape)\n",
    "features.head()"
   ]
  },
  {
   "cell_type": "code",
   "execution_count": 30,
   "metadata": {},
   "outputs": [
    {
     "data": {
      "text/plain": [
       "<AxesSubplot:>"
      ]
     },
     "execution_count": 30,
     "metadata": {},
     "output_type": "execute_result"
    },
    {
     "data": {
      "image/png": "[encoded data removed]",
      "text/plain": [
       "<Figure size 1080x576 with 2 Axes>"
      ]
     },
     "metadata": {
      "needs_background": "light"
     },
     "output_type": "display_data"
    }
   ],
   "source": [
    "import seaborn as sns\n",
    "a=features.corr()\n",
    "plt.figure(figsize=[15,8])\n",
    "sns.heatmap(a,annot=True)"
   ]
  },
  {
   "cell_type": "code",
   "execution_count": 31,
   "metadata": {},
   "outputs": [],
   "source": [
    "# check to make sure missing values are filled\n",
    "assert (features.isna().sum() == 0).all()"
   ]
  },
  {
   "cell_type": "code",
   "execution_count": 32,
   "metadata": {},
   "outputs": [
    {
     "data": {
      "text/html": [
       "<div>\n",
       "<style scoped>\n",
       "    .dataframe tbody tr th:only-of-type {\n",
       "        vertical-align: middle;\n",
       "    }\n",
       "\n",
       "    .dataframe tbody tr th {\n",
       "        vertical-align: top;\n",
       "    }\n",
       "\n",
       "    .dataframe thead th {\n",
       "        text-align: right;\n",
       "    }\n",
       "</style>\n",
       "<table border=\"1\" class=\"dataframe\">\n",
       "  <thead>\n",
       "    <tr style=\"text-align: right;\">\n",
       "      <th></th>\n",
       "      <th></th>\n",
       "      <th>t0</th>\n",
       "      <th>t1</th>\n",
       "    </tr>\n",
       "    <tr>\n",
       "      <th>period</th>\n",
       "      <th>timedelta</th>\n",
       "      <th></th>\n",
       "      <th></th>\n",
       "    </tr>\n",
       "  </thead>\n",
       "  <tbody>\n",
       "    <tr>\n",
       "      <th rowspan=\"5\" valign=\"top\">train_a</th>\n",
       "      <th>0 days 00:00:00</th>\n",
       "      <td>-7</td>\n",
       "      <td>-10.0</td>\n",
       "    </tr>\n",
       "    <tr>\n",
       "      <th>0 days 01:00:00</th>\n",
       "      <td>-10</td>\n",
       "      <td>-10.0</td>\n",
       "    </tr>\n",
       "    <tr>\n",
       "      <th>0 days 02:00:00</th>\n",
       "      <td>-10</td>\n",
       "      <td>-6.0</td>\n",
       "    </tr>\n",
       "    <tr>\n",
       "      <th>0 days 03:00:00</th>\n",
       "      <td>-6</td>\n",
       "      <td>-2.0</td>\n",
       "    </tr>\n",
       "    <tr>\n",
       "      <th>0 days 04:00:00</th>\n",
       "      <td>-2</td>\n",
       "      <td>3.0</td>\n",
       "    </tr>\n",
       "  </tbody>\n",
       "</table>\n",
       "</div>"
      ],
      "text/plain": [
       "                         t0    t1\n",
       "period  timedelta                \n",
       "train_a 0 days 00:00:00  -7 -10.0\n",
       "        0 days 01:00:00 -10 -10.0\n",
       "        0 days 02:00:00 -10  -6.0\n",
       "        0 days 03:00:00  -6  -2.0\n",
       "        0 days 04:00:00  -2   3.0"
      ]
     },
     "execution_count": 32,
     "metadata": {},
     "output_type": "execute_result"
    }
   ],
   "source": [
    "YCOLS = [\"t0\", \"t1\"]\n",
    "\n",
    "\n",
    "def process_labels(dst):\n",
    "    y = dst.copy()\n",
    "    y[\"t1\"] = y.groupby(\"period\").dst.shift(-1)\n",
    "    y.columns = YCOLS\n",
    "    return y\n",
    "\n",
    "\n",
    "labels = process_labels(dst)\n",
    "labels.head()"
   ]
  },
  {
   "cell_type": "code",
   "execution_count": null,
   "metadata": {},
   "outputs": [],
   "source": []
  },
  {
   "cell_type": "code",
   "execution_count": 33,
   "metadata": {},
   "outputs": [
    {
     "data": {
      "text/html": [
       "<div>\n",
       "<style scoped>\n",
       "    .dataframe tbody tr th:only-of-type {\n",
       "        vertical-align: middle;\n",
       "    }\n",
       "\n",
       "    .dataframe tbody tr th {\n",
       "        vertical-align: top;\n",
       "    }\n",
       "\n",
       "    .dataframe thead th {\n",
       "        text-align: right;\n",
       "    }\n",
       "</style>\n",
       "<table border=\"1\" class=\"dataframe\">\n",
       "  <thead>\n",
       "    <tr style=\"text-align: right;\">\n",
       "      <th></th>\n",
       "      <th></th>\n",
       "      <th>t0</th>\n",
       "      <th>t1</th>\n",
       "      <th>bx_gse_mean</th>\n",
       "      <th>by_gse_mean</th>\n",
       "      <th>bz_gse_mean</th>\n",
       "      <th>bz_gse_std</th>\n",
       "      <th>speed_mean</th>\n",
       "      <th>speed_std</th>\n",
       "      <th>density_mean</th>\n",
       "      <th>smoothed_ssn</th>\n",
       "    </tr>\n",
       "    <tr>\n",
       "      <th>period</th>\n",
       "      <th>timedelta</th>\n",
       "      <th></th>\n",
       "      <th></th>\n",
       "      <th></th>\n",
       "      <th></th>\n",
       "      <th></th>\n",
       "      <th></th>\n",
       "      <th></th>\n",
       "      <th></th>\n",
       "      <th></th>\n",
       "      <th></th>\n",
       "    </tr>\n",
       "  </thead>\n",
       "  <tbody>\n",
       "    <tr>\n",
       "      <th rowspan=\"5\" valign=\"top\">train_a</th>\n",
       "      <th>0 days 00:00:00</th>\n",
       "      <td>-7</td>\n",
       "      <td>-10.0</td>\n",
       "      <td>-1.599207</td>\n",
       "      <td>0.419516</td>\n",
       "      <td>0.300358</td>\n",
       "      <td>-0.651645</td>\n",
       "      <td>-0.738546</td>\n",
       "      <td>0.862524</td>\n",
       "      <td>-0.775827</td>\n",
       "      <td>0.139444</td>\n",
       "    </tr>\n",
       "    <tr>\n",
       "      <th>0 days 01:00:00</th>\n",
       "      <td>-10</td>\n",
       "      <td>-10.0</td>\n",
       "      <td>-1.757995</td>\n",
       "      <td>0.179257</td>\n",
       "      <td>0.446103</td>\n",
       "      <td>-0.517913</td>\n",
       "      <td>-0.986904</td>\n",
       "      <td>0.995063</td>\n",
       "      <td>-0.861692</td>\n",
       "      <td>0.139444</td>\n",
       "    </tr>\n",
       "    <tr>\n",
       "      <th>0 days 02:00:00</th>\n",
       "      <td>-10</td>\n",
       "      <td>-6.0</td>\n",
       "      <td>-1.912116</td>\n",
       "      <td>0.183266</td>\n",
       "      <td>0.770174</td>\n",
       "      <td>-0.876490</td>\n",
       "      <td>-1.013548</td>\n",
       "      <td>0.554085</td>\n",
       "      <td>-0.846222</td>\n",
       "      <td>0.139444</td>\n",
       "    </tr>\n",
       "    <tr>\n",
       "      <th>0 days 03:00:00</th>\n",
       "      <td>-6</td>\n",
       "      <td>-2.0</td>\n",
       "      <td>-1.809045</td>\n",
       "      <td>-0.378111</td>\n",
       "      <td>0.621194</td>\n",
       "      <td>-0.290211</td>\n",
       "      <td>-0.826469</td>\n",
       "      <td>-0.211185</td>\n",
       "      <td>-0.404306</td>\n",
       "      <td>0.139444</td>\n",
       "    </tr>\n",
       "    <tr>\n",
       "      <th>0 days 04:00:00</th>\n",
       "      <td>-2</td>\n",
       "      <td>3.0</td>\n",
       "      <td>-1.338802</td>\n",
       "      <td>0.072745</td>\n",
       "      <td>0.467629</td>\n",
       "      <td>-0.478080</td>\n",
       "      <td>-0.601238</td>\n",
       "      <td>1.016033</td>\n",
       "      <td>-0.371487</td>\n",
       "      <td>0.139444</td>\n",
       "    </tr>\n",
       "  </tbody>\n",
       "</table>\n",
       "</div>"
      ],
      "text/plain": [
       "                         t0    t1  bx_gse_mean  by_gse_mean  bz_gse_mean  \\\n",
       "period  timedelta                                                          \n",
       "train_a 0 days 00:00:00  -7 -10.0    -1.599207     0.419516     0.300358   \n",
       "        0 days 01:00:00 -10 -10.0    -1.757995     0.179257     0.446103   \n",
       "        0 days 02:00:00 -10  -6.0    -1.912116     0.183266     0.770174   \n",
       "        0 days 03:00:00  -6  -2.0    -1.809045    -0.378111     0.621194   \n",
       "        0 days 04:00:00  -2   3.0    -1.338802     0.072745     0.467629   \n",
       "\n",
       "                         bz_gse_std  speed_mean  speed_std  density_mean  \\\n",
       "period  timedelta                                                          \n",
       "train_a 0 days 00:00:00   -0.651645   -0.738546   0.862524     -0.775827   \n",
       "        0 days 01:00:00   -0.517913   -0.986904   0.995063     -0.861692   \n",
       "        0 days 02:00:00   -0.876490   -1.013548   0.554085     -0.846222   \n",
       "        0 days 03:00:00   -0.290211   -0.826469  -0.211185     -0.404306   \n",
       "        0 days 04:00:00   -0.478080   -0.601238   1.016033     -0.371487   \n",
       "\n",
       "                         smoothed_ssn  \n",
       "period  timedelta                      \n",
       "train_a 0 days 00:00:00      0.139444  \n",
       "        0 days 01:00:00      0.139444  \n",
       "        0 days 02:00:00      0.139444  \n",
       "        0 days 03:00:00      0.139444  \n",
       "        0 days 04:00:00      0.139444  "
      ]
     },
     "execution_count": 33,
     "metadata": {},
     "output_type": "execute_result"
    }
   ],
   "source": [
    "data = labels.join(features)\n",
    "data.head()"
   ]
  },
  {
   "cell_type": "code",
   "execution_count": 34,
   "metadata": {},
   "outputs": [
    {
     "data": {
      "text/plain": [
       "<AxesSubplot:>"
      ]
     },
     "execution_count": 34,
     "metadata": {},
     "output_type": "execute_result"
    },
    {
     "data": {
      "image/png": "[encoded data removed]",
      "text/plain": [
       "<Figure size 1080x576 with 2 Axes>"
      ]
     },
     "metadata": {
      "needs_background": "light"
     },
     "output_type": "display_data"
    }
   ],
   "source": [
    "import seaborn as sns\n",
    "ab=data.corr()\n",
    "plt.figure(figsize=[15,8])\n",
    "sns.heatmap(ab,annot=True)"
   ]
  },
  {
   "cell_type": "code",
   "execution_count": 35,
   "metadata": {},
   "outputs": [
    {
     "data": {
      "text/plain": [
       "Index(['t0', 't1', 'bx_gse_mean', 'by_gse_mean', 'bz_gse_mean', 'bz_gse_std',\n",
       "       'speed_mean', 'speed_std', 'density_mean', 'smoothed_ssn'],\n",
       "      dtype='object')"
      ]
     },
     "execution_count": 35,
     "metadata": {},
     "output_type": "execute_result"
    }
   ],
   "source": [
    "data.columns"
   ]
  },
  {
   "cell_type": "code",
   "execution_count": 36,
   "metadata": {},
   "outputs": [],
   "source": [
    "data=data[['t0', 't1','bx_gse_mean', 'by_gse_mean',\n",
    "       'bz_gse_mean', 'bz_gse_std', 'speed_mean', 'speed_std', 'density_mean',\n",
    "        'smoothed_ssn']]"
   ]
  },
  {
   "cell_type": "code",
   "execution_count": 37,
   "metadata": {},
   "outputs": [],
   "source": [
    "def get_train_test_val(data, test_per_period, val_per_period):\n",
    "    \"\"\"Splits data across periods into train, test, and validation\"\"\"\n",
    "    # assign the last `test_per_period` rows from each period to test\n",
    "    test = data.groupby(\"period\").tail(test_per_period)\n",
    "    interim = data[~data.index.isin(test.index)]\n",
    "    # assign the last `val_per_period` from the remaining rows to validation\n",
    "    val = interim.groupby(\"period\").tail(val_per_period)\n",
    "    # the remaining rows are assigned to train\n",
    "    train = interim[~interim.index.isin(val.index)]\n",
    "    return train, test, val\n",
    "\n",
    "\n",
    "train, test, val = get_train_test_val(data, test_per_period=6_000, val_per_period=6_000)\n"
   ]
  },
  {
   "cell_type": "code",
   "execution_count": 38,
   "metadata": {},
   "outputs": [
    {
     "data": {
      "text/plain": [
       "<matplotlib.legend.Legend at 0x7ff16d96a7c0>"
      ]
     },
     "execution_count": 38,
     "metadata": {},
     "output_type": "execute_result"
    },
    {
     "data": {
      "image/png": "[encoded data removed]",
      "text/plain": [
       "<Figure size 432x288 with 1 Axes>"
      ]
     },
     "metadata": {
      "needs_background": "light"
     },
     "output_type": "display_data"
    }
   ],
   "source": [
    "ind = [0, 1, 2]\n",
    "names = [\"train_a\", \"train_b\", \"train_c\"]\n",
    "width = 0.75\n",
    "train_cnts = [len(df) for _, df in train.groupby(\"period\")]\n",
    "val_cnts = [len(df) for _, df in val.groupby(\"period\")]\n",
    "test_cnts = [len(df) for _, df in test.groupby(\"period\")]\n",
    "\n",
    "p1 = plt.barh(ind, train_cnts, width)\n",
    "p2 = plt.barh(ind, val_cnts, width, left=train_cnts)\n",
    "p3 = plt.barh(ind, test_cnts, width, left=np.add(val_cnts, train_cnts).tolist())\n",
    "\n",
    "plt.yticks(ind, names)\n",
    "plt.ylabel(\"Period\")\n",
    "plt.xlabel(\"Hourly Timesteps\")\n",
    "plt.title(\"Train/Validation/Test Splits over Periods\", fontsize=16)\n",
    "plt.legend([\"Train\", \"Validation\", \"Test\"])"
   ]
  },
  {
   "cell_type": "code",
   "execution_count": 39,
   "metadata": {},
   "outputs": [
    {
     "data": {
      "text/plain": [
       "Index(['t0', 't1', 'bx_gse_mean', 'by_gse_mean', 'bz_gse_mean', 'bz_gse_std',\n",
       "       'speed_mean', 'speed_std', 'density_mean', 'smoothed_ssn'],\n",
       "      dtype='object')"
      ]
     },
     "execution_count": 39,
     "metadata": {},
     "output_type": "execute_result"
    }
   ],
   "source": [
    "#Keeping only the columns I want to input\n",
    "XCOLS=data.columns\n",
    "XCOLS"
   ]
  },
  {
   "cell_type": "code",
   "execution_count": 40,
   "metadata": {},
   "outputs": [
    {
     "name": "stdout",
     "output_type": "stream",
     "text": [
      "Number of train batches: 3245\n",
      "Number of val batches: 561\n"
     ]
    }
   ],
   "source": [
    "data_config = {\n",
    "    \"timesteps\": 16,\n",
    "    \"batch_size\":32,\n",
    "}\n",
    "\n",
    "\n",
    "def timeseries_dataset_from_df(df, batch_size):\n",
    "    dataset = None\n",
    "    timesteps = data_config[\"timesteps\"]\n",
    "\n",
    "    # iterate through periods\n",
    "    for _, period_df in df.groupby(\"period\"):\n",
    "        # realign features and labels so that first sequence of 32 is aligned with the 33rd target\n",
    "        inputs = period_df[XCOLS][:-timesteps]\n",
    "        outputs = period_df[YCOLS][timesteps:]\n",
    "\n",
    "        period_ds = preprocessing.timeseries_dataset_from_array(\n",
    "            inputs,\n",
    "            outputs,\n",
    "            timesteps,\n",
    "            batch_size=batch_size,\n",
    "        )\n",
    "\n",
    "        if dataset is None:\n",
    "            dataset = period_ds\n",
    "        else:\n",
    "            dataset = dataset.concatenate(period_ds)\n",
    "\n",
    "    return dataset\n",
    "\n",
    "\n",
    "train_ds = timeseries_dataset_from_df(train, data_config[\"batch_size\"])\n",
    "val_ds = timeseries_dataset_from_df(val, data_config[\"batch_size\"])\n",
    "\n",
    "print(f\"Number of train batches: {len(train_ds)}\")\n",
    "print(f\"Number of val batches: {len(val_ds)}\")"
   ]
  },
  {
   "cell_type": "code",
   "execution_count": 41,
   "metadata": {},
   "outputs": [],
   "source": [
    "#Running LSTM without dropout and activation function"
   ]
  },
  {
   "cell_type": "code",
   "execution_count": 42,
   "metadata": {},
   "outputs": [],
   "source": [
    "# define our model\n",
    "from tensorflow.keras.layers import Dropout\n",
    "model_config = {\"n_epochs\": 50, \"n_neurons\": 32,\n",
    "                  \"dropout\": 0.4, \"stateful\": False}\n",
    "\n",
    "def models():\n",
    "  \n",
    "  model = Sequential()\n",
    "  model.add(\n",
    "      LSTM(\n",
    "          model_config[\"n_neurons\"],\n",
    "          # usually set to (`batch_size`, `sequence_length`, `n_features`)\n",
    "          # setting the batch size to None allows for variable length batches\n",
    "          batch_input_shape=(None, data_config[\"timesteps\"], len(XCOLS)),\n",
    "          stateful=model_config[\"stateful\"],\n",
    "          kernel_regularizer='l2',\n",
    "      )\n",
    "  )\n",
    " \n",
    "  model.add(Dense(32,kernel_regularizer='l2'))\n",
    "  model.add(Dropout(0.4))\n",
    "  model.add(Dense(32,kernel_regularizer='l2'))\n",
    "  model.add(Dropout(0.4))\n",
    "  #model.add(Dense())\n",
    "  model.add(Dense(len(YCOLS)))\n",
    "  opt=Adam(learning_rate=0.00001)\n",
    "  model.compile(\n",
    "      loss=\"mean_squared_error\",\n",
    "      optimizer=opt,\n",
    "  )\n",
    "  return model"
   ]
  },
  {
   "cell_type": "code",
   "execution_count": 43,
   "metadata": {},
   "outputs": [
    {
     "name": "stdout",
     "output_type": "stream",
     "text": [
      "Model: \"sequential_1\"\n",
      "_________________________________________________________________\n",
      "Layer (type)                 Output Shape              Param #   \n",
      "=================================================================\n",
      "lstm_1 (LSTM)                (None, 32)                5504      \n",
      "_________________________________________________________________\n",
      "dense_3 (Dense)              (None, 32)                1056      \n",
      "_________________________________________________________________\n",
      "dropout_2 (Dropout)          (None, 32)                0         \n",
      "_________________________________________________________________\n",
      "dense_4 (Dense)              (None, 32)                1056      \n",
      "_________________________________________________________________\n",
      "dropout_3 (Dropout)          (None, 32)                0         \n",
      "_________________________________________________________________\n",
      "dense_5 (Dense)              (None, 2)                 66        \n",
      "=================================================================\n",
      "Total params: 7,682\n",
      "Trainable params: 7,682\n",
      "Non-trainable params: 0\n",
      "_________________________________________________________________\n"
     ]
    }
   ],
   "source": [
    "model_final5=models()\n",
    "model_final5.summary()"
   ]
  },
  {
   "cell_type": "code",
   "execution_count": 44,
   "metadata": {},
   "outputs": [
    {
     "name": "stdout",
     "output_type": "stream",
     "text": [
      "Epoch 1/50\n",
      "3245/3245 [==============================] - 21s 6ms/step - loss: 594.3664 - val_loss: 448.8451\n",
      "Epoch 2/50\n",
      "3245/3245 [==============================] - 20s 6ms/step - loss: 499.9818 - val_loss: 360.0643\n",
      "Epoch 3/50\n",
      "3245/3245 [==============================] - 20s 6ms/step - loss: 383.5779 - val_loss: 288.2997\n",
      "Epoch 4/50\n",
      "3245/3245 [==============================] - 20s 6ms/step - loss: 295.5539 - val_loss: 236.8580\n",
      "Epoch 5/50\n",
      "3245/3245 [==============================] - 20s 6ms/step - loss: 232.6069 - val_loss: 198.7608\n",
      "Epoch 6/50\n",
      "3245/3245 [==============================] - 19s 6ms/step - loss: 187.4709 - val_loss: 170.1894\n",
      "Epoch 7/50\n",
      "3245/3245 [==============================] - 18s 6ms/step - loss: 158.5519 - val_loss: 149.8039\n",
      "Epoch 8/50\n",
      "3245/3245 [==============================] - 18s 6ms/step - loss: 135.5932 - val_loss: 133.8043\n",
      "Epoch 9/50\n",
      "3245/3245 [==============================] - 18s 6ms/step - loss: 121.6407 - val_loss: 121.6062\n",
      "Epoch 10/50\n",
      "3245/3245 [==============================] - 20s 6ms/step - loss: 108.7082 - val_loss: 111.7491\n",
      "Epoch 11/50\n",
      "3245/3245 [==============================] - 20s 6ms/step - loss: 101.6241 - val_loss: 103.4402\n",
      "Epoch 12/50\n",
      "3245/3245 [==============================] - 20s 6ms/step - loss: 93.2468 - val_loss: 96.5021\n",
      "Epoch 13/50\n",
      "3245/3245 [==============================] - 20s 6ms/step - loss: 85.9221 - val_loss: 90.1449\n",
      "Epoch 14/50\n",
      "3245/3245 [==============================] - 20s 6ms/step - loss: 81.5523 - val_loss: 84.8091\n",
      "Epoch 15/50\n",
      "3245/3245 [==============================] - 20s 6ms/step - loss: 76.0779 - val_loss: 80.4709\n",
      "Epoch 16/50\n",
      "3245/3245 [==============================] - 20s 6ms/step - loss: 72.9005 - val_loss: 76.2756\n",
      "Epoch 17/50\n",
      "3245/3245 [==============================] - 20s 6ms/step - loss: 70.0090 - val_loss: 72.2725\n",
      "Epoch 18/50\n",
      "3245/3245 [==============================] - 20s 6ms/step - loss: 67.6064 - val_loss: 68.9823\n",
      "Epoch 19/50\n",
      "3245/3245 [==============================] - 20s 6ms/step - loss: 64.3495 - val_loss: 65.5763\n",
      "Epoch 20/50\n",
      "3245/3245 [==============================] - 20s 6ms/step - loss: 62.8269 - val_loss: 62.7097\n",
      "Epoch 21/50\n",
      "3245/3245 [==============================] - 20s 6ms/step - loss: 61.6174 - val_loss: 60.5808\n",
      "Epoch 22/50\n",
      "3245/3245 [==============================] - 19s 6ms/step - loss: 59.6289 - val_loss: 57.6939\n",
      "Epoch 23/50\n",
      "3245/3245 [==============================] - 19s 6ms/step - loss: 57.6961 - val_loss: 56.0672\n",
      "Epoch 24/50\n",
      "3245/3245 [==============================] - 20s 6ms/step - loss: 56.6678 - val_loss: 53.8067\n",
      "Epoch 25/50\n",
      "3245/3245 [==============================] - 20s 6ms/step - loss: 54.8320 - val_loss: 51.9336\n",
      "Epoch 26/50\n",
      "3245/3245 [==============================] - 21s 6ms/step - loss: 52.8930 - val_loss: 50.5771\n",
      "Epoch 27/50\n",
      "3245/3245 [==============================] - 22s 7ms/step - loss: 50.5360 - val_loss: 48.7843\n",
      "Epoch 28/50\n",
      "3245/3245 [==============================] - 24s 7ms/step - loss: 52.4738 - val_loss: 47.0892\n",
      "Epoch 29/50\n",
      "3245/3245 [==============================] - 24s 7ms/step - loss: 50.0928 - val_loss: 45.8823\n",
      "Epoch 30/50\n",
      "3245/3245 [==============================] - 24s 8ms/step - loss: 49.3737 - val_loss: 43.8443\n",
      "Epoch 31/50\n",
      "3245/3245 [==============================] - 23s 7ms/step - loss: 48.3264 - val_loss: 42.6809\n",
      "Epoch 32/50\n",
      "3245/3245 [==============================] - 23s 7ms/step - loss: 48.5352 - val_loss: 41.4865\n",
      "Epoch 33/50\n",
      "3245/3245 [==============================] - 23s 7ms/step - loss: 47.5462 - val_loss: 40.3343\n",
      "Epoch 34/50\n",
      "3245/3245 [==============================] - 23s 7ms/step - loss: 47.3769 - val_loss: 39.0914\n",
      "Epoch 35/50\n",
      "3245/3245 [==============================] - 23s 7ms/step - loss: 45.5018 - val_loss: 38.6369\n",
      "Epoch 36/50\n",
      "3245/3245 [==============================] - 23s 7ms/step - loss: 46.0843 - val_loss: 37.1210\n",
      "Epoch 37/50\n",
      "3245/3245 [==============================] - 33s 10ms/step - loss: 45.6876 - val_loss: 36.9632\n",
      "Epoch 38/50\n",
      "3245/3245 [==============================] - 30s 9ms/step - loss: 44.8366 - val_loss: 35.5304\n",
      "Epoch 39/50\n",
      "3245/3245 [==============================] - 25s 8ms/step - loss: 43.8012 - val_loss: 35.1724\n",
      "Epoch 40/50\n",
      "3245/3245 [==============================] - 32s 10ms/step - loss: 44.8324 - val_loss: 34.3095\n",
      "Epoch 41/50\n",
      "3245/3245 [==============================] - 30s 9ms/step - loss: 43.2929 - val_loss: 33.4594\n",
      "Epoch 42/50\n",
      "3245/3245 [==============================] - 27s 8ms/step - loss: 43.4452 - val_loss: 32.1695\n",
      "Epoch 43/50\n",
      "3245/3245 [==============================] - 28s 9ms/step - loss: 43.6091 - val_loss: 31.5885\n",
      "Epoch 44/50\n",
      "3245/3245 [==============================] - 32s 10ms/step - loss: 41.9748 - val_loss: 31.0739\n",
      "Epoch 45/50\n",
      "3245/3245 [==============================] - 28s 9ms/step - loss: 43.5158 - val_loss: 30.2464\n",
      "Epoch 46/50\n",
      "3245/3245 [==============================] - 26s 8ms/step - loss: 42.2064 - val_loss: 30.0307\n",
      "Epoch 47/50\n",
      "3245/3245 [==============================] - 26s 8ms/step - loss: 41.6547 - val_loss: 29.4762\n",
      "Epoch 48/50\n",
      "3245/3245 [==============================] - 29s 9ms/step - loss: 41.3090 - val_loss: 29.2095\n",
      "Epoch 49/50\n",
      "3245/3245 [==============================] - 27s 8ms/step - loss: 40.3456 - val_loss: 28.5690\n",
      "Epoch 50/50\n",
      "3245/3245 [==============================] - 25s 8ms/step - loss: 40.5287 - val_loss: 27.9818\n"
     ]
    }
   ],
   "source": [
    "es = EarlyStopping(monitor='val_loss', mode='min', verbose=1, patience=15)\n",
    "history_final5 = model_final5.fit(\n",
    "    train_ds,\n",
    "    batch_size=data_config[\"batch_size\"],\n",
    "    epochs=model_config[\"n_epochs\"],\n",
    "    verbose=1,\n",
    "    shuffle=False,\n",
    "    validation_data=val_ds,\n",
    "    callbacks=[es]\n",
    ")"
   ]
  },
  {
   "cell_type": "code",
   "execution_count": 45,
   "metadata": {},
   "outputs": [
    {
     "data": {
      "image/png": "[encoded data removed]",
      "text/plain": [
       "<Figure size 432x288 with 1 Axes>"
      ]
     },
     "metadata": {
      "needs_background": "light"
     },
     "output_type": "display_data"
    }
   ],
   "source": [
    "for name, values in history_final5.history.items():\n",
    "    plt.plot(values)\n",
    "    plt.grid(\"True\")"
   ]
  },
  {
   "cell_type": "code",
   "execution_count": 46,
   "metadata": {},
   "outputs": [
    {
     "name": "stdout",
     "output_type": "stream",
     "text": [
      "561/561 [==============================] - 2s 3ms/step - loss: 33.2182\n",
      "Test RMSE: 5.7635\n"
     ]
    }
   ],
   "source": [
    "test_ds = timeseries_dataset_from_df(test, data_config[\"batch_size\"])\n",
    "mse = model_final5.evaluate(test_ds)\n",
    "print(f\"Test RMSE: {mse**.5:.4f}\")"
   ]
  },
  {
   "cell_type": "code",
   "execution_count": 47,
   "metadata": {},
   "outputs": [
    {
     "name": "stderr",
     "output_type": "stream",
     "text": [
      "WARNING:absl:Found untraced functions such as lstm_cell_1_layer_call_and_return_conditional_losses, lstm_cell_1_layer_call_fn, lstm_cell_1_layer_call_fn, lstm_cell_1_layer_call_and_return_conditional_losses, lstm_cell_1_layer_call_and_return_conditional_losses while saving (showing 5 of 5). These functions will not be directly callable after loading.\n",
      "WARNING:absl:Found untraced functions such as lstm_cell_1_layer_call_and_return_conditional_losses, lstm_cell_1_layer_call_fn, lstm_cell_1_layer_call_fn, lstm_cell_1_layer_call_and_return_conditional_losses, lstm_cell_1_layer_call_and_return_conditional_losses while saving (showing 5 of 5). These functions will not be directly callable after loading.\n"
     ]
    },
    {
     "name": "stdout",
     "output_type": "stream",
     "text": [
      "INFO:tensorflow:Assets written to: model/assets\n"
     ]
    },
    {
     "name": "stderr",
     "output_type": "stream",
     "text": [
      "INFO:tensorflow:Assets written to: model/assets\n"
     ]
    },
    {
     "name": "stdout",
     "output_type": "stream",
     "text": [
      "{'timesteps': 16, 'batch_size': 32, 'solar_wind_subset': ['bx_gse', 'by_gse', 'bz_gse', 'speed', 'density', 'temperature', 'theta_gse', 'phi_gse']}\n"
     ]
    }
   ],
   "source": [
    "import json\n",
    "import pickle\n",
    "\n",
    "model_final5.save(\"model\")\n",
    "\n",
    "with open(\"scaler.pck\", \"wb\") as f:\n",
    "    pickle.dump(scaler, f)\n",
    "\n",
    "data_config[\"solar_wind_subset\"] = SOLAR_WIND_FEATURES\n",
    "print(data_config)\n",
    "with open(\"config.json\", \"w\") as f:\n",
    "    json.dump(data_config, f)"
   ]
  },
  {
   "cell_type": "code",
   "execution_count": null,
   "metadata": {},
   "outputs": [],
   "source": []
  },
  {
   "cell_type": "code",
   "execution_count": null,
   "metadata": {},
   "outputs": [],
   "source": []
  }
 ],
 "metadata": {
  "kernelspec": {
   "display_name": "Python 3",
   "language": "python",
   "name": "python3"
  },
  "language_info": {
   "codemirror_mode": {
    "name": "ipython",
    "version": 3
   },
   "file_extension": ".py",
   "mimetype": "text/x-python",
   "name": "python",
   "nbconvert_exporter": "python",
   "pygments_lexer": "ipython3",
   "version": "3.8.5"
  }
 },
 "nbformat": 4,
 "nbformat_minor": 4
}
