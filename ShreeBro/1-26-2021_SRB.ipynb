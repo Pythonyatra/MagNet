{
 "cells": [
  {
   "cell_type": "code",
   "execution_count": 2,
   "metadata": {},
   "outputs": [],
   "source": [
    "from pathlib import Path\n",
    "\n",
    "import matplotlib.pyplot as plt\n",
    "import numpy as np\n",
    "import pandas as pd\n",
    "import os\n",
    "%matplotlib inline"
   ]
  },
  {
   "cell_type": "code",
   "execution_count": 3,
   "metadata": {},
   "outputs": [],
   "source": [
    "DATA_PATH = '/Users/shovitraj/Github/Python/MagNet_data/'"
   ]
  },
  {
   "cell_type": "code",
   "execution_count": 4,
   "metadata": {},
   "outputs": [],
   "source": [
    "dst = pd.read_csv(DATA_PATH +\"dst_labels.csv\")\n",
    "dst.timedelta = pd.to_timedelta(dst.timedelta)\n",
    "dst.set_index([\"period\", \"timedelta\"], inplace=True)\n",
    "\n",
    "sunspots = pd.read_csv(DATA_PATH + \"sunspots.csv\")\n",
    "sunspots.timedelta = pd.to_timedelta(sunspots.timedelta)\n",
    "sunspots.set_index([\"period\", \"timedelta\"], inplace=True)\n",
    "\n",
    "solar_wind = pd.read_csv(DATA_PATH + \"solar_wind.csv\")\n",
    "solar_wind.timedelta = pd.to_timedelta(solar_wind.timedelta)\n",
    "solar_wind.set_index([\"period\", \"timedelta\"], inplace=True)"
   ]
  },
  {
   "cell_type": "code",
   "execution_count": 5,
   "metadata": {},
   "outputs": [],
   "source": [
    "from numpy.random import seed\n",
    "from tensorflow.random import set_seed"
   ]
  },
  {
   "cell_type": "code",
   "execution_count": 6,
   "metadata": {},
   "outputs": [],
   "source": [
    "seed(2020)\n",
    "set_seed(2021)"
   ]
  },
  {
   "cell_type": "code",
   "execution_count": 7,
   "metadata": {},
   "outputs": [],
   "source": [
    "from sklearn.preprocessing import StandardScaler"
   ]
  },
  {
   "cell_type": "code",
   "execution_count": 8,
   "metadata": {},
   "outputs": [],
   "source": [
    "# subset of solar wind features to use for modeling\n",
    "SOLAR_WIND_FEATURES = [\n",
    "    \"bx_gse\",\n",
    "    \"by_gse\",\n",
    "    \"bz_gse\",\n",
    "    \"speed\",\n",
    "    \"density\",\n",
    "    \"temperature\",\n",
    "    'theta_gse',\n",
    "\n",
    "]\n",
    "\n",
    "# all of the features we'll use, including sunspot numbers\n",
    "XCOLS = (\n",
    "    [col + \"_mean\" for col in SOLAR_WIND_FEATURES]\n",
    "    + [col + \"_std\" for col in SOLAR_WIND_FEATURES]\n",
    "    + [\"smoothed_ssn\"]\n",
    ")\n",
    "\n",
    "XCOLS_NEW = (['bx_gse_std', 'by_gse_std',\n",
    "       'bz_gse_mean', 'bz_gse_std', 'speed_mean', 'speed_std', 'density_mean',\n",
    "       'temperature_mean', 'temperature_std', 'theta_gse_mean',\n",
    "        'smoothed_ssn'])\n",
    "\n",
    "def impute_features(feature_df):\n",
    "    \"\"\"Imputes data using the following methods:\n",
    "    - `smoothed_ssn`: forward fill\n",
    "    - `solar_wind`: interpolation\n",
    "    \"\"\"\n",
    "    # forward fill sunspot data for the rest of the month\n",
    "    feature_df.smoothed_ssn = feature_df.smoothed_ssn.fillna(method=\"ffill\")\n",
    "    # interpolate between missing solar wind values\n",
    "    feature_df = feature_df.interpolate()\n",
    "    return feature_df\n",
    "\n",
    "\n",
    "def aggregate_hourly(feature_df, aggs=[\"mean\", \"std\"]):\n",
    "    \"\"\"Aggregates features to the floor of each hour using mean and standard deviation.\n",
    "    e.g. All values from \"11:00:00\" to \"11:59:00\" will be aggregated to \"11:00:00\".\n",
    "    \"\"\"\n",
    "    # group by the floor of each hour use timedelta index\n",
    "    agged = feature_df.groupby(\n",
    "        [\"period\", feature_df.index.get_level_values(1).floor(\"H\")]\n",
    "    ).agg(aggs)\n",
    "    # flatten hierachical column index\n",
    "    agged.columns = [\"_\".join(x) for x in agged.columns]\n",
    "    return agged\n",
    "\n",
    "\n",
    "def preprocess_features(solar_wind, sunspots, scaler=None, subset=None):\n",
    "    \"\"\"\n",
    "    Preprocessing steps:\n",
    "        - Subset the data\n",
    "        - Aggregate hourly\n",
    "        - Join solar wind and sunspot data\n",
    "        - Scale using standard scaler\n",
    "        - Impute missing values\n",
    "    \"\"\"\n",
    "    # select features we want to use\n",
    "    if subset:\n",
    "        solar_wind = solar_wind[subset]\n",
    "\n",
    "    # aggregate solar wind data and join with sunspots\n",
    "    hourly_features = aggregate_hourly(solar_wind).join(sunspots)\n",
    "    hourly_xcols = hourly_features[XCOLS_NEW]\n",
    "    # subtract mean and divide by standard deviation\n",
    "    if scaler is None:\n",
    "        scaler = StandardScaler()\n",
    "        scaler.fit(hourly_xcols)\n",
    "\n",
    "    normalized = pd.DataFrame(\n",
    "        scaler.transform(hourly_xcols),\n",
    "        index=hourly_xcols.index,\n",
    "        columns=hourly_xcols.columns,\n",
    "    )\n",
    "\n",
    "    # impute missing values\n",
    "    imputed = impute_features(normalized)\n",
    "\n",
    "    # we want to return the scaler object as well to use later during prediction\n",
    "    return imputed, scaler"
   ]
  },
  {
   "cell_type": "code",
   "execution_count": 9,
   "metadata": {},
   "outputs": [
    {
     "name": "stdout",
     "output_type": "stream",
     "text": [
      "(139872, 11)\n"
     ]
    },
    {
     "data": {
      "text/html": [
       "<div>\n",
       "<style scoped>\n",
       "    .dataframe tbody tr th:only-of-type {\n",
       "        vertical-align: middle;\n",
       "    }\n",
       "\n",
       "    .dataframe tbody tr th {\n",
       "        vertical-align: top;\n",
       "    }\n",
       "\n",
       "    .dataframe thead th {\n",
       "        text-align: right;\n",
       "    }\n",
       "</style>\n",
       "<table border=\"1\" class=\"dataframe\">\n",
       "  <thead>\n",
       "    <tr style=\"text-align: right;\">\n",
       "      <th></th>\n",
       "      <th></th>\n",
       "      <th>bx_gse_std</th>\n",
       "      <th>by_gse_std</th>\n",
       "      <th>bz_gse_mean</th>\n",
       "      <th>bz_gse_std</th>\n",
       "      <th>speed_mean</th>\n",
       "      <th>speed_std</th>\n",
       "      <th>density_mean</th>\n",
       "      <th>temperature_mean</th>\n",
       "      <th>temperature_std</th>\n",
       "      <th>theta_gse_mean</th>\n",
       "      <th>smoothed_ssn</th>\n",
       "    </tr>\n",
       "    <tr>\n",
       "      <th>period</th>\n",
       "      <th>timedelta</th>\n",
       "      <th></th>\n",
       "      <th></th>\n",
       "      <th></th>\n",
       "      <th></th>\n",
       "      <th></th>\n",
       "      <th></th>\n",
       "      <th></th>\n",
       "      <th></th>\n",
       "      <th></th>\n",
       "      <th></th>\n",
       "      <th></th>\n",
       "    </tr>\n",
       "  </thead>\n",
       "  <tbody>\n",
       "    <tr>\n",
       "      <th rowspan=\"5\" valign=\"top\">train_a</th>\n",
       "      <th>0 days 00:00:00</th>\n",
       "      <td>-0.381502</td>\n",
       "      <td>0.031658</td>\n",
       "      <td>0.300358</td>\n",
       "      <td>-0.651645</td>\n",
       "      <td>-0.738546</td>\n",
       "      <td>0.862524</td>\n",
       "      <td>-0.775827</td>\n",
       "      <td>-0.375267</td>\n",
       "      <td>0.383941</td>\n",
       "      <td>0.262090</td>\n",
       "      <td>0.139444</td>\n",
       "    </tr>\n",
       "    <tr>\n",
       "      <th>0 days 01:00:00</th>\n",
       "      <td>-0.867747</td>\n",
       "      <td>-0.272971</td>\n",
       "      <td>0.446103</td>\n",
       "      <td>-0.517913</td>\n",
       "      <td>-0.986904</td>\n",
       "      <td>0.995063</td>\n",
       "      <td>-0.861692</td>\n",
       "      <td>-0.479430</td>\n",
       "      <td>0.953178</td>\n",
       "      <td>0.378546</td>\n",
       "      <td>0.139444</td>\n",
       "    </tr>\n",
       "    <tr>\n",
       "      <th>0 days 02:00:00</th>\n",
       "      <td>-1.114317</td>\n",
       "      <td>-0.822786</td>\n",
       "      <td>0.770174</td>\n",
       "      <td>-0.876490</td>\n",
       "      <td>-1.013548</td>\n",
       "      <td>0.554085</td>\n",
       "      <td>-0.846222</td>\n",
       "      <td>-0.574831</td>\n",
       "      <td>-0.192518</td>\n",
       "      <td>0.607449</td>\n",
       "      <td>0.139444</td>\n",
       "    </tr>\n",
       "    <tr>\n",
       "      <th>0 days 03:00:00</th>\n",
       "      <td>-0.783042</td>\n",
       "      <td>0.341156</td>\n",
       "      <td>0.621194</td>\n",
       "      <td>-0.290211</td>\n",
       "      <td>-0.826469</td>\n",
       "      <td>-0.211185</td>\n",
       "      <td>-0.404306</td>\n",
       "      <td>-0.324709</td>\n",
       "      <td>0.325491</td>\n",
       "      <td>0.491460</td>\n",
       "      <td>0.139444</td>\n",
       "    </tr>\n",
       "    <tr>\n",
       "      <th>0 days 04:00:00</th>\n",
       "      <td>-0.484910</td>\n",
       "      <td>1.023019</td>\n",
       "      <td>0.467629</td>\n",
       "      <td>-0.478080</td>\n",
       "      <td>-0.601238</td>\n",
       "      <td>1.016033</td>\n",
       "      <td>-0.371487</td>\n",
       "      <td>-0.313432</td>\n",
       "      <td>0.201600</td>\n",
       "      <td>0.466528</td>\n",
       "      <td>0.139444</td>\n",
       "    </tr>\n",
       "  </tbody>\n",
       "</table>\n",
       "</div>"
      ],
      "text/plain": [
       "                         bx_gse_std  by_gse_std  bz_gse_mean  bz_gse_std  \\\n",
       "period  timedelta                                                          \n",
       "train_a 0 days 00:00:00   -0.381502    0.031658     0.300358   -0.651645   \n",
       "        0 days 01:00:00   -0.867747   -0.272971     0.446103   -0.517913   \n",
       "        0 days 02:00:00   -1.114317   -0.822786     0.770174   -0.876490   \n",
       "        0 days 03:00:00   -0.783042    0.341156     0.621194   -0.290211   \n",
       "        0 days 04:00:00   -0.484910    1.023019     0.467629   -0.478080   \n",
       "\n",
       "                         speed_mean  speed_std  density_mean  \\\n",
       "period  timedelta                                              \n",
       "train_a 0 days 00:00:00   -0.738546   0.862524     -0.775827   \n",
       "        0 days 01:00:00   -0.986904   0.995063     -0.861692   \n",
       "        0 days 02:00:00   -1.013548   0.554085     -0.846222   \n",
       "        0 days 03:00:00   -0.826469  -0.211185     -0.404306   \n",
       "        0 days 04:00:00   -0.601238   1.016033     -0.371487   \n",
       "\n",
       "                         temperature_mean  temperature_std  theta_gse_mean  \\\n",
       "period  timedelta                                                            \n",
       "train_a 0 days 00:00:00         -0.375267         0.383941        0.262090   \n",
       "        0 days 01:00:00         -0.479430         0.953178        0.378546   \n",
       "        0 days 02:00:00         -0.574831        -0.192518        0.607449   \n",
       "        0 days 03:00:00         -0.324709         0.325491        0.491460   \n",
       "        0 days 04:00:00         -0.313432         0.201600        0.466528   \n",
       "\n",
       "                         smoothed_ssn  \n",
       "period  timedelta                      \n",
       "train_a 0 days 00:00:00      0.139444  \n",
       "        0 days 01:00:00      0.139444  \n",
       "        0 days 02:00:00      0.139444  \n",
       "        0 days 03:00:00      0.139444  \n",
       "        0 days 04:00:00      0.139444  "
      ]
     },
     "execution_count": 9,
     "metadata": {},
     "output_type": "execute_result"
    }
   ],
   "source": [
    "features, scaler = preprocess_features(solar_wind, sunspots, subset=SOLAR_WIND_FEATURES)\n",
    "print(features.shape)\n",
    "features.head()"
   ]
  },
  {
   "cell_type": "code",
   "execution_count": 10,
   "metadata": {},
   "outputs": [
    {
     "data": {
      "text/plain": [
       "<AxesSubplot:>"
      ]
     },
     "execution_count": 10,
     "metadata": {},
     "output_type": "execute_result"
    },
    {
     "data": {
      "image/png": "[encoded data removed]",
      "text/plain": [
       "<Figure size 1080x576 with 2 Axes>"
      ]
     },
     "metadata": {
      "needs_background": "light"
     },
     "output_type": "display_data"
    }
   ],
   "source": [
    "import seaborn as sns\n",
    "a=features.corr()\n",
    "plt.figure(figsize=[15,8])\n",
    "sns.heatmap(a,annot=True)"
   ]
  },
  {
   "cell_type": "code",
   "execution_count": 11,
   "metadata": {},
   "outputs": [],
   "source": [
    "# check to make sure missing values are filled\n",
    "assert (features.isna().sum() == 0).all()"
   ]
  },
  {
   "cell_type": "code",
   "execution_count": 12,
   "metadata": {},
   "outputs": [
    {
     "data": {
      "text/html": [
       "<div>\n",
       "<style scoped>\n",
       "    .dataframe tbody tr th:only-of-type {\n",
       "        vertical-align: middle;\n",
       "    }\n",
       "\n",
       "    .dataframe tbody tr th {\n",
       "        vertical-align: top;\n",
       "    }\n",
       "\n",
       "    .dataframe thead th {\n",
       "        text-align: right;\n",
       "    }\n",
       "</style>\n",
       "<table border=\"1\" class=\"dataframe\">\n",
       "  <thead>\n",
       "    <tr style=\"text-align: right;\">\n",
       "      <th></th>\n",
       "      <th></th>\n",
       "      <th>t0</th>\n",
       "      <th>t1</th>\n",
       "    </tr>\n",
       "    <tr>\n",
       "      <th>period</th>\n",
       "      <th>timedelta</th>\n",
       "      <th></th>\n",
       "      <th></th>\n",
       "    </tr>\n",
       "  </thead>\n",
       "  <tbody>\n",
       "    <tr>\n",
       "      <th rowspan=\"5\" valign=\"top\">train_a</th>\n",
       "      <th>0 days 00:00:00</th>\n",
       "      <td>-7</td>\n",
       "      <td>-10.0</td>\n",
       "    </tr>\n",
       "    <tr>\n",
       "      <th>0 days 01:00:00</th>\n",
       "      <td>-10</td>\n",
       "      <td>-10.0</td>\n",
       "    </tr>\n",
       "    <tr>\n",
       "      <th>0 days 02:00:00</th>\n",
       "      <td>-10</td>\n",
       "      <td>-6.0</td>\n",
       "    </tr>\n",
       "    <tr>\n",
       "      <th>0 days 03:00:00</th>\n",
       "      <td>-6</td>\n",
       "      <td>-2.0</td>\n",
       "    </tr>\n",
       "    <tr>\n",
       "      <th>0 days 04:00:00</th>\n",
       "      <td>-2</td>\n",
       "      <td>3.0</td>\n",
       "    </tr>\n",
       "  </tbody>\n",
       "</table>\n",
       "</div>"
      ],
      "text/plain": [
       "                         t0    t1\n",
       "period  timedelta                \n",
       "train_a 0 days 00:00:00  -7 -10.0\n",
       "        0 days 01:00:00 -10 -10.0\n",
       "        0 days 02:00:00 -10  -6.0\n",
       "        0 days 03:00:00  -6  -2.0\n",
       "        0 days 04:00:00  -2   3.0"
      ]
     },
     "execution_count": 12,
     "metadata": {},
     "output_type": "execute_result"
    }
   ],
   "source": [
    "YCOLS = [\"t0\", \"t1\"]\n",
    "\n",
    "\n",
    "def process_labels(dst):\n",
    "    y = dst.copy()\n",
    "    y[\"t1\"] = y.groupby(\"period\").dst.shift(-1)\n",
    "    y.columns = YCOLS\n",
    "    return y\n",
    "\n",
    "\n",
    "labels = process_labels(dst)\n",
    "labels.head()"
   ]
  },
  {
   "cell_type": "code",
   "execution_count": null,
   "metadata": {},
   "outputs": [],
   "source": []
  },
  {
   "cell_type": "code",
   "execution_count": 13,
   "metadata": {},
   "outputs": [
    {
     "data": {
      "text/html": [
       "<div>\n",
       "<style scoped>\n",
       "    .dataframe tbody tr th:only-of-type {\n",
       "        vertical-align: middle;\n",
       "    }\n",
       "\n",
       "    .dataframe tbody tr th {\n",
       "        vertical-align: top;\n",
       "    }\n",
       "\n",
       "    .dataframe thead th {\n",
       "        text-align: right;\n",
       "    }\n",
       "</style>\n",
       "<table border=\"1\" class=\"dataframe\">\n",
       "  <thead>\n",
       "    <tr style=\"text-align: right;\">\n",
       "      <th></th>\n",
       "      <th></th>\n",
       "      <th>t0</th>\n",
       "      <th>t1</th>\n",
       "      <th>bx_gse_std</th>\n",
       "      <th>by_gse_std</th>\n",
       "      <th>bz_gse_mean</th>\n",
       "      <th>bz_gse_std</th>\n",
       "      <th>speed_mean</th>\n",
       "      <th>speed_std</th>\n",
       "      <th>density_mean</th>\n",
       "      <th>temperature_mean</th>\n",
       "      <th>temperature_std</th>\n",
       "      <th>theta_gse_mean</th>\n",
       "      <th>smoothed_ssn</th>\n",
       "    </tr>\n",
       "    <tr>\n",
       "      <th>period</th>\n",
       "      <th>timedelta</th>\n",
       "      <th></th>\n",
       "      <th></th>\n",
       "      <th></th>\n",
       "      <th></th>\n",
       "      <th></th>\n",
       "      <th></th>\n",
       "      <th></th>\n",
       "      <th></th>\n",
       "      <th></th>\n",
       "      <th></th>\n",
       "      <th></th>\n",
       "      <th></th>\n",
       "      <th></th>\n",
       "    </tr>\n",
       "  </thead>\n",
       "  <tbody>\n",
       "    <tr>\n",
       "      <th rowspan=\"5\" valign=\"top\">train_a</th>\n",
       "      <th>0 days 00:00:00</th>\n",
       "      <td>-7</td>\n",
       "      <td>-10.0</td>\n",
       "      <td>-0.381502</td>\n",
       "      <td>0.031658</td>\n",
       "      <td>0.300358</td>\n",
       "      <td>-0.651645</td>\n",
       "      <td>-0.738546</td>\n",
       "      <td>0.862524</td>\n",
       "      <td>-0.775827</td>\n",
       "      <td>-0.375267</td>\n",
       "      <td>0.383941</td>\n",
       "      <td>0.262090</td>\n",
       "      <td>0.139444</td>\n",
       "    </tr>\n",
       "    <tr>\n",
       "      <th>0 days 01:00:00</th>\n",
       "      <td>-10</td>\n",
       "      <td>-10.0</td>\n",
       "      <td>-0.867747</td>\n",
       "      <td>-0.272971</td>\n",
       "      <td>0.446103</td>\n",
       "      <td>-0.517913</td>\n",
       "      <td>-0.986904</td>\n",
       "      <td>0.995063</td>\n",
       "      <td>-0.861692</td>\n",
       "      <td>-0.479430</td>\n",
       "      <td>0.953178</td>\n",
       "      <td>0.378546</td>\n",
       "      <td>0.139444</td>\n",
       "    </tr>\n",
       "    <tr>\n",
       "      <th>0 days 02:00:00</th>\n",
       "      <td>-10</td>\n",
       "      <td>-6.0</td>\n",
       "      <td>-1.114317</td>\n",
       "      <td>-0.822786</td>\n",
       "      <td>0.770174</td>\n",
       "      <td>-0.876490</td>\n",
       "      <td>-1.013548</td>\n",
       "      <td>0.554085</td>\n",
       "      <td>-0.846222</td>\n",
       "      <td>-0.574831</td>\n",
       "      <td>-0.192518</td>\n",
       "      <td>0.607449</td>\n",
       "      <td>0.139444</td>\n",
       "    </tr>\n",
       "    <tr>\n",
       "      <th>0 days 03:00:00</th>\n",
       "      <td>-6</td>\n",
       "      <td>-2.0</td>\n",
       "      <td>-0.783042</td>\n",
       "      <td>0.341156</td>\n",
       "      <td>0.621194</td>\n",
       "      <td>-0.290211</td>\n",
       "      <td>-0.826469</td>\n",
       "      <td>-0.211185</td>\n",
       "      <td>-0.404306</td>\n",
       "      <td>-0.324709</td>\n",
       "      <td>0.325491</td>\n",
       "      <td>0.491460</td>\n",
       "      <td>0.139444</td>\n",
       "    </tr>\n",
       "    <tr>\n",
       "      <th>0 days 04:00:00</th>\n",
       "      <td>-2</td>\n",
       "      <td>3.0</td>\n",
       "      <td>-0.484910</td>\n",
       "      <td>1.023019</td>\n",
       "      <td>0.467629</td>\n",
       "      <td>-0.478080</td>\n",
       "      <td>-0.601238</td>\n",
       "      <td>1.016033</td>\n",
       "      <td>-0.371487</td>\n",
       "      <td>-0.313432</td>\n",
       "      <td>0.201600</td>\n",
       "      <td>0.466528</td>\n",
       "      <td>0.139444</td>\n",
       "    </tr>\n",
       "  </tbody>\n",
       "</table>\n",
       "</div>"
      ],
      "text/plain": [
       "                         t0    t1  bx_gse_std  by_gse_std  bz_gse_mean  \\\n",
       "period  timedelta                                                        \n",
       "train_a 0 days 00:00:00  -7 -10.0   -0.381502    0.031658     0.300358   \n",
       "        0 days 01:00:00 -10 -10.0   -0.867747   -0.272971     0.446103   \n",
       "        0 days 02:00:00 -10  -6.0   -1.114317   -0.822786     0.770174   \n",
       "        0 days 03:00:00  -6  -2.0   -0.783042    0.341156     0.621194   \n",
       "        0 days 04:00:00  -2   3.0   -0.484910    1.023019     0.467629   \n",
       "\n",
       "                         bz_gse_std  speed_mean  speed_std  density_mean  \\\n",
       "period  timedelta                                                          \n",
       "train_a 0 days 00:00:00   -0.651645   -0.738546   0.862524     -0.775827   \n",
       "        0 days 01:00:00   -0.517913   -0.986904   0.995063     -0.861692   \n",
       "        0 days 02:00:00   -0.876490   -1.013548   0.554085     -0.846222   \n",
       "        0 days 03:00:00   -0.290211   -0.826469  -0.211185     -0.404306   \n",
       "        0 days 04:00:00   -0.478080   -0.601238   1.016033     -0.371487   \n",
       "\n",
       "                         temperature_mean  temperature_std  theta_gse_mean  \\\n",
       "period  timedelta                                                            \n",
       "train_a 0 days 00:00:00         -0.375267         0.383941        0.262090   \n",
       "        0 days 01:00:00         -0.479430         0.953178        0.378546   \n",
       "        0 days 02:00:00         -0.574831        -0.192518        0.607449   \n",
       "        0 days 03:00:00         -0.324709         0.325491        0.491460   \n",
       "        0 days 04:00:00         -0.313432         0.201600        0.466528   \n",
       "\n",
       "                         smoothed_ssn  \n",
       "period  timedelta                      \n",
       "train_a 0 days 00:00:00      0.139444  \n",
       "        0 days 01:00:00      0.139444  \n",
       "        0 days 02:00:00      0.139444  \n",
       "        0 days 03:00:00      0.139444  \n",
       "        0 days 04:00:00      0.139444  "
      ]
     },
     "execution_count": 13,
     "metadata": {},
     "output_type": "execute_result"
    }
   ],
   "source": [
    "data = labels.join(features)\n",
    "data.head()"
   ]
  },
  {
   "cell_type": "code",
   "execution_count": 14,
   "metadata": {},
   "outputs": [
    {
     "data": {
      "text/plain": [
       "<AxesSubplot:>"
      ]
     },
     "execution_count": 14,
     "metadata": {},
     "output_type": "execute_result"
    },
    {
     "data": {
      "image/png": "[encoded data removed]",
      "text/plain": [
       "<Figure size 1080x576 with 2 Axes>"
      ]
     },
     "metadata": {
      "needs_background": "light"
     },
     "output_type": "display_data"
    }
   ],
   "source": [
    "import seaborn as sns\n",
    "ab=data.corr()\n",
    "plt.figure(figsize=[15,8])\n",
    "sns.heatmap(ab,annot=True)"
   ]
  },
  {
   "cell_type": "code",
   "execution_count": 15,
   "metadata": {},
   "outputs": [],
   "source": [
    "# data.columns"
   ]
  },
  {
   "cell_type": "code",
   "execution_count": 16,
   "metadata": {},
   "outputs": [],
   "source": [
    "# data=data[['t0', 't1','bx_gse_std', 'by_gse_std',\n",
    "#        'bz_gse_mean', 'bz_gse_std', 'speed_mean', 'speed_std', 'density_mean',\n",
    "#        'temperature_mean', 'temperature_std', 'theta_gse_mean',\n",
    "#         'smoothed_ssn']]"
   ]
  },
  {
   "cell_type": "code",
   "execution_count": 17,
   "metadata": {},
   "outputs": [],
   "source": [
    "def get_train_test_val(data, test_per_period, val_per_period):\n",
    "    \"\"\"Splits data across periods into train, test, and validation\"\"\"\n",
    "    # assign the last `test_per_period` rows from each period to test\n",
    "    test = data.groupby(\"period\").tail(test_per_period)\n",
    "    interim = data[~data.index.isin(test.index)]\n",
    "    # assign the last `val_per_period` from the remaining rows to validation\n",
    "    val = interim.groupby(\"period\").tail(val_per_period)\n",
    "    # the remaining rows are assigned to train\n",
    "    train = interim[~interim.index.isin(val.index)]\n",
    "    return train, test, val\n",
    "\n",
    "\n",
    "train, test, val = get_train_test_val(data, test_per_period=6_000, val_per_period=6_000)\n"
   ]
  },
  {
   "cell_type": "code",
   "execution_count": 18,
   "metadata": {},
   "outputs": [
    {
     "data": {
      "text/plain": [
       "<matplotlib.legend.Legend at 0x7fedffd47a60>"
      ]
     },
     "execution_count": 18,
     "metadata": {},
     "output_type": "execute_result"
    },
    {
     "data": {
      "image/png": "[encoded data removed]",
      "text/plain": [
       "<Figure size 432x288 with 1 Axes>"
      ]
     },
     "metadata": {
      "needs_background": "light"
     },
     "output_type": "display_data"
    }
   ],
   "source": [
    "ind = [0, 1, 2]\n",
    "names = [\"train_a\", \"train_b\", \"train_c\"]\n",
    "width = 0.75\n",
    "train_cnts = [len(df) for _, df in train.groupby(\"period\")]\n",
    "val_cnts = [len(df) for _, df in val.groupby(\"period\")]\n",
    "test_cnts = [len(df) for _, df in test.groupby(\"period\")]\n",
    "\n",
    "p1 = plt.barh(ind, train_cnts, width)\n",
    "p2 = plt.barh(ind, val_cnts, width, left=train_cnts)\n",
    "p3 = plt.barh(ind, test_cnts, width, left=np.add(val_cnts, train_cnts).tolist())\n",
    "\n",
    "plt.yticks(ind, names)\n",
    "plt.ylabel(\"Period\")\n",
    "plt.xlabel(\"Hourly Timesteps\")\n",
    "plt.title(\"Train/Validation/Test Splits over Periods\", fontsize=16)\n",
    "plt.legend([\"Train\", \"Validation\", \"Test\"])"
   ]
  },
  {
   "cell_type": "code",
   "execution_count": 19,
   "metadata": {},
   "outputs": [
    {
     "data": {
      "text/plain": [
       "Index(['t0', 't1', 'bx_gse_std', 'by_gse_std', 'bz_gse_mean', 'bz_gse_std',\n",
       "       'speed_mean', 'speed_std', 'density_mean', 'temperature_mean',\n",
       "       'temperature_std', 'theta_gse_mean', 'smoothed_ssn'],\n",
       "      dtype='object')"
      ]
     },
     "execution_count": 19,
     "metadata": {},
     "output_type": "execute_result"
    }
   ],
   "source": [
    "#Keeping only the columns I want to input\n",
    "XCOLS=data.columns\n",
    "XCOLS"
   ]
  },
  {
   "cell_type": "code",
   "execution_count": 20,
   "metadata": {},
   "outputs": [],
   "source": [
    "from tensorflow.keras.models import Sequential\n",
    "from tensorflow.keras.layers import LSTM, Dense, Dropout, BatchNormalization, Activation\n",
    "from tensorflow.keras import preprocessing\n",
    "from tensorflow.keras.callbacks import EarlyStopping\n",
    "from tensorflow.keras.optimizers import Adam"
   ]
  },
  {
   "cell_type": "code",
   "execution_count": 21,
   "metadata": {},
   "outputs": [
    {
     "name": "stdout",
     "output_type": "stream",
     "text": [
      "Number of train batches: 3245\n",
      "Number of val batches: 561\n"
     ]
    }
   ],
   "source": [
    "data_config = {\n",
    "    \"timesteps\": 16,\n",
    "    \"batch_size\":32,\n",
    "}\n",
    "\n",
    "\n",
    "def timeseries_dataset_from_df(df, batch_size):\n",
    "    dataset = None\n",
    "    timesteps = data_config[\"timesteps\"]\n",
    "\n",
    "    # iterate through periods\n",
    "    for _, period_df in df.groupby(\"period\"):\n",
    "        # realign features and labels so that first sequence of 32 is aligned with the 33rd target\n",
    "        inputs = period_df[XCOLS][:-timesteps]\n",
    "        outputs = period_df[YCOLS][timesteps:]\n",
    "\n",
    "        period_ds = preprocessing.timeseries_dataset_from_array(\n",
    "            inputs,\n",
    "            outputs,\n",
    "            timesteps,\n",
    "            batch_size=batch_size,\n",
    "        )\n",
    "\n",
    "        if dataset is None:\n",
    "            dataset = period_ds\n",
    "        else:\n",
    "            dataset = dataset.concatenate(period_ds)\n",
    "\n",
    "    return dataset\n",
    "\n",
    "\n",
    "train_ds = timeseries_dataset_from_df(train, data_config[\"batch_size\"])\n",
    "val_ds = timeseries_dataset_from_df(val, data_config[\"batch_size\"])\n",
    "\n",
    "print(f\"Number of train batches: {len(train_ds)}\")\n",
    "print(f\"Number of val batches: {len(val_ds)}\")"
   ]
  },
  {
   "cell_type": "markdown",
   "metadata": {},
   "source": [
    "### Model with lowest RMSE as of now = 13.78 in Google Drive"
   ]
  },
  {
   "cell_type": "code",
   "execution_count": 32,
   "metadata": {},
   "outputs": [],
   "source": [
    "# define our model\n",
    "from tensorflow.keras.layers import Dropout\n",
    "model_config = {\"n_epochs\": 100, \"n_neurons\": 64,\n",
    "                  \"dropout\": 0.25, \"stateful\": False}\n",
    "\n",
    "def models():\n",
    "  \n",
    "  model = Sequential()\n",
    "  model.add(\n",
    "      LSTM(\n",
    "          model_config[\"n_neurons\"],\n",
    "          # usually set to (`batch_size`, `sequence_length`, `n_features`)\n",
    "          # setting the batch size to None allows for variable length batches\n",
    "          batch_input_shape=(None, data_config[\"timesteps\"], len(XCOLS)),\n",
    "          stateful=model_config[\"stateful\"],\n",
    "          dropout=model_config[\"dropout\"],\n",
    "          activation='relu',kernel_regularizer='l2',\n",
    "      )\n",
    "  )\n",
    " \n",
    "  model.add(Dense(32,kernel_regularizer='l2'))\n",
    "  model.add(Dropout(0.25))\n",
    "  model.add(Dense(32,kernel_regularizer='l2'))\n",
    "  model.add(Dropout(0.25))\n",
    "  #model.add(Dense())\n",
    "  model.add(Dense(len(YCOLS)))\n",
    "  opt=Adam(learning_rate=0.00001)\n",
    "  model.compile(\n",
    "      loss=\"mean_squared_error\",\n",
    "      optimizer=opt,\n",
    "  )\n",
    "  return model"
   ]
  },
  {
   "cell_type": "code",
   "execution_count": 33,
   "metadata": {},
   "outputs": [
    {
     "name": "stdout",
     "output_type": "stream",
     "text": [
      "Model: \"sequential_2\"\n",
      "_________________________________________________________________\n",
      "Layer (type)                 Output Shape              Param #   \n",
      "=================================================================\n",
      "lstm_2 (LSTM)                (None, 64)                19968     \n",
      "_________________________________________________________________\n",
      "dense_6 (Dense)              (None, 32)                2080      \n",
      "_________________________________________________________________\n",
      "dropout_4 (Dropout)          (None, 32)                0         \n",
      "_________________________________________________________________\n",
      "dense_7 (Dense)              (None, 32)                1056      \n",
      "_________________________________________________________________\n",
      "dropout_5 (Dropout)          (None, 32)                0         \n",
      "_________________________________________________________________\n",
      "dense_8 (Dense)              (None, 2)                 66        \n",
      "=================================================================\n",
      "Total params: 23,170\n",
      "Trainable params: 23,170\n",
      "Non-trainable params: 0\n",
      "_________________________________________________________________\n"
     ]
    }
   ],
   "source": [
    "model_final=models()\n",
    "model_final.summary()"
   ]
  },
  {
   "cell_type": "code",
   "execution_count": 34,
   "metadata": {
    "scrolled": false
   },
   "outputs": [
    {
     "name": "stdout",
     "output_type": "stream",
     "text": [
      "Epoch 1/100\n",
      "3245/3245 [==============================] - 24s 7ms/step - loss: 663.1363 - val_loss: 305.4239\n",
      "Epoch 2/100\n",
      "3245/3245 [==============================] - 22s 7ms/step - loss: 392.0367 - val_loss: 210.5949\n",
      "Epoch 3/100\n",
      "3245/3245 [==============================] - 23s 7ms/step - loss: 305.2389 - val_loss: 166.9864\n",
      "Epoch 4/100\n",
      "3245/3245 [==============================] - 22s 7ms/step - loss: 251.6856 - val_loss: 141.7167\n",
      "Epoch 5/100\n",
      "3245/3245 [==============================] - 22s 7ms/step - loss: 222.7100 - val_loss: 113.8347\n",
      "Epoch 6/100\n",
      "3245/3245 [==============================] - 23s 7ms/step - loss: 195.5734 - val_loss: 108.0047\n",
      "Epoch 7/100\n",
      "3245/3245 [==============================] - 21s 7ms/step - loss: 179.4678 - val_loss: 98.4005\n",
      "Epoch 8/100\n",
      "3245/3245 [==============================] - 21s 7ms/step - loss: 170.9834 - val_loss: 92.2453\n",
      "Epoch 9/100\n",
      "3245/3245 [==============================] - 21s 7ms/step - loss: 157.9505 - val_loss: 86.2040\n",
      "Epoch 10/100\n",
      "3245/3245 [==============================] - 22s 7ms/step - loss: 148.5747 - val_loss: 80.2332\n",
      "Epoch 11/100\n",
      "3245/3245 [==============================] - 22s 7ms/step - loss: 141.6282 - val_loss: 78.1467\n",
      "Epoch 12/100\n",
      "3245/3245 [==============================] - 22s 7ms/step - loss: 138.6918 - val_loss: 75.8340\n",
      "Epoch 13/100\n",
      "3245/3245 [==============================] - 21s 7ms/step - loss: 131.4077 - val_loss: 75.2166\n",
      "Epoch 14/100\n",
      "3245/3245 [==============================] - 23s 7ms/step - loss: 126.3546 - val_loss: 74.8478\n",
      "Epoch 15/100\n",
      "3245/3245 [==============================] - 22s 7ms/step - loss: 117.4775 - val_loss: 73.4214\n",
      "Epoch 16/100\n",
      "3245/3245 [==============================] - 21s 7ms/step - loss: 113.3174 - val_loss: 73.8031\n",
      "Epoch 17/100\n",
      "3245/3245 [==============================] - 23s 7ms/step - loss: 112.7817 - val_loss: 71.2064\n",
      "Epoch 18/100\n",
      "3245/3245 [==============================] - 22s 7ms/step - loss: 111.7738 - val_loss: 70.8527\n",
      "Epoch 19/100\n",
      "3245/3245 [==============================] - 22s 7ms/step - loss: 107.2602 - val_loss: 65.7213\n",
      "Epoch 20/100\n",
      "3245/3245 [==============================] - 21s 6ms/step - loss: 100.9484 - val_loss: 68.9510\n",
      "Epoch 21/100\n",
      "3245/3245 [==============================] - 23s 7ms/step - loss: 102.2287 - val_loss: 68.3297\n",
      "Epoch 22/100\n",
      "3245/3245 [==============================] - 22s 7ms/step - loss: 99.0528 - val_loss: 71.8108\n",
      "Epoch 23/100\n",
      "3245/3245 [==============================] - 22s 7ms/step - loss: 97.1365 - val_loss: 70.9368\n",
      "Epoch 24/100\n",
      "3245/3245 [==============================] - 22s 7ms/step - loss: 92.5840 - val_loss: 65.7289\n",
      "Epoch 25/100\n",
      "3245/3245 [==============================] - 22s 7ms/step - loss: 91.2757 - val_loss: 68.4194\n",
      "Epoch 26/100\n",
      "3245/3245 [==============================] - 22s 7ms/step - loss: 93.0997 - val_loss: 69.2177\n",
      "Epoch 27/100\n",
      "3245/3245 [==============================] - 22s 7ms/step - loss: 87.7271 - val_loss: 64.4213\n",
      "Epoch 28/100\n",
      "3245/3245 [==============================] - 23s 7ms/step - loss: 85.0278 - val_loss: 66.4677\n",
      "Epoch 29/100\n",
      "3245/3245 [==============================] - 21s 7ms/step - loss: 84.1498 - val_loss: 63.4743\n",
      "Epoch 30/100\n",
      "3245/3245 [==============================] - 23s 7ms/step - loss: 80.9251 - val_loss: 60.7864\n",
      "Epoch 31/100\n",
      "3245/3245 [==============================] - 22s 7ms/step - loss: 77.9736 - val_loss: 60.1224\n",
      "Epoch 32/100\n",
      "3245/3245 [==============================] - 23s 7ms/step - loss: 78.1055 - val_loss: 61.1681\n",
      "Epoch 33/100\n",
      "3245/3245 [==============================] - 21s 7ms/step - loss: 74.3127 - val_loss: 62.7102\n",
      "Epoch 34/100\n",
      "3245/3245 [==============================] - 22s 7ms/step - loss: 71.7448 - val_loss: 61.0889\n",
      "Epoch 35/100\n",
      "3245/3245 [==============================] - 22s 7ms/step - loss: 70.6052 - val_loss: 60.4391\n",
      "Epoch 36/100\n",
      "3245/3245 [==============================] - 22s 7ms/step - loss: 71.0270 - val_loss: 61.5342\n",
      "Epoch 37/100\n",
      "3245/3245 [==============================] - 23s 7ms/step - loss: 66.6542 - val_loss: 61.6558\n",
      "Epoch 38/100\n",
      "3245/3245 [==============================] - 23s 7ms/step - loss: 68.1723 - val_loss: 60.1314\n",
      "Epoch 39/100\n",
      "3245/3245 [==============================] - 23s 7ms/step - loss: 67.1017 - val_loss: 61.8173\n",
      "Epoch 40/100\n",
      "3245/3245 [==============================] - 22s 7ms/step - loss: 65.0977 - val_loss: 61.0397\n",
      "Epoch 41/100\n",
      "3245/3245 [==============================] - 22s 7ms/step - loss: 63.0268 - val_loss: 61.4082\n",
      "Epoch 42/100\n",
      "3245/3245 [==============================] - 22s 7ms/step - loss: 64.2011 - val_loss: 62.1301\n",
      "Epoch 43/100\n",
      "3245/3245 [==============================] - 21s 7ms/step - loss: 61.5101 - val_loss: 60.9284\n",
      "Epoch 44/100\n",
      "3245/3245 [==============================] - 22s 7ms/step - loss: 61.6615 - val_loss: 61.9789\n",
      "Epoch 45/100\n",
      "3245/3245 [==============================] - 22s 7ms/step - loss: 60.1597 - val_loss: 61.3684\n",
      "Epoch 46/100\n",
      "3245/3245 [==============================] - 21s 7ms/step - loss: 58.2824 - val_loss: 61.8450\n",
      "Epoch 00046: early stopping\n"
     ]
    }
   ],
   "source": [
    "es = EarlyStopping(monitor='val_loss', mode='min', verbose=1, patience=15)\n",
    "history_final = model_final.fit(\n",
    "    train_ds,\n",
    "    batch_size=data_config[\"batch_size\"],\n",
    "    epochs=model_config[\"n_epochs\"],\n",
    "    verbose=1,\n",
    "    shuffle=False,\n",
    "    validation_data=val_ds,\n",
    "    callbacks=[es]\n",
    ")"
   ]
  },
  {
   "cell_type": "code",
   "execution_count": 35,
   "metadata": {},
   "outputs": [
    {
     "data": {
      "image/png": "[encoded data removed]",
      "text/plain": [
       "<Figure size 432x288 with 1 Axes>"
      ]
     },
     "metadata": {
      "needs_background": "light"
     },
     "output_type": "display_data"
    }
   ],
   "source": [
    "for name, values in history_final.history.items():\n",
    "    plt.plot(values)\n",
    "    plt.grid(\"True\")"
   ]
  },
  {
   "cell_type": "code",
   "execution_count": 36,
   "metadata": {},
   "outputs": [
    {
     "name": "stdout",
     "output_type": "stream",
     "text": [
      "561/561 [==============================] - 2s 3ms/step - loss: 69.4606\n",
      "Test RMSE: 8.3343\n"
     ]
    }
   ],
   "source": [
    "test_ds = timeseries_dataset_from_df(test, data_config[\"batch_size\"])\n",
    "mse = model_final.evaluate(test_ds)\n",
    "print(f\"Test RMSE: {mse**.5:.4f}\")"
   ]
  },
  {
   "cell_type": "markdown",
   "metadata": {},
   "source": [
    "## Run with lower LSTM Layers , 64 Neurons"
   ]
  },
  {
   "cell_type": "code",
   "execution_count": 38,
   "metadata": {},
   "outputs": [],
   "source": [
    "# define our model\n",
    "from tensorflow.keras.layers import Dropout\n",
    "model_config = {\"n_epochs\": 100, \"n_neurons\":64,\n",
    "                  \"dropout\": 0.2, \"stateful\": False}\n",
    "\n",
    "def models():\n",
    "  \n",
    "  model = Sequential()\n",
    "  model.add(\n",
    "      LSTM(\n",
    "          model_config[\"n_neurons\"],\n",
    "          # usually set to (`batch_size`, `sequence_length`, `n_features`)\n",
    "          # setting the batch size to None allows for variable length batches\n",
    "          batch_input_shape=(None, data_config[\"timesteps\"], len(XCOLS)),\n",
    "          stateful=model_config[\"stateful\"],\n",
    "          dropout=model_config[\"dropout\"],\n",
    "          activation='relu',kernel_regularizer='l2',\n",
    "      )\n",
    "  )\n",
    " \n",
    "  model.add(Dense(32,kernel_regularizer='l2'))\n",
    "  model.add(Dropout(0.4))\n",
    "  model.add(Dense(32,kernel_regularizer='l2'))\n",
    "  model.add(Dropout(0.4))\n",
    "  #model.add(Dense())\n",
    "  model.add(Dense(len(YCOLS)))\n",
    "  opt=Adam(learning_rate=0.00001)\n",
    "  model.compile(\n",
    "      loss=\"mean_squared_error\",\n",
    "      optimizer=opt,\n",
    "  )\n",
    "  return model"
   ]
  },
  {
   "cell_type": "code",
   "execution_count": 39,
   "metadata": {},
   "outputs": [
    {
     "name": "stdout",
     "output_type": "stream",
     "text": [
      "Model: \"sequential_3\"\n",
      "_________________________________________________________________\n",
      "Layer (type)                 Output Shape              Param #   \n",
      "=================================================================\n",
      "lstm_3 (LSTM)                (None, 64)                19968     \n",
      "_________________________________________________________________\n",
      "dense_9 (Dense)              (None, 32)                2080      \n",
      "_________________________________________________________________\n",
      "dropout_6 (Dropout)          (None, 32)                0         \n",
      "_________________________________________________________________\n",
      "dense_10 (Dense)             (None, 32)                1056      \n",
      "_________________________________________________________________\n",
      "dropout_7 (Dropout)          (None, 32)                0         \n",
      "_________________________________________________________________\n",
      "dense_11 (Dense)             (None, 2)                 66        \n",
      "=================================================================\n",
      "Total params: 23,170\n",
      "Trainable params: 23,170\n",
      "Non-trainable params: 0\n",
      "_________________________________________________________________\n"
     ]
    }
   ],
   "source": [
    "model_final2=models()\n",
    "model_final2.summary()"
   ]
  },
  {
   "cell_type": "code",
   "execution_count": 40,
   "metadata": {},
   "outputs": [
    {
     "name": "stdout",
     "output_type": "stream",
     "text": [
      "Epoch 1/100\n",
      "3245/3245 [==============================] - 25s 7ms/step - loss: 594.9814 - val_loss: 240.8792\n",
      "Epoch 2/100\n",
      "3245/3245 [==============================] - 26s 8ms/step - loss: 319.5664 - val_loss: 157.4719\n",
      "Epoch 3/100\n",
      "3245/3245 [==============================] - 27s 8ms/step - loss: 234.8050 - val_loss: 121.2628\n",
      "Epoch 4/100\n",
      "3245/3245 [==============================] - 27s 8ms/step - loss: 196.4660 - val_loss: 98.3864\n",
      "Epoch 5/100\n",
      "3245/3245 [==============================] - 24s 7ms/step - loss: 171.0773 - val_loss: 88.2964\n",
      "Epoch 6/100\n",
      "3245/3245 [==============================] - 24s 7ms/step - loss: 148.3712 - val_loss: 79.6263\n",
      "Epoch 7/100\n",
      "3245/3245 [==============================] - 22s 7ms/step - loss: 135.0063 - val_loss: 77.3529\n",
      "Epoch 8/100\n",
      "3245/3245 [==============================] - 24s 7ms/step - loss: 125.4198 - val_loss: 75.5090\n",
      "Epoch 9/100\n",
      "3245/3245 [==============================] - 23s 7ms/step - loss: 118.0414 - val_loss: 72.8750\n",
      "Epoch 10/100\n",
      "3245/3245 [==============================] - 22s 7ms/step - loss: 108.4241 - val_loss: 69.9810\n",
      "Epoch 11/100\n",
      "3245/3245 [==============================] - 23s 7ms/step - loss: 102.5218 - val_loss: 70.1460\n",
      "Epoch 12/100\n",
      "3245/3245 [==============================] - 24s 7ms/step - loss: 99.5991 - val_loss: 67.0295\n",
      "Epoch 13/100\n",
      "3245/3245 [==============================] - 24s 7ms/step - loss: 94.0600 - val_loss: 67.6704\n",
      "Epoch 14/100\n",
      "3245/3245 [==============================] - 23s 7ms/step - loss: 88.4490 - val_loss: 68.5107\n",
      "Epoch 15/100\n",
      "3245/3245 [==============================] - 23s 7ms/step - loss: 82.4513 - val_loss: 63.4091\n",
      "Epoch 16/100\n",
      "3245/3245 [==============================] - 23s 7ms/step - loss: 82.0127 - val_loss: 67.4646\n",
      "Epoch 17/100\n",
      "3245/3245 [==============================] - 22s 7ms/step - loss: 81.6789 - val_loss: 63.7657\n",
      "Epoch 18/100\n",
      "3245/3245 [==============================] - 23s 7ms/step - loss: 76.7827 - val_loss: 55.6986\n",
      "Epoch 19/100\n",
      "3245/3245 [==============================] - 23s 7ms/step - loss: 76.8292 - val_loss: 59.2288\n",
      "Epoch 20/100\n",
      "3245/3245 [==============================] - 22s 7ms/step - loss: 74.7809 - val_loss: 59.0821\n",
      "Epoch 21/100\n",
      "3245/3245 [==============================] - 23s 7ms/step - loss: 71.7434 - val_loss: 60.1524\n",
      "Epoch 22/100\n",
      "3245/3245 [==============================] - 22s 7ms/step - loss: 69.1620 - val_loss: 53.5961\n",
      "Epoch 23/100\n",
      "3245/3245 [==============================] - 22s 7ms/step - loss: 70.0777 - val_loss: 54.1025\n",
      "Epoch 24/100\n",
      "3245/3245 [==============================] - 23s 7ms/step - loss: 68.6657 - val_loss: 54.4575\n",
      "Epoch 25/100\n",
      "3245/3245 [==============================] - 24s 7ms/step - loss: 67.6737 - val_loss: 57.5671\n",
      "Epoch 26/100\n",
      "3245/3245 [==============================] - 23s 7ms/step - loss: 65.2393 - val_loss: 55.9614\n",
      "Epoch 27/100\n",
      "3245/3245 [==============================] - 24s 8ms/step - loss: 63.7307 - val_loss: 53.8293\n",
      "Epoch 28/100\n",
      "3245/3245 [==============================] - 25s 8ms/step - loss: 65.2912 - val_loss: 53.6612\n",
      "Epoch 29/100\n",
      "3245/3245 [==============================] - 24s 7ms/step - loss: 63.3817 - val_loss: 55.1789\n",
      "Epoch 30/100\n",
      "3245/3245 [==============================] - 24s 7ms/step - loss: 61.0786 - val_loss: 51.9957\n",
      "Epoch 31/100\n",
      "3245/3245 [==============================] - 24s 7ms/step - loss: 60.6792 - val_loss: 52.1906\n",
      "Epoch 32/100\n",
      "3245/3245 [==============================] - 24s 7ms/step - loss: 58.9968 - val_loss: 54.7146\n",
      "Epoch 33/100\n",
      "3245/3245 [==============================] - 24s 7ms/step - loss: 57.5665 - val_loss: 50.3695\n",
      "Epoch 34/100\n",
      "3245/3245 [==============================] - 24s 7ms/step - loss: 60.1649 - val_loss: 50.3595\n",
      "Epoch 35/100\n",
      "3245/3245 [==============================] - 24s 7ms/step - loss: 57.1024 - val_loss: 49.6925\n",
      "Epoch 36/100\n",
      "3245/3245 [==============================] - 23s 7ms/step - loss: 57.0839 - val_loss: 48.6822\n",
      "Epoch 37/100\n",
      "3245/3245 [==============================] - 24s 7ms/step - loss: 56.6883 - val_loss: 50.4434\n",
      "Epoch 38/100\n",
      "3245/3245 [==============================] - 25s 8ms/step - loss: 54.2338 - val_loss: 48.8863\n",
      "Epoch 39/100\n",
      "3245/3245 [==============================] - 24s 8ms/step - loss: 54.6263 - val_loss: 48.8754\n",
      "Epoch 40/100\n",
      "3245/3245 [==============================] - 25s 8ms/step - loss: 53.9960 - val_loss: 49.1469\n",
      "Epoch 41/100\n",
      "3245/3245 [==============================] - 24s 7ms/step - loss: 53.2564 - val_loss: 48.8922\n",
      "Epoch 42/100\n",
      "3245/3245 [==============================] - 23s 7ms/step - loss: 52.9945 - val_loss: 46.9097\n",
      "Epoch 43/100\n",
      "3245/3245 [==============================] - 23s 7ms/step - loss: 53.7278 - val_loss: 47.4123\n",
      "Epoch 44/100\n",
      "3245/3245 [==============================] - 24s 8ms/step - loss: 52.9412 - val_loss: 47.4405\n",
      "Epoch 45/100\n",
      "3245/3245 [==============================] - 23s 7ms/step - loss: 52.9547 - val_loss: 45.4389\n",
      "Epoch 46/100\n",
      "3245/3245 [==============================] - 23s 7ms/step - loss: 50.9322 - val_loss: 45.3938\n",
      "Epoch 47/100\n",
      "3245/3245 [==============================] - 24s 7ms/step - loss: 51.1151 - val_loss: 44.7933\n",
      "Epoch 48/100\n",
      "3245/3245 [==============================] - 25s 8ms/step - loss: 49.0939 - val_loss: 46.3436\n",
      "Epoch 49/100\n",
      "3245/3245 [==============================] - 24s 7ms/step - loss: 49.5986 - val_loss: 45.4580\n",
      "Epoch 50/100\n",
      "3245/3245 [==============================] - 24s 7ms/step - loss: 49.8775 - val_loss: 46.2923\n",
      "Epoch 51/100\n",
      "3245/3245 [==============================] - 24s 7ms/step - loss: 49.9153 - val_loss: 42.9430\n",
      "Epoch 52/100\n",
      "3245/3245 [==============================] - 22s 7ms/step - loss: 47.9718 - val_loss: 43.6483\n",
      "Epoch 53/100\n",
      "3245/3245 [==============================] - 21s 6ms/step - loss: 48.7414 - val_loss: 46.4156\n",
      "Epoch 54/100\n",
      "3245/3245 [==============================] - 22s 7ms/step - loss: 47.3958 - val_loss: 43.4629\n",
      "Epoch 55/100\n",
      "3245/3245 [==============================] - 22s 7ms/step - loss: 49.5921 - val_loss: 43.2986\n",
      "Epoch 56/100\n",
      "3245/3245 [==============================] - 23s 7ms/step - loss: 48.1518 - val_loss: 43.2325\n",
      "Epoch 57/100\n",
      "3245/3245 [==============================] - 22s 7ms/step - loss: 46.7328 - val_loss: 44.1728\n",
      "Epoch 58/100\n",
      "3245/3245 [==============================] - 22s 7ms/step - loss: 46.0569 - val_loss: 41.5376\n",
      "Epoch 59/100\n",
      "3245/3245 [==============================] - 22s 7ms/step - loss: 46.4032 - val_loss: 43.0466\n",
      "Epoch 60/100\n",
      "3245/3245 [==============================] - 22s 7ms/step - loss: 46.5805 - val_loss: 41.5382\n",
      "Epoch 61/100\n",
      "3245/3245 [==============================] - 23s 7ms/step - loss: 47.4696 - val_loss: 42.5311\n",
      "Epoch 62/100\n",
      "3245/3245 [==============================] - 23s 7ms/step - loss: 45.9466 - val_loss: 41.0459\n",
      "Epoch 63/100\n",
      "3245/3245 [==============================] - 22s 7ms/step - loss: 46.5480 - val_loss: 40.2500\n",
      "Epoch 64/100\n",
      "3245/3245 [==============================] - 23s 7ms/step - loss: 46.5468 - val_loss: 39.8058\n",
      "Epoch 65/100\n",
      "3245/3245 [==============================] - 24s 7ms/step - loss: 46.1395 - val_loss: 42.7784\n",
      "Epoch 66/100\n",
      "3245/3245 [==============================] - 24s 7ms/step - loss: 46.1670 - val_loss: 38.6595\n",
      "Epoch 67/100\n",
      "3245/3245 [==============================] - 24s 8ms/step - loss: 46.6018 - val_loss: 41.2986\n",
      "Epoch 68/100\n",
      "3245/3245 [==============================] - 24s 7ms/step - loss: 45.0091 - val_loss: 41.2270\n",
      "Epoch 69/100\n",
      "3245/3245 [==============================] - 23s 7ms/step - loss: 43.9751 - val_loss: 40.6827\n",
      "Epoch 70/100\n",
      "3245/3245 [==============================] - 23s 7ms/step - loss: 43.6509 - val_loss: 38.4027\n",
      "Epoch 71/100\n",
      "3245/3245 [==============================] - 23s 7ms/step - loss: 44.1196 - val_loss: 41.4530\n",
      "Epoch 72/100\n",
      "3245/3245 [==============================] - 24s 7ms/step - loss: 44.7928 - val_loss: 41.0298\n",
      "Epoch 73/100\n",
      "3245/3245 [==============================] - 23s 7ms/step - loss: 42.7313 - val_loss: 40.5412\n",
      "Epoch 74/100\n",
      "3245/3245 [==============================] - 22s 7ms/step - loss: 43.8961 - val_loss: 40.6080\n",
      "Epoch 75/100\n",
      "3245/3245 [==============================] - 22s 7ms/step - loss: 43.6990 - val_loss: 39.1998\n",
      "Epoch 76/100\n",
      "3245/3245 [==============================] - 23s 7ms/step - loss: 43.8911 - val_loss: 39.7777\n",
      "Epoch 77/100\n"
     ]
    },
    {
     "name": "stdout",
     "output_type": "stream",
     "text": [
      "3245/3245 [==============================] - 23s 7ms/step - loss: 43.8437 - val_loss: 39.0494\n",
      "Epoch 78/100\n",
      "3245/3245 [==============================] - 22s 7ms/step - loss: 43.8050 - val_loss: 38.0131\n",
      "Epoch 79/100\n",
      "3245/3245 [==============================] - 23s 7ms/step - loss: 43.7497 - val_loss: 39.0908\n",
      "Epoch 80/100\n",
      "3245/3245 [==============================] - 24s 7ms/step - loss: 44.1857 - val_loss: 38.5220\n",
      "Epoch 81/100\n",
      "3245/3245 [==============================] - 23s 7ms/step - loss: 43.3628 - val_loss: 37.2212\n",
      "Epoch 82/100\n",
      "3245/3245 [==============================] - 22s 7ms/step - loss: 41.2562 - val_loss: 38.1636\n",
      "Epoch 83/100\n",
      "3245/3245 [==============================] - 22s 7ms/step - loss: 41.9535 - val_loss: 39.0416\n",
      "Epoch 84/100\n",
      "3245/3245 [==============================] - 23s 7ms/step - loss: 42.4462 - val_loss: 38.8576\n",
      "Epoch 85/100\n",
      "3245/3245 [==============================] - 24s 7ms/step - loss: 41.9870 - val_loss: 39.6198\n",
      "Epoch 86/100\n",
      "3245/3245 [==============================] - 22s 7ms/step - loss: 41.7291 - val_loss: 39.1344\n",
      "Epoch 87/100\n",
      "3245/3245 [==============================] - 24s 7ms/step - loss: 42.3951 - val_loss: 39.5452\n",
      "Epoch 88/100\n",
      "3245/3245 [==============================] - 25s 8ms/step - loss: 42.4186 - val_loss: 38.0666\n",
      "Epoch 89/100\n",
      "3245/3245 [==============================] - 26s 8ms/step - loss: 40.9756 - val_loss: 40.2691\n",
      "Epoch 90/100\n",
      "3245/3245 [==============================] - 29s 9ms/step - loss: 41.2745 - val_loss: 40.7650\n",
      "Epoch 91/100\n",
      "3245/3245 [==============================] - 28s 9ms/step - loss: 41.6049 - val_loss: 40.7533\n",
      "Epoch 92/100\n",
      "3245/3245 [==============================] - 28s 9ms/step - loss: 40.4757 - val_loss: 38.4049\n",
      "Epoch 93/100\n",
      "3245/3245 [==============================] - 28s 9ms/step - loss: 40.6123 - val_loss: 37.9749\n",
      "Epoch 94/100\n",
      "3245/3245 [==============================] - 30s 9ms/step - loss: 42.2997 - val_loss: 39.0031\n",
      "Epoch 95/100\n",
      "3245/3245 [==============================] - 29s 9ms/step - loss: 40.2076 - val_loss: 38.4924\n",
      "Epoch 96/100\n",
      "3245/3245 [==============================] - 30s 9ms/step - loss: 39.2415 - val_loss: 37.5414\n",
      "Epoch 00096: early stopping\n"
     ]
    }
   ],
   "source": [
    "es = EarlyStopping(monitor='val_loss', mode='min', verbose=1, patience=15)\n",
    "history_final2 = model_final2.fit(\n",
    "    train_ds,\n",
    "    batch_size=data_config[\"batch_size\"],\n",
    "    epochs=model_config[\"n_epochs\"],\n",
    "    verbose=1,\n",
    "    shuffle=False,\n",
    "    validation_data=val_ds,\n",
    "    callbacks=[es]\n",
    ")"
   ]
  },
  {
   "cell_type": "code",
   "execution_count": 41,
   "metadata": {},
   "outputs": [
    {
     "data": {
      "image/png": "[encoded data removed]",
      "text/plain": [
       "<Figure size 432x288 with 1 Axes>"
      ]
     },
     "metadata": {
      "needs_background": "light"
     },
     "output_type": "display_data"
    }
   ],
   "source": [
    "for name, values in history_final2.history.items():\n",
    "    plt.plot(values)\n",
    "    plt.grid(\"True\")"
   ]
  },
  {
   "cell_type": "code",
   "execution_count": 42,
   "metadata": {
    "scrolled": true
   },
   "outputs": [
    {
     "name": "stdout",
     "output_type": "stream",
     "text": [
      "561/561 [==============================] - 2s 3ms/step - loss: 39.9018: 0s\n",
      "Test RMSE: 6.3168\n"
     ]
    }
   ],
   "source": [
    "test_ds = timeseries_dataset_from_df(test, data_config[\"batch_size\"])\n",
    "mse = model_final2.evaluate(test_ds)\n",
    "print(f\"Test RMSE: {mse**.5:.4f}\")"
   ]
  },
  {
   "cell_type": "code",
   "execution_count": 43,
   "metadata": {},
   "outputs": [],
   "source": [
    "# define our model\n",
    "from tensorflow.keras.layers import Dropout\n",
    "model_config = {\"n_epochs\": 100, \"n_neurons\": 32,\n",
    "                  \"dropout\": 0.25, \"stateful\": False}\n",
    "\n",
    "def models():\n",
    "  \n",
    "  model = Sequential()\n",
    "  model.add(\n",
    "      LSTM(\n",
    "          model_config[\"n_neurons\"],\n",
    "          # usually set to (`batch_size`, `sequence_length`, `n_features`)\n",
    "          # setting the batch size to None allows for variable length batches\n",
    "          batch_input_shape=(None, data_config[\"timesteps\"], len(XCOLS)),\n",
    "          stateful=model_config[\"stateful\"],\n",
    "          dropout=model_config[\"dropout\"],\n",
    "          activation='relu',kernel_regularizer='l2',\n",
    "      )\n",
    "  )\n",
    " \n",
    "  model.add(Dense(32,kernel_regularizer='l2'))\n",
    "  model.add(Dropout(0.25))\n",
    "  model.add(Dense(32,kernel_regularizer='l2'))\n",
    "  model.add(Dropout(0.25))\n",
    "  #model.add(Dense())\n",
    "  model.add(Dense(len(YCOLS)))\n",
    "  opt=Adam(learning_rate=0.00001)\n",
    "  model.compile(\n",
    "      loss=\"mean_squared_error\",\n",
    "      optimizer=opt,\n",
    "  )\n",
    "  return model"
   ]
  },
  {
   "cell_type": "code",
   "execution_count": 44,
   "metadata": {},
   "outputs": [
    {
     "name": "stdout",
     "output_type": "stream",
     "text": [
      "Model: \"sequential_4\"\n",
      "_________________________________________________________________\n",
      "Layer (type)                 Output Shape              Param #   \n",
      "=================================================================\n",
      "lstm_4 (LSTM)                (None, 32)                5888      \n",
      "_________________________________________________________________\n",
      "dense_12 (Dense)             (None, 32)                1056      \n",
      "_________________________________________________________________\n",
      "dropout_8 (Dropout)          (None, 32)                0         \n",
      "_________________________________________________________________\n",
      "dense_13 (Dense)             (None, 32)                1056      \n",
      "_________________________________________________________________\n",
      "dropout_9 (Dropout)          (None, 32)                0         \n",
      "_________________________________________________________________\n",
      "dense_14 (Dense)             (None, 2)                 66        \n",
      "=================================================================\n",
      "Total params: 8,066\n",
      "Trainable params: 8,066\n",
      "Non-trainable params: 0\n",
      "_________________________________________________________________\n"
     ]
    }
   ],
   "source": [
    "model_final3=models()\n",
    "model_final3.summary()"
   ]
  },
  {
   "cell_type": "code",
   "execution_count": 45,
   "metadata": {},
   "outputs": [
    {
     "name": "stdout",
     "output_type": "stream",
     "text": [
      "Epoch 1/100\n",
      "3245/3245 [==============================] - 28s 8ms/step - loss: 987.0764 - val_loss: 302.9318\n",
      "Epoch 2/100\n",
      "3245/3245 [==============================] - 25s 8ms/step - loss: 349.9491 - val_loss: 173.7319\n",
      "Epoch 3/100\n",
      "3245/3245 [==============================] - 26s 8ms/step - loss: 241.3831 - val_loss: 146.3287\n",
      "Epoch 4/100\n",
      "3245/3245 [==============================] - 26s 8ms/step - loss: 210.0412 - val_loss: 126.6986\n",
      "Epoch 5/100\n",
      "3245/3245 [==============================] - 22s 7ms/step - loss: 191.0646 - val_loss: 116.2241\n",
      "Epoch 6/100\n",
      "3245/3245 [==============================] - 21s 7ms/step - loss: 173.3399 - val_loss: 105.0707\n",
      "Epoch 7/100\n",
      "3245/3245 [==============================] - 21s 7ms/step - loss: 155.4615 - val_loss: 98.9005\n",
      "Epoch 8/100\n",
      "3245/3245 [==============================] - 20s 6ms/step - loss: 150.5219 - val_loss: 89.0824\n",
      "Epoch 9/100\n",
      "3245/3245 [==============================] - 21s 6ms/step - loss: 135.4175 - val_loss: 82.0889\n",
      "Epoch 10/100\n",
      "3245/3245 [==============================] - 20s 6ms/step - loss: 124.7642 - val_loss: 77.2259\n",
      "Epoch 11/100\n",
      "3245/3245 [==============================] - 20s 6ms/step - loss: 117.2398 - val_loss: 72.3994\n",
      "Epoch 12/100\n",
      "3245/3245 [==============================] - 20s 6ms/step - loss: 110.9046 - val_loss: 67.0612\n",
      "Epoch 13/100\n",
      "3245/3245 [==============================] - 21s 6ms/step - loss: 101.2389 - val_loss: 64.2928\n",
      "Epoch 14/100\n",
      "3245/3245 [==============================] - 21s 6ms/step - loss: 92.7110 - val_loss: 62.5292\n",
      "Epoch 15/100\n",
      "3245/3245 [==============================] - 20s 6ms/step - loss: 88.1191 - val_loss: 61.0278\n",
      "Epoch 16/100\n",
      "3245/3245 [==============================] - 20s 6ms/step - loss: 84.4849 - val_loss: 59.6406\n",
      "Epoch 17/100\n",
      "3245/3245 [==============================] - 20s 6ms/step - loss: 80.1874 - val_loss: 58.1144\n",
      "Epoch 18/100\n",
      "3245/3245 [==============================] - 21s 6ms/step - loss: 76.1902 - val_loss: 55.2624\n",
      "Epoch 19/100\n",
      "3245/3245 [==============================] - 22s 7ms/step - loss: 72.4548 - val_loss: 55.0024\n",
      "Epoch 20/100\n",
      "3245/3245 [==============================] - 21s 6ms/step - loss: 66.9602 - val_loss: 54.8683\n",
      "Epoch 21/100\n",
      "3245/3245 [==============================] - 21s 6ms/step - loss: 65.8351 - val_loss: 55.7698\n",
      "Epoch 22/100\n",
      "3245/3245 [==============================] - 21s 6ms/step - loss: 63.3191 - val_loss: 55.7955\n",
      "Epoch 23/100\n",
      "3245/3245 [==============================] - 20s 6ms/step - loss: 60.9343 - val_loss: 54.8533\n",
      "Epoch 24/100\n",
      "3245/3245 [==============================] - 21s 6ms/step - loss: 58.4848 - val_loss: 54.7547\n",
      "Epoch 25/100\n",
      "3245/3245 [==============================] - 21s 6ms/step - loss: 58.9625 - val_loss: 55.5758\n",
      "Epoch 26/100\n",
      "3245/3245 [==============================] - 21s 6ms/step - loss: 54.6771 - val_loss: 55.4653\n",
      "Epoch 27/100\n",
      "3245/3245 [==============================] - 21s 7ms/step - loss: 53.2659 - val_loss: 53.6021\n",
      "Epoch 28/100\n",
      "3245/3245 [==============================] - 20s 6ms/step - loss: 54.1708 - val_loss: 52.6099\n",
      "Epoch 29/100\n",
      "3245/3245 [==============================] - 20s 6ms/step - loss: 51.9584 - val_loss: 52.6245\n",
      "Epoch 30/100\n",
      "3245/3245 [==============================] - 22s 7ms/step - loss: 51.8858 - val_loss: 51.7382\n",
      "Epoch 31/100\n",
      "3245/3245 [==============================] - 21s 6ms/step - loss: 49.3568 - val_loss: 50.0415\n",
      "Epoch 32/100\n",
      "3245/3245 [==============================] - 22s 7ms/step - loss: 48.8851 - val_loss: 51.0574\n",
      "Epoch 33/100\n",
      "3245/3245 [==============================] - 22s 7ms/step - loss: 47.6061 - val_loss: 51.0092\n",
      "Epoch 34/100\n",
      "3245/3245 [==============================] - 20s 6ms/step - loss: 48.1427 - val_loss: 51.5937\n",
      "Epoch 35/100\n",
      "3245/3245 [==============================] - 20s 6ms/step - loss: 46.9387 - val_loss: 52.5606\n",
      "Epoch 36/100\n",
      "3245/3245 [==============================] - 20s 6ms/step - loss: 46.4820 - val_loss: 52.8718\n",
      "Epoch 37/100\n",
      "3245/3245 [==============================] - 20s 6ms/step - loss: 45.3742 - val_loss: 51.4488\n",
      "Epoch 38/100\n",
      "3245/3245 [==============================] - 21s 6ms/step - loss: 43.4841 - val_loss: 51.2334\n",
      "Epoch 39/100\n",
      "3245/3245 [==============================] - 21s 7ms/step - loss: 43.5869 - val_loss: 51.1082\n",
      "Epoch 40/100\n",
      "3245/3245 [==============================] - 21s 6ms/step - loss: 42.5406 - val_loss: 50.9899\n",
      "Epoch 41/100\n",
      "3245/3245 [==============================] - 20s 6ms/step - loss: 42.0083 - val_loss: 50.9340\n",
      "Epoch 42/100\n",
      "3245/3245 [==============================] - 21s 6ms/step - loss: 43.2250 - val_loss: 50.3103\n",
      "Epoch 43/100\n",
      "3245/3245 [==============================] - 20s 6ms/step - loss: 42.3024 - val_loss: 50.6249\n",
      "Epoch 44/100\n",
      "3245/3245 [==============================] - 20s 6ms/step - loss: 41.7781 - val_loss: 52.6122\n",
      "Epoch 45/100\n",
      "3245/3245 [==============================] - 20s 6ms/step - loss: 41.7855 - val_loss: 52.0795\n",
      "Epoch 46/100\n",
      "3245/3245 [==============================] - 20s 6ms/step - loss: 40.7954 - val_loss: 50.9513\n",
      "Epoch 00046: early stopping\n"
     ]
    }
   ],
   "source": [
    "es = EarlyStopping(monitor='val_loss', mode='min', verbose=1, patience=15)\n",
    "history_final3 = model_final3.fit(\n",
    "    train_ds,\n",
    "    batch_size=data_config[\"batch_size\"],\n",
    "    epochs=model_config[\"n_epochs\"],\n",
    "    verbose=1,\n",
    "    shuffle=False,\n",
    "    validation_data=val_ds,\n",
    "    callbacks=[es]\n",
    ")"
   ]
  },
  {
   "cell_type": "code",
   "execution_count": 46,
   "metadata": {},
   "outputs": [
    {
     "data": {
      "image/png": "[encoded data removed]",
      "text/plain": [
       "<Figure size 432x288 with 1 Axes>"
      ]
     },
     "metadata": {
      "needs_background": "light"
     },
     "output_type": "display_data"
    }
   ],
   "source": [
    "for name, values in history_final3.history.items():\n",
    "    plt.plot(values)\n",
    "    plt.grid(\"True\")"
   ]
  },
  {
   "cell_type": "code",
   "execution_count": 47,
   "metadata": {},
   "outputs": [
    {
     "name": "stdout",
     "output_type": "stream",
     "text": [
      "561/561 [==============================] - 2s 3ms/step - loss: 54.6618\n",
      "Test RMSE: 7.3934\n"
     ]
    }
   ],
   "source": [
    "test_ds = timeseries_dataset_from_df(test, data_config[\"batch_size\"])\n",
    "mse = model_final3.evaluate(test_ds)\n",
    "print(f\"Test RMSE: {mse**.5:.4f}\")"
   ]
  },
  {
   "cell_type": "code",
   "execution_count": null,
   "metadata": {},
   "outputs": [],
   "source": []
  },
  {
   "cell_type": "code",
   "execution_count": 48,
   "metadata": {},
   "outputs": [
    {
     "name": "stdout",
     "output_type": "stream",
     "text": [
      "INFO:tensorflow:Assets written to: model/assets\n",
      "{'timesteps': 16, 'batch_size': 32, 'solar_wind_subset': ['bx_gse', 'by_gse', 'bz_gse', 'speed', 'density', 'temperature', 'theta_gse']}\n"
     ]
    }
   ],
   "source": [
    "import json\n",
    "import pickle\n",
    "\n",
    "model_final2.save(\"model\")\n",
    "\n",
    "with open(\"scaler.pck\", \"wb\") as f:\n",
    "    pickle.dump(scaler, f)\n",
    "\n",
    "data_config[\"solar_wind_subset\"] = SOLAR_WIND_FEATURES\n",
    "print(data_config)\n",
    "with open(\"config.json\", \"w\") as f:\n",
    "    json.dump(data_config, f)"
   ]
  },
  {
   "cell_type": "code",
   "execution_count": null,
   "metadata": {},
   "outputs": [],
   "source": []
  },
  {
   "cell_type": "code",
   "execution_count": null,
   "metadata": {},
   "outputs": [],
   "source": []
  },
  {
   "cell_type": "code",
   "execution_count": null,
   "metadata": {},
   "outputs": [],
   "source": []
  }
 ],
 "metadata": {
  "kernelspec": {
   "display_name": "Python 3",
   "language": "python",
   "name": "python3"
  },
  "language_info": {
   "codemirror_mode": {
    "name": "ipython",
    "version": 3
   },
   "file_extension": ".py",
   "mimetype": "text/x-python",
   "name": "python",
   "nbconvert_exporter": "python",
   "pygments_lexer": "ipython3",
   "version": "3.8.5"
  }
 },
 "nbformat": 4,
 "nbformat_minor": 4
}
