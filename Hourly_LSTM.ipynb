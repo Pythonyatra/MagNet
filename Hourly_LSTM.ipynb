{
 "cells": [
  {
   "cell_type": "code",
   "execution_count": 1,
   "metadata": {
    "id": "PTAJuXj8xvWF"
   },
   "outputs": [],
   "source": [
    "import pandas as pd\n",
    "import numpy as np\n",
    "import matplotlib.pyplot as plt\n",
    "%matplotlib inline"
   ]
  },
  {
   "cell_type": "code",
   "execution_count": 2,
   "metadata": {
    "colab": {
     "base_uri": "https://localhost:8080/",
     "height": 176
    },
    "id": "KRNbvXa8yF-m",
    "outputId": "c460345c-d38a-438a-a9c8-9f72e53ad42c"
   },
   "outputs": [
    {
     "data": {
      "text/html": [
       "<div>\n",
       "<style scoped>\n",
       "    .dataframe tbody tr th:only-of-type {\n",
       "        vertical-align: middle;\n",
       "    }\n",
       "\n",
       "    .dataframe tbody tr th {\n",
       "        vertical-align: top;\n",
       "    }\n",
       "\n",
       "    .dataframe thead th {\n",
       "        text-align: right;\n",
       "    }\n",
       "</style>\n",
       "<table border=\"1\" class=\"dataframe\">\n",
       "  <thead>\n",
       "    <tr style=\"text-align: right;\">\n",
       "      <th></th>\n",
       "      <th></th>\n",
       "      <th>bx_gse</th>\n",
       "      <th>by_gse</th>\n",
       "      <th>bz_gse</th>\n",
       "      <th>theta_gse</th>\n",
       "      <th>phi_gse</th>\n",
       "      <th>bt</th>\n",
       "      <th>density</th>\n",
       "      <th>speed</th>\n",
       "      <th>temperature</th>\n",
       "      <th>dst</th>\n",
       "      <th>smoothed_ssn</th>\n",
       "      <th>gse_x_ace</th>\n",
       "      <th>gse_y_ace</th>\n",
       "      <th>gse_z_ace</th>\n",
       "      <th>by_gse_std</th>\n",
       "      <th>bz_gse_std</th>\n",
       "      <th>bt_std</th>\n",
       "      <th>density_std</th>\n",
       "      <th>speed_std</th>\n",
       "    </tr>\n",
       "    <tr>\n",
       "      <th>timedelta</th>\n",
       "      <th>period</th>\n",
       "      <th></th>\n",
       "      <th></th>\n",
       "      <th></th>\n",
       "      <th></th>\n",
       "      <th></th>\n",
       "      <th></th>\n",
       "      <th></th>\n",
       "      <th></th>\n",
       "      <th></th>\n",
       "      <th></th>\n",
       "      <th></th>\n",
       "      <th></th>\n",
       "      <th></th>\n",
       "      <th></th>\n",
       "      <th></th>\n",
       "      <th></th>\n",
       "      <th></th>\n",
       "      <th></th>\n",
       "      <th></th>\n",
       "    </tr>\n",
       "  </thead>\n",
       "  <tbody>\n",
       "    <tr>\n",
       "      <th>0 days 00:00:00</th>\n",
       "      <th>train_a</th>\n",
       "      <td>-6.149500</td>\n",
       "      <td>1.6455</td>\n",
       "      <td>0.844667</td>\n",
       "      <td>7.103667</td>\n",
       "      <td>165.420333</td>\n",
       "      <td>7.140000</td>\n",
       "      <td>1.174167</td>\n",
       "      <td>355.278250</td>\n",
       "      <td>68880.341667</td>\n",
       "      <td>-7</td>\n",
       "      <td>65.400000</td>\n",
       "      <td>1.522377e+06</td>\n",
       "      <td>143704.600000</td>\n",
       "      <td>149496.700000</td>\n",
       "      <td>1.224754</td>\n",
       "      <td>0.580028</td>\n",
       "      <td>1.607043</td>\n",
       "      <td>0.479647</td>\n",
       "      <td>15.025364</td>\n",
       "    </tr>\n",
       "    <tr>\n",
       "      <th>0 days 01:00:00</th>\n",
       "      <th>train_a</th>\n",
       "      <td>-6.693833</td>\n",
       "      <td>0.7665</td>\n",
       "      <td>1.265167</td>\n",
       "      <td>10.183333</td>\n",
       "      <td>174.267833</td>\n",
       "      <td>7.284833</td>\n",
       "      <td>0.815917</td>\n",
       "      <td>330.080583</td>\n",
       "      <td>52203.225000</td>\n",
       "      <td>-10</td>\n",
       "      <td>65.421154</td>\n",
       "      <td>1.522503e+06</td>\n",
       "      <td>143388.108333</td>\n",
       "      <td>149560.758333</td>\n",
       "      <td>0.907098</td>\n",
       "      <td>0.731278</td>\n",
       "      <td>0.325293</td>\n",
       "      <td>0.698365</td>\n",
       "      <td>17.203299</td>\n",
       "    </tr>\n",
       "  </tbody>\n",
       "</table>\n",
       "</div>"
      ],
      "text/plain": [
       "                           bx_gse  by_gse    bz_gse  theta_gse     phi_gse  \\\n",
       "timedelta       period                                                       \n",
       "0 days 00:00:00 train_a -6.149500  1.6455  0.844667   7.103667  165.420333   \n",
       "0 days 01:00:00 train_a -6.693833  0.7665  1.265167  10.183333  174.267833   \n",
       "\n",
       "                               bt   density       speed   temperature  dst  \\\n",
       "timedelta       period                                                       \n",
       "0 days 00:00:00 train_a  7.140000  1.174167  355.278250  68880.341667   -7   \n",
       "0 days 01:00:00 train_a  7.284833  0.815917  330.080583  52203.225000  -10   \n",
       "\n",
       "                         smoothed_ssn     gse_x_ace      gse_y_ace  \\\n",
       "timedelta       period                                               \n",
       "0 days 00:00:00 train_a     65.400000  1.522377e+06  143704.600000   \n",
       "0 days 01:00:00 train_a     65.421154  1.522503e+06  143388.108333   \n",
       "\n",
       "                             gse_z_ace  by_gse_std  bz_gse_std    bt_std  \\\n",
       "timedelta       period                                                     \n",
       "0 days 00:00:00 train_a  149496.700000    1.224754    0.580028  1.607043   \n",
       "0 days 01:00:00 train_a  149560.758333    0.907098    0.731278  0.325293   \n",
       "\n",
       "                         density_std  speed_std  \n",
       "timedelta       period                           \n",
       "0 days 00:00:00 train_a     0.479647  15.025364  \n",
       "0 days 01:00:00 train_a     0.698365  17.203299  "
      ]
     },
     "execution_count": 2,
     "metadata": {},
     "output_type": "execute_result"
    }
   ],
   "source": [
    "df=pd.read_csv('/Users/shovitraj/Github/Python/MagNet_data/hourly_df.csv',\n",
    "               index_col=['timedelta','period'])\n",
    "df.head(2)"
   ]
  },
  {
   "cell_type": "code",
   "execution_count": 3,
   "metadata": {
    "id": "Mjbp_Jh5yULG"
   },
   "outputs": [],
   "source": [
    "normalized_df=(df-df.min())/(df.max()-df.min())\n"
   ]
  },
  {
   "cell_type": "code",
   "execution_count": 4,
   "metadata": {
    "id": "OX-JWAnJyvLd"
   },
   "outputs": [],
   "source": [
    "normalized_df.rename(columns={'dst':'t0'},inplace=True)\n",
    "normalized_df['t1']=normalized_df.groupby(\"period\")['t0'].shift(-1)\n",
    "normalized_df[['t1']]=normalized_df[['t1']].interpolate(method='linear', limit_direction='forward', axis=0)"
   ]
  },
  {
   "cell_type": "code",
   "execution_count": 5,
   "metadata": {
    "colab": {
     "base_uri": "https://localhost:8080/"
    },
    "id": "JFYUVw2jyyP9",
    "outputId": "59622d1a-51de-4654-81a7-4f866f0e44e3"
   },
   "outputs": [
    {
     "data": {
      "text/plain": [
       "0"
      ]
     },
     "execution_count": 5,
     "metadata": {},
     "output_type": "execute_result"
    }
   ],
   "source": [
    "normalized_df.isnull().sum().sum()"
   ]
  },
  {
   "cell_type": "code",
   "execution_count": 6,
   "metadata": {
    "colab": {
     "base_uri": "https://localhost:8080/"
    },
    "id": "_IoN0CgbzpzH",
    "outputId": "cbb725ec-3d1f-4701-b512-d1398e3bebf5"
   },
   "outputs": [
    {
     "data": {
      "text/plain": [
       "139872"
      ]
     },
     "execution_count": 6,
     "metadata": {},
     "output_type": "execute_result"
    }
   ],
   "source": [
    "len(normalized_df)"
   ]
  },
  {
   "cell_type": "markdown",
   "metadata": {
    "id": "t04fMaXly-JN"
   },
   "source": [
    "Train Test Split"
   ]
  },
  {
   "cell_type": "code",
   "execution_count": 7,
   "metadata": {
    "id": "exYk_7a2y-U1"
   },
   "outputs": [],
   "source": [
    "def get_train_test_val(data, test_per_period, val_per_period):\n",
    "    \"\"\"Splits data across periods into train, test, and validation\"\"\"\n",
    "    # assign the last `test_per_period` rows from each period to test\n",
    "    test = data.groupby(\"period\").tail(test_per_period)\n",
    "    interim = data[~data.index.isin(test.index)]\n",
    "    # assign the last `val_per_period` from the remaining rows to validation\n",
    "    val = data.groupby(\"period\").tail(val_per_period)\n",
    "    # the remaining rows are assigned to train\n",
    "    train = interim[~interim.index.isin(val.index)]\n",
    "    return train, test, val\n",
    "\n",
    "train, test, val = get_train_test_val(normalized_df, test_per_period=5000, val_per_period=5000)"
   ]
  },
  {
   "cell_type": "code",
   "execution_count": 8,
   "metadata": {
    "colab": {
     "base_uri": "https://localhost:8080/"
    },
    "id": "J9upGvUlz8xm",
    "outputId": "50ff224c-2236-4399-9f37-7e98a2a939b3"
   },
   "outputs": [
    {
     "name": "stdout",
     "output_type": "stream",
     "text": [
      "124872 15000 15000\n"
     ]
    }
   ],
   "source": [
    "print(len(train),len(test),len(val))"
   ]
  },
  {
   "cell_type": "code",
   "execution_count": 9,
   "metadata": {
    "id": "u7Nj7m28zQyk"
   },
   "outputs": [],
   "source": [
    "from tensorflow.keras.models import Sequential\n",
    "from tensorflow.keras.layers import LSTM\n",
    "from tensorflow.keras.layers import Dense\n",
    "from tensorflow.keras import preprocessing"
   ]
  },
  {
   "cell_type": "code",
   "execution_count": 10,
   "metadata": {
    "id": "NUlr1O_7zaVm"
   },
   "outputs": [],
   "source": [
    "XCOLS=list(normalized_df.columns)\n",
    "XCOLS.remove('t0')\n",
    "XCOLS.remove('t1')\n",
    "YCOLS=['t0','t1']"
   ]
  },
  {
   "cell_type": "code",
   "execution_count": 11,
   "metadata": {
    "colab": {
     "base_uri": "https://localhost:8080/"
    },
    "id": "IvhajBhHzf2G",
    "outputId": "c35a0341-b1f9-4cfd-966f-9bff0ba1f665"
   },
   "outputs": [
    {
     "name": "stdout",
     "output_type": "stream",
     "text": [
      "Number of train batches: 1950\n",
      "Number of val batches: 234\n"
     ]
    }
   ],
   "source": [
    "\n",
    "data_config = {\n",
    "    \"timesteps\": 32,\n",
    "    \"batch_size\": 64,\n",
    "}\n",
    "\n",
    "\n",
    "def timeseries_dataset_from_df(df, batch_size):\n",
    "    dataset = None\n",
    "    timesteps = data_config[\"timesteps\"]\n",
    "\n",
    "    # iterate through periods\n",
    "    for _, period_df in df.groupby(\"period\"):\n",
    "        # realign features and labels so that first sequence of 32 is aligned with the 33rd target\n",
    "        inputs = period_df[XCOLS][:-timesteps]\n",
    "        outputs = period_df[YCOLS][timesteps:]\n",
    "\n",
    "        period_ds = preprocessing.timeseries_dataset_from_array(\n",
    "            inputs,\n",
    "            outputs,\n",
    "            timesteps,\n",
    "            batch_size=batch_size,\n",
    "        )\n",
    "\n",
    "        if dataset is None:\n",
    "            dataset = period_ds\n",
    "        else:\n",
    "            dataset = dataset.concatenate(period_ds)\n",
    "\n",
    "    return dataset\n",
    "\n",
    "\n",
    "train_ds = timeseries_dataset_from_df(train, data_config[\"batch_size\"])\n",
    "val_ds = timeseries_dataset_from_df(val, data_config[\"batch_size\"])\n",
    "\n",
    "print(f\"Number of train batches: {len(train_ds)}\")\n",
    "print(f\"Number of val batches: {len(val_ds)}\")"
   ]
  },
  {
   "cell_type": "code",
   "execution_count": 12,
   "metadata": {
    "colab": {
     "base_uri": "https://localhost:8080/"
    },
    "id": "qIkdPGhU0vt5",
    "outputId": "add43f66-7915-4f25-cd21-eb14cf92f75f"
   },
   "outputs": [
    {
     "name": "stdout",
     "output_type": "stream",
     "text": [
      "Model: \"sequential\"\n",
      "_________________________________________________________________\n",
      "Layer (type)                 Output Shape              Param #   \n",
      "=================================================================\n",
      "lstm (LSTM)                  (None, 64)                21248     \n",
      "_________________________________________________________________\n",
      "dense (Dense)                (None, 64)                4160      \n",
      "_________________________________________________________________\n",
      "dense_1 (Dense)              (None, 32)                2080      \n",
      "_________________________________________________________________\n",
      "dense_2 (Dense)              (None, 2)                 66        \n",
      "=================================================================\n",
      "Total params: 27,554\n",
      "Trainable params: 27,554\n",
      "Non-trainable params: 0\n",
      "_________________________________________________________________\n"
     ]
    }
   ],
   "source": [
    "# define our model\n",
    "model_config = {\"n_epochs\": 50, \"n_neurons\": 64, \"dropout\": 0.4, \"stateful\": False}\n",
    "\n",
    "model = Sequential()\n",
    "model.add(\n",
    "    LSTM(\n",
    "        model_config[\"n_neurons\"],\n",
    "        # usually set to (`batch_size`, `sequence_length`, `n_features`)\n",
    "        # setting the batch size to None allows for variable length batches\n",
    "        batch_input_shape=(None, data_config[\"timesteps\"], len(XCOLS)),\n",
    "        stateful=model_config[\"stateful\"],\n",
    "        dropout=model_config[\"dropout\"],\n",
    "    )\n",
    ")\n",
    "model.add(Dense(64))\n",
    "model.add(Dense(32))\n",
    "model.add(Dense(len(YCOLS)))\n",
    "model.compile(\n",
    "    loss=\"mean_squared_error\",\n",
    "    optimizer=\"adam\",\n",
    ")\n",
    "\n",
    "model.summary()"
   ]
  },
  {
   "cell_type": "code",
   "execution_count": 13,
   "metadata": {
    "colab": {
     "base_uri": "https://localhost:8080/"
    },
    "id": "Aaogb79j1Jcg",
    "outputId": "bf55d630-0069-4701-db9e-518ddd88f1d5"
   },
   "outputs": [
    {
     "name": "stdout",
     "output_type": "stream",
     "text": [
      "Epoch 1/50\n",
      "1950/1950 [==============================] - 31s 15ms/step - loss: 0.0132 - val_loss: 0.0017\n",
      "Epoch 2/50\n",
      "1950/1950 [==============================] - 31s 16ms/step - loss: 0.0025 - val_loss: 0.0015\n",
      "Epoch 3/50\n",
      "1950/1950 [==============================] - 30s 15ms/step - loss: 0.0022 - val_loss: 0.0016\n",
      "Epoch 4/50\n",
      "1950/1950 [==============================] - 30s 15ms/step - loss: 0.0021 - val_loss: 0.0014\n",
      "Epoch 5/50\n",
      "1950/1950 [==============================] - 29s 15ms/step - loss: 0.0019 - val_loss: 0.0014\n",
      "Epoch 6/50\n",
      "1950/1950 [==============================] - 33s 17ms/step - loss: 0.0018 - val_loss: 0.0016\n",
      "Epoch 7/50\n",
      "1950/1950 [==============================] - 29s 15ms/step - loss: 0.0017 - val_loss: 0.0015\n",
      "Epoch 8/50\n",
      "1950/1950 [==============================] - 29s 15ms/step - loss: 0.0017 - val_loss: 0.0017\n",
      "Epoch 9/50\n",
      "1950/1950 [==============================] - 29s 15ms/step - loss: 0.0017 - val_loss: 0.0015\n",
      "Epoch 10/50\n",
      "1950/1950 [==============================] - 28s 14ms/step - loss: 0.0016 - val_loss: 0.0016\n",
      "Epoch 11/50\n",
      "1950/1950 [==============================] - 28s 14ms/step - loss: 0.0016 - val_loss: 0.0015\n",
      "Epoch 12/50\n",
      "1950/1950 [==============================] - 28s 14ms/step - loss: 0.0016 - val_loss: 0.0014\n",
      "Epoch 13/50\n",
      "1950/1950 [==============================] - 29s 15ms/step - loss: 0.0015 - val_loss: 0.0015\n",
      "Epoch 14/50\n",
      "1950/1950 [==============================] - 28s 14ms/step - loss: 0.0015 - val_loss: 0.0014\n",
      "Epoch 15/50\n",
      "1950/1950 [==============================] - 27s 14ms/step - loss: 0.0015 - val_loss: 0.0014\n",
      "Epoch 16/50\n",
      "1950/1950 [==============================] - 27s 14ms/step - loss: 0.0015 - val_loss: 0.0014\n",
      "Epoch 17/50\n",
      "1950/1950 [==============================] - 27s 14ms/step - loss: 0.0015 - val_loss: 0.0014\n",
      "Epoch 18/50\n",
      "1950/1950 [==============================] - 27s 14ms/step - loss: 0.0015 - val_loss: 0.0013\n",
      "Epoch 19/50\n",
      "1950/1950 [==============================] - 27s 14ms/step - loss: 0.0014 - val_loss: 0.0012\n",
      "Epoch 20/50\n",
      "1950/1950 [==============================] - 29s 15ms/step - loss: 0.0014 - val_loss: 0.0012\n",
      "Epoch 21/50\n",
      "1950/1950 [==============================] - 28s 15ms/step - loss: 0.0014 - val_loss: 0.0012\n",
      "Epoch 22/50\n",
      "1950/1950 [==============================] - 29s 15ms/step - loss: 0.0014 - val_loss: 0.0012\n",
      "Epoch 23/50\n",
      "1950/1950 [==============================] - 27s 14ms/step - loss: 0.0014 - val_loss: 0.0011\n",
      "Epoch 24/50\n",
      "1950/1950 [==============================] - 27s 14ms/step - loss: 0.0013 - val_loss: 0.0011\n",
      "Epoch 25/50\n",
      "1950/1950 [==============================] - 27s 14ms/step - loss: 0.0013 - val_loss: 0.0011\n",
      "Epoch 26/50\n",
      "1950/1950 [==============================] - 26s 14ms/step - loss: 0.0013 - val_loss: 0.0010\n",
      "Epoch 27/50\n",
      "1950/1950 [==============================] - 27s 14ms/step - loss: 0.0013 - val_loss: 0.0011\n",
      "Epoch 28/50\n",
      "1950/1950 [==============================] - 27s 14ms/step - loss: 0.0013 - val_loss: 0.0010\n",
      "Epoch 29/50\n",
      "1950/1950 [==============================] - 27s 14ms/step - loss: 0.0013 - val_loss: 0.0011\n",
      "Epoch 30/50\n",
      "1950/1950 [==============================] - 108s 55ms/step - loss: 0.0012 - val_loss: 0.0012\n",
      "Epoch 31/50\n",
      "1950/1950 [==============================] - 33s 17ms/step - loss: 0.0012 - val_loss: 0.0012\n",
      "Epoch 32/50\n",
      "1950/1950 [==============================] - 33s 17ms/step - loss: 0.0012 - val_loss: 0.0013\n",
      "Epoch 33/50\n",
      "1950/1950 [==============================] - 31s 16ms/step - loss: 0.0012 - val_loss: 0.0015\n",
      "Epoch 34/50\n",
      "1950/1950 [==============================] - 32s 16ms/step - loss: 0.0012 - val_loss: 0.0015\n",
      "Epoch 35/50\n",
      "1950/1950 [==============================] - 34s 17ms/step - loss: 0.0012 - val_loss: 0.0014\n",
      "Epoch 36/50\n",
      "1950/1950 [==============================] - 33s 17ms/step - loss: 0.0012 - val_loss: 0.0015\n",
      "Epoch 37/50\n",
      "1950/1950 [==============================] - 33s 17ms/step - loss: 0.0012 - val_loss: 0.0015\n",
      "Epoch 38/50\n",
      "1950/1950 [==============================] - 34s 18ms/step - loss: 0.0011 - val_loss: 0.0017\n",
      "Epoch 39/50\n",
      "1950/1950 [==============================] - 34s 17ms/step - loss: 0.0011 - val_loss: 0.0018\n",
      "Epoch 40/50\n",
      "1950/1950 [==============================] - 32s 16ms/step - loss: 0.0011 - val_loss: 0.0017\n",
      "Epoch 41/50\n",
      "1950/1950 [==============================] - 31s 16ms/step - loss: 0.0011 - val_loss: 0.0017\n",
      "Epoch 42/50\n",
      "1950/1950 [==============================] - 32s 16ms/step - loss: 0.0011 - val_loss: 0.0017\n",
      "Epoch 43/50\n",
      "1950/1950 [==============================] - 31s 16ms/step - loss: 0.0011 - val_loss: 0.0017\n",
      "Epoch 44/50\n",
      "1950/1950 [==============================] - 32s 17ms/step - loss: 0.0011 - val_loss: 0.0019\n",
      "Epoch 45/50\n",
      "1950/1950 [==============================] - 31s 16ms/step - loss: 0.0011 - val_loss: 0.0018\n",
      "Epoch 46/50\n",
      "1950/1950 [==============================] - 29s 15ms/step - loss: 0.0011 - val_loss: 0.0018\n",
      "Epoch 47/50\n",
      "1950/1950 [==============================] - 30s 15ms/step - loss: 0.0011 - val_loss: 0.0018\n",
      "Epoch 48/50\n",
      "1950/1950 [==============================] - 31s 16ms/step - loss: 0.0011 - val_loss: 0.0020\n",
      "Epoch 49/50\n",
      "1950/1950 [==============================] - 30s 15ms/step - loss: 0.0011 - val_loss: 0.0019\n",
      "Epoch 50/50\n",
      "1950/1950 [==============================] - 30s 15ms/step - loss: 0.0011 - val_loss: 0.0020\n",
      "Time Taken: 1569.8058700561523\n"
     ]
    }
   ],
   "source": [
    "import time\n",
    "start=time.time()\n",
    "history = model.fit(\n",
    "    train_ds,\n",
    "    batch_size=data_config[\"batch_size\"],\n",
    "    epochs=model_config[\"n_epochs\"],\n",
    "    verbose=1,\n",
    "    shuffle=False,\n",
    "    validation_data=val_ds,\n",
    ")\n",
    "print('Time Taken:', time.time()-start)"
   ]
  },
  {
   "cell_type": "code",
   "execution_count": 14,
   "metadata": {
    "colab": {
     "base_uri": "https://localhost:8080/",
     "height": 265
    },
    "id": "uBytW5WX1QOt",
    "outputId": "67347a31-adc3-4156-ab83-e266ad3c1e98"
   },
   "outputs": [
    {
     "data": {
      "image/png": "[encoded data removed]",
      "text/plain": [
       "<Figure size 432x288 with 1 Axes>"
      ]
     },
     "metadata": {
      "needs_background": "light"
     },
     "output_type": "display_data"
    }
   ],
   "source": [
    "for name, values in history.history.items():\n",
    "    plt.plot(values,label=name)\n",
    "    plt.legend()"
   ]
  },
  {
   "cell_type": "code",
   "execution_count": null,
   "metadata": {
    "id": "biTNrqraEYyv"
   },
   "outputs": [],
   "source": []
  },
  {
   "cell_type": "code",
   "execution_count": 15,
   "metadata": {
    "colab": {
     "base_uri": "https://localhost:8080/"
    },
    "id": "Yzda9xJk1Vo1",
    "outputId": "31dfea42-574d-43e6-fe55-649b81c45521"
   },
   "outputs": [
    {
     "name": "stdout",
     "output_type": "stream",
     "text": [
      "Time Taken: 0.12116003036499023\n",
      "234/234 [==============================] - 2s 7ms/step - loss: 0.0020\n",
      "Test RMSE: 0.045\n"
     ]
    }
   ],
   "source": [
    "start=time.time()\n",
    "test_ds = timeseries_dataset_from_df(test, data_config[\"batch_size\"])\n",
    "print('Time Taken:', time.time()-start)\n",
    "mse = model.evaluate(test_ds)\n",
    "print(f\"Test RMSE: {mse**.5:.3f}\")"
   ]
  },
  {
   "cell_type": "code",
   "execution_count": null,
   "metadata": {
    "id": "dwWrNc1TD-Hh"
   },
   "outputs": [],
   "source": []
  },
  {
   "cell_type": "code",
   "execution_count": 16,
   "metadata": {
    "colab": {
     "base_uri": "https://localhost:8080/"
    },
    "id": "Uqx4_sOxEEf-",
    "outputId": "f6448fb3-fffc-46d2-e748-33398d7e02e5"
   },
   "outputs": [
    {
     "name": "stdout",
     "output_type": "stream",
     "text": [
      "Model: \"sequential_1\"\n",
      "_________________________________________________________________\n",
      "Layer (type)                 Output Shape              Param #   \n",
      "=================================================================\n",
      "lstm_1 (LSTM)                (None, 128)               75264     \n",
      "_________________________________________________________________\n",
      "dense_3 (Dense)              (None, 64)                8256      \n",
      "_________________________________________________________________\n",
      "dense_4 (Dense)              (None, 32)                2080      \n",
      "_________________________________________________________________\n",
      "dense_5 (Dense)              (None, 2)                 66        \n",
      "=================================================================\n",
      "Total params: 85,666\n",
      "Trainable params: 85,666\n",
      "Non-trainable params: 0\n",
      "_________________________________________________________________\n"
     ]
    }
   ],
   "source": [
    "# define our model\n",
    "model_config = {\"n_epochs\": 50, \"n_neurons\": 128, \"dropout\": 0.4, \"stateful\": False}\n",
    "\n",
    "model = Sequential()\n",
    "model.add(\n",
    "    LSTM(\n",
    "        model_config[\"n_neurons\"],\n",
    "        # usually set to (`batch_size`, `sequence_length`, `n_features`)\n",
    "        # setting the batch size to None allows for variable length batches\n",
    "        batch_input_shape=(None, data_config[\"timesteps\"], len(XCOLS)),\n",
    "        stateful=model_config[\"stateful\"],\n",
    "        dropout=model_config[\"dropout\"],\n",
    "    )\n",
    ")\n",
    "model.add(Dense(64))\n",
    "model.add(Dense(32))\n",
    "model.add(Dense(len(YCOLS)))\n",
    "model.compile(\n",
    "    loss=\"mean_squared_error\",\n",
    "    optimizer=\"adam\",\n",
    ")\n",
    "\n",
    "model.summary()"
   ]
  },
  {
   "cell_type": "code",
   "execution_count": 17,
   "metadata": {
    "colab": {
     "base_uri": "https://localhost:8080/"
    },
    "id": "4GI4UUVXETSP",
    "outputId": "9dd18bac-0c81-4672-a00d-406095cc9042"
   },
   "outputs": [
    {
     "name": "stdout",
     "output_type": "stream",
     "text": [
      "Epoch 1/50\n",
      "1950/1950 [==============================] - 50s 25ms/step - loss: 0.0079 - val_loss: 0.0019\n",
      "Epoch 2/50\n",
      "1950/1950 [==============================] - 49s 25ms/step - loss: 0.0024 - val_loss: 0.0016\n",
      "Epoch 3/50\n",
      "1950/1950 [==============================] - 47s 24ms/step - loss: 0.0022 - val_loss: 0.0015\n",
      "Epoch 4/50\n",
      "1950/1950 [==============================] - 44s 23ms/step - loss: 0.0020 - val_loss: 0.0013\n",
      "Epoch 5/50\n",
      "1950/1950 [==============================] - 46s 24ms/step - loss: 0.0018 - val_loss: 0.0014\n",
      "Epoch 6/50\n",
      "1950/1950 [==============================] - 48s 25ms/step - loss: 0.0017 - val_loss: 0.0014\n",
      "Epoch 7/50\n",
      "1950/1950 [==============================] - 45s 23ms/step - loss: 0.0017 - val_loss: 0.0015\n",
      "Epoch 8/50\n",
      "1950/1950 [==============================] - 48s 25ms/step - loss: 0.0016 - val_loss: 0.0016\n",
      "Epoch 9/50\n",
      "1950/1950 [==============================] - 57s 29ms/step - loss: 0.0016 - val_loss: 0.0018\n",
      "Epoch 10/50\n",
      "1950/1950 [==============================] - 50s 26ms/step - loss: 0.0016 - val_loss: 0.0017\n",
      "Epoch 11/50\n",
      "1950/1950 [==============================] - 49s 25ms/step - loss: 0.0016 - val_loss: 0.0017\n",
      "Epoch 12/50\n",
      "1950/1950 [==============================] - 51s 26ms/step - loss: 0.0016 - val_loss: 0.0016\n",
      "Epoch 13/50\n",
      "1950/1950 [==============================] - 55s 28ms/step - loss: 0.0015 - val_loss: 0.0017\n",
      "Epoch 14/50\n",
      "1950/1950 [==============================] - 53s 27ms/step - loss: 0.0015 - val_loss: 0.0016\n",
      "Epoch 15/50\n",
      "1950/1950 [==============================] - 52s 27ms/step - loss: 0.0015 - val_loss: 0.0016\n",
      "Epoch 16/50\n",
      "1950/1950 [==============================] - 56s 29ms/step - loss: 0.0015 - val_loss: 0.0015\n",
      "Epoch 17/50\n",
      "1950/1950 [==============================] - 58s 30ms/step - loss: 0.0015 - val_loss: 0.0015\n",
      "Epoch 18/50\n",
      "1950/1950 [==============================] - 51s 26ms/step - loss: 0.0015 - val_loss: 0.0015\n",
      "Epoch 19/50\n",
      "1950/1950 [==============================] - 54s 28ms/step - loss: 0.0014 - val_loss: 0.0014\n",
      "Epoch 20/50\n",
      "1950/1950 [==============================] - 53s 27ms/step - loss: 0.0014 - val_loss: 0.0014\n",
      "Epoch 21/50\n",
      "1950/1950 [==============================] - 52s 27ms/step - loss: 0.0014 - val_loss: 0.0013\n",
      "Epoch 22/50\n",
      "1950/1950 [==============================] - 58s 30ms/step - loss: 0.0014 - val_loss: 0.0013\n",
      "Epoch 23/50\n",
      "1950/1950 [==============================] - 49s 25ms/step - loss: 0.0014 - val_loss: 0.0013\n",
      "Epoch 24/50\n",
      "1950/1950 [==============================] - 54s 28ms/step - loss: 0.0014 - val_loss: 0.0012\n",
      "Epoch 25/50\n",
      "1950/1950 [==============================] - 51s 26ms/step - loss: 0.0013 - val_loss: 0.0012\n",
      "Epoch 26/50\n",
      "1950/1950 [==============================] - 48s 25ms/step - loss: 0.0013 - val_loss: 0.0012\n",
      "Epoch 27/50\n",
      "1950/1950 [==============================] - 50s 26ms/step - loss: 0.0013 - val_loss: 0.0011\n",
      "Epoch 28/50\n",
      "1950/1950 [==============================] - 48s 25ms/step - loss: 0.0013 - val_loss: 0.0012\n",
      "Epoch 29/50\n",
      "1950/1950 [==============================] - 50s 26ms/step - loss: 0.0012 - val_loss: 0.0011\n",
      "Epoch 30/50\n",
      "1950/1950 [==============================] - 46s 24ms/step - loss: 0.0012 - val_loss: 0.0012\n",
      "Epoch 31/50\n",
      "1950/1950 [==============================] - 45s 23ms/step - loss: 0.0012 - val_loss: 0.0012\n",
      "Epoch 32/50\n",
      "1950/1950 [==============================] - 44s 23ms/step - loss: 0.0012 - val_loss: 0.0012\n",
      "Epoch 33/50\n",
      "1950/1950 [==============================] - 45s 23ms/step - loss: 0.0012 - val_loss: 0.0012\n",
      "Epoch 34/50\n",
      "1950/1950 [==============================] - 44s 23ms/step - loss: 0.0012 - val_loss: 0.0011\n",
      "Epoch 35/50\n",
      "1950/1950 [==============================] - 44s 23ms/step - loss: 0.0012 - val_loss: 0.0010\n",
      "Epoch 36/50\n",
      "1950/1950 [==============================] - 45s 23ms/step - loss: 0.0011 - val_loss: 0.0010\n",
      "Epoch 37/50\n",
      "1950/1950 [==============================] - 44s 22ms/step - loss: 0.0011 - val_loss: 0.0011\n",
      "Epoch 38/50\n",
      "1950/1950 [==============================] - 44s 22ms/step - loss: 0.0011 - val_loss: 0.0010\n",
      "Epoch 39/50\n",
      "1950/1950 [==============================] - 44s 22ms/step - loss: 0.0011 - val_loss: 9.8294e-04\n",
      "Epoch 40/50\n",
      "1950/1950 [==============================] - 44s 22ms/step - loss: 0.0011 - val_loss: 0.0010\n",
      "Epoch 41/50\n",
      "1950/1950 [==============================] - 44s 22ms/step - loss: 0.0011 - val_loss: 9.9889e-04\n",
      "Epoch 42/50\n",
      "1950/1950 [==============================] - 44s 22ms/step - loss: 0.0011 - val_loss: 9.6356e-04\n",
      "Epoch 43/50\n",
      "1950/1950 [==============================] - 44s 23ms/step - loss: 0.0011 - val_loss: 9.9345e-04\n",
      "Epoch 44/50\n",
      "1950/1950 [==============================] - 44s 22ms/step - loss: 0.0011 - val_loss: 9.4772e-04\n",
      "Epoch 45/50\n",
      "1950/1950 [==============================] - 44s 22ms/step - loss: 0.0010 - val_loss: 9.4913e-04\n",
      "Epoch 46/50\n",
      "1950/1950 [==============================] - 43s 22ms/step - loss: 0.0011 - val_loss: 9.8780e-04\n",
      "Epoch 47/50\n",
      "1950/1950 [==============================] - 855s 438ms/step - loss: 0.0010 - val_loss: 9.5949e-04\n",
      "Epoch 48/50\n",
      "1950/1950 [==============================] - 50s 26ms/step - loss: 0.0010 - val_loss: 9.8882e-04\n",
      "Epoch 49/50\n",
      "1950/1950 [==============================] - 46s 23ms/step - loss: 0.0010 - val_loss: 9.6273e-04\n",
      "Epoch 50/50\n",
      "1950/1950 [==============================] - 45s 23ms/step - loss: 0.0010 - val_loss: 9.7761e-04\n",
      "Time Taken: 3223.901221036911\n"
     ]
    }
   ],
   "source": [
    "import time\n",
    "start=time.time()\n",
    "history = model.fit(\n",
    "    train_ds,\n",
    "    batch_size=data_config[\"batch_size\"],\n",
    "    epochs=model_config[\"n_epochs\"],\n",
    "    verbose=1,\n",
    "    shuffle=False,\n",
    "    validation_data=val_ds,\n",
    ")\n",
    "print('Time Taken:', time.time()-start)"
   ]
  },
  {
   "cell_type": "code",
   "execution_count": 18,
   "metadata": {
    "colab": {
     "base_uri": "https://localhost:8080/",
     "height": 265
    },
    "id": "-wqJQ5CzEZ6v",
    "outputId": "ebfff442-6e84-47bf-9b90-eb3016ecd38f"
   },
   "outputs": [
    {
     "data": {
      "image/png": "[encoded data removed]",
      "text/plain": [
       "<Figure size 432x288 with 1 Axes>"
      ]
     },
     "metadata": {
      "needs_background": "light"
     },
     "output_type": "display_data"
    }
   ],
   "source": [
    "for name, values in history.history.items():\n",
    "    plt.plot(values,label=name)\n",
    "    plt.legend()"
   ]
  },
  {
   "cell_type": "code",
   "execution_count": 19,
   "metadata": {
    "colab": {
     "base_uri": "https://localhost:8080/"
    },
    "id": "zuiOxvDjEbAW",
    "outputId": "22241dec-45c3-4a39-827d-2729e0361b18"
   },
   "outputs": [
    {
     "name": "stdout",
     "output_type": "stream",
     "text": [
      "Time Taken: 0.15487098693847656\n",
      "234/234 [==============================] - 3s 10ms/step - loss: 9.7761e-04\n",
      "Test RMSE: 0.031\n"
     ]
    }
   ],
   "source": [
    "start=time.time()\n",
    "test_ds = timeseries_dataset_from_df(test, data_config[\"batch_size\"])\n",
    "print('Time Taken:', time.time()-start)\n",
    "mse = model.evaluate(test_ds)\n",
    "print(f\"Test RMSE: {mse**.5:.3f}\")"
   ]
  },
  {
   "cell_type": "code",
   "execution_count": 21,
   "metadata": {
    "id": "FXGa8dW3QDy0"
   },
   "outputs": [
    {
     "name": "stderr",
     "output_type": "stream",
     "text": [
      "WARNING:absl:Found untraced functions such as lstm_cell_1_layer_call_and_return_conditional_losses, lstm_cell_1_layer_call_fn, lstm_cell_1_layer_call_fn, lstm_cell_1_layer_call_and_return_conditional_losses, lstm_cell_1_layer_call_and_return_conditional_losses while saving (showing 5 of 5). These functions will not be directly callable after loading.\n",
      "WARNING:absl:Found untraced functions such as lstm_cell_1_layer_call_and_return_conditional_losses, lstm_cell_1_layer_call_fn, lstm_cell_1_layer_call_fn, lstm_cell_1_layer_call_and_return_conditional_losses, lstm_cell_1_layer_call_and_return_conditional_losses while saving (showing 5 of 5). These functions will not be directly callable after loading.\n"
     ]
    },
    {
     "name": "stdout",
     "output_type": "stream",
     "text": [
      "INFO:tensorflow:Assets written to: model/assets\n"
     ]
    },
    {
     "name": "stderr",
     "output_type": "stream",
     "text": [
      "INFO:tensorflow:Assets written to: model/assets\n"
     ]
    },
    {
     "ename": "NameError",
     "evalue": "name 'scaler' is not defined",
     "output_type": "error",
     "traceback": [
      "\u001b[0;31m---------------------------------------------------------------------------\u001b[0m",
      "\u001b[0;31mNameError\u001b[0m                                 Traceback (most recent call last)",
      "\u001b[0;32m<ipython-input-21-34cf7530d717>\u001b[0m in \u001b[0;36m<module>\u001b[0;34m\u001b[0m\n\u001b[1;32m      5\u001b[0m \u001b[0;34m\u001b[0m\u001b[0m\n\u001b[1;32m      6\u001b[0m \u001b[0;32mwith\u001b[0m \u001b[0mopen\u001b[0m\u001b[0;34m(\u001b[0m\u001b[0;34m\"scaler.pck\"\u001b[0m\u001b[0;34m,\u001b[0m \u001b[0;34m\"wb\"\u001b[0m\u001b[0;34m)\u001b[0m \u001b[0;32mas\u001b[0m \u001b[0mf\u001b[0m\u001b[0;34m:\u001b[0m\u001b[0;34m\u001b[0m\u001b[0;34m\u001b[0m\u001b[0m\n\u001b[0;32m----> 7\u001b[0;31m     \u001b[0mpickle\u001b[0m\u001b[0;34m.\u001b[0m\u001b[0mdump\u001b[0m\u001b[0;34m(\u001b[0m\u001b[0mscaler\u001b[0m\u001b[0;34m,\u001b[0m \u001b[0mf\u001b[0m\u001b[0;34m)\u001b[0m\u001b[0;34m\u001b[0m\u001b[0;34m\u001b[0m\u001b[0m\n\u001b[0m\u001b[1;32m      8\u001b[0m \u001b[0;34m\u001b[0m\u001b[0m\n\u001b[1;32m      9\u001b[0m \u001b[0mdata_config\u001b[0m\u001b[0;34m[\u001b[0m\u001b[0;34m\"solar_wind_subset\"\u001b[0m\u001b[0;34m]\u001b[0m \u001b[0;34m=\u001b[0m \u001b[0mSOLAR_WIND_FEATURES\u001b[0m\u001b[0;34m\u001b[0m\u001b[0;34m\u001b[0m\u001b[0m\n",
      "\u001b[0;31mNameError\u001b[0m: name 'scaler' is not defined"
     ]
    }
   ],
   "source": [
    "import json\n",
    "import pickle\n",
    "\n",
    "model.save(\"model\")\n",
    "\n",
    "with open(\"scaler.pck\", \"wb\") as f:\n",
    "    pickle.dump(scaler, f)\n",
    "\n",
    "data_config[\"solar_wind_subset\"] = SOLAR_WIND_FEATURES\n",
    "print(data_config)\n",
    "with open(\"config.json\", \"w\") as f:\n",
    "    json.dump(data_config, f)"
   ]
  },
  {
   "cell_type": "code",
   "execution_count": null,
   "metadata": {},
   "outputs": [],
   "source": []
  }
 ],
 "metadata": {
  "colab": {
   "name": "Hourly_LSTM.ipynb",
   "provenance": []
  },
  "kernelspec": {
   "display_name": "Python 3",
   "language": "python",
   "name": "python3"
  },
  "language_info": {
   "codemirror_mode": {
    "name": "ipython",
    "version": 3
   },
   "file_extension": ".py",
   "mimetype": "text/x-python",
   "name": "python",
   "nbconvert_exporter": "python",
   "pygments_lexer": "ipython3",
   "version": "3.8.5"
  }
 },
 "nbformat": 4,
 "nbformat_minor": 1
}
